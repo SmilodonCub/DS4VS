{
 "cells": [
  {
   "cell_type": "markdown",
   "id": "907abeea",
   "metadata": {
    "slideshow": {
     "slide_type": "slide"
    }
   },
   "source": [
    "# Some Title"
   ]
  },
  {
   "cell_type": "markdown",
   "id": "471da0ca",
   "metadata": {
    "slideshow": {
     "slide_type": "slide"
    }
   },
   "source": [
    "## Some how 2s\n",
    "\n",
    "1. In new jupyter\n",
    "2. View\n",
    "    - Cell Toolbar\n",
    "        - Slideshow\n",
    "3. Select SlideType for individual cells\n",
    "4. To view slides: hit icon Enter/Exit RISE slidshow (looks like a little graph on the right end of icon toolbar)"
   ]
  },
  {
   "cell_type": "markdown",
   "id": "3c0c952f",
   "metadata": {
    "slideshow": {
     "slide_type": "slide"
    }
   },
   "source": [
    "## Subtitle\n",
    "\n",
    "### Smaller Sub\n",
    "\n",
    "#### smallersmaller sub"
   ]
  },
  {
   "cell_type": "markdown",
   "id": "87fe67b6",
   "metadata": {
    "slideshow": {
     "slide_type": "fragment"
    }
   },
   "source": [
    "a fragment"
   ]
  },
  {
   "cell_type": "markdown",
   "id": "23221dd6",
   "metadata": {
    "slideshow": {
     "slide_type": "slide"
    }
   },
   "source": [
    "## Maths\n",
    "\n",
    "[a link for symbols for you to use](https://www.caam.rice.edu/~heinken/latex/symbols.pdf)  \n",
    "\n",
    "Equations! use $s\n",
    "\n",
    "* double \\\\$ enclose a centered equation with it's own line $$f(x) = \\frac{L}{1+e^{-k(x-x_0)}}$$\n",
    "* single \\\\$ for an inline math expression. I can type $y = mx+b$ in a sentence"
   ]
  },
  {
   "cell_type": "markdown",
   "id": "752965ed",
   "metadata": {
    "slideshow": {
     "slide_type": "slide"
    }
   },
   "source": [
    "## Slide with Code"
   ]
  },
  {
   "cell_type": "code",
   "execution_count": 1,
   "id": "a045ddd5",
   "metadata": {},
   "outputs": [
    {
     "data": {
      "text/plain": [
       "5"
      ]
     },
     "execution_count": 1,
     "metadata": {},
     "output_type": "execute_result"
    }
   ],
   "source": [
    "2 + 3 "
   ]
  },
  {
   "cell_type": "markdown",
   "id": "01e5f112",
   "metadata": {
    "slideshow": {
     "slide_type": "subslide"
    }
   },
   "source": [
    "### related content"
   ]
  },
  {
   "cell_type": "code",
   "execution_count": 2,
   "id": "2d39dccd",
   "metadata": {},
   "outputs": [
    {
     "data": {
      "text/plain": [
       "7"
      ]
     },
     "execution_count": 2,
     "metadata": {},
     "output_type": "execute_result"
    }
   ],
   "source": [
    "3 + 4"
   ]
  },
  {
   "cell_type": "markdown",
   "id": "0bef80c1",
   "metadata": {
    "slideshow": {
     "slide_type": "skip"
    }
   },
   "source": [
    "## You shouldn't see this"
   ]
  },
  {
   "cell_type": "markdown",
   "id": "68b527b3",
   "metadata": {
    "slideshow": {
     "slide_type": "slide"
    }
   },
   "source": [
    "## You should see this\n",
    "\n",
    "![python](https://miro.medium.com/max/2000/1*FZWJzoMSaaMsE2qEb-jT9A.jpeg)"
   ]
  },
  {
   "cell_type": "markdown",
   "id": "9e12d56b",
   "metadata": {
    "slideshow": {
     "slide_type": "slide"
    }
   },
   "source": [
    "## alt syntax for imgs\n",
    "\n",
    "<img src=\"https://miro.medium.com/max/2000/1*FZWJzoMSaaMsE2qEb-jT9A.jpeg\" width=\"50%\" style=\"margin-left:auto; margin-right:auto\">"
   ]
  },
  {
   "cell_type": "markdown",
   "id": "b2545bd9",
   "metadata": {
    "slideshow": {
     "slide_type": "notes"
    }
   },
   "source": [
    "\"Lorem ipsum dolor sit amet, consectetur adipiscing elit, sed do eiusmod tempor incididunt ut labore et dolore magna aliqua. Ut enim ad minim veniam, quis nostrud exercitation ullamco laboris nisi ut aliquip ex ea commodo consequat. Duis aute irure dolor in reprehenderit in voluptate velit esse cillum dolore eu fugiat nulla pariatur. Excepteur sint occaecat cupidatat non proident, sunt in culpa qui officia deserunt mollit anim id est laborum.\""
   ]
  },
  {
   "cell_type": "markdown",
   "id": "bd827b4b",
   "metadata": {
    "slideshow": {
     "slide_type": "slide"
    }
   },
   "source": [
    "## Markdown Text Style\n",
    "\n",
    "text  \n",
    "\n",
    "*italic text*  \n",
    "\n",
    "**BOLD TEXT**\n",
    "\n",
    "<span style=\"color:blue\">some *blue* **text**</span>."
   ]
  },
  {
   "cell_type": "markdown",
   "id": "d5fcdcb4",
   "metadata": {
    "slideshow": {
     "slide_type": "slide"
    }
   },
   "source": [
    "## Extraextra\n",
    "\n",
    "[tips for creating a slideshow in jupyter](https://www.markroepke.me/posts/2019/06/05/tips-for-slideshows-in-jupyter.html)"
   ]
  },
  {
   "cell_type": "markdown",
   "id": "e19a9f15",
   "metadata": {
    "slideshow": {
     "slide_type": "slide"
    }
   },
   "source": [
    "# The end"
   ]
  }
 ],
 "metadata": {
  "celltoolbar": "Slideshow",
  "kernelspec": {
   "display_name": "Python 3",
   "language": "python",
   "name": "python3"
  },
  "language_info": {
   "codemirror_mode": {
    "name": "ipython",
    "version": 3
   },
   "file_extension": ".py",
   "mimetype": "text/x-python",
   "name": "python",
   "nbconvert_exporter": "python",
   "pygments_lexer": "ipython3",
   "version": "3.7.6"
  }
 },
 "nbformat": 4,
 "nbformat_minor": 5
}
