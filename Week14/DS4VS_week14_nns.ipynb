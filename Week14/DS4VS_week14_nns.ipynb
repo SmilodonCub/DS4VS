{
 "cells": [
  {
   "cell_type": "markdown",
   "id": "249b9306",
   "metadata": {
    "slideshow": {
     "slide_type": "slide"
    }
   },
   "source": [
    "# Week 14: an overview of Neural Networks and Deep Learning"
   ]
  },
  {
   "cell_type": "markdown",
   "id": "5ef247fb",
   "metadata": {
    "slideshow": {
     "slide_type": "slide"
    }
   },
   "source": [
    "## Brief Recap:\n",
    "\n",
    "* Hello, how are you?\n",
    "* Today: An overview of Neural Nets and Deep Learning\n",
    "* Next Class: I will listen to you!: Presentation time\n",
    "* After presentations I will spend the second half talking about the homeworks"
   ]
  },
  {
   "cell_type": "markdown",
   "id": "c3a48908",
   "metadata": {
    "slideshow": {
     "slide_type": "slide"
    }
   },
   "source": [
    "## Artificial Neural Networks & Deep Learning\n",
    "\n",
    "**Artificial Neural Networks** - a collection of interconnected nodes called artificial neurons that follow simple rules to mimic the behavior of biological neurons  \n",
    "\n",
    "**Deep Neural Network** - an artificial neural network with multiple layers. a network with only one hidden layer is often called 'shallow'  \n",
    "\n",
    "**Deep Learning** - a type of machine learning with artificial neural networks arranged in multiple (deep) 'hidden' layers\n",
    "\n",
    "<img src=\"https://i.stack.imgur.com/OH3gI.png\" width=\"60%\" style=\"margin-left:auto; margin-right:auto\">  \n",
    "\n"
   ]
  },
  {
   "cell_type": "markdown",
   "id": "8c43d594",
   "metadata": {
    "slideshow": {
     "slide_type": "slide"
    }
   },
   "source": [
    "## a stroll through the history of Neural Nets\n",
    "\n",
    "\n",
    "\n",
    "<img src=\"http://beamlab.org/images/deep_learning_101/nn_timeline.jpg\" width=\"100%\" style=\"margin-left:auto; margin-right:auto\">  \n",
    "\n",
    "image cred: [beam lab](http://beamlab.org/index.html)"
   ]
  },
  {
   "cell_type": "markdown",
   "id": "24255539",
   "metadata": {
    "slideshow": {
     "slide_type": "slide"
    }
   },
   "source": [
    "## The Logical Calculus of Neural Activity\n",
    "\n",
    "Developed by McCulloch & Pitts (1943)\n",
    "\n",
    "***\n",
    "\n",
    "* **\"all-or-none\"** law $\\therefore$ any neuron may be represented as a proposition\n",
    "* **proposition** - a declarative statement (either `True` or `False`)\n",
    "* **propositional calculus** constructing arguments from propositions by using logical connectives\n",
    "\n",
    "McCulloch & Pitts viewed neurons as propositional units and their physical connection with axons analogous to logical connections that can be used to buils arguments"
   ]
  },
  {
   "cell_type": "markdown",
   "id": "e111dcac",
   "metadata": {
    "slideshow": {
     "slide_type": "subslide"
    }
   },
   "source": [
    "### The Theory: Nets Without Circles\n",
    "\n",
    "1. neural activity is \"all-or-none\"\n",
    "2. a certain number of synapses within a certain time period must excite a neuron for it to respond\n",
    "3. the only significant delay is synaptic delay\n",
    "4. activity of inhibitory synapses prevents a neuron from being active\n",
    "5. the structure of the net does not change"
   ]
  },
  {
   "cell_type": "markdown",
   "id": "83dc0178",
   "metadata": {
    "slideshow": {
     "slide_type": "subslide"
    }
   },
   "source": [
    "### McCulloch & Pitts Neuron\n",
    "\n",
    "<img src=\"https://forum.huawei.com/enterprise/en/data/attachment/forum/202005/24/200534rcs8ro8hh4dwv26d.png?ann.png\" width=\"100%\" style=\"margin-left:auto; margin-right:auto\">"
   ]
  },
  {
   "cell_type": "markdown",
   "id": "caba5197",
   "metadata": {
    "slideshow": {
     "slide_type": "subslide"
    }
   },
   "source": [
    "### McCulloch & Pitts Components\n",
    "\n",
    "* directed weighted paths (positive or negative)\n",
    "* Transfer function (sum the inputs)\n",
    "* Activation function (Binary: fire/don't fire) applied over the net input\n",
    "    * achieve a non-linearity\n",
    "    * $f(x) = \\left\\{ \\begin{array}{rcl}\n",
    "1 & \\mbox{If}\n",
    "& x \\geq \\Theta \\\\ 0 & \\mbox{If} & x \\lt \\Theta\n",
    "\\end{array}\\right.$\n",
    "* Threshold ($\\Theta$)"
   ]
  },
  {
   "cell_type": "markdown",
   "id": "43535f0b",
   "metadata": {
    "slideshow": {
     "slide_type": "subslide"
    }
   },
   "source": [
    "### Building Logic Gates with McCulloch & Pitts Neuron\n",
    "\n",
    "combinations of these simple logic gates can be combined to perform some complex expressions\n",
    "\n",
    "<img src=\"https://slideplayer.org/slide/890210/3/images/57/McCulloch-Pitts-Neuronen+zum+Aufbau+logischer+Funktionen.jpg\" width=\"60%\" style=\"margin-left:auto; margin-right:auto\">"
   ]
  },
  {
   "cell_type": "markdown",
   "id": "8dd0d19a",
   "metadata": {
    "slideshow": {
     "slide_type": "slide"
    }
   },
   "source": [
    "## The Perceptron\n",
    "\n",
    "Developed by Frank Rensenblatt (1957)  \n",
    "\n",
    "***\n",
    "\n",
    "**Threshold Logic Unit (TLU)** a simple ANN architecture that build from McCulloch & Pitts  \n",
    "\n",
    "* inputs and outputs are numbers (not binary on/off)\n",
    "* each input has an associated weight\n",
    "* computes a weighted sum of the inputs (transfer fxn)\n",
    "    - $\\sum_1^n (w_nx_n)$\n",
    "    - $\\mathbf{x}^T\\mathbf{w}$\n",
    "* applies a step function (activation fxn) \n",
    "    - heaviside $(z) = \\left\\{ \\begin{array}{rcl}\n",
    "0 & \\mbox{If}\n",
    "& z \\lt 0 \\\\ 1 & \\mbox{If} & z \\geq 0\n",
    "\\end{array}\\right.$"
   ]
  },
  {
   "cell_type": "markdown",
   "id": "b4813c59",
   "metadata": {
    "slideshow": {
     "slide_type": "subslide"
    }
   },
   "source": [
    "## Perceptron Architecture\n",
    "\n",
    "* a layer of 'passthrough' input neurons (with a bias feature)\n",
    "* a single, fully connected Perceptron layer\n",
    "* output layer\n",
    "\n",
    "<img src=\"https://data-science-blog.com/wp-content/uploads/2020/07/perceptron_1-1030x501.png\" width=\"60%\" style=\"margin-left:auto; margin-right:auto\">"
   ]
  },
  {
   "cell_type": "markdown",
   "id": "9c6f4496",
   "metadata": {
    "slideshow": {
     "slide_type": "subslide"
    }
   },
   "source": [
    "### A clearer Perceptron\n",
    "\n",
    "<img src=\"https://www.researchgate.net/profile/Carlo-Sansone/publication/280696016/figure/fig6/AS:668447369343000@1536381680862/An-example-three-layer-Perceptron-This-architecture-may-be-used-to-make-a-binary.ppm\" width=\"70%\" style=\"margin-left:auto; margin-right:auto\">\n"
   ]
  },
  {
   "cell_type": "markdown",
   "id": "c9369675",
   "metadata": {
    "slideshow": {
     "slide_type": "subslide"
    }
   },
   "source": [
    "## Training Perceptrons\n",
    "\n",
    "Hebbian Learning: Cells that fire together, wire together\n",
    "\n",
    "***\n",
    "\n",
    "Perceptron uses a learning rule similar to Hebbian learning.  \n",
    "Connections are reinforced to help reduce error:\n",
    "\n",
    "    for each training instance:\n",
    "    make a prediction. ...activation_fxn(inputs*Weights+bias)\n",
    "    for every output neuron that made a wrong prediction:\n",
    "    strengthen the weights that would have produced the correct prediction"
   ]
  },
  {
   "cell_type": "markdown",
   "id": "4d33121b",
   "metadata": {
    "slideshow": {
     "slide_type": "subslide"
    }
   },
   "source": [
    "## Perceptron Performance\n",
    "\n",
    "The sigmoid step function is similar to the logistic function.  \n",
    "In turn, Perceptron has a linear decision boundary.  \n",
    "Perceptron cannot learn complex patterns and can only perform on linearly separable data.  \n",
    "However, it can find an optimal solution for linear separable data."
   ]
  },
  {
   "cell_type": "markdown",
   "id": "c66ea593",
   "metadata": {
    "slideshow": {
     "slide_type": "fragment"
    }
   },
   "source": [
    "Let's look at a quick `sklearn` Perceptron example ..."
   ]
  },
  {
   "cell_type": "code",
   "execution_count": 14,
   "id": "c57dff47",
   "metadata": {
    "slideshow": {
     "slide_type": "subslide"
    }
   },
   "outputs": [
    {
     "data": {
      "text/plain": [
       "Perceptron(random_state=42)"
      ]
     },
     "execution_count": 14,
     "metadata": {},
     "output_type": "execute_result"
    }
   ],
   "source": [
    "import numpy as np\n",
    "from sklearn.datasets import load_iris\n",
    "from sklearn.linear_model import Perceptron\n",
    "import matplotlib.pyplot as plt\n",
    "\n",
    "iris = load_iris()\n",
    "X = iris.data[:, (2, 3)]  # petal length, petal width\n",
    "y = (iris.target == 0).astype(np.int64)\n",
    "\n",
    "per_clf = Perceptron(max_iter=1000, tol=1e-3, random_state=42)\n",
    "per_clf.fit(X, y)"
   ]
  },
  {
   "cell_type": "code",
   "execution_count": 15,
   "id": "2ed8e5bb",
   "metadata": {
    "slideshow": {
     "slide_type": "fragment"
    }
   },
   "outputs": [
    {
     "data": {
      "text/plain": [
       "array([1])"
      ]
     },
     "execution_count": 15,
     "metadata": {},
     "output_type": "execute_result"
    }
   ],
   "source": [
    "# making predictions\n",
    "y_pred = per_clf.predict([[2, 0.5]])\n",
    "y_pred"
   ]
  },
  {
   "cell_type": "code",
   "execution_count": 16,
   "id": "03d8b01a",
   "metadata": {
    "slideshow": {
     "slide_type": "subslide"
    }
   },
   "outputs": [
    {
     "data": {
      "image/png": "[encoded data removed]",
      "text/plain": [
       "<Figure size 720x288 with 1 Axes>"
      ]
     },
     "metadata": {
      "needs_background": "light"
     },
     "output_type": "display_data"
    }
   ],
   "source": [
    "a = -per_clf.coef_[0][0] / per_clf.coef_[0][1]\n",
    "b = -per_clf.intercept_ / per_clf.coef_[0][1]\n",
    "\n",
    "axes = [0, 5, 0, 2]\n",
    "\n",
    "x0, x1 = np.meshgrid(\n",
    "        np.linspace(axes[0], axes[1], 500).reshape(-1, 1),\n",
    "        np.linspace(axes[2], axes[3], 200).reshape(-1, 1),\n",
    "    )\n",
    "X_new = np.c_[x0.ravel(), x1.ravel()]\n",
    "y_predict = per_clf.predict(X_new)\n",
    "zz = y_predict.reshape(x0.shape)\n",
    "\n",
    "plt.figure(figsize=(10, 4))\n",
    "plt.plot(X[y==0, 0], X[y==0, 1], \"bs\", label=\"Not Iris-Setosa\")\n",
    "plt.plot(X[y==1, 0], X[y==1, 1], \"yo\", label=\"Iris-Setosa\")\n",
    "\n",
    "plt.plot([axes[0], axes[1]], [a * axes[0] + b, a * axes[1] + b], \"k-\", linewidth=3)\n",
    "from matplotlib.colors import ListedColormap\n",
    "custom_cmap = ListedColormap(['#9898ff', '#fafab0'])\n",
    "\n",
    "plt.contourf(x0, x1, zz, cmap=custom_cmap)\n",
    "plt.xlabel(\"Petal length\", fontsize=14)\n",
    "plt.ylabel(\"Petal width\", fontsize=14)\n",
    "plt.legend(loc=\"lower right\", fontsize=14)\n",
    "plt.axis(axes)\n",
    "plt.show()"
   ]
  },
  {
   "cell_type": "markdown",
   "id": "eb4b8e6c",
   "metadata": {
    "slideshow": {
     "slide_type": "subslide"
    }
   },
   "source": [
    "### Now you try....\n",
    "\n",
    "Perceptron only converges for linearly separable data.  \n",
    "How does the algorithm perform when you change the target class to one of the other classes?  \n",
    "\n",
    "Here is a [Perceptron Demo](https://codepen.io/bagrounds/full/wdqypY)"
   ]
  },
  {
   "cell_type": "markdown",
   "id": "b089990c",
   "metadata": {
    "slideshow": {
     "slide_type": "slide"
    }
   },
   "source": [
    "## Adaline: Adaptive Linear Neurons\n",
    "\n",
    "* **cost function** - find the error between the outcome and predicted labels\n",
    "* **gradient descent** minimize the cost function\n",
    "\n",
    "This builds on Perceptron by evaluating the decision boundary\n",
    "\n",
    "<img src=\"https://rasbt.github.io/mlxtend/user_guide/classifier/Adaline_files/adaline_schematic.png\" width=\"70%\" style=\"margin-left:auto; margin-right:auto\">"
   ]
  },
  {
   "cell_type": "markdown",
   "id": "d703fe3a",
   "metadata": {
    "slideshow": {
     "slide_type": "slide"
    }
   },
   "source": [
    "## The Dark Age\n",
    "\n",
    "The XOR Problem\n",
    "\n",
    "***\n",
    "\n",
    "Exclusive OR - is True iff it's arguments differ\n",
    "\n",
    "<img src=\"http://up9rade.com/img/nn006.png\" width=\"70%\" style=\"margin-left:auto; margin-right:auto\">"
   ]
  },
  {
   "cell_type": "markdown",
   "id": "01f3ea02",
   "metadata": {
    "slideshow": {
     "slide_type": "slide"
    }
   },
   "source": [
    "## The Dark Age\n",
    "\n",
    "The XOR Problem\n",
    "\n",
    "***\n",
    "\n",
    "<img src=\"https://i1.wp.com/mvslim.com/wp-content/uploads/2015/11/Untitled.png\" width=\"70%\" style=\"margin-left:auto; margin-right:auto\">"
   ]
  },
  {
   "cell_type": "markdown",
   "id": "e7929e0f",
   "metadata": {
    "slideshow": {
     "slide_type": "slide"
    }
   },
   "source": [
    "## MultiLayer Perceptron\n",
    "\n",
    "It turns out that some Perceptron limitations can be overcome by stacking multiple Perceptron hidden layers.  \n",
    "\n",
    "* one or more layers of hidden TLUs\n",
    "* every layer except the output has a bias neuron\n",
    "\n",
    "<img src=\"https://lh3.googleusercontent.com/proxy/OLRbQhMWkzj2znPC8fSB6BrDLCVFt6-5QV-8Dnr5yUhR58oX2bWYVpBmOx5GvhJkU2n7TMSngDWWaHEviB3o55gmkf0xLCsSCWUESw\" width=\"50%\" style=\"margin-left:auto; margin-right:auto\">"
   ]
  },
  {
   "cell_type": "markdown",
   "id": "960aa971",
   "metadata": {
    "slideshow": {
     "slide_type": "subslide"
    }
   },
   "source": [
    "## Solving the XOR Problem\n",
    "\n",
    "[a quick visualization](https://www.youtube.com/watch?v=OtqB1s7iLtA)"
   ]
  },
  {
   "cell_type": "markdown",
   "id": "872d2a70",
   "metadata": {
    "slideshow": {
     "slide_type": "slide"
    }
   },
   "source": [
    "## Training MLPs\n",
    "\n",
    "Putting the Learning in Deep Learning\n",
    "\n",
    "***\n",
    "\n",
    "MLPs are feed-forward.  \n",
    "This presents a problem: how do we train a MLP?  "
   ]
  },
  {
   "cell_type": "markdown",
   "id": "cda555fd",
   "metadata": {
    "slideshow": {
     "slide_type": "fragment"
    }
   },
   "source": [
    "#### Why do we train an MLP?...\n",
    "If we want the neural net to improve it's ability to, say, perform a classification, we need a way to:  \n",
    "\n",
    "* show the model the error it is making\n",
    "* update the weights such that it can improve"
   ]
  },
  {
   "cell_type": "markdown",
   "id": "b87dfd59",
   "metadata": {
    "slideshow": {
     "slide_type": "slide"
    }
   },
   "source": [
    "## Backpropagation\n",
    "\n",
    "\"Learning Representation by Back-Propagating Error\" Rumelhart, Hinton & Williams (1986)\n",
    "\n",
    "***\n",
    "\n",
    "find out how much each connection weight should be adjusted in order to reduce the prediction error\n",
    "\n",
    "* work by passing the network smaller batches processed as **epochs**.\n",
    "* for each epoch:\n",
    "    - complete a forward pass of the data to compute the outputs\n",
    "    - measure the network error\n",
    "    - compute how much each output connection contributes to the error (uses the chain rule)\n",
    "    - work backwards through successive layers to contribute the errors on the connections until the error has been measured across the network\n",
    "    - using the error, perform gradient descent to minimize the error"
   ]
  },
  {
   "cell_type": "markdown",
   "id": "75bee446",
   "metadata": {
    "slideshow": {
     "slide_type": "subslide"
    }
   },
   "source": [
    "### Backprop Visualized\n",
    "\n",
    "[what is backpropagation really doing](https://www.youtube.com/watch?v=Ilg3gGewQ5U)"
   ]
  },
  {
   "cell_type": "markdown",
   "id": "b8470962",
   "metadata": {
    "slideshow": {
     "slide_type": "subslide"
    }
   },
   "source": [
    "## MLP Activation Function\n",
    "\n",
    "Hinton *et al* replace the step function with something differentiable (so Gradient Descent can move)  \n",
    "\n",
    "* Sigmoid (Logistic)\n",
    "* Tanh\n",
    "* ReLU\n",
    "\n",
    "[play with a Neural Network](https://playground.tensorflow.org/)"
   ]
  },
  {
   "cell_type": "markdown",
   "id": "8ca3c71d",
   "metadata": {
    "slideshow": {
     "slide_type": "fragment"
    }
   },
   "source": [
    "[Hinton's TED talk](https://www.youtube.com/watch?v=zl99IZvW7rE)"
   ]
  },
  {
   "cell_type": "markdown",
   "id": "da39ce83",
   "metadata": {
    "slideshow": {
     "slide_type": "slide"
    }
   },
   "source": [
    "## 🥺 The! Last! Lecture! 😢\n",
    "<img src=\"https://content.techgig.com/photo/80071467/pros-and-cons-of-python-programming-language-that-every-learner-must-know.jpg?132269\" width=\"100%\" style=\"margin-left:auto; margin-right:auto\">"
   ]
  }
 ],
 "metadata": {
  "celltoolbar": "Slideshow",
  "kernelspec": {
   "display_name": "Python 3",
   "language": "python",
   "name": "python3"
  },
  "language_info": {
   "codemirror_mode": {
    "name": "ipython",
    "version": 3
   },
   "file_extension": ".py",
   "mimetype": "text/x-python",
   "name": "python",
   "nbconvert_exporter": "python",
   "pygments_lexer": "ipython3",
   "version": "3.7.6"
  }
 },
 "nbformat": 4,
 "nbformat_minor": 5
}
