{
 "cells": [
  {
   "cell_type": "code",
   "execution_count": null,
   "metadata": {},
   "outputs": [],
   "source": []
  },
  {
   "cell_type": "markdown",
   "metadata": {
    "slideshow": {
     "slide_type": "slide"
    }
   },
   "source": [
    "# Week 6: Data Visualization with `matplotlib`"
   ]
  },
  {
   "cell_type": "markdown",
   "metadata": {
    "slideshow": {
     "slide_type": "slide"
    }
   },
   "source": [
    "## a Brief Recap:\n",
    "\n",
    "* Hello, how are you?\n",
    "* Today: visualizing data in Python with:\n",
    "    - `matplotlib`\n",
    "    - `seaborn`\n",
    "    - and some other helpfull examples\n",
    "* Next week: (can you believe it will be week 8 already?!?!)\n",
    "    - building data dashboards\n",
    "    - catching up with Python Classes"
   ]
  },
  {
   "cell_type": "markdown",
   "metadata": {
    "slideshow": {
     "slide_type": "slide"
    }
   },
   "source": [
    "## about `matplotlib`\n",
    "\n",
    "\n",
    "*\"My goal is to make high quality, publication quality plotting easy in python, with syntax familiar to MATLAB users\"* - John D. Hunter\n"
   ]
  },
  {
   "cell_type": "markdown",
   "metadata": {},
   "source": [
    "<tr>\n",
    "<td> <img src=\"https://paw.princeton.edu/sites/default/files/styles/portrait_feature/public/images/content/90-Hunter-John-D.jpg?itok=wDYFhIbT\" alt=\"Drawing\" style=\"width: 200px;\"/> </td>\n",
    "<td> <img src=\"https://upload.wikimedia.org/wikipedia/commons/thumb/0/01/Created_with_Matplotlib-logo.svg/1024px-Created_with_Matplotlib-logo.svg.png\" alt=\"Drawing\" style=\"width: 200px;\"/> </td>\n",
    "</tr>"
   ]
  },
  {
   "cell_type": "markdown",
   "metadata": {
    "slideshow": {
     "slide_type": "slide"
    }
   },
   "source": [
    "## more about `matplotlib`\n",
    "\n",
    "* a plotting library designed to have MATLABlike functionality\n",
    "* an extension of `NumPy`\n",
    "* many other Python visualizations are implemented as extensions of `matplotlib`\n",
    "* interfaces with `.py`, `.ipynb`, web applications and GUI toolkits\n",
    "* can export to various hard-copy formats (publication quality)\n",
    "* bummer: no great for 3D visualizations\n"
   ]
  },
  {
   "cell_type": "markdown",
   "metadata": {
    "slideshow": {
     "slide_type": "slide"
    }
   },
   "source": [
    "## `matplotlib` architecture\n",
    "\n",
    "* Three layer stack: \n",
    "    1. **scripting** - what the user uses to create\n",
    "        * the [**pyplot API**](https://matplotlib.org/stable/api/index.html) - the command style functions that make `matplotlib` work like MATLAB\n",
    "    2. **Artist** - does the internal work of rendering\n",
    "        * the Artist object draws various elements of a plot\n",
    "            - primitives: what to render (lines, text, shapes)\n",
    "            - containers: where to render (axes, figure)\n",
    "    3. **backend** - displays the plot\n",
    "        * **user-interface (interactive)** - GUIs, etc\n",
    "        * **hard-copy (non-interactive)** - .png, .svg, .pdf"
   ]
  },
  {
   "cell_type": "markdown",
   "metadata": {
    "slideshow": {
     "slide_type": "slide"
    }
   },
   "source": [
    "## `matplotlib` figure\n",
    "\n",
    "**Figure** - the higher level opbject that contains all elements of a graph: the primatives and the containers\n",
    "<img src=\"anatomy_matplotlib.png\" width=\"50%\" style=\"margin-left:auto; margin-right:auto\">"
   ]
  },
  {
   "cell_type": "markdown",
   "metadata": {
    "slideshow": {
     "slide_type": "slide"
    }
   },
   "source": [
    "## `matplotlib` getting started\n",
    "\n",
    "We'll be working in non-interactive mode. To display the plot, we need to explicitly do so by calling `plt.show()`"
   ]
  },
  {
   "cell_type": "code",
   "execution_count": null,
   "metadata": {},
   "outputs": [],
   "source": [
    "# set the screen output as the backend\n",
    "#%matplotlib inline\n",
    "\n",
    "# import matplotlib with the synonym 'plt'\n",
    "import matplotlib.pyplot as plt "
   ]
  },
  {
   "cell_type": "code",
   "execution_count": null,
   "metadata": {},
   "outputs": [],
   "source": [
    "# create a simple line graph\n",
    "plt.plot([1,3]) \n",
    "plt.show()"
   ]
  },
  {
   "cell_type": "markdown",
   "metadata": {
    "slideshow": {
     "slide_type": "subslide"
    }
   },
   "source": [
    "### invite Artists"
   ]
  },
  {
   "cell_type": "code",
   "execution_count": null,
   "metadata": {},
   "outputs": [],
   "source": [
    "# add some labels to the axes and a title\n",
    "#plt.plot([1,3]) equivalent to:\n",
    "plt.plot([0,1],[1,3])\n",
    "plt.title( 'Example Plot' )\n",
    "plt.xlabel( 'some units' )\n",
    "plt.ylabel( 'some other units' )\n",
    "plt.show()"
   ]
  },
  {
   "cell_type": "markdown",
   "metadata": {
    "slideshow": {
     "slide_type": "slide"
    }
   },
   "source": [
    "## plotting Data\n",
    "\n",
    "the `.plot()` method can take python lists, numpy arrays or pandas Dataframe columns  \n",
    "we need our data to be formatted correctly for `matplotlib`"
   ]
  },
  {
   "cell_type": "code",
   "execution_count": null,
   "metadata": {},
   "outputs": [],
   "source": [
    "import numpy as np\n",
    "import pandas as pd"
   ]
  },
  {
   "cell_type": "markdown",
   "metadata": {
    "slideshow": {
     "slide_type": "subslide"
    }
   },
   "source": [
    "## Revisit the Pima Indians data"
   ]
  },
  {
   "cell_type": "code",
   "execution_count": null,
   "metadata": {},
   "outputs": [],
   "source": [
    "path = 'https://raw.githubusercontent.com/SmilodonCub/DS4VS/master/datasets/diabetes.csv'\n",
    "diabetes_pima = pd.read_csv( path )\n",
    "pimacolumns_2change = ['Glucose', 'BloodPressure', 'SkinThickness', 'Insulin', 'BMI']\n",
    "diabetes_pima[ pimacolumns_2change ] = diabetes_pima[ pimacolumns_2change ].replace(0, np.nan )\n",
    "diabetes_pima.info()"
   ]
  },
  {
   "cell_type": "markdown",
   "metadata": {
    "slideshow": {
     "slide_type": "subslide"
    }
   },
   "source": [
    "## visualize `DiabetesPedigreeFunction` ~ Age\n",
    "\n",
    "**Diabetes Pedigree Function** - provides a measure of the diabetes mellitus history in relatives and the genetic relationship of those relatives to the patient. Could be considered a measure of the hereditary risk associated with the onset of diabetes mellitus. "
   ]
  },
  {
   "cell_type": "code",
   "execution_count": null,
   "metadata": {},
   "outputs": [],
   "source": [
    "diabetes_pima.plot( x = 'Age', y = 'DiabetesPedigreeFunction')\n",
    "plt.show()"
   ]
  },
  {
   "cell_type": "markdown",
   "metadata": {
    "slideshow": {
     "slide_type": "subslide"
    }
   },
   "source": [
    "## we can do so much better...\n",
    "\n",
    "a line plot was clearly inappropriate to render the distribution of the data.  \n",
    "`matplotlib` has many other plotting methods we can chose from. Here are some basics:  \n",
    "\n",
    "* Bar \n",
    "* Scatter \n",
    "* Histogram\n",
    "* Box\n",
    "* Violin\n",
    "* for extensive lists with example code:\n",
    "    - [python-graph-gallery](https://www.python-graph-gallery.com/)\n",
    "    - [Matplotlib Gallery](https://matplotlib.org/stable/gallery/)"
   ]
  },
  {
   "cell_type": "markdown",
   "metadata": {
    "slideshow": {
     "slide_type": "subslide"
    }
   },
   "source": [
    "## Scatter plot"
   ]
  },
  {
   "cell_type": "code",
   "execution_count": null,
   "metadata": {},
   "outputs": [],
   "source": [
    "plt.scatter( x = diabetes_pima['Age'], \n",
    "            y = diabetes_pima['DiabetesPedigreeFunction'])\n",
    "plt.show()"
   ]
  },
  {
   "cell_type": "code",
   "execution_count": null,
   "metadata": {
    "slideshow": {
     "slide_type": "subslide"
    }
   },
   "outputs": [],
   "source": [
    "fig, ax = plt.subplots()\n",
    "colors = [ 'red', 'blue' ]\n",
    "for idx, outcome in enumerate( set( diabetes_pima['Outcome'] ) ):\n",
    "    #print( outcome )\n",
    "    outcome_idx = np.where( diabetes_pima['Outcome'] == outcome )\n",
    "    #print( outcome_idx )\n",
    "    ax.scatter(  x = diabetes_pima['Age'].iloc[outcome_idx], \n",
    "               y = diabetes_pima['DiabetesPedigreeFunction'].iloc[outcome_idx],\n",
    "               color = colors[ idx ] )\n",
    "plt.legend(labels = ['0','1'], title = 'Outcome')\n",
    "plt.show()"
   ]
  },
  {
   "cell_type": "markdown",
   "metadata": {
    "slideshow": {
     "slide_type": "subslide"
    }
   },
   "source": [
    "## Histogram"
   ]
  },
  {
   "cell_type": "code",
   "execution_count": null,
   "metadata": {},
   "outputs": [],
   "source": [
    "bins = np.linspace( 20,90,70 )\n",
    "colors = [ 'red', 'blue' ]\n",
    "\n",
    "for idx, outcome in enumerate( set( diabetes_pima['Outcome'] ) ):\n",
    "    outcome_idx = np.where( diabetes_pima['Outcome'] == outcome )\n",
    "    plt.hist(  diabetes_pima['Age'].iloc[outcome_idx], \n",
    "             bins, alpha = 0.5, color = colors[ idx ] )\n",
    "    \n",
    "plt.legend(labels = ['0','1'], title = 'Outcome')\n",
    "plt.title( 'Age' )\n",
    "plt.xlabel( 'Age' )\n",
    "plt.ylabel( 'Count' )\n",
    "plt.show()"
   ]
  },
  {
   "cell_type": "code",
   "execution_count": null,
   "metadata": {
    "slideshow": {
     "slide_type": "subslide"
    }
   },
   "outputs": [],
   "source": [
    "bins = np.linspace( 0,3 )\n",
    "colors = [ 'red', 'blue' ]\n",
    "\n",
    "for idx, outcome in enumerate( set( diabetes_pima['Outcome'] ) ):\n",
    "    outcome_idx = np.where( diabetes_pima['Outcome'] == outcome )\n",
    "    plt.hist(  diabetes_pima['DiabetesPedigreeFunction'].iloc[outcome_idx], \n",
    "             bins, alpha = 0.5, color = colors[ idx ] )\n",
    "    \n",
    "plt.legend(labels = ['0','1'], title = 'Outcome')\n",
    "plt.title( 'Diabetes Pedigree Function Distribution' )\n",
    "plt.xlabel( 'Diabetes Pedigree Function' )\n",
    "plt.ylabel( 'Count' )\n",
    "plt.show()"
   ]
  },
  {
   "cell_type": "code",
   "execution_count": null,
   "metadata": {
    "slideshow": {
     "slide_type": "subslide"
    }
   },
   "outputs": [],
   "source": [
    "fig, ax = plt.subplots( figsize = (10,5) )\n",
    "binsAge = np.linspace( 20,90, 70 )\n",
    "binsDPF = np.linspace( 0,3 )\n",
    "colors = [ 'red', 'blue' ]\n",
    "\n",
    "for idx, outcome in enumerate( set( diabetes_pima['Outcome'] ) ):\n",
    "    outcome_idx = np.where( diabetes_pima['Outcome'] == outcome )\n",
    "    plt.subplot( 1,2,1 )\n",
    "    plt.hist(  diabetes_pima['Age'].iloc[outcome_idx], binsAge, alpha = 0.5, color = colors[ idx ] )\n",
    "    plt.subplot( 1,2,2 )\n",
    "    plt.hist(  diabetes_pima['DiabetesPedigreeFunction'].iloc[outcome_idx], \n",
    "             binsDPF, alpha = 0.5, color = colors[ idx ] )\n",
    "    \n",
    "plt.legend(labels = ['0','1'], title = 'Outcome')\n",
    "plt.show()"
   ]
  },
  {
   "cell_type": "markdown",
   "metadata": {
    "slideshow": {
     "slide_type": "subslide"
    }
   },
   "source": [
    "## Grouped bar chart"
   ]
  },
  {
   "cell_type": "code",
   "execution_count": null,
   "metadata": {},
   "outputs": [],
   "source": [
    "fig, ax = plt.subplots( figsize = (10,5) )\n",
    "colors = [ 'red', 'blue' ]\n",
    "width = 0.35\n",
    "\n",
    "outcome0_idx = np.where( diabetes_pima['Outcome'] == 0 )\n",
    "outcome1_idx = np.where( diabetes_pima['Outcome'] == 1 )\n",
    "\n",
    "series0 = ax.bar( diabetes_pima['Age'].iloc[outcome0_idx] - width/2, \n",
    "                 diabetes_pima['DiabetesPedigreeFunction'].iloc[outcome0_idx], width, \n",
    "                 label = '0', alpha = 0.5, color = colors[0])\n",
    "series1 = ax.bar( diabetes_pima['Age'].iloc[outcome1_idx ] + width/2, \n",
    "                 diabetes_pima['DiabetesPedigreeFunction'].iloc[outcome1_idx ], width,\n",
    "                 label = '1', alpha = 0.5, color = colors[1])\n",
    "    \n",
    "plt.legend(labels = ['0','1'], title = 'Outcome')\n",
    "plt.show()"
   ]
  },
  {
   "cell_type": "markdown",
   "metadata": {
    "slideshow": {
     "slide_type": "subslide"
    }
   },
   "source": [
    "## Hmmmm let's bin the data by `Age`"
   ]
  },
  {
   "cell_type": "code",
   "execution_count": null,
   "metadata": {},
   "outputs": [],
   "source": [
    "# binning by age\n",
    "diabetes_pima['rounded_Age'] = diabetes_pima['Age'].apply( lambda x: int( 10 * round( float(x)/10 ) ) )\n",
    "diabetes_pima.head()"
   ]
  },
  {
   "cell_type": "markdown",
   "metadata": {
    "slideshow": {
     "slide_type": "subslide"
    }
   },
   "source": [
    "## Aggregate the data around the age bins"
   ]
  },
  {
   "cell_type": "code",
   "execution_count": null,
   "metadata": {
    "slideshow": {
     "slide_type": "-"
    }
   },
   "outputs": [],
   "source": [
    "# aggegate by the new feature 'rounded_Age'\n",
    "diabetes_pima_ageAgg = diabetes_pima.groupby(['rounded_Age', 'Outcome']).mean().reset_index(level='Outcome')\n",
    "diabetes_pima_ageAgg "
   ]
  },
  {
   "cell_type": "code",
   "execution_count": null,
   "metadata": {
    "slideshow": {
     "slide_type": "subslide"
    }
   },
   "outputs": [],
   "source": [
    "fig, ax = plt.subplots( figsize = (10,5) )\n",
    "colors = [ 'red', 'blue' ]\n",
    "labels = [ '20s', '30s', '40s', '50s', '60s', '70s', '80s' ]\n",
    "x0 = np.arange( len( labels ) )\n",
    "x1 = x0[:-1]\n",
    "width = 0.35\n",
    "\n",
    "\n",
    "outcome0_idx = np.where( diabetes_pima_ageAgg['Outcome'] == 0 )\n",
    "outcome0_means = list( diabetes_pima_ageAgg['DiabetesPedigreeFunction'].iloc[outcome0_idx] )\n",
    "outcome1_idx = np.where( diabetes_pima_ageAgg['Outcome'] == 1 )\n",
    "outcome1_means = list( diabetes_pima_ageAgg['DiabetesPedigreeFunction'].iloc[outcome1_idx] )\n",
    "\n",
    "series0 = ax.bar( x0 - width/2, outcome0_means, width, label = '0', alpha = 0.5, color = colors[0])\n",
    "series1 = ax.bar( x1 + width/2, outcome1_means, width, label = '1', alpha = 0.5, color = colors[1])\n",
    "\n",
    "# Add some text for labels, title and custom x-axis tick labels, etc.\n",
    "ax.set_ylabel('mean DPF')\n",
    "ax.set_title('Diabetes Pedigree Function grouped by Age')\n",
    "ax.set_xticks(x0)\n",
    "ax.set_xticklabels(labels)\n",
    "ax.legend()\n",
    "\n",
    "fig.tight_layout()\n",
    "    \n",
    "plt.legend(labels = ['0','1'], title = 'Outcome')\n",
    "plt.show()"
   ]
  },
  {
   "cell_type": "markdown",
   "metadata": {
    "slideshow": {
     "slide_type": "subslide"
    }
   },
   "source": [
    "## reshape the data to facilitate visualization\n",
    "\n",
    "use `pandas` to create a pivot table  \n",
    "\n",
    "**pivot table** - restructure around existing patterns in the data and extract (aggregate) statistics about the groupings."
   ]
  },
  {
   "cell_type": "code",
   "execution_count": null,
   "metadata": {},
   "outputs": [],
   "source": [
    "diabetes_pima_2plot = diabetes_pima_ageAgg.reset_index().pivot( index = 'rounded_Age', \n",
    "                                                               columns = 'Outcome', \n",
    "                                                               values = 'DiabetesPedigreeFunction')\n",
    "diabetes_pima_2plot"
   ]
  },
  {
   "cell_type": "code",
   "execution_count": null,
   "metadata": {
    "slideshow": {
     "slide_type": "subslide"
    }
   },
   "outputs": [],
   "source": [
    "fig, ax = plt.subplots( figsize = (10,5) )\n",
    "colors = [ 'red', 'blue' ]\n",
    "labels = [ '20s', '30s', '40s', '50s', '60s', '70s', '80s' ]\n",
    "x = np.arange( len( labels ) )\n",
    "width = 0.35\n",
    "\n",
    "series0 = ax.bar( x - width/2, diabetes_pima_2plot.iloc[:,0], width, label = '0', alpha = 0.5, color = colors[0])\n",
    "series1 = ax.bar( x + width/2, diabetes_pima_2plot.iloc[:,1], width, label = '1', alpha = 0.5, color = colors[1])\n",
    "\n",
    "# Add some text for labels, title and custom x-axis tick labels, etc.\n",
    "ax.set_ylabel('mean DPF')\n",
    "ax.set_title('Diabetes Pedigree Function grouped by Age')\n",
    "ax.set_xticks(x0)\n",
    "ax.set_xticklabels(labels)\n",
    "ax.legend()\n",
    "\n",
    "fig.tight_layout()\n",
    "    \n",
    "plt.legend(labels = ['0','1'], title = 'Outcome')\n",
    "plt.show()"
   ]
  },
  {
   "cell_type": "markdown",
   "metadata": {
    "slideshow": {
     "slide_type": "subslide"
    }
   },
   "source": [
    "## Is there another relationship in the data you would like to visualize?\n",
    "\n",
    "Let's take a moment here.  \n",
    "Think about the data and about what each feature/variable/column means.\n",
    "Visualize another variable or combination of variables in a way that interests you."
   ]
  },
  {
   "cell_type": "code",
   "execution_count": null,
   "metadata": {},
   "outputs": [],
   "source": [
    "# create a plot of your choice"
   ]
  },
  {
   "cell_type": "markdown",
   "metadata": {
    "slideshow": {
     "slide_type": "subslide"
    }
   },
   "source": [
    "## Revisit the Psychophysics data from last week\n",
    "\n",
    "### The Vernier Hyperacuity task:\n",
    "\n",
    "* **stimulus**: 2 drifting sinusoid gratings were presented\n",
    "    - luminance, equiluminant chromatic\n",
    "    - variable gap size between the two gratings\n",
    "* the task:\n",
    "    - subject must discriminate whether the left of right grating is shifted higher than the partner\n",
    "    - 2 conditions: same polarity alignment, reverse polarity alignment\n",
    "* the threshold measure:\n",
    "    - we will take the mean of the last 4 for reversals for the 2 starcases in each file"
   ]
  },
  {
   "cell_type": "markdown",
   "metadata": {
    "slideshow": {
     "slide_type": "subslide"
    }
   },
   "source": [
    "here we will load a .csv file with the fields we will need for aggregating and visualizing results from this example psychophysics tasks"
   ]
  },
  {
   "cell_type": "code",
   "execution_count": null,
   "metadata": {},
   "outputs": [],
   "source": [
    "gratvernier_df = pd.read_csv( 'gratvernier_mj.csv', converters={'stim1_reversals': eval,'stim2_reversals': eval} )\n",
    "#gratvernier_df.head()"
   ]
  },
  {
   "cell_type": "code",
   "execution_count": null,
   "metadata": {},
   "outputs": [],
   "source": [
    "gratvernier_df.info()"
   ]
  },
  {
   "cell_type": "code",
   "execution_count": null,
   "metadata": {},
   "outputs": [],
   "source": [
    "# let's make some new columns that hold the last 4 reversals of each staircase.\n",
    "gratvernier_df['stim1_tail4'] = [ x[-4:] for x in gratvernier_df['stim1_reversals'] ]\n",
    "gratvernier_df['stim2_tail4'] = [ x[-4:] for x in gratvernier_df['stim2_reversals'] ]\n",
    "gratvernier_df['reversals'] = gratvernier_df['stim1_tail4'] + gratvernier_df['stim2_tail4']\n",
    "gratvernier_df.head()"
   ]
  },
  {
   "cell_type": "markdown",
   "metadata": {
    "slideshow": {
     "slide_type": "subslide"
    }
   },
   "source": [
    "## Aggregating and filtering information to plot \n",
    "\n",
    "we need to shape our data in a way that will facilitate passing the data of interest to `matplotlib` scripting functions  \n",
    "\n",
    "we are most interested in:  \n",
    "\n",
    "* `grat_gap` - the size of the gap between the target gratings\n",
    "* `type_vernier` - the polarity of alignment (In/Out of Phase)\n",
    "\n",
    "we will aggregate the data on `grat_gap` and `type_vernier` and summarize the mean thresholds"
   ]
  },
  {
   "cell_type": "code",
   "execution_count": null,
   "metadata": {},
   "outputs": [],
   "source": [
    "res = gratvernier_df.groupby( [ 'grat_gap', 'type_vernier' ] ).agg({'reversals':'sum'})\n",
    "res['reversal_mean'] = [ np.array( x ).mean() for x in res['reversals'] ]\n",
    "res = res.reset_index()"
   ]
  },
  {
   "cell_type": "code",
   "execution_count": null,
   "metadata": {
    "slideshow": {
     "slide_type": "subslide"
    }
   },
   "outputs": [],
   "source": [
    "res"
   ]
  },
  {
   "cell_type": "markdown",
   "metadata": {
    "slideshow": {
     "slide_type": "subslide"
    }
   },
   "source": [
    "## Pivot the data to facilitate visualization\n",
    "\n",
    "* index: which column do you want to be the explanatory variable\n",
    "* columns: which variable do you want to split into columns (typically a categorical feature)\n",
    "* values: which data do you want to be the response variable"
   ]
  },
  {
   "cell_type": "code",
   "execution_count": null,
   "metadata": {
    "slideshow": {
     "slide_type": "-"
    }
   },
   "outputs": [],
   "source": [
    "plotres = res.pivot( index = '______', columns = '______', values = '______')\n",
    "plotres"
   ]
  },
  {
   "cell_type": "markdown",
   "metadata": {
    "slideshow": {
     "slide_type": "slide"
    }
   },
   "source": [
    "## a simple line plot to sketch the outcome"
   ]
  },
  {
   "cell_type": "code",
   "execution_count": null,
   "metadata": {},
   "outputs": [],
   "source": [
    "plt.plot( plotres['InPhase'], color = 'red' )\n",
    "plt.plot( plotres['OutOfPhase'], color = 'blue' )\n",
    "plt.show()"
   ]
  },
  {
   "cell_type": "markdown",
   "metadata": {
    "slideshow": {
     "slide_type": "subslide"
    }
   },
   "source": [
    "## Take a moment to add more elements to the figure\n",
    "\n",
    "Can you add:  \n",
    "\n",
    "* title\n",
    "* x,y labels\n",
    "* legend\n",
    "* anything else?..."
   ]
  },
  {
   "cell_type": "markdown",
   "metadata": {
    "slideshow": {
     "slide_type": "slide"
    }
   },
   "source": [
    "## We've used `matplotlib` for basic figures. Next week we'll learn about 'higher level' plots with `seaborn` and some more specialized visualization packages.\n",
    "<img src=\"https://content.techgig.com/photo/80071467/pros-and-cons-of-python-programming-language-that-every-learner-must-know.jpg?132269\" width=\"100%\" style=\"margin-left:auto; margin-right:auto\">"
   ]
  }
 ],
 "metadata": {
  "celltoolbar": "Slideshow",
  "kernelspec": {
   "display_name": "Python 3",
   "language": "python",
   "name": "python3"
  },
  "language_info": {
   "codemirror_mode": {
    "name": "ipython",
    "version": 3
   },
   "file_extension": ".py",
   "mimetype": "text/x-python",
   "name": "python",
   "nbconvert_exporter": "python",
   "pygments_lexer": "ipython3",
   "version": "3.7.6"
  }
 },
 "nbformat": 4,
 "nbformat_minor": 4
}
