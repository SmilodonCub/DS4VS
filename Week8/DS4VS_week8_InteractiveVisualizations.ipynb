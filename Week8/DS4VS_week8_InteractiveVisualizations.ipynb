{
 "cells": [
  {
   "cell_type": "markdown",
   "metadata": {
    "slideshow": {
     "slide_type": "slide"
    }
   },
   "source": [
    "# Week 8: Interactive Visualizations"
   ]
  },
  {
   "cell_type": "markdown",
   "metadata": {
    "slideshow": {
     "slide_type": "slide"
    }
   },
   "source": [
    "## a Brief Recap:\n",
    "\n",
    "* Hello, how are you?\n",
    "* Today....split in 2!:\n",
    "    - Interactive Visualizations\n",
    "    - Python Classes\n",
    "* Next Week We will get started with Machine Learning basics\n",
    "* A thing or two about Homework 1\n",
    "* Any questions so far about Homework 2?"
   ]
  },
  {
   "cell_type": "markdown",
   "metadata": {
    "slideshow": {
     "slide_type": "slide"
    }
   },
   "source": [
    "## Interactive Visualizations with Python\n",
    "\n",
    "Using the Psychophysics DataFrame that results from Homework2:\n",
    "\n",
    "* Plotly\n",
    "* Dash Apps\n",
    "* Streamlit Apps\n",
    "\n",
    "there are some other libraries that specialize in [interactive plots](https://mode.com/blog/python-interactive-plot-libraries/) if you are curious"
   ]
  },
  {
   "cell_type": "markdown",
   "metadata": {
    "slideshow": {
     "slide_type": "slide"
    }
   },
   "source": [
    "## The SCSF Psychophysics Data\n",
    "\n",
    "Let's do a brief EDA and some visualizations"
   ]
  },
  {
   "cell_type": "code",
   "execution_count": null,
   "metadata": {},
   "outputs": [],
   "source": [
    "import pandas as pd\n",
    "import numpy as np\n",
    "import matplotlib.pyplot as plt\n",
    "import seaborn as sns"
   ]
  },
  {
   "cell_type": "code",
   "execution_count": null,
   "metadata": {},
   "outputs": [],
   "source": [
    "url = 'https://raw.githubusercontent.com/SmilodonCub/DS4VS/master/Homework/SCSF.csv'\n",
    "SCSF_df = pd.read_csv( url, converters={'scase1_reversals': eval,'scase2_reversals': eval}  )\n",
    "SCSF_df.shape"
   ]
  },
  {
   "cell_type": "code",
   "execution_count": null,
   "metadata": {
    "slideshow": {
     "slide_type": "slide"
    }
   },
   "outputs": [],
   "source": [
    "SCSF_df.head()"
   ]
  },
  {
   "cell_type": "markdown",
   "metadata": {
    "slideshow": {
     "slide_type": "slide"
    }
   },
   "source": [
    "## Some light Preprocessing\n",
    "\n",
    "Let's functionalize some of the code we used last week to find a rough threshold for each staircase"
   ]
  },
  {
   "cell_type": "code",
   "execution_count": null,
   "metadata": {},
   "outputs": [],
   "source": [
    "def addRoughThreshold( data_df, col_list ):\n",
    "    \"\"\"\n",
    "    given a dataframe and a list of names for staircase reversal columns,\n",
    "    return a dataframe with a feature added giving the rough threshold for each record.\n",
    "    assumes each record hold staircases with identical settings\n",
    "    \"\"\"\n",
    "    df = data_df.copy()\n",
    "    \n",
    "    sc1tail = pd.Series( [ x[-4:] for x in df[col_list[0]] ] )\n",
    "    sc2tail = pd.Series( [ x[-4:] for x in df[col_list[1]] ] )\n",
    "    df['reversal'] = sc1tail + sc2tail\n",
    "    return df\n",
    "    "
   ]
  },
  {
   "cell_type": "code",
   "execution_count": null,
   "metadata": {
    "slideshow": {
     "slide_type": "subslide"
    }
   },
   "outputs": [],
   "source": [
    "col_names = [ 'scase1_reversals', 'scase2_reversals' ]\n",
    "df = addRoughThreshold( SCSF_df, col_names )\n",
    "df.head()"
   ]
  },
  {
   "cell_type": "markdown",
   "metadata": {
    "slideshow": {
     "slide_type": "subslide"
    }
   },
   "source": [
    "## subjects & conditions"
   ]
  },
  {
   "cell_type": "code",
   "execution_count": null,
   "metadata": {},
   "outputs": [],
   "source": [
    "print( df.observer_name.unique() )\n",
    "print( df.type_grating.unique() )\n",
    "print( df.spatial_frequency.unique() )\n",
    "print( df.contrast_level.unique() )\n",
    "print( df.rgb_min.unique() )\n",
    "print( df.rgb_max.unique() )"
   ]
  },
  {
   "cell_type": "markdown",
   "metadata": {
    "slideshow": {
     "slide_type": "subslide"
    }
   },
   "source": [
    "## A basic visualization"
   ]
  },
  {
   "cell_type": "code",
   "execution_count": null,
   "metadata": {},
   "outputs": [],
   "source": [
    "# groupby spatial frequency & subject\n",
    "df = df.groupby(['observer_name','spatial_frequency', 'type_grating']).agg({'reversal':'sum'})\n",
    "df['reversal_mean'] = [ np.array( x ).mean() for x in df['reversal'] ]\n",
    "df['sensitivity'] = 1/df['reversal_mean']\n",
    "df.head()"
   ]
  },
  {
   "cell_type": "code",
   "execution_count": null,
   "metadata": {
    "scrolled": true,
    "slideshow": {
     "slide_type": "subslide"
    }
   },
   "outputs": [],
   "source": [
    "splot = sns.relplot( data = df, x = 'spatial_frequency', y = 'sensitivity', \n",
    "            hue = 'type_grating', col = 'observer_name', kind = 'line', col_wrap=2 )\n",
    "splot.set(xscale=\"log\")\n",
    "plt.show()"
   ]
  },
  {
   "cell_type": "markdown",
   "metadata": {
    "slideshow": {
     "slide_type": "slide"
    }
   },
   "source": [
    "## Plotly\n",
    "\n",
    "[Plotly](https://plotly.com/graphing-libraries/) is a family of graphing libraries that can be used to build interactive visualizations in Python, R, Julia and Matlab  \n",
    "\n",
    "[Python Plotly Gallery](https://plotly.com/python/)\n",
    "\n",
    "<img src=\"https://upload.wikimedia.org/wikipedia/commons/8/8a/Plotly_logo_for_digital_final_%286%29.png\" width=\"40%\" style=\"margin-left:auto; margin-right:auto\">"
   ]
  },
  {
   "cell_type": "markdown",
   "metadata": {
    "slideshow": {
     "slide_type": "subslide"
    }
   },
   "source": [
    "## Plotly as basic visualization\n",
    "\n",
    "Plotly can be used for basic visualization.  \n",
    "Here we recreate the same basic image with the SCSF data:"
   ]
  },
  {
   "cell_type": "code",
   "execution_count": null,
   "metadata": {},
   "outputs": [],
   "source": [
    "df2 = df.reset_index()\n",
    "df2.head()"
   ]
  },
  {
   "cell_type": "code",
   "execution_count": null,
   "metadata": {
    "scrolled": true,
    "slideshow": {
     "slide_type": "subslide"
    }
   },
   "outputs": [],
   "source": [
    "import plotly.express as px\n",
    "# themes = [\"plotly\", \"plotly_white\", \"plotly_dark\", \"ggplot2\", \"seaborn\", \"simple_white\", \"none\"]\n",
    "fig = px.line( df2, x ='spatial_frequency', y ='sensitivity', color ='type_grating', \n",
    "                 facet_col = 'observer_name', facet_col_wrap=2, log_x=True, template= 'plotly_white')\n",
    "fig.show()"
   ]
  },
  {
   "cell_type": "markdown",
   "metadata": {
    "slideshow": {
     "slide_type": "slide"
    }
   },
   "source": [
    "## Plotly + Dash for Interactive mini-Apps\n",
    "\n",
    "Build complex, interactive web-based dashboards/applications  \n",
    "\n",
    "Dash is a library 'built on top of' Plotly and [Flask](https://flask.palletsprojects.com/en/2.0.x/).  \n",
    "Flask is a popular Python web-framework, but setting it up can be tricky.  \n",
    "Dash makes deploying apps much simpler!  \n",
    "\n",
    "Let's use the SFSC data to build an example...."
   ]
  },
  {
   "cell_type": "markdown",
   "metadata": {
    "slideshow": {
     "slide_type": "subslide"
    }
   },
   "source": [
    "## Subject Results Dashboard\n",
    "\n",
    "We would like to use Dash to build an interactive web-application that will allow us to view the results of each subject"
   ]
  },
  {
   "cell_type": "code",
   "execution_count": null,
   "metadata": {},
   "outputs": [],
   "source": [
    "import dash\n",
    "from dash import dcc, html \n",
    "from dash.dependencies import Input, Output, State"
   ]
  },
  {
   "cell_type": "markdown",
   "metadata": {
    "slideshow": {
     "slide_type": "slide"
    }
   },
   "source": [
    "## Dash App Components\n",
    "\n",
    "1. the data ...and  dream (the information you want to involve | idea you would like to convey)\n",
    "2. the `app.layout` - describes what the application looks like\n",
    "3. the `app.callback` - describes the interactivity\n",
    "\n",
    "We can do simple apps in Jupyter, but ideally the app.layout and app.callback would be seperate files in an app root directory"
   ]
  },
  {
   "cell_type": "markdown",
   "metadata": {
    "slideshow": {
     "slide_type": "subslide"
    }
   },
   "source": [
    "### data|dream\n",
    "\n",
    "Exactly what do we want to render?  \n",
    "Spend some time conceptualizing before you start building an app.  \n",
    "You will save yourself a lot of time if you organize your thoughts first!"
   ]
  },
  {
   "cell_type": "code",
   "execution_count": null,
   "metadata": {
    "slideshow": {
     "slide_type": "fragment"
    }
   },
   "outputs": [],
   "source": [
    "app = dash.Dash(__name__)\n",
    "\n",
    "available_subjects = df2.observer_name.unique()\n",
    "df3 = df2[ df2[ 'observer_name' ] == 'kh' ]\n",
    "fig = px.line( df3, x ='spatial_frequency', y ='sensitivity', color ='type_grating', \n",
    "              log_x=True, template= 'plotly_white' )"
   ]
  },
  {
   "cell_type": "markdown",
   "metadata": {
    "slideshow": {
     "slide_type": "subslide"
    }
   },
   "source": [
    "Sketch your layout!...how should the data be organized?\n",
    "\n",
    "<img src=\"https://raw.githubusercontent.com/SmilodonCub/DS4VS/master/Week8/sketch.png\" width=\"40%\" style=\"margin-left:auto; margin-right:auto\">\n",
    "\n"
   ]
  },
  {
   "cell_type": "markdown",
   "metadata": {
    "slideshow": {
     "slide_type": "subslide"
    }
   },
   "source": [
    "### app.layout\n",
    "\n",
    "We've already spent time organizing our data, so let's dive into the layout"
   ]
  },
  {
   "cell_type": "code",
   "execution_count": null,
   "metadata": {
    "slideshow": {
     "slide_type": "fragment"
    }
   },
   "outputs": [],
   "source": [
    "app.layout = html.Div([\n",
    "    html.H1('SCSF Subject Sensitivity'),\n",
    "    html.Div([\n",
    "        html.Div([\n",
    "            dcc.Dropdown(\n",
    "                id='Observer',\n",
    "                options=[{'label': i, 'value': i} for i in available_subjects],\n",
    "                value='kh'\n",
    "            )\n",
    "        ], style={'width': '25%', 'display': 'inline-block'}),\n",
    "    ]),\n",
    "    dcc.Graph(\n",
    "        id='subject_graph',\n",
    "        figure=fig\n",
    "    )\n",
    "\n",
    "])\n",
    "\n",
    "if __name__ == '__main__':\n",
    "    app.run_server(debug=False)"
   ]
  },
  {
   "cell_type": "markdown",
   "metadata": {
    "slideshow": {
     "slide_type": "subslide"
    }
   },
   "source": [
    "### app.callback\n",
    "\n",
    "We were able to view a subject's results and the graph appeared as expected. However, we were unable to interact with the visualization to select a different subject.  \n",
    "\n",
    "The interactivity is controlled by the app.callback which we will now implement...."
   ]
  },
  {
   "cell_type": "code",
   "execution_count": null,
   "metadata": {},
   "outputs": [],
   "source": [
    "@app.callback(\n",
    "    Output('subject_graph' ),\n",
    "    Input('Observer', 'value'))\n",
    "\n",
    "def update_graph(value):\n",
    "    df3 = df2[ df2[ 'observer_name' ] == value ]\n",
    "    fig = px.line( df3, x ='spatial_frequency', y ='sensitivity', color ='type_grating', \n",
    "              log_x=True, template= 'plotly_white' )\n",
    "    return fig"
   ]
  },
  {
   "cell_type": "markdown",
   "metadata": {
    "slideshow": {
     "slide_type": "subslide"
    }
   },
   "source": [
    "### Now to sew these pieces together..."
   ]
  },
  {
   "cell_type": "code",
   "execution_count": null,
   "metadata": {},
   "outputs": [],
   "source": [
    "app = dash.Dash(__name__)\n",
    "\n",
    "available_subjects = df2.observer_name.unique()\n",
    "df3 = df2[ df2[ 'observer_name' ] == 'kh' ]\n",
    "fig = px.line( df3, x ='spatial_frequency', y ='sensitivity', color ='type_grating', \n",
    "              log_x=True, template= 'plotly_white' )\n",
    "\n",
    "\n",
    "app.layout = html.Div([\n",
    "    html.H1('SCSF Subject Sensitivity'),\n",
    "    html.Div([\n",
    "        html.Div([\n",
    "            dcc.Dropdown(\n",
    "                id='Observer',\n",
    "                options=[{'label': i, 'value': i} for i in available_subjects],\n",
    "                value='kh'\n",
    "            )\n",
    "        ], style={'width': '25%', 'display': 'inline-block'}),\n",
    "    ]),\n",
    "    dcc.Graph(\n",
    "        id='subject_graph',\n",
    "        figure=fig )\n",
    "])\n",
    "\n",
    "@app.callback(\n",
    "    Output('subject_graph', 'figure' ),\n",
    "    Input('Observer', 'value'))\n",
    "\n",
    "def update_graph(value):\n",
    "    df3 = df2[ df2[ 'observer_name' ] == value ]\n",
    "    fig = px.line( df3, x ='spatial_frequency', y ='sensitivity', color ='type_grating', \n",
    "              log_x=True, template= 'plotly_white' )\n",
    "    return fig\n",
    "\n",
    "if __name__ == '__main__':\n",
    "    app.run_server(debug=False)"
   ]
  },
  {
   "cell_type": "markdown",
   "metadata": {
    "slideshow": {
     "slide_type": "subslide"
    }
   },
   "source": [
    "### App Deployment\n",
    "\n",
    "Well that's great! In relatively few lines of code we pulled together an interactive figure to view some results of a psychophysical experiment.  \n",
    "**Problem**: right now the visualization only works in the browser on our local machine.  \n",
    "\n",
    "To create a sharable link, we need to deploy the app"
   ]
  },
  {
   "cell_type": "markdown",
   "metadata": {
    "slideshow": {
     "slide_type": "fragment"
    }
   },
   "source": [
    "for this we need a production ready HTTP server. ....  \n",
    "this is out of the scope for this lecture. However, there are some [great resources](https://towardsdatascience.com/deploying-your-dash-app-to-heroku-the-magical-guide-39bd6a0c586c) that can help you if you are interested and have the time.\n",
    "\n",
    "\n",
    "<img src=\"https://blog.talenox.com/wp-content/uploads/2015/01/Heroku_logo.svg.png\" width=\"40%\" style=\"margin-left:auto; margin-right:auto\">"
   ]
  },
  {
   "cell_type": "markdown",
   "metadata": {
    "slideshow": {
     "slide_type": "slide"
    }
   },
   "source": [
    "### Deploying with Heroku\n",
    "\n",
    "0. Have Github & Heroku accounts (you're halfway there!)\n",
    "1. Create a new folder for your app\n",
    "2. Initialize your folder with both `git` and `virtualenv`\n",
    "3. Install `gunicorn` and all your app's dependancies (`virtualenv` creates a fresh python environment)\n",
    "4. Initialize a folder with:\n",
    "    - app.py\n",
    "    - .gitignore\n",
    "    - Procfile\n",
    "    - requirements.txt\n",
    "5. Initialize Heroku, add the files to git and deploy!"
   ]
  },
  {
   "cell_type": "markdown",
   "metadata": {
    "slideshow": {
     "slide_type": "slide"
    }
   },
   "source": [
    "### A Shareable App!\n",
    "\n",
    "[SCSF Subject Sensitivity](https://glacial-retreat-76947.herokuapp.com/)\n",
    "\n",
    "Deployment instructions:\n",
    "\n",
    "* [Dash Documentation](https://dash.plotly.com/deployment)  \n",
    "* [Heroku Deploying with Git](https://devcenter.heroku.com/articles/git)\n",
    "* `$ heroku logs --tail` -for error logs\n",
    "* breath! and keep working. You will figure it out."
   ]
  },
  {
   "cell_type": "markdown",
   "metadata": {
    "slideshow": {
     "slide_type": "slide"
    }
   },
   "source": [
    "## Streamlit\n",
    "\n",
    "Streamlit is all about speed & interaction  \n",
    "Streamlit doesn't mess with html, it is Python-centric\n",
    "No callbacks: 'widget' objects are treated as variables  \n",
    "Data caching speeds up rendering"
   ]
  },
  {
   "cell_type": "code",
   "execution_count": null,
   "metadata": {},
   "outputs": [],
   "source": [
    "pip install streamlit"
   ]
  },
  {
   "cell_type": "markdown",
   "metadata": {
    "slideshow": {
     "slide_type": "slide"
    }
   },
   "source": [
    "### Organization for Streamlit\n",
    "\n",
    "Best practice:\n",
    "\n",
    "Have a dedicated folder for steamlit apps. e.g.: `streamlit_apps`  \n",
    "Within `streamlit-apps` have a different folder for each app you develop  \n",
    "\n",
    "For this class, let's set up:\n",
    "\n",
    "    streamlit_apps\n",
    "        ↳SCSF_app"
   ]
  },
  {
   "cell_type": "markdown",
   "metadata": {
    "slideshow": {
     "slide_type": "slide"
    }
   },
   "source": [
    "### Setup via Terminal\n",
    "\n",
    "1) in terminal, navigate to the directory you'd like to place your `streamlit_apps` folder\n",
    "\n",
    "    mkdir streamlit_apps\n",
    "    cd streamlit_apps\n",
    "    \n",
    "2) in terminal, create an new folder for our SCSF app, change directories to the new folder and create a new file:\n",
    "\n",
    "    mkdir SCSF_app\n",
    "    cd SCSF_app\n",
    "    touch SCSF_demo.py\n",
    "\n",
    "3) in a text editor, open `SCSF_demo.py`, paste the following code and save your changes....   "
   ]
  },
  {
   "cell_type": "markdown",
   "metadata": {
    "slideshow": {
     "slide_type": "subslide"
    }
   },
   "source": [
    "import streamlit as st\n",
    "import pandas as pd\n",
    "import numpy as np\n",
    "import matplotlib.pyplot as plt\n",
    "import seaborn as sns\n",
    "\n",
    "st.title( 'SCSF Subject Sensitivity' )\n",
    "url = 'https://raw.githubusercontent.com/SmilodonCub/DS4VS/master/Week8/SCSF_df'\n",
    "SCSF_df = pd.read_csv( url )\n",
    "st.write( SCSF_df.head() )\n",
    "\n",
    "st.markdown( 'Use this app to select a subject of interest and view their SCSF results' )\n",
    "available_subjects = SCSF_df.observer_name.unique()\n",
    "selected_subject = st.selectbox('Which subject?', available_subjects )\n",
    "sub_df = SCSF_df[ SCSF_df[ 'observer_name' ] == selected_subject ]\n",
    "\n",
    "fig, ax = plt.subplots()\n",
    "ax = sns.lineplot( data = sub_df, x = 'spatial_frequency', y = 'sensitivity', \n",
    "            hue = 'type_grating' )\n",
    "ax.set(xscale=\"log\")\n",
    "st.pyplot( fig )"
   ]
  },
  {
   "cell_type": "markdown",
   "metadata": {
    "slideshow": {
     "slide_type": "subslide"
    }
   },
   "source": [
    "4) Great!, now in terminal type:\n",
    "\n",
    "    streamlit run SCSF_demo.py\n",
    "    \n",
    "    \n",
    "You should see an interactive figure in your browser (localhost)\n",
    "   "
   ]
  },
  {
   "cell_type": "markdown",
   "metadata": {
    "slideshow": {
     "slide_type": "fragment"
    }
   },
   "source": [
    "That was relatively painless wasn't it!  \n",
    "\n",
    "Let's see how easy it is to make changes to a local Streamlit app....  \n",
    "\n",
    "* add x & y labels to the figure\n",
    "* add a title\n",
    "\n",
    "In the upper right select 'Rerun'"
   ]
  },
  {
   "cell_type": "markdown",
   "metadata": {
    "slideshow": {
     "slide_type": "slide"
    }
   },
   "source": [
    "## Deploying Streamlit App to Heroku\n",
    "\n",
    "**Question** - Do we want to try to deploy our app? ....we could move on to other things..."
   ]
  },
  {
   "cell_type": "markdown",
   "metadata": {
    "slideshow": {
     "slide_type": "fragment"
    }
   },
   "source": [
    "In a text editor we need to make 3 new files and save to app folder:  \n",
    "\n",
    "1. Procfile\n",
    "2. setup.sh\n",
    "3. requirements.txt"
   ]
  },
  {
   "cell_type": "markdown",
   "metadata": {
    "slideshow": {
     "slide_type": "subslide"
    }
   },
   "source": [
    "### Procfile\n",
    "\n",
    "    web: sh setup.sh && streamlit run SCSF_demo.py\n",
    "    \n",
    "note: if you have a different file name instead of `SCSF_demo.py` please replace"
   ]
  },
  {
   "cell_type": "markdown",
   "metadata": {
    "slideshow": {
     "slide_type": "subslide"
    }
   },
   "source": [
    "### setup.sh\n",
    "\n",
    "    mkdir -p ~/.streamlit/\n",
    "    echo \"\\\n",
    "    [server]\\n\\\n",
    "    headless = true\\n\\\n",
    "    port = $PORT\\n\\\n",
    "    enableCORS = false\\n\\\n",
    "    \\n\\\n",
    "    \" > ~/.streamlit/config.toml"
   ]
  },
  {
   "cell_type": "markdown",
   "metadata": {
    "slideshow": {
     "slide_type": "subslide"
    }
   },
   "source": [
    "### requirements.txt\n",
    "\n",
    "    matplotlib==3.4.3\n",
    "    numpy==1.19.5\n",
    "    pandas==1.3.3\n",
    "    seaborn==0.11.1\n",
    "    streamlit==0.89.0\n",
    "    \n",
    "note: if you make changes and need any other libraries please add"
   ]
  },
  {
   "cell_type": "markdown",
   "metadata": {
    "slideshow": {
     "slide_type": "subslide"
    }
   },
   "source": [
    "### In Terminal:\n",
    "\n",
    "Initialize git, add and commit\n",
    "\n",
    "    git init\n",
    "    git add .\n",
    "    git commit -m 'SCSF first commit'\n",
    "    \n",
    "Initialize heroku\n",
    "    \n",
    "    heroku create"
   ]
  },
  {
   "cell_type": "markdown",
   "metadata": {
    "slideshow": {
     "slide_type": "subslide"
    }
   },
   "source": [
    "### In your Heroku account:\n",
    "\n",
    "you should see an update in your account dashboard. (e.x. obscure-dawn-74721)  \n",
    "copy the name of the new instance in your account"
   ]
  },
  {
   "cell_type": "markdown",
   "metadata": {
    "slideshow": {
     "slide_type": "fragment"
    }
   },
   "source": [
    "### back in Terminal:\n",
    "\n",
    "    heroku git:remote -a yourapp\n",
    "    git push heroku master"
   ]
  },
  {
   "cell_type": "markdown",
   "metadata": {
    "slideshow": {
     "slide_type": "fragment"
    }
   },
   "source": [
    "[Et Voila!](https://obscure-dawn-74721.herokuapp.com/)"
   ]
  },
  {
   "cell_type": "markdown",
   "metadata": {
    "slideshow": {
     "slide_type": "slide"
    }
   },
   "source": [
    "## Discussion\n",
    "\n",
    "Deep breath! Think of something calm & soothing. That was a lot to take in!  \n",
    "\n",
    "Let's discuss the process of deploying an interactive app:\n",
    "\n",
    "* Can you imagine a use for this in your lab? Explain...\n",
    "\n",
    "<img src=\"https://ichef.bbci.co.uk/images/ic/640x360/p07j42z8.jpg\" width=\"40%\" style=\"margin-left:auto; margin-right:auto\">\n"
   ]
  },
  {
   "cell_type": "markdown",
   "metadata": {
    "slideshow": {
     "slide_type": "slide"
    }
   },
   "source": [
    "## Wow! You made it through this notebook. You deserve a pat on the back!\n",
    "\n",
    "<img src=\"https://content.techgig.com/photo/80071467/pros-and-cons-of-python-programming-language-that-every-learner-must-know.jpg?132269\" width=\"100%\" style=\"margin-left:auto; margin-right:auto\">"
   ]
  }
 ],
 "metadata": {
  "celltoolbar": "Slideshow",
  "kernelspec": {
   "display_name": "Python 3",
   "language": "python",
   "name": "python3"
  },
  "language_info": {
   "codemirror_mode": {
    "name": "ipython",
    "version": 3
   },
   "file_extension": ".py",
   "mimetype": "text/x-python",
   "name": "python",
   "nbconvert_exporter": "python",
   "pygments_lexer": "ipython3",
   "version": "3.7.6"
  }
 },
 "nbformat": 4,
 "nbformat_minor": 4
}
