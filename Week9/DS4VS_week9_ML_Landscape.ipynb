{
 "cells": [
  {
   "cell_type": "code",
   "execution_count": null,
   "metadata": {},
   "outputs": [],
   "source": []
  },
  {
   "cell_type": "markdown",
   "metadata": {
    "slideshow": {
     "slide_type": "slide"
    }
   },
   "source": [
    "# Week 9: The Machine Learning Landscape"
   ]
  },
  {
   "cell_type": "markdown",
   "metadata": {
    "slideshow": {
     "slide_type": "slide"
    }
   },
   "source": [
    "## A Brief Recap:\n",
    "\n",
    "* How are you?\n",
    "* Today:\n",
    "    - The Machine Learning Landscape (brace yourself: I will just be talking at you for an hour)\n",
    "    - Review of Simple Regression and Logistic Regression\n",
    "* Next Week: Supervised ML for Numerical targets and features\n",
    "* Before we begin:\n",
    "    - Let's talk about your final projects\n",
    "    - Let's talk about some approaches from homework #2"
   ]
  },
  {
   "cell_type": "markdown",
   "metadata": {
    "slideshow": {
     "slide_type": "slide"
    }
   },
   "source": [
    "## The Machine Learning Landscape\n",
    "\n",
    "Take a deep breath and think back to the first day of class..."
   ]
  },
  {
   "cell_type": "markdown",
   "metadata": {
    "slideshow": {
     "slide_type": "fragment"
    }
   },
   "source": [
    "We talked about a prototypical image that circulates in just about every introductory to Data Science text/blog/article/whathaveyou.  \n",
    "\n",
    "We defined **Data Science** as a multi-discipline field where actionable insights are developed from data.\n",
    "\n",
    "<img src=\"https://miro.medium.com/max/1000/1*lws-OQOODF-wP9XLH1NDHQ.png\" width=\"35%\" style=\"margin-left:auto; margin-right:auto\">"
   ]
  },
  {
   "cell_type": "markdown",
   "metadata": {
    "slideshow": {
     "slide_type": "subslide"
    }
   },
   "source": [
    "## Let's expand the Venn diagram...\n",
    "\n",
    "<img src=\"https://pbs.twimg.com/media/DfrqqhlVAAAXW04.jpg\" width=\"75%\" style=\"margin-left:auto; margin-right:auto\">"
   ]
  },
  {
   "cell_type": "markdown",
   "metadata": {
    "slideshow": {
     "slide_type": "subslide"
    }
   },
   "source": [
    "### Unpack, define and discuss some terms...\n",
    "\n",
    "* **Domain Knowledge** - knowledge of a specific, specialized discipline or field"
   ]
  },
  {
   "cell_type": "markdown",
   "metadata": {
    "slideshow": {
     "slide_type": "fragment"
    }
   },
   "source": [
    "* **Data Mining** - extracting information (patterns & knowledge) from a large dataset and tranforming the finding to a tractable format for future use."
   ]
  },
  {
   "cell_type": "markdown",
   "metadata": {
    "slideshow": {
     "slide_type": "fragment"
    }
   },
   "source": [
    "* **Predictive Analytics** - draws from several domains (e.g. pattern recognitions & modeling) of machine learning and uses existing data to make predictions about future observations"
   ]
  },
  {
   "cell_type": "markdown",
   "metadata": {
    "slideshow": {
     "slide_type": "fragment"
    }
   },
   "source": [
    "* **Pattern Recognition** - automated identification of patterns and regularities in data"
   ]
  },
  {
   "cell_type": "markdown",
   "metadata": {
    "slideshow": {
     "slide_type": "fragment"
    }
   },
   "source": [
    "* **Cognitive Computing** - computational simulations of aspects of human cognition"
   ]
  },
  {
   "cell_type": "markdown",
   "metadata": {
    "slideshow": {
     "slide_type": "subslide"
    }
   },
   "source": [
    "### Nested Fields\n",
    "\n",
    "Let's discuss the hierarchical relation of a few of these terms:  \n",
    "\n",
    "* How does Data Analysis relate to Traditional Research?\n",
    "* How does Pattern Recognition relate to Modeling?\n",
    "\n",
    "<img src=\"https://m.media-amazon.com/images/I/71joVuAkkuL._AC_SX425_.jpg\" width=\"40%\" style=\"margin-left:auto; margin-right:auto\">"
   ]
  },
  {
   "cell_type": "markdown",
   "metadata": {
    "slideshow": {
     "slide_type": "slide"
    }
   },
   "source": [
    "## Artificial Intelligence\n",
    "\n",
    "Intelligence demonstrated by unnaturally intelligent systems. Leveraging technology to mimic the problem-solving and decision-making processes that come naturally to humans.\n",
    "\n",
    "AI is a very broad term which encompasses any technology enabled to be adaptive to it's environment\n",
    "\n",
    "Obligatory scifi/futuristic/robotic picture:\n",
    "<img src=\"https://www.blog.adva.com/-/media/blog/header-images/2020/200826-artificial-intelligence-machine-learning-min.jpg?rev=62ab2be4b57d42328647d19d75566d1f&hash=B613A4A799AA2AFED56F73E9325AB268\" width=\"40%\" style=\"margin-left:auto; margin-right:auto\">"
   ]
  },
  {
   "cell_type": "markdown",
   "metadata": {
    "slideshow": {
     "slide_type": "subslide"
    }
   },
   "source": [
    "## AI: the oldest new field\n",
    "\n",
    "The term 'Artificial Intelligence' was first coined in 1956 during the first ever AI conference. This movement was largely in reaction to Alan Turing's book *Computing Machinery and Intelligence* (1950)  \n",
    "\n",
    "<img src=\"https://media.wired.co.uk/photos/606da50c7aff197af7c72f85/16:9/w_1920,h_1080,c_limit/turingtest.jpg\" width=\"50%\" style=\"margin-left:auto; margin-right:auto\">"
   ]
  },
  {
   "cell_type": "markdown",
   "metadata": {
    "slideshow": {
     "slide_type": "slide"
    }
   },
   "source": [
    "## Machine Learning\n",
    "\n",
    "**Machine Learning** - programming computers to learn from data\n",
    "\n",
    "But what is meant by 'learning'?"
   ]
  },
  {
   "cell_type": "markdown",
   "metadata": {
    "slideshow": {
     "slide_type": "fragment"
    }
   },
   "source": [
    "Learning refer's to an ML algorithm's ability to: \n",
    "\n",
    "* train a model to capture patterns in data\n",
    "* evaluate the performance of the model\n",
    "* make predictions on unseen data\n",
    "* importantly: the 'rules' for prediction/inference are not hard-coded, but learned by the algorithm"
   ]
  },
  {
   "cell_type": "markdown",
   "metadata": {
    "slideshow": {
     "slide_type": "fragment"
    }
   },
   "source": [
    "**algorithm** - a sequence of instructions to be carried out to transform an input to a desired output"
   ]
  },
  {
   "cell_type": "markdown",
   "metadata": {
    "slideshow": {
     "slide_type": "subslide"
    }
   },
   "source": [
    "## Classic Machine Learning examples: \n",
    "\n",
    "* **Spam Detection**\n",
    "    - MAPS: Mail Abuse Prevention Systems (1996)\n",
    "    - SpamAssassin (2001)\n",
    "    - [A Plan for Spam](http://www.paulgraham.com/spam.html)\n",
    "* [**Detecting Credit Card Fraud**](https://arxiv.org/pdf/2108.10005.pdf)\n",
    "* **Natural Language Processing (NLP) applications**\n",
    "    - text classification\n",
    "    - chatbots\n",
    "* **Image Classification**\n",
    "    - [MNIST](http://yann.lecun.com/exdb/mnist/)\n",
    "* **Revenue Forecasting**"
   ]
  },
  {
   "cell_type": "markdown",
   "metadata": {
    "slideshow": {
     "slide_type": "slide"
    }
   },
   "source": [
    "## Machine Learning learning from Neuroscience\n",
    "\n",
    "When early AI & ML researchers set out to create 'machines that could think' they turned to what was known of the brain for inspiration.  \n",
    "\n",
    "* 1943 - [The Logical Calculus of Nervous Activity](https://jontalle.web.engr.illinois.edu/uploads/498-NS.19/McCulloch-Pitts-1943-neural-networks.pdf)\n",
    "    - artificial neuron: one or more on/off inputs and one binary output\n",
    "* 1957 - [the Perceptron](https://psycnet.apa.org/record/1959-09865-001)\n",
    "    - threshold logic unit: inputs have weights & output is a scalar\n",
    "* 1969 - [Multilayered Perceptron](https://www.google.com/books/edition/Perceptrons/PLQ5DwAAQBAJ?hl=en&gbpv=1&dq=multilayer+perceptron+minsky&pg=PR5&printsec=frontcover)\n",
    "* the 70s - backpropagation\n",
    "* 1980 - [The Neocognitron](https://www.cs.princeton.edu/courses/archive/spr08/cos598B/Readings/Fukushima1980.pdf)\n",
    "    - cascading model that was directly inspired by H&W's simple/complex cell V1 architecture; the neocognitron is thought to be the inspiration for CNNs"
   ]
  },
  {
   "cell_type": "markdown",
   "metadata": {
    "slideshow": {
     "slide_type": "slide"
    }
   },
   "source": [
    "## Neuroscience learning from Machine Learning \n",
    "\n",
    "Conversely, there are also instances where machine learning provides a functional metaphore for discoveries in neuroscience: \n",
    "\n",
    "* Reinforcement Learning used to explain the reward-prediction error for learning in the basal ganglia (Schulz)\n",
    "* Representational Learning used to explain V1 RF properties to natural stimuli (Olshausen)\n",
    "* Perceptron learning corresponds to models of learning in the cerebellum (Albus)\n",
    "\n",
    "\n",
    "Pillow, Jonathan, and Maneesh Sahani. \"Editorial overview: Machine learning, big data, and neuroscience.\" Curr. Opin. Neurobiol 55 (2019)."
   ]
  },
  {
   "cell_type": "markdown",
   "metadata": {
    "slideshow": {
     "slide_type": "subslide"
    }
   },
   "source": [
    "## Machine Learning Applications in Neuroscience\n",
    "\n",
    "While ML has directly influenced models of neural function, more prevalent is the use of ML techniques to tackle the massive amounts of data that modern neuroscience generates.  \n",
    "\n",
    "Recently there has been a dramatic increase in Machine Learning applications in biology.  \n",
    "The figure below demonstrates an exponential growth of publications that intersect the fields of both machine learning and biology.\n",
    "\n",
    "<img src=\"https://raw.githubusercontent.com/SmilodonCub/DS4VS/master/Week9/DOME.png\" width=\"70%\" style=\"margin-left:auto; margin-right:auto\">\n",
    "\n",
    "Walsh, Ian, et al. \"DOME: recommendations for supervised machine learning validation in biology.\" Nature methods (2021): 1-6.\n"
   ]
  },
  {
   "cell_type": "markdown",
   "metadata": {
    "slideshow": {
     "slide_type": "slide"
    }
   },
   "source": [
    "### The Machine Learning Landscape\n",
    "\n",
    "<img src=\"https://miro.medium.com/max/2000/1*ak2utPSmFTOMoZL3mTgWrg.png\" width=\"60%\" style=\"margin-left:auto; margin-right:auto\">"
   ]
  },
  {
   "cell_type": "markdown",
   "metadata": {
    "slideshow": {
     "slide_type": "subslide"
    }
   },
   "source": [
    "### Supervised vs Unsupervised vs ...\n",
    "\n",
    "**Supervised Learning** - labeled outcomes for the dataset; we are provided an measurement for the response (target variable) associated with each record in the dataset  \n",
    "**Unsupervised Learning** - the data lacks a response variable to 'supervise' the training of our model  \n",
    "**Reinforcement Learning** - model development is rewarded for correct classifications/predictions and/or penalized for incorrect results.  \n",
    "**Ensemble Learning** - multiple models and/or modelling approaches are combined to inform a final model  \n"
   ]
  },
  {
   "cell_type": "markdown",
   "metadata": {
    "slideshow": {
     "slide_type": "slide"
    }
   },
   "source": [
    "### DS4VS ML Adventure\n",
    "\n",
    "We will survey several key ML approaches over the next 6 weeks:\n",
    "\n",
    "* Introduction: simple linear & logistic regression \n",
    "* Supervised Learning: Regression (numeric target)\n",
    "* Supervised Learning: Classification (categorical target)\n",
    "* Unsupervised Learning: Dimensionality Reduction (numeric target)\n",
    "* Unsupervised Learning: Clustering (categorical target)\n",
    "* Bonus Week: Overview of Neural Nets"
   ]
  },
  {
   "cell_type": "markdown",
   "metadata": {
    "slideshow": {
     "slide_type": "slide"
    }
   },
   "source": [
    "### Setting our intent\n",
    "\n",
    "Let's be real: we have 6 weeks to talk about Machine Learning. We simply cannot cover every algorithm. Nore can we go into many approaches in granular detail.  \n",
    "\n",
    "We are going to take an approach inspired by the [ISLR](https://www.statlearning.com/), a very influential statistical learning book. The authors of ISLR recognised that many software packages (they were forcused on `R`, but the same can be said for Python) have 'significantly eased the burden' of implementing statistical learning methods  \n",
    "\n",
    "**On becoming informed users**:  \n",
    "\n",
    "<blockquote>In teaching these topics over the years, we have discovered that they are\n",
    "of interest to master’s and PhD students in fields as disparate as business\n",
    "administration, biology, and computer science, as well as to quantitatively \n",
    "oriented upper-division undergraduates. It is important for this diverse\n",
    "group to be able to understand the models, intuitions, and strengths and\n",
    "weaknesses of the various approaches. But for this audience, many of the\n",
    "technical details behind statistical learning methods, such as optimization \n",
    "algorithms and theoretical properties, are not of primary interest.\n",
    "We believe that these students do not need a deep understanding of these\n",
    "aspects in order to become informed users of the various methodologies, and\n",
    "in order to contribute to their chosen fields through the use of statistical\n",
    "learning tools</blockquote>"
   ]
  },
  {
   "cell_type": "markdown",
   "metadata": {
    "slideshow": {
     "slide_type": "slide"
    }
   },
   "source": [
    "## Now that we have had an introductory talk about ML, let's dive in to perhaps the most simple ML applications: simple linear & binary logistic regression\n",
    "<img src=\"https://content.techgig.com/photo/80071467/pros-and-cons-of-python-programming-language-that-every-learner-must-know.jpg?132269\" width=\"100%\" style=\"margin-left:auto; margin-right:auto\">"
   ]
  }
 ],
 "metadata": {
  "celltoolbar": "Slideshow",
  "kernelspec": {
   "display_name": "Python 3",
   "language": "python",
   "name": "python3"
  },
  "language_info": {
   "codemirror_mode": {
    "name": "ipython",
    "version": 3
   },
   "file_extension": ".py",
   "mimetype": "text/x-python",
   "name": "python",
   "nbconvert_exporter": "python",
   "pygments_lexer": "ipython3",
   "version": "3.7.6"
  }
 },
 "nbformat": 4,
 "nbformat_minor": 4
}
