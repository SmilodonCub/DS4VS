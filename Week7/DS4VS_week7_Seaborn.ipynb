{
 "cells": [
  {
   "cell_type": "code",
   "execution_count": null,
   "metadata": {},
   "outputs": [],
   "source": []
  },
  {
   "cell_type": "markdown",
   "metadata": {
    "slideshow": {
     "slide_type": "slide"
    }
   },
   "source": [
    "# Week 7: Data Visualization\n",
    "## `Seaborn` "
   ]
  },
  {
   "cell_type": "markdown",
   "metadata": {
    "slideshow": {
     "slide_type": "slide"
    }
   },
   "source": [
    "## Building on `matplotlib`\n",
    "\n",
    "`matplotlib` was built to emulate `MATLAB`'s plotting functinality.  \n",
    "\n",
    "Let's take a quick pole of the room....  \n",
    "If you are a `MATLAB` user and you actually like plotting in `MATLAB`, raise your hand..."
   ]
  },
  {
   "cell_type": "markdown",
   "metadata": {
    "slideshow": {
     "slide_type": "subslide"
    }
   },
   "source": [
    "<img src=\"https://memegenerator.net/img/instances/60808274/crickets-chirping-awful-quiet-round-here.jpg\" width=\"80%\" style=\"margin-left:auto; margin-right:auto\">"
   ]
  },
  {
   "cell_type": "markdown",
   "metadata": {
    "slideshow": {
     "slide_type": "slide"
    }
   },
   "source": [
    "## [Seaborn](https://seaborn.pydata.org/)\n",
    "\n",
    "* a Pythion visualization library built on top of `matplotlib`\n",
    "* a 'higher level' UI\n",
    "* aesthetic as the default\n",
    "\n",
    "<img src=\"https://pbs.twimg.com/media/EhGuwXWXgAEERcn.png\" width=\"30%\" style=\"margin-left:auto; margin-right:auto\">"
   ]
  },
  {
   "cell_type": "markdown",
   "metadata": {
    "slideshow": {
     "slide_type": "subslide"
    }
   },
   "source": [
    "## Let's see how Seaborn makes this easy..."
   ]
  },
  {
   "cell_type": "code",
   "execution_count": null,
   "metadata": {},
   "outputs": [],
   "source": [
    "# to get started\n",
    "import matplotlib.pyplot as plt\n",
    "import seaborn as sns\n",
    "import pandas as pd\n",
    "import numpy as np"
   ]
  },
  {
   "cell_type": "markdown",
   "metadata": {
    "slideshow": {
     "slide_type": "subslide"
    }
   },
   "source": [
    "## revisit the Pima Indians dataset"
   ]
  },
  {
   "cell_type": "code",
   "execution_count": null,
   "metadata": {},
   "outputs": [],
   "source": [
    "path = 'https://raw.githubusercontent.com/SmilodonCub/DS4VS/master/datasets/diabetes.csv'\n",
    "diabetes_pima = pd.read_csv( path )\n",
    "pimacolumns_2change = ['Glucose', 'BloodPressure', 'SkinThickness', 'Insulin', 'BMI']\n",
    "diabetes_pima[ pimacolumns_2change ] = diabetes_pima[ pimacolumns_2change ].replace(0, np.nan )\n",
    "diabetes_pima.head()"
   ]
  },
  {
   "cell_type": "code",
   "execution_count": null,
   "metadata": {
    "slideshow": {
     "slide_type": "subslide"
    }
   },
   "outputs": [],
   "source": [
    "sns.scatterplot(x=\"Age\", y=\"DiabetesPedigreeFunction\", hue=\"Outcome\", data=diabetes_pima)\n",
    "plt.show()"
   ]
  },
  {
   "cell_type": "markdown",
   "metadata": {
    "slideshow": {
     "slide_type": "fragment"
    }
   },
   "source": [
    "a relatively simple call produces an arguably 'prettier' plot from fewer lines of code than `matplotlib`"
   ]
  },
  {
   "cell_type": "markdown",
   "metadata": {
    "slideshow": {
     "slide_type": "slide"
    }
   },
   "source": [
    "## The Messidor Diabetic Retinopathy Debrecan dataset\n",
    "\n",
    "a dataset that contains features extracted from the Messidor image set to predict whether an image contains signs of diabetic retinopathy or not. (this is not the image dataset) [For more information ](https://archive.ics.uci.edu/ml/datasets/Diabetic+Retinopathy+Debrecen+Data+Set)[here is a publication](https://arxiv.org/pdf/1410.8576v1.pdf)"
   ]
  },
  {
   "cell_type": "code",
   "execution_count": null,
   "metadata": {},
   "outputs": [],
   "source": [
    "columns = [ 'quality', 'prescreen_result', \n",
    "           'MA_05', 'MA_06', 'MA_07', 'MA_08', 'MA_09', 'MA_10',\n",
    "           'EP_03', 'EP_04', 'EP_05', 'EP_06', 'EP_07', 'EP_08', 'EP_09', 'EP_10', \n",
    "           'macula2OD', 'OD_diameter', 'AM_FM_class', 'DR_classification']\n",
    "\n",
    "# MA == microaneurysm\n",
    "# EP == exudate pixels\n",
    "url = 'https://raw.githubusercontent.com/SmilodonCub/DS4VS/master/datasets/messidor_features.csv'\n",
    "DR_df = pd.read_csv( url, names = columns )\n",
    "\n",
    "print( DR_df.shape )\n",
    "DR_df.head()"
   ]
  },
  {
   "cell_type": "markdown",
   "metadata": {
    "slideshow": {
     "slide_type": "subslide"
    }
   },
   "source": [
    "## Let's do some light EDA on the set"
   ]
  },
  {
   "cell_type": "code",
   "execution_count": null,
   "metadata": {},
   "outputs": [],
   "source": [
    "DR_df.info()\n",
    "#DR_df.describe()"
   ]
  },
  {
   "cell_type": "markdown",
   "metadata": {
    "slideshow": {
     "slide_type": "subslide"
    }
   },
   "source": [
    "### use `Seaborn` to explore features ~ `DR_classification`\n",
    "\n",
    "this is an interesting dataset. I promise we will pick it apart when we go over machine learning, but for now, let's just visually explore the data using `Seaborn`"
   ]
  },
  {
   "cell_type": "code",
   "execution_count": null,
   "metadata": {},
   "outputs": [],
   "source": [
    "# optic disc diameter ~ DR_classification\n",
    "sns.boxplot( x = 'DR_classification', y = 'OD_diameter', data = DR_df )\n",
    "plt.show()"
   ]
  },
  {
   "cell_type": "code",
   "execution_count": null,
   "metadata": {
    "slideshow": {
     "slide_type": "subslide"
    }
   },
   "outputs": [],
   "source": [
    "# optic disc diameter ~ DR_classification\n",
    "sns.boxplot( x = 'DR_classification', y = 'macula2OD', data = DR_df )\n",
    "plt.show()"
   ]
  },
  {
   "cell_type": "markdown",
   "metadata": {
    "slideshow": {
     "slide_type": "slide"
    }
   },
   "source": [
    "## Pivot Long - reshape the data facilitate a facetted plot"
   ]
  },
  {
   "cell_type": "code",
   "execution_count": null,
   "metadata": {},
   "outputs": [],
   "source": [
    "DR_df['case'] = DR_df.index\n",
    "melted_DR = pd.melt( DR_df, id_vars = ['case', 'DR_classification'], \n",
    "        value_vars = ['MA_05', 'MA_06', 'MA_07', 'MA_08', 'MA_09', 'MA_10'])\n",
    "melted_DR.head( 15 )"
   ]
  },
  {
   "cell_type": "code",
   "execution_count": null,
   "metadata": {
    "scrolled": false,
    "slideshow": {
     "slide_type": "subslide"
    }
   },
   "outputs": [],
   "source": [
    "sns.catplot(data=melted_DR, x='DR_classification', y='value',col='variable', kind='box', col_wrap=2 )\n",
    "plt.show()"
   ]
  },
  {
   "cell_type": "markdown",
   "metadata": {
    "slideshow": {
     "slide_type": "slide"
    }
   },
   "source": [
    "## Now you try!\n",
    "\n",
    "pivoting data wide to long:\n",
    "\n",
    "1. melt `DR_df` for the 'exudate pixels' (EP_) columns\n",
    "    * id_vars: columns to remain as index (rows\n",
    "    * value_vars: columns to be 'melted' across new rows\n",
    "2. visualize a facited boxplot for each EP alpha level by the target varaible, `DR_classifcation`"
   ]
  },
  {
   "cell_type": "code",
   "execution_count": null,
   "metadata": {},
   "outputs": [],
   "source": [
    "# use this space here. feel free to copy/pasta "
   ]
  },
  {
   "cell_type": "markdown",
   "metadata": {
    "slideshow": {
     "slide_type": "slide"
    }
   },
   "source": [
    "## Use `Seaborn` to explore some fMRI data"
   ]
  },
  {
   "cell_type": "code",
   "execution_count": null,
   "metadata": {},
   "outputs": [],
   "source": [
    "# this dataset is an example set that comes with your installation of Seaborn\n",
    "fmri_df = sns.load_dataset( 'fmri' )\n",
    "print( fmri_df.shape )\n",
    "fmri_df.head()"
   ]
  },
  {
   "cell_type": "code",
   "execution_count": null,
   "metadata": {},
   "outputs": [],
   "source": [
    "# light preprocessing\n",
    "# change the index to subject\n",
    "fmri_df = fmri_df.set_index( 'subject' )"
   ]
  },
  {
   "cell_type": "code",
   "execution_count": null,
   "metadata": {
    "slideshow": {
     "slide_type": "slide"
    }
   },
   "outputs": [],
   "source": [
    "sns.relplot( x = 'timepoint', y = 'signal', hue = 'region', style = 'event', data = fmri_df )\n",
    "plt.show()"
   ]
  },
  {
   "cell_type": "code",
   "execution_count": null,
   "metadata": {
    "slideshow": {
     "slide_type": "slide"
    }
   },
   "outputs": [],
   "source": [
    "sns.relplot( x = 'timepoint', y = 'signal', hue = 'region', style = 'event', data = fmri_df,\n",
    "           kind = 'line' )\n",
    "plt.show()"
   ]
  },
  {
   "cell_type": "code",
   "execution_count": null,
   "metadata": {
    "slideshow": {
     "slide_type": "subslide"
    }
   },
   "outputs": [],
   "source": [
    "sns.relplot(\n",
    "    data=fmri_df, x='timepoint', y='signal',\n",
    "    hue='region', col='event', kind='line', col_wrap=2\n",
    ")\n",
    "plt.show()"
   ]
  },
  {
   "cell_type": "markdown",
   "metadata": {
    "slideshow": {
     "slide_type": "slide"
    }
   },
   "source": [
    "## `Seaborn`  summary\n",
    "\n",
    "Unfortunately, we cannot spend all day exploring `Seaborn`.  \n",
    "However, spend some time exploring the [`Seaborn` Gallery](https://seaborn.pydata.org/examples/index.html) and the [Python Graph Gallery](https://www.python-graph-gallery.com/) for more inspiration"
   ]
  },
  {
   "cell_type": "markdown",
   "metadata": {
    "slideshow": {
     "slide_type": "slide"
    }
   },
   "source": [
    "## so many other libraries...\n",
    "\n",
    "...one of them might be just right for your data:\n",
    "\n",
    "* [Case Studies in Neural Data Analysis](https://mark-kramer.github.io/Case-Studies-Python/intro.html)\n",
    "* [open-neuroscience (python & beyond](https://open-neuroscience.com/)\n",
    "* [MNE-Python for mostly human neurophys data](https://github.com/mne-tools/mne-python)\n",
    "* [Nitime - timeseries analysis for neurodat](https://github.com/nipy/nitime)"
   ]
  },
  {
   "cell_type": "markdown",
   "metadata": {
    "slideshow": {
     "slide_type": "slide"
    }
   },
   "source": [
    "## a parting example\n",
    "\n",
    "the xkcd plotting mode for `matplotlib`"
   ]
  },
  {
   "cell_type": "code",
   "execution_count": null,
   "metadata": {},
   "outputs": [],
   "source": [
    "with plt.xkcd():\n",
    "    \n",
    "    fig = plt.figure()\n",
    "    ax = fig.add_axes((0.1, 0.2, 0.8, 0.7))\n",
    "    ax.set_xticks([])\n",
    "    ax.set_yticks([])\n",
    "    ax.set_ylim([-30, 10])\n",
    "\n",
    "    data = np.ones(100)\n",
    "    data[70:] -= np.arange(30)\n",
    "\n",
    "    ax.annotate(\n",
    "        'THE DAY I STARTED\\nTHE PhD PROGRAM',\n",
    "        xy=(70, 1), arrowprops=dict(arrowstyle='->'), xytext=(15, -10))\n",
    "\n",
    "    ax.plot(data)\n",
    "\n",
    "    ax.set_xlabel('time')\n",
    "    ax.set_ylabel('my overall health')\n",
    "    \n",
    "plt.show()"
   ]
  },
  {
   "cell_type": "markdown",
   "metadata": {
    "slideshow": {
     "slide_type": "slide"
    }
   },
   "source": [
    "<img src=\"https://imgs.xkcd.com/comics/python.png\" width=\"45%\" style=\"margin-left:auto; margin-right:auto\">\n"
   ]
  },
  {
   "cell_type": "markdown",
   "metadata": {
    "slideshow": {
     "slide_type": "slide"
    }
   },
   "source": [
    "\n",
    "## Next week we will build interactive visualizations\n",
    "<img src=\"https://content.techgig.com/photo/80071467/pros-and-cons-of-python-programming-language-that-every-learner-must-know.jpg?132269\" width=\"100%\" style=\"margin-left:auto; margin-right:auto\">"
   ]
  }
 ],
 "metadata": {
  "celltoolbar": "Slideshow",
  "kernelspec": {
   "display_name": "Python 3",
   "language": "python",
   "name": "python3"
  },
  "language_info": {
   "codemirror_mode": {
    "name": "ipython",
    "version": 3
   },
   "file_extension": ".py",
   "mimetype": "text/x-python",
   "name": "python",
   "nbconvert_exporter": "python",
   "pygments_lexer": "ipython3",
   "version": "3.7.6"
  }
 },
 "nbformat": 4,
 "nbformat_minor": 4
}
