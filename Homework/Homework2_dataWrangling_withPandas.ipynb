{
 "cells": [
  {
   "cell_type": "markdown",
   "metadata": {},
   "source": [
    "<br><br>\n",
    "\n",
    "<img src=\"https://raw.githubusercontent.com/SmilodonCub/DS4VS/master/Homework/wranglingdata.png\" width=\"80%\" style=\"margin-left:auto; margin-right:auto\">\n",
    "<img src=\"https://raw.githubusercontent.com/SmilodonCub/DS4VS/master/Homework/withpandas.png\" width=\"50%\" style=\"margin-left:auto; margin-right:auto\">\n",
    "\n"
   ]
  },
  {
   "cell_type": "markdown",
   "metadata": {},
   "source": [
    "\n",
    "<h1><center>Homework 2: bringing data into the Python environment with `pandas` </center></h1>\n",
    "\n",
    "**Data Wrangling** - the process of transforming and/or remapping raw data to a more concise and consolidated format\n",
    "\n",
    "***\n",
    "\n",
    "During Week6's class we working on building functions to wrangle some .txt files into a `pandas` dataframe. The .txt files are real-world psychophysical results from human subjects performing a vernier hyperacuity task. During Week6's lecture, we simply extracted some metadata regarding the collection of the data and some stimulus parameters. For this homework assignment, we will complete the exercise to collect relevant data."
   ]
  },
  {
   "cell_type": "markdown",
   "metadata": {},
   "source": [
    "For this assignment, we will work with some new text data. The data has a familiar format, however, it was collected from a different task. For now, our goal is to import all the data necessary for a downstream exploratory data analysis and store the data as a `pandas` dataframe. We will follow the same basic approach that was given in class."
   ]
  },
  {
   "cell_type": "markdown",
   "metadata": {},
   "source": [
    "The resulting DataFrame should have the following fields:  \n",
    "\n",
    "|    |  **Column Name** | **Element Type** |                                                         **Example**                                                         |\n",
    "|:--:|:----------------:|:----------------:|:---------------------------------------------------------------------------------------------------------------------------:|\n",
    "| 1. |     file_name    |      string      |                                                       're SCSF 1.txt'                                                       |\n",
    "| 2. |   observer_name  |      string      |                                                             're'                                                            |\n",
    "| 3. |   type_grating   |      string      |                                                       'Equiluminance'                                                       |\n",
    "| 4. |   spacial_freq   |       float      |                                                            0.251                                                            |\n",
    "| 5. |  contrast_level  |       float      |                                                             100.                                                            |\n",
    "| 6. |      rgb_min     |       list       |                                                         [0, 107, 0]                                                         |\n",
    "| 7. |      rgb_max     |       list       |                                                         [705, 0, 0]                                                         |\n",
    "| 8. | scase1_reversals |       list       | [ 6.30957, 12.5893, 1.58489, 2.23872,      0.794328, 1.58489, 0.794328, 1.12202,    0.794328, 1.12202, 0.562341, 0.794328 ] |\n",
    "| 9. | scase2_reversals |       list       |  [ 3.16228, 6.30957, 1.58489, 2.23872,   0.562341, 0.794328, 0.562341, 0.794328,    0.562341, 1.12202, 0.794328, 1.12202 ]  |\n"
   ]
  },
  {
   "cell_type": "markdown",
   "metadata": {},
   "source": [
    "<br>\n",
    "\n",
    "## Dependancies"
   ]
  },
  {
   "cell_type": "code",
   "execution_count": 27,
   "metadata": {},
   "outputs": [],
   "source": [
    "# Let's set up with these libraries handy\n",
    "import pandas as pd\n",
    "import numpy as np\n",
    "import matplotlib.pyplot as plt\n",
    "import os"
   ]
  },
  {
   "cell_type": "markdown",
   "metadata": {},
   "source": [
    "<br>\n",
    "\n",
    "## Importing a Text Data and Parsing Relevant Fields\n",
    "\n",
    "These text files are not friendly for use with pandas methods such as `read_csv()`. We will have to bring the data in the old fashioned way. We will open and read the file with build in Python functions."
   ]
  },
  {
   "cell_type": "code",
   "execution_count": 3,
   "metadata": {},
   "outputs": [],
   "source": [
    "# SUBSTITUTE YOUR PATH HERE \n",
    "addy = '/home/bonzilla/Documents/ScienceLife/DS4VS/datasets/SCSF_dat/mj SCSF 87.txt'\n",
    "lines = []\n",
    "fp = open(addy)\n",
    "for line in fp:\n",
    "    lines.append( line )\n",
    "    #print( line )  # UNCOMMENT IF YOU WOULD LIKE TO SEE THE FULL .txt FILE\n",
    "\n",
    "fp.close()"
   ]
  },
  {
   "cell_type": "markdown",
   "metadata": {},
   "source": [
    "<br>\n",
    "\n",
    "The text file is not very large. Nonetheless, we don't need all the information or labels. Here are a few example of how to use some simple string methods to parse the data and metadata we are interested in\n",
    "\n",
    "<br>"
   ]
  },
  {
   "cell_type": "code",
   "execution_count": 4,
   "metadata": {},
   "outputs": [
    {
     "name": "stdout",
     "output_type": "stream",
     "text": [
      "168\n",
      "['EXPERIMENT PARAMETERS:\\n', '\\n', '6/23/2011\\t9:47:56 AM to 9:52:43 AM\\n', 'Observer Name: mj\\n', 'Eye Tested: Left\\n', 'Type of grating: Compound\\n', 'Spatial Frequency(cpd): 0.631\\n', 'DriftVelocity: 0.5\\n', 'Stimuli Eccentricity(deg): 0\\n', 'Viewing Distance(mm): 480\\n', 'Temporal Envelope Type: RaisedCosine\\n', '   Attack/Decay Time (msec): 350\\n', 'Trial Duration (msec): 300\\n', 'Maximum Number of Reversals: 12\\n', 'Number of Staircases: 2\\n', 'Maximal Red, Green, Blue Gun settings are 1.0, 1.0,1.0\\n', '\\n', 'STIMULUS :\\n', '   Contrast Level: 100\\n', '   Color Min: Red: 0  Green: 0  Blue: 0\\n']\n"
     ]
    }
   ],
   "source": [
    "# print out the first 20 lines\n",
    "print( len( lines ) )\n",
    "print( lines[0:20] )"
   ]
  },
  {
   "cell_type": "code",
   "execution_count": 12,
   "metadata": {},
   "outputs": [
    {
     "name": "stdout",
     "output_type": "stream",
     "text": [
      "Observer Name: mj\n",
      "\n",
      "['Observer', 'Name:', 'mj']\n",
      "mj\n",
      "<class 'str'>\n"
     ]
    }
   ],
   "source": [
    "# An example parsing metadata from the text lines\n",
    "\n",
    "print( lines[3] )             # print the 4th line\n",
    "print( lines[3].split() )     # split the 4th line on every space and print the result\n",
    "print( lines[3].split()[2] )  # split the 4th line on every space, select the 3rd element and print it\n",
    "print( type( lines[3].split()[2] ) )"
   ]
  },
  {
   "cell_type": "code",
   "execution_count": 11,
   "metadata": {},
   "outputs": [
    {
     "name": "stdout",
     "output_type": "stream",
     "text": [
      "Spatial Frequency(cpd): 0.631\n",
      "\n",
      "['Spatial', 'Frequency(cpd):', '0.631']\n",
      "0.631\n",
      "<class 'float'>\n"
     ]
    }
   ],
   "source": [
    "# a numeric example\n",
    "\n",
    "print( lines[6] )\n",
    "print( lines[6].split() )\n",
    "res = float( lines[6].split()[2] )\n",
    "print( res )\n",
    "print( type( res ) )"
   ]
  },
  {
   "cell_type": "markdown",
   "metadata": {},
   "source": [
    "<br>\n",
    "\n",
    "2 down!, 8 more data points to go...\n",
    "\n",
    "### Organize the data as a Python `dict`\n",
    "\n",
    "Now to store the parsed fields as key:value pairs in a Python dictionary:"
   ]
  },
  {
   "cell_type": "code",
   "execution_count": 23,
   "metadata": {},
   "outputs": [
    {
     "name": "stdout",
     "output_type": "stream",
     "text": [
      "{'file_name': 'mj SCSF 87.txt', 'observer_name': 'mj', 'type_grating': 'Compound', 'spatial_frequency': 0.631, 'contrast_level': 100.0, 'rgb_min': [0, 0, 0], 'rgb_max': [700, 211, 0], 'scase1_reversals': [3.1622, 6.3095, 3.1622, 4.4668, 3.1622, 4.4668, 3.1622, 6.3095, 4.4668, 6.3095, 4.4668, 6.3095], 'scase2_reversals': [12.589, 25.118, 6.3095, 8.9125, 4.4668, 12.589, 4.4668, 12.589, 8.9125, 12.589, 8.9125, 12.589]}\n"
     ]
    }
   ],
   "source": [
    "# initialize a python dictionary\n",
    "SCSF_dict = {}\n",
    "\n",
    "# add a few fields\n",
    "\n",
    "SCSF_dict['file_name'] = 'mj SCSF 87.txt'\n",
    "# Easy: parse the split element of interest\n",
    "SCSF_dict['observer_name'] = lines[3].split()[2]\n",
    "SCSF_dict['type_grating'] = \n",
    "SCSF_dict['spatial_frequency'] = float( lines[6].split()[2] )\n",
    "SCSF_dict['contrast_level'] = \n",
    "\n",
    "# Moderate: split the string. \n",
    "# add elements of the split result to a list if the element is a digit.\n",
    "SCSF_dict['rgb_min'] = \n",
    "SCSF_dict['rgb_max'] = \n",
    "\n",
    "# Hard: We need to parse out the values for each staircase\n",
    "# after the line 'Staircase completed after XX trials with 12 reversals at :'\n",
    "\n",
    "# staircase1 starts and ends at the same line number in the text file.\n",
    "# However, this is not the case for staircase2. \n",
    "\n",
    "# extract the 12 reversal values for each staircase as lists in floats\n",
    "\n",
    "SCSF_dict['scase1_reversals'] = \n",
    "SCSF_dict['scase2_reversals'] = \n",
    "\n",
    "print( SCSF_dict )"
   ]
  },
  {
   "cell_type": "markdown",
   "metadata": {},
   "source": [
    "<br>\n",
    "\n",
    "## Functionalize your code\n",
    "\n",
    "Write a function that uses code your wrote above the generate the same result:"
   ]
  },
  {
   "cell_type": "code",
   "execution_count": 24,
   "metadata": {},
   "outputs": [],
   "source": [
    "# I suggest the a function that takes two arguments: path & filename\n",
    "# where\n",
    "# path = file location. ex: '/home/bonzilla/Documents/ScienceLife/DS4VS/datasets/SCSF_dat/'\n",
    "# filename = name of the text file. ex: 'mj SCSF 87.txt'\n",
    "# however, you can change this\n",
    "\n",
    "def SCSF_txt2dict( path, filename ):\n",
    "    \"\"\"\n",
    "    helper function to extract data and task metadata from a BBL .txt file\n",
    "    \"\"\"\n",
    "    # read lines into python environment\n",
    "    file_address = path + filename\n",
    "    \n",
    "    SCSF_dict = {}\n",
    "    # pull info of interest and store as a python dictionary\n",
    "    \n",
    "    # return the data dictionary\n",
    "    return SCSF_dict"
   ]
  },
  {
   "cell_type": "code",
   "execution_count": 26,
   "metadata": {},
   "outputs": [
    {
     "name": "stdout",
     "output_type": "stream",
     "text": [
      "<class 'dict'>\n",
      "dict_keys(['file_name', 'observer_name', 'type_grating', 'spatial_frequency', 'contrast_level', 'rgb_min', 'rgb_max', 'scase1_reversals', 'scase2_reversals'])\n",
      "{'file_name': 'mj SCSF 87.txt', 'observer_name': 'mj', 'type_grating': 'Compound', 'spatial_frequency': 0.631, 'contrast_level': 100.0, 'rgb_min': [0, 0, 0], 'rgb_max': [700, 211, 0], 'scase1_reversals': [3.1622, 6.3095, 3.1622, 4.4668, 3.1622, 4.4668, 3.1622, 6.3095, 4.4668, 6.3095, 4.4668, 6.3095], 'scase2_reversals': [12.589, 25.118, 6.3095, 8.9125, 4.4668, 12.589, 4.4668, 12.589, 8.9125, 12.589, 8.9125, 12.589]}\n"
     ]
    }
   ],
   "source": [
    "# Test the function out\n",
    "path = # ex: '/home/bonzilla/Documents/ScienceLife/DS4VS/datasets/SCSF_dat/'\n",
    "filename = # ex: 'mj SCSF 87.txt'\n",
    "res = SCSF_txt2dict( path, filename ) # update if your function takes other parameters\n",
    "\n",
    "print( type( res ) )\n",
    "print( res.keys() )\n",
    "print( res )"
   ]
  },
  {
   "cell_type": "markdown",
   "metadata": {},
   "source": [
    "<br>\n",
    "\n",
    "## So many files, so little time\n",
    "\n",
    "Let's generate a list to hold the names of all the text files in our folder. Finding the length of this list will tell us how much data we have to deal with\n"
   ]
  },
  {
   "cell_type": "code",
   "execution_count": 29,
   "metadata": {},
   "outputs": [
    {
     "name": "stdout",
     "output_type": "stream",
     "text": [
      "391\n"
     ]
    }
   ],
   "source": [
    "file_names = os.listdir( path )\n",
    "print( len( file_names ) )\n",
    "# print( file_names ) if you dare"
   ]
  },
  {
   "cell_type": "markdown",
   "metadata": {},
   "source": [
    "WOW!, Okay. that's quite a few. Thankfully we have functionalized our code, so we can have Python do all the work of extracting out data\n",
    "\n",
    "Write a `for` loop to iterate over all the files in `file_names`.\n",
    "Print the result of each iteration"
   ]
  },
  {
   "cell_type": "code",
   "execution_count": null,
   "metadata": {},
   "outputs": [],
   "source": [
    "# for each file in file_names:\n",
    "    # apply out new function SCSF_txt2dict()\n",
    "    # print the result"
   ]
  },
  {
   "cell_type": "markdown",
   "metadata": {},
   "source": [
    "<br>\n",
    "\n",
    "## Functionalize the iteration process and return a `pandas` DataFrame\n",
    "\n",
    "It's doesn't help us much to have hundreds of individual dictionaries floating around.  \n",
    "That's very disorganized!  \n",
    "\n",
    "Next we will write a function that will handle the process of iterating over all the files in our data folder and consolidating the outcomes as rows in a dataframe"
   ]
  },
  {
   "cell_type": "code",
   "execution_count": 35,
   "metadata": {},
   "outputs": [],
   "source": [
    "def SCSF_text2df( path, extension ):\n",
    "    \"\"\"\n",
    "    given a folder 'path' (str) and file 'extension' (str),\n",
    "    SCSF_txt2df() returns a pandas DataFrame that consolidates\n",
    "    the dict fields from SCSF_txt2dict()\n",
    "    \"\"\"\n",
    "    # a list of data files to iterate over\n",
    "    files = \n",
    "    \n",
    "    # iterate over \n",
    "    dict_list = []\n",
    "    for file in files:\n",
    "        # generate a dictionary result for this file\n",
    "        # append the result to dict_list\n",
    "    \n",
    "    # pass your list of dictionaries to pd.DataFrame to create your dataframe\n",
    "    \n",
    "    # return the result\n",
    "    return data_df"
   ]
  },
  {
   "cell_type": "code",
   "execution_count": 38,
   "metadata": {},
   "outputs": [
    {
     "name": "stdout",
     "output_type": "stream",
     "text": [
      "<class 'pandas.core.frame.DataFrame'>\n",
      "(391, 9)\n",
      "<class 'pandas.core.frame.DataFrame'>\n",
      "RangeIndex: 391 entries, 0 to 390\n",
      "Data columns (total 9 columns):\n",
      " #   Column             Non-Null Count  Dtype  \n",
      "---  ------             --------------  -----  \n",
      " 0   file_name          391 non-null    object \n",
      " 1   observer_name      391 non-null    object \n",
      " 2   type_grating       391 non-null    object \n",
      " 3   spatial_frequency  391 non-null    float64\n",
      " 4   contrast_level     391 non-null    float64\n",
      " 5   rgb_min            391 non-null    object \n",
      " 6   rgb_max            391 non-null    object \n",
      " 7   scase1_reversals   391 non-null    object \n",
      " 8   scase2_reversals   391 non-null    object \n",
      "dtypes: float64(2), object(7)\n",
      "memory usage: 27.6+ KB\n",
      "None\n"
     ]
    },
    {
     "data": {
      "text/html": [
       "<div>\n",
       "<style scoped>\n",
       "    .dataframe tbody tr th:only-of-type {\n",
       "        vertical-align: middle;\n",
       "    }\n",
       "\n",
       "    .dataframe tbody tr th {\n",
       "        vertical-align: top;\n",
       "    }\n",
       "\n",
       "    .dataframe thead th {\n",
       "        text-align: right;\n",
       "    }\n",
       "</style>\n",
       "<table border=\"1\" class=\"dataframe\">\n",
       "  <thead>\n",
       "    <tr style=\"text-align: right;\">\n",
       "      <th></th>\n",
       "      <th>file_name</th>\n",
       "      <th>observer_name</th>\n",
       "      <th>type_grating</th>\n",
       "      <th>spatial_frequency</th>\n",
       "      <th>contrast_level</th>\n",
       "      <th>rgb_min</th>\n",
       "      <th>rgb_max</th>\n",
       "      <th>scase1_reversals</th>\n",
       "      <th>scase2_reversals</th>\n",
       "    </tr>\n",
       "  </thead>\n",
       "  <tbody>\n",
       "    <tr>\n",
       "      <th>0</th>\n",
       "      <td>mj SCSF 17.txt</td>\n",
       "      <td>mj</td>\n",
       "      <td>Equiluminance</td>\n",
       "      <td>0.631</td>\n",
       "      <td>100.0</td>\n",
       "      <td>[0, 211, 0]</td>\n",
       "      <td>[700, 0, 0]</td>\n",
       "      <td>[12.589, 50.118, 1.5848, 2.2387, 1.122, 2.2387...</td>\n",
       "      <td>[0.79432, 3.1622, 1.122, 1.5848, 1.122, 1.5848...</td>\n",
       "    </tr>\n",
       "    <tr>\n",
       "      <th>1</th>\n",
       "      <td>kh SCSF 67.txt</td>\n",
       "      <td>kh</td>\n",
       "      <td>Equiluminance</td>\n",
       "      <td>1.585</td>\n",
       "      <td>100.0</td>\n",
       "      <td>[0, 0]</td>\n",
       "      <td>[705, 0, 0]</td>\n",
       "      <td>[50.118, 12.589, 25.118, 17.782, 35.481, 25.11...</td>\n",
       "      <td>[50.118, 12.589, 35.481, 17.782, 35.481, 25.11...</td>\n",
       "    </tr>\n",
       "    <tr>\n",
       "      <th>2</th>\n",
       "      <td>mj SCSF 73.txt</td>\n",
       "      <td>mj</td>\n",
       "      <td>Compound</td>\n",
       "      <td>0.398</td>\n",
       "      <td>100.0</td>\n",
       "      <td>[0, 0, 0]</td>\n",
       "      <td>[700, 211, 0]</td>\n",
       "      <td>[6.3095, 25.118, 1.5848, 2.2387, 0.56234, 0.79...</td>\n",
       "      <td>[3.1622, 12.589, 6.3095, 8.9125, 0.56234, 0.79...</td>\n",
       "    </tr>\n",
       "    <tr>\n",
       "      <th>3</th>\n",
       "      <td>re SCSF 198.txt</td>\n",
       "      <td>re</td>\n",
       "      <td>Compound</td>\n",
       "      <td>0.631</td>\n",
       "      <td>100.0</td>\n",
       "      <td>[0, 0, 0]</td>\n",
       "      <td>[1000, 152, 0]</td>\n",
       "      <td>[1.5848, 3.1622, 1.122, 2.2387, 1.5848, 2.2387...</td>\n",
       "      <td>[1.5848, 12.589, 1.5848, 2.2387, 1.122, 1.5848...</td>\n",
       "    </tr>\n",
       "    <tr>\n",
       "      <th>4</th>\n",
       "      <td>re SCSF 153.txt</td>\n",
       "      <td>re</td>\n",
       "      <td>Compound</td>\n",
       "      <td>1.585</td>\n",
       "      <td>100.0</td>\n",
       "      <td>[0, 0, 0]</td>\n",
       "      <td>[1000, 152, 0]</td>\n",
       "      <td>[0.79432, 3.1622, 2.2387, 4.4668, 3.1622, 8.91...</td>\n",
       "      <td>[1.5848, 6.3095, 3.1622, 4.4668, 3.1622, 6.309...</td>\n",
       "    </tr>\n",
       "  </tbody>\n",
       "</table>\n",
       "</div>"
      ],
      "text/plain": [
       "         file_name observer_name   type_grating  spatial_frequency  \\\n",
       "0   mj SCSF 17.txt            mj  Equiluminance              0.631   \n",
       "1   kh SCSF 67.txt            kh  Equiluminance              1.585   \n",
       "2   mj SCSF 73.txt            mj       Compound              0.398   \n",
       "3  re SCSF 198.txt            re       Compound              0.631   \n",
       "4  re SCSF 153.txt            re       Compound              1.585   \n",
       "\n",
       "   contrast_level      rgb_min         rgb_max  \\\n",
       "0           100.0  [0, 211, 0]     [700, 0, 0]   \n",
       "1           100.0       [0, 0]     [705, 0, 0]   \n",
       "2           100.0    [0, 0, 0]   [700, 211, 0]   \n",
       "3           100.0    [0, 0, 0]  [1000, 152, 0]   \n",
       "4           100.0    [0, 0, 0]  [1000, 152, 0]   \n",
       "\n",
       "                                    scase1_reversals  \\\n",
       "0  [12.589, 50.118, 1.5848, 2.2387, 1.122, 2.2387...   \n",
       "1  [50.118, 12.589, 25.118, 17.782, 35.481, 25.11...   \n",
       "2  [6.3095, 25.118, 1.5848, 2.2387, 0.56234, 0.79...   \n",
       "3  [1.5848, 3.1622, 1.122, 2.2387, 1.5848, 2.2387...   \n",
       "4  [0.79432, 3.1622, 2.2387, 4.4668, 3.1622, 8.91...   \n",
       "\n",
       "                                    scase2_reversals  \n",
       "0  [0.79432, 3.1622, 1.122, 1.5848, 1.122, 1.5848...  \n",
       "1  [50.118, 12.589, 35.481, 17.782, 35.481, 25.11...  \n",
       "2  [3.1622, 12.589, 6.3095, 8.9125, 0.56234, 0.79...  \n",
       "3  [1.5848, 12.589, 1.5848, 2.2387, 1.122, 1.5848...  \n",
       "4  [1.5848, 6.3095, 3.1622, 4.4668, 3.1622, 6.309...  "
      ]
     },
     "execution_count": 38,
     "metadata": {},
     "output_type": "execute_result"
    }
   ],
   "source": [
    "# Try your function out!\n",
    "# Print basic descriptions of the data\n",
    "\n",
    "res = SCSF_text2df( path, '.txt' )\n",
    "\n",
    "print( res.shape )\n",
    "print( res.info() )\n",
    "res.head()"
   ]
  },
  {
   "cell_type": "markdown",
   "metadata": {},
   "source": [
    "<br>\n",
    "\n",
    "## et Voila!\n",
    "\n",
    "You took hundreds of text files, parsed the information you were after, and organized the data as a `pandas` DataFrame.  \n",
    "\n",
    "The next step would be to apply the same principles to your own data.  "
   ]
  },
  {
   "cell_type": "markdown",
   "metadata": {},
   "source": [
    "<br><br>"
   ]
  }
 ],
 "metadata": {
  "kernelspec": {
   "display_name": "Python 3",
   "language": "python",
   "name": "python3"
  },
  "language_info": {
   "codemirror_mode": {
    "name": "ipython",
    "version": 3
   },
   "file_extension": ".py",
   "mimetype": "text/x-python",
   "name": "python",
   "nbconvert_exporter": "python",
   "pygments_lexer": "ipython3",
   "version": "3.7.6"
  }
 },
 "nbformat": 4,
 "nbformat_minor": 4
}
