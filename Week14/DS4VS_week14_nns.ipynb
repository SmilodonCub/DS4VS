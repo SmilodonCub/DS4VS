{
 "cells": [
  {
   "cell_type": "markdown",
   "id": "249b9306",
   "metadata": {
    "slideshow": {
     "slide_type": "slide"
    }
   },
   "source": [
    "# Week 14: an overview of Neural Networks and Deep Learning"
   ]
  },
  {
   "cell_type": "markdown",
   "id": "5ef247fb",
   "metadata": {
    "slideshow": {
     "slide_type": "slide"
    }
   },
   "source": [
    "## Brief Recap:\n",
    "\n",
    "* Hello, how are you?\n",
    "* Today: An overview of Neural Nets and Deep Learning\n",
    "* Next Class: I will listen to you!: Presentation time\n",
    "* After presentations I will spend the second half talking about the homeworks"
   ]
  },
  {
   "cell_type": "markdown",
   "id": "c3a48908",
   "metadata": {
    "slideshow": {
     "slide_type": "slide"
    }
   },
   "source": [
    "## Neural Networks & Deep Learning\n",
    "\n",
    "* 1943 - [The Logical Calculus of Nervous Activity](https://jontalle.web.engr.illinois.edu/uploads/498-NS.19/McCulloch-Pitts-1943-neural-networks.pdf)\n",
    "    - artificial neuron: one or more on/off inputs and one binary output\n",
    "* 1957 - [the Perceptron](https://psycnet.apa.org/record/1959-09865-001)\n",
    "    - threshold logic unit: inputs have weights & output is a scalar\n",
    "* 1969 - [Multilayered Perceptron](https://www.google.com/books/edition/Perceptrons/PLQ5DwAAQBAJ?hl=en&gbpv=1&dq=multilayer+perceptron+minsky&pg=PR5&printsec=frontcover)\n",
    "* the 70s - backpropagation\n",
    "* 1980 - [The Neocognitron](https://www.cs.princeton.edu/courses/archive/spr08/cos598B/Readings/Fukushima1980.pdf)\n",
    "    - cascading model that was directly inspired by H&W's simple/complex cell V1 architecture; the neocognitron is thought to be the inspiration for CNNs"
   ]
  },
  {
   "cell_type": "markdown",
   "id": "8c43d594",
   "metadata": {
    "slideshow": {
     "slide_type": "slide"
    }
   },
   "source": [
    "## a stroll through the history of Neural Nets\n",
    "\n",
    "\n",
    "\n",
    "<img src=\"http://beamlab.org/images/deep_learning_101/nn_timeline.jpg\" width=\"100%\" style=\"margin-left:auto; margin-right:auto\">  \n",
    "\n",
    "image cred: [beam lab](http://beamlab.org/index.html)"
   ]
  },
  {
   "cell_type": "markdown",
   "id": "24255539",
   "metadata": {
    "slideshow": {
     "slide_type": "slide"
    }
   },
   "source": [
    "## The Logical Calculus of Neural Activity\n",
    "\n",
    "### McCulloch & Pitts\n",
    "\n"
   ]
  },
  {
   "cell_type": "markdown",
   "id": "8dd0d19a",
   "metadata": {
    "slideshow": {
     "slide_type": "slide"
    }
   },
   "source": [
    "## Perceptrons"
   ]
  },
  {
   "cell_type": "markdown",
   "id": "8ca3c71d",
   "metadata": {},
   "source": []
  },
  {
   "cell_type": "markdown",
   "id": "da39ce83",
   "metadata": {
    "slideshow": {
     "slide_type": "slide"
    }
   },
   "source": [
    "## 🥺 The! Last! Lecture! 😢\n",
    "<img src=\"https://content.techgig.com/photo/80071467/pros-and-cons-of-python-programming-language-that-every-learner-must-know.jpg?132269\" width=\"100%\" style=\"margin-left:auto; margin-right:auto\">"
   ]
  }
 ],
 "metadata": {
  "celltoolbar": "Slideshow",
  "kernelspec": {
   "display_name": "Python 3",
   "language": "python",
   "name": "python3"
  },
  "language_info": {
   "codemirror_mode": {
    "name": "ipython",
    "version": 3
   },
   "file_extension": ".py",
   "mimetype": "text/x-python",
   "name": "python",
   "nbconvert_exporter": "python",
   "pygments_lexer": "ipython3",
   "version": "3.7.6"
  }
 },
 "nbformat": 4,
 "nbformat_minor": 5
}
