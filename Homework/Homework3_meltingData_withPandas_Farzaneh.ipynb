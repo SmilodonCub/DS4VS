{
  "nbformat": 4,
  "nbformat_minor": 5,
  "metadata": {
    "kernelspec": {
      "display_name": "Python 3 (ipykernel)",
      "language": "python",
      "name": "python3"
    },
    "language_info": {
      "codemirror_mode": {
        "name": "ipython",
        "version": 3
      },
      "file_extension": ".py",
      "mimetype": "text/x-python",
      "name": "python",
      "nbconvert_exporter": "python",
      "pygments_lexer": "ipython3",
      "version": "3.7.6"
    },
    "colab": {
      "name": "Homework3_meltingData_withPandas_Farzaneh.ipynb",
      "provenance": [],
      "collapsed_sections": []
    }
  },
  "cells": [
    {
      "cell_type": "markdown",
      "metadata": {
        "id": "86220193"
      },
      "source": [
        "<br><br>\n",
        "\n",
        "<img src=\"https://raw.githubusercontent.com/SmilodonCub/DS4VS/master/Homework/melt.png\" width=\"100%\" style=\"margin-left:auto; margin-right:auto\">\n"
      ],
      "id": "86220193"
    },
    {
      "cell_type": "markdown",
      "metadata": {
        "id": "3845161b"
      },
      "source": [
        "<br>\n",
        "\n",
        "# Homework3: `pandas` DataFrame manipulations"
      ],
      "id": "3845161b"
    },
    {
      "cell_type": "markdown",
      "metadata": {
        "id": "aae7c090"
      },
      "source": [
        "## Part 1: `pandas` Melting and Pivoting\n",
        "\n",
        "In this first section we will melt and pivot a pandas dataframe. A smart combination of manipulating and aggregating the dataframe will help us extract different insights without having to write messy for loops. We will use a simple toy dataset to illustrate each data restructuring method.  \n",
        "\n",
        "First, let's define a few terms:  \n",
        "\n",
        "* **Aggregating** - Condensing the data by grouping like observations and producing summary metrics to characterize the new grouping. Aggregated data will typically have a smaller sized dataframe as a result.\n",
        "* **Wide Data** - each row holds more than one observations for a given value of index feature(s)\n",
        "* **Long Data** - each row holds one observation \n",
        "* **Melting** - Restructuring the data from a 'wide' to a 'long' format. The data is reshaped so that each row holds only one observation for a particular category. Also called 'pivoting long'.\n",
        "* **Pivoting** - Restructuring the data from a 'long' to a 'wide' format. The data is reshape typically into categorical columns. Also called 'pivoting wide'.\n",
        "\n",
        "Now to import the data"
      ],
      "id": "aae7c090"
    },
    {
      "cell_type": "code",
      "metadata": {
        "id": "0883bc43"
      },
      "source": [
        "# Let's set up with these libraries handy\n",
        "import pandas as pd\n",
        "import numpy as np\n",
        "import matplotlib.pyplot as plt\n",
        "import seaborn as sns"
      ],
      "id": "0883bc43",
      "execution_count": 1,
      "outputs": []
    },
    {
      "cell_type": "code",
      "metadata": {
        "id": "4bb2c1f7",
        "colab": {
          "base_uri": "https://localhost:8080/",
          "height": 193
        },
        "outputId": "29da1c36-0d32-445b-ecf7-75dee08bc3e1"
      },
      "source": [
        "# importing our tiny toy data set as a pandas dataframe\n",
        "url = 'https://raw.githubusercontent.com/SmilodonCub/DS4VS/master/Homework/flights.csv'\n",
        "col_names = ['Carrier', 'Status', 'LAX', 'PHX', 'SAN', 'SFO', 'SEA']\n",
        "flights = pd.read_csv( url, encoding= 'unicode_escape' )\n",
        "flights.columns = col_names\n",
        "flights = flights.ffill() #will fill in missing values (default along column axis)\n",
        "\n",
        "print( flights.shape )\n",
        "flights.head()"
      ],
      "id": "4bb2c1f7",
      "execution_count": 2,
      "outputs": [
        {
          "output_type": "stream",
          "name": "stdout",
          "text": [
            "(4, 7)\n"
          ]
        },
        {
          "output_type": "execute_result",
          "data": {
            "text/html": [
              "<div>\n",
              "<style scoped>\n",
              "    .dataframe tbody tr th:only-of-type {\n",
              "        vertical-align: middle;\n",
              "    }\n",
              "\n",
              "    .dataframe tbody tr th {\n",
              "        vertical-align: top;\n",
              "    }\n",
              "\n",
              "    .dataframe thead th {\n",
              "        text-align: right;\n",
              "    }\n",
              "</style>\n",
              "<table border=\"1\" class=\"dataframe\">\n",
              "  <thead>\n",
              "    <tr style=\"text-align: right;\">\n",
              "      <th></th>\n",
              "      <th>Carrier</th>\n",
              "      <th>Status</th>\n",
              "      <th>LAX</th>\n",
              "      <th>PHX</th>\n",
              "      <th>SAN</th>\n",
              "      <th>SFO</th>\n",
              "      <th>SEA</th>\n",
              "    </tr>\n",
              "  </thead>\n",
              "  <tbody>\n",
              "    <tr>\n",
              "      <th>0</th>\n",
              "      <td>ALASKA</td>\n",
              "      <td>on time</td>\n",
              "      <td>497</td>\n",
              "      <td>221</td>\n",
              "      <td>212</td>\n",
              "      <td>503</td>\n",
              "      <td>1841</td>\n",
              "    </tr>\n",
              "    <tr>\n",
              "      <th>1</th>\n",
              "      <td>ALASKA</td>\n",
              "      <td>delayed</td>\n",
              "      <td>62</td>\n",
              "      <td>12</td>\n",
              "      <td>20</td>\n",
              "      <td>102</td>\n",
              "      <td>305</td>\n",
              "    </tr>\n",
              "    <tr>\n",
              "      <th>2</th>\n",
              "      <td>AM West</td>\n",
              "      <td>on time</td>\n",
              "      <td>694</td>\n",
              "      <td>4840</td>\n",
              "      <td>383</td>\n",
              "      <td>320</td>\n",
              "      <td>201</td>\n",
              "    </tr>\n",
              "    <tr>\n",
              "      <th>3</th>\n",
              "      <td>AM West</td>\n",
              "      <td>delayed</td>\n",
              "      <td>117</td>\n",
              "      <td>415</td>\n",
              "      <td>65</td>\n",
              "      <td>129</td>\n",
              "      <td>61</td>\n",
              "    </tr>\n",
              "  </tbody>\n",
              "</table>\n",
              "</div>"
            ],
            "text/plain": [
              "   Carrier   Status  LAX   PHX  SAN  SFO   SEA\n",
              "0   ALASKA  on time  497   221  212  503  1841\n",
              "1   ALASKA  delayed   62    12   20  102   305\n",
              "2  AM West  on time  694  4840  383  320   201\n",
              "3  AM West  delayed  117   415   65  129    61"
            ]
          },
          "metadata": {},
          "execution_count": 2
        }
      ]
    },
    {
      "cell_type": "markdown",
      "metadata": {
        "id": "749b13c0"
      },
      "source": [
        "\n",
        "### Morphing Shapes...\n",
        "\n",
        "Currently, the `flights` dataframe is organized in a wide format. Observe how each row holds multiple observations for a single condition. For example, `flights.iloc[0]` holds observations summarizing the number of 'on time' 'ALASKA' flights for 'LAX', 'PHX', 'SAN', 'SFO' and 'SEA'.  \n",
        "\n",
        "For such a small dataset, this format makes for a very easy to understand summary of the data to human eyes, but it it is not very convenient for analysis. For example, what if we would like to compare the proportion of flights that are on-time vs delayed for each airport and carrier. This would be complicated with the wide format!  \n",
        "\n",
        "Let's melt the dataframe into the long format:  "
      ],
      "id": "749b13c0"
    },
    {
      "cell_type": "code",
      "metadata": {
        "id": "e930a224",
        "colab": {
          "base_uri": "https://localhost:8080/",
          "height": 675
        },
        "outputId": "66d1bbf4-7970-44fb-d932-945083b805ea"
      },
      "source": [
        "# use the pd.melt() method to selectively melt the airport columns \n",
        "# while keeping the Carrier & Status as index columns\n",
        "\n",
        "flights_long = pd.melt( flights, id_vars = ['Carrier', 'Status'], \n",
        "                       value_vars = ['LAX', 'PHX', 'SAN', 'SFO', 'SEA'], \n",
        "                       var_name = 'Airport', \n",
        "                       value_name='Total' )\n",
        "\n",
        "flights_long"
      ],
      "id": "e930a224",
      "execution_count": 3,
      "outputs": [
        {
          "output_type": "execute_result",
          "data": {
            "text/html": [
              "<div>\n",
              "<style scoped>\n",
              "    .dataframe tbody tr th:only-of-type {\n",
              "        vertical-align: middle;\n",
              "    }\n",
              "\n",
              "    .dataframe tbody tr th {\n",
              "        vertical-align: top;\n",
              "    }\n",
              "\n",
              "    .dataframe thead th {\n",
              "        text-align: right;\n",
              "    }\n",
              "</style>\n",
              "<table border=\"1\" class=\"dataframe\">\n",
              "  <thead>\n",
              "    <tr style=\"text-align: right;\">\n",
              "      <th></th>\n",
              "      <th>Carrier</th>\n",
              "      <th>Status</th>\n",
              "      <th>Airport</th>\n",
              "      <th>Total</th>\n",
              "    </tr>\n",
              "  </thead>\n",
              "  <tbody>\n",
              "    <tr>\n",
              "      <th>0</th>\n",
              "      <td>ALASKA</td>\n",
              "      <td>on time</td>\n",
              "      <td>LAX</td>\n",
              "      <td>497</td>\n",
              "    </tr>\n",
              "    <tr>\n",
              "      <th>1</th>\n",
              "      <td>ALASKA</td>\n",
              "      <td>delayed</td>\n",
              "      <td>LAX</td>\n",
              "      <td>62</td>\n",
              "    </tr>\n",
              "    <tr>\n",
              "      <th>2</th>\n",
              "      <td>AM West</td>\n",
              "      <td>on time</td>\n",
              "      <td>LAX</td>\n",
              "      <td>694</td>\n",
              "    </tr>\n",
              "    <tr>\n",
              "      <th>3</th>\n",
              "      <td>AM West</td>\n",
              "      <td>delayed</td>\n",
              "      <td>LAX</td>\n",
              "      <td>117</td>\n",
              "    </tr>\n",
              "    <tr>\n",
              "      <th>4</th>\n",
              "      <td>ALASKA</td>\n",
              "      <td>on time</td>\n",
              "      <td>PHX</td>\n",
              "      <td>221</td>\n",
              "    </tr>\n",
              "    <tr>\n",
              "      <th>5</th>\n",
              "      <td>ALASKA</td>\n",
              "      <td>delayed</td>\n",
              "      <td>PHX</td>\n",
              "      <td>12</td>\n",
              "    </tr>\n",
              "    <tr>\n",
              "      <th>6</th>\n",
              "      <td>AM West</td>\n",
              "      <td>on time</td>\n",
              "      <td>PHX</td>\n",
              "      <td>4840</td>\n",
              "    </tr>\n",
              "    <tr>\n",
              "      <th>7</th>\n",
              "      <td>AM West</td>\n",
              "      <td>delayed</td>\n",
              "      <td>PHX</td>\n",
              "      <td>415</td>\n",
              "    </tr>\n",
              "    <tr>\n",
              "      <th>8</th>\n",
              "      <td>ALASKA</td>\n",
              "      <td>on time</td>\n",
              "      <td>SAN</td>\n",
              "      <td>212</td>\n",
              "    </tr>\n",
              "    <tr>\n",
              "      <th>9</th>\n",
              "      <td>ALASKA</td>\n",
              "      <td>delayed</td>\n",
              "      <td>SAN</td>\n",
              "      <td>20</td>\n",
              "    </tr>\n",
              "    <tr>\n",
              "      <th>10</th>\n",
              "      <td>AM West</td>\n",
              "      <td>on time</td>\n",
              "      <td>SAN</td>\n",
              "      <td>383</td>\n",
              "    </tr>\n",
              "    <tr>\n",
              "      <th>11</th>\n",
              "      <td>AM West</td>\n",
              "      <td>delayed</td>\n",
              "      <td>SAN</td>\n",
              "      <td>65</td>\n",
              "    </tr>\n",
              "    <tr>\n",
              "      <th>12</th>\n",
              "      <td>ALASKA</td>\n",
              "      <td>on time</td>\n",
              "      <td>SFO</td>\n",
              "      <td>503</td>\n",
              "    </tr>\n",
              "    <tr>\n",
              "      <th>13</th>\n",
              "      <td>ALASKA</td>\n",
              "      <td>delayed</td>\n",
              "      <td>SFO</td>\n",
              "      <td>102</td>\n",
              "    </tr>\n",
              "    <tr>\n",
              "      <th>14</th>\n",
              "      <td>AM West</td>\n",
              "      <td>on time</td>\n",
              "      <td>SFO</td>\n",
              "      <td>320</td>\n",
              "    </tr>\n",
              "    <tr>\n",
              "      <th>15</th>\n",
              "      <td>AM West</td>\n",
              "      <td>delayed</td>\n",
              "      <td>SFO</td>\n",
              "      <td>129</td>\n",
              "    </tr>\n",
              "    <tr>\n",
              "      <th>16</th>\n",
              "      <td>ALASKA</td>\n",
              "      <td>on time</td>\n",
              "      <td>SEA</td>\n",
              "      <td>1841</td>\n",
              "    </tr>\n",
              "    <tr>\n",
              "      <th>17</th>\n",
              "      <td>ALASKA</td>\n",
              "      <td>delayed</td>\n",
              "      <td>SEA</td>\n",
              "      <td>305</td>\n",
              "    </tr>\n",
              "    <tr>\n",
              "      <th>18</th>\n",
              "      <td>AM West</td>\n",
              "      <td>on time</td>\n",
              "      <td>SEA</td>\n",
              "      <td>201</td>\n",
              "    </tr>\n",
              "    <tr>\n",
              "      <th>19</th>\n",
              "      <td>AM West</td>\n",
              "      <td>delayed</td>\n",
              "      <td>SEA</td>\n",
              "      <td>61</td>\n",
              "    </tr>\n",
              "  </tbody>\n",
              "</table>\n",
              "</div>"
            ],
            "text/plain": [
              "    Carrier   Status Airport  Total\n",
              "0    ALASKA  on time     LAX    497\n",
              "1    ALASKA  delayed     LAX     62\n",
              "2   AM West  on time     LAX    694\n",
              "3   AM West  delayed     LAX    117\n",
              "4    ALASKA  on time     PHX    221\n",
              "5    ALASKA  delayed     PHX     12\n",
              "6   AM West  on time     PHX   4840\n",
              "7   AM West  delayed     PHX    415\n",
              "8    ALASKA  on time     SAN    212\n",
              "9    ALASKA  delayed     SAN     20\n",
              "10  AM West  on time     SAN    383\n",
              "11  AM West  delayed     SAN     65\n",
              "12   ALASKA  on time     SFO    503\n",
              "13   ALASKA  delayed     SFO    102\n",
              "14  AM West  on time     SFO    320\n",
              "15  AM West  delayed     SFO    129\n",
              "16   ALASKA  on time     SEA   1841\n",
              "17   ALASKA  delayed     SEA    305\n",
              "18  AM West  on time     SEA    201\n",
              "19  AM West  delayed     SEA     61"
            ]
          },
          "metadata": {},
          "execution_count": 3
        }
      ]
    },
    {
      "cell_type": "markdown",
      "metadata": {
        "id": "e8b5a565"
      },
      "source": [
        "<br>\n",
        "\n",
        "Great! we now have a looong flights dataframe.  \n",
        "But, let's say we are interested in calculating the percent of on-time/delayed flights for each Carrier/Status condition. That would be hard to compute from this configuration of the dataframe. We'd have to work hard to find the total for each Carrier/Status by looping alternate rows and we'd need to create a new data structure to hold the results...sounds messy & unnecessary because it is. Let's just restructure the data in a way that gives us the 'on-time' and 'delayed' observations as new feature columns by pivoting the dataframe.  \n",
        "\n",
        "We will now pivot flights_long with 'Carrier' and 'Airport' serving as our index columns while we widen the total into new columns for 'on-time' and 'delayed':  "
      ],
      "id": "e8b5a565"
    },
    {
      "cell_type": "code",
      "metadata": {
        "id": "38d2f1c6",
        "colab": {
          "base_uri": "https://localhost:8080/",
          "height": 393
        },
        "outputId": "9d8b441e-de97-45e9-9143-be13f3407d27"
      },
      "source": [
        "flights_status = flights_long.pivot( index = ['Carrier','Airport'], columns = 'Status', values = 'Total')\n",
        "flights_status"
      ],
      "id": "38d2f1c6",
      "execution_count": 4,
      "outputs": [
        {
          "output_type": "execute_result",
          "data": {
            "text/html": [
              "<div>\n",
              "<style scoped>\n",
              "    .dataframe tbody tr th:only-of-type {\n",
              "        vertical-align: middle;\n",
              "    }\n",
              "\n",
              "    .dataframe tbody tr th {\n",
              "        vertical-align: top;\n",
              "    }\n",
              "\n",
              "    .dataframe thead th {\n",
              "        text-align: right;\n",
              "    }\n",
              "</style>\n",
              "<table border=\"1\" class=\"dataframe\">\n",
              "  <thead>\n",
              "    <tr style=\"text-align: right;\">\n",
              "      <th></th>\n",
              "      <th>Status</th>\n",
              "      <th>delayed</th>\n",
              "      <th>on time</th>\n",
              "    </tr>\n",
              "    <tr>\n",
              "      <th>Carrier</th>\n",
              "      <th>Airport</th>\n",
              "      <th></th>\n",
              "      <th></th>\n",
              "    </tr>\n",
              "  </thead>\n",
              "  <tbody>\n",
              "    <tr>\n",
              "      <th rowspan=\"5\" valign=\"top\">ALASKA</th>\n",
              "      <th>LAX</th>\n",
              "      <td>62</td>\n",
              "      <td>497</td>\n",
              "    </tr>\n",
              "    <tr>\n",
              "      <th>PHX</th>\n",
              "      <td>12</td>\n",
              "      <td>221</td>\n",
              "    </tr>\n",
              "    <tr>\n",
              "      <th>SAN</th>\n",
              "      <td>20</td>\n",
              "      <td>212</td>\n",
              "    </tr>\n",
              "    <tr>\n",
              "      <th>SEA</th>\n",
              "      <td>305</td>\n",
              "      <td>1841</td>\n",
              "    </tr>\n",
              "    <tr>\n",
              "      <th>SFO</th>\n",
              "      <td>102</td>\n",
              "      <td>503</td>\n",
              "    </tr>\n",
              "    <tr>\n",
              "      <th rowspan=\"5\" valign=\"top\">AM West</th>\n",
              "      <th>LAX</th>\n",
              "      <td>117</td>\n",
              "      <td>694</td>\n",
              "    </tr>\n",
              "    <tr>\n",
              "      <th>PHX</th>\n",
              "      <td>415</td>\n",
              "      <td>4840</td>\n",
              "    </tr>\n",
              "    <tr>\n",
              "      <th>SAN</th>\n",
              "      <td>65</td>\n",
              "      <td>383</td>\n",
              "    </tr>\n",
              "    <tr>\n",
              "      <th>SEA</th>\n",
              "      <td>61</td>\n",
              "      <td>201</td>\n",
              "    </tr>\n",
              "    <tr>\n",
              "      <th>SFO</th>\n",
              "      <td>129</td>\n",
              "      <td>320</td>\n",
              "    </tr>\n",
              "  </tbody>\n",
              "</table>\n",
              "</div>"
            ],
            "text/plain": [
              "Status           delayed  on time\n",
              "Carrier Airport                  \n",
              "ALASKA  LAX           62      497\n",
              "        PHX           12      221\n",
              "        SAN           20      212\n",
              "        SEA          305     1841\n",
              "        SFO          102      503\n",
              "AM West LAX          117      694\n",
              "        PHX          415     4840\n",
              "        SAN           65      383\n",
              "        SEA           61      201\n",
              "        SFO          129      320"
            ]
          },
          "metadata": {},
          "execution_count": 4
        }
      ]
    },
    {
      "cell_type": "markdown",
      "metadata": {
        "id": "bb59e016"
      },
      "source": [
        "<br>\n",
        "\n",
        "The data is now somewhere inbetween long and wide, but just where we need it for our purposes.  \n",
        "Now we can easily find the total flights by taking the sum of the 'delayed' + 'on-time' columns. It is also easy to then calculate the percentage for each observation...."
      ],
      "id": "bb59e016"
    },
    {
      "cell_type": "code",
      "metadata": {
        "id": "8cf7e90b",
        "colab": {
          "base_uri": "https://localhost:8080/",
          "height": 362
        },
        "outputId": "3f12168e-8387-45de-cb89-a04f1b63aee9"
      },
      "source": [
        "flights_status['Total'] = flights_status['delayed'] + flights_status['on time']\n",
        "flights_status['p_delayed'] = flights_status['delayed']/flights_status['Total']*100\n",
        "flights_status['p_ontime'] = flights_status['on time']/flights_status['Total']*100\n",
        "flights_status = flights_status.round( 2 )\n",
        "flights_status = flights_status.reset_index()\n",
        "flights_status"
      ],
      "id": "8cf7e90b",
      "execution_count": 5,
      "outputs": [
        {
          "output_type": "execute_result",
          "data": {
            "text/html": [
              "<div>\n",
              "<style scoped>\n",
              "    .dataframe tbody tr th:only-of-type {\n",
              "        vertical-align: middle;\n",
              "    }\n",
              "\n",
              "    .dataframe tbody tr th {\n",
              "        vertical-align: top;\n",
              "    }\n",
              "\n",
              "    .dataframe thead th {\n",
              "        text-align: right;\n",
              "    }\n",
              "</style>\n",
              "<table border=\"1\" class=\"dataframe\">\n",
              "  <thead>\n",
              "    <tr style=\"text-align: right;\">\n",
              "      <th>Status</th>\n",
              "      <th>Carrier</th>\n",
              "      <th>Airport</th>\n",
              "      <th>delayed</th>\n",
              "      <th>on time</th>\n",
              "      <th>Total</th>\n",
              "      <th>p_delayed</th>\n",
              "      <th>p_ontime</th>\n",
              "    </tr>\n",
              "  </thead>\n",
              "  <tbody>\n",
              "    <tr>\n",
              "      <th>0</th>\n",
              "      <td>ALASKA</td>\n",
              "      <td>LAX</td>\n",
              "      <td>62</td>\n",
              "      <td>497</td>\n",
              "      <td>559</td>\n",
              "      <td>11.09</td>\n",
              "      <td>88.91</td>\n",
              "    </tr>\n",
              "    <tr>\n",
              "      <th>1</th>\n",
              "      <td>ALASKA</td>\n",
              "      <td>PHX</td>\n",
              "      <td>12</td>\n",
              "      <td>221</td>\n",
              "      <td>233</td>\n",
              "      <td>5.15</td>\n",
              "      <td>94.85</td>\n",
              "    </tr>\n",
              "    <tr>\n",
              "      <th>2</th>\n",
              "      <td>ALASKA</td>\n",
              "      <td>SAN</td>\n",
              "      <td>20</td>\n",
              "      <td>212</td>\n",
              "      <td>232</td>\n",
              "      <td>8.62</td>\n",
              "      <td>91.38</td>\n",
              "    </tr>\n",
              "    <tr>\n",
              "      <th>3</th>\n",
              "      <td>ALASKA</td>\n",
              "      <td>SEA</td>\n",
              "      <td>305</td>\n",
              "      <td>1841</td>\n",
              "      <td>2146</td>\n",
              "      <td>14.21</td>\n",
              "      <td>85.79</td>\n",
              "    </tr>\n",
              "    <tr>\n",
              "      <th>4</th>\n",
              "      <td>ALASKA</td>\n",
              "      <td>SFO</td>\n",
              "      <td>102</td>\n",
              "      <td>503</td>\n",
              "      <td>605</td>\n",
              "      <td>16.86</td>\n",
              "      <td>83.14</td>\n",
              "    </tr>\n",
              "    <tr>\n",
              "      <th>5</th>\n",
              "      <td>AM West</td>\n",
              "      <td>LAX</td>\n",
              "      <td>117</td>\n",
              "      <td>694</td>\n",
              "      <td>811</td>\n",
              "      <td>14.43</td>\n",
              "      <td>85.57</td>\n",
              "    </tr>\n",
              "    <tr>\n",
              "      <th>6</th>\n",
              "      <td>AM West</td>\n",
              "      <td>PHX</td>\n",
              "      <td>415</td>\n",
              "      <td>4840</td>\n",
              "      <td>5255</td>\n",
              "      <td>7.90</td>\n",
              "      <td>92.10</td>\n",
              "    </tr>\n",
              "    <tr>\n",
              "      <th>7</th>\n",
              "      <td>AM West</td>\n",
              "      <td>SAN</td>\n",
              "      <td>65</td>\n",
              "      <td>383</td>\n",
              "      <td>448</td>\n",
              "      <td>14.51</td>\n",
              "      <td>85.49</td>\n",
              "    </tr>\n",
              "    <tr>\n",
              "      <th>8</th>\n",
              "      <td>AM West</td>\n",
              "      <td>SEA</td>\n",
              "      <td>61</td>\n",
              "      <td>201</td>\n",
              "      <td>262</td>\n",
              "      <td>23.28</td>\n",
              "      <td>76.72</td>\n",
              "    </tr>\n",
              "    <tr>\n",
              "      <th>9</th>\n",
              "      <td>AM West</td>\n",
              "      <td>SFO</td>\n",
              "      <td>129</td>\n",
              "      <td>320</td>\n",
              "      <td>449</td>\n",
              "      <td>28.73</td>\n",
              "      <td>71.27</td>\n",
              "    </tr>\n",
              "  </tbody>\n",
              "</table>\n",
              "</div>"
            ],
            "text/plain": [
              "Status  Carrier Airport  delayed  on time  Total  p_delayed  p_ontime\n",
              "0        ALASKA     LAX       62      497    559      11.09     88.91\n",
              "1        ALASKA     PHX       12      221    233       5.15     94.85\n",
              "2        ALASKA     SAN       20      212    232       8.62     91.38\n",
              "3        ALASKA     SEA      305     1841   2146      14.21     85.79\n",
              "4        ALASKA     SFO      102      503    605      16.86     83.14\n",
              "5       AM West     LAX      117      694    811      14.43     85.57\n",
              "6       AM West     PHX      415     4840   5255       7.90     92.10\n",
              "7       AM West     SAN       65      383    448      14.51     85.49\n",
              "8       AM West     SEA       61      201    262      23.28     76.72\n",
              "9       AM West     SFO      129      320    449      28.73     71.27"
            ]
          },
          "metadata": {},
          "execution_count": 5
        }
      ]
    },
    {
      "cell_type": "markdown",
      "metadata": {
        "id": "cc6cbfff"
      },
      "source": [
        "<br>\n",
        "\n",
        "We can do a quick visualization of the data..."
      ],
      "id": "cc6cbfff"
    },
    {
      "cell_type": "code",
      "metadata": {
        "id": "4a69fffd",
        "colab": {
          "base_uri": "https://localhost:8080/",
          "height": 369
        },
        "outputId": "1e3fa5bc-514f-4116-a3d4-d6fb1cfdd949"
      },
      "source": [
        "# visualize the percentage of delayed flights for the airlines for each destination\n",
        "fig = sns.catplot( data = flights_status,\n",
        "                  kind = 'bar',\n",
        "                  x = 'Airport',\n",
        "                  y = 'p_delayed',\n",
        "                  hue = 'Carrier'\n",
        "                 )"
      ],
      "id": "4a69fffd",
      "execution_count": 6,
      "outputs": [
        {
          "output_type": "display_data",
          "data": {
            "image/png": "[encoded data removed]",
            "text/plain": [
              "<Figure size 439.125x360 with 1 Axes>"
            ]
          },
          "metadata": {
            "needs_background": "light"
          }
        }
      ]
    },
    {
      "cell_type": "markdown",
      "metadata": {
        "id": "dcefd4b2"
      },
      "source": [
        "<br>\n",
        "\n",
        "From the figure above we can see that AM West flights are more likely to be delayed at all given airports. \n",
        "\n",
        "Next we would like to answer a different question about the data: What are the total number of 'delayed' and 'on time' flights for each airline? This will require aggregating our data into groups for each airline: "
      ],
      "id": "dcefd4b2"
    },
    {
      "cell_type": "code",
      "metadata": {
        "id": "ee517b92",
        "colab": {
          "base_uri": "https://localhost:8080/",
          "height": 143
        },
        "outputId": "36f11b85-9607-4861-ddd7-9b1d886d130b"
      },
      "source": [
        "# aggregate the data to find the total number of flights for each airline\n",
        "#    1) group on the column 'Carrier'\n",
        "#    2) take the sum of the numeric columns\n",
        "#    3) drop the 'p_' columns because they don't make sense as a summed value\n",
        "flights_status.groupby( 'Carrier' ).sum( ).drop( columns=['p_delayed', 'p_ontime'])"
      ],
      "id": "ee517b92",
      "execution_count": 7,
      "outputs": [
        {
          "output_type": "execute_result",
          "data": {
            "text/html": [
              "<div>\n",
              "<style scoped>\n",
              "    .dataframe tbody tr th:only-of-type {\n",
              "        vertical-align: middle;\n",
              "    }\n",
              "\n",
              "    .dataframe tbody tr th {\n",
              "        vertical-align: top;\n",
              "    }\n",
              "\n",
              "    .dataframe thead th {\n",
              "        text-align: right;\n",
              "    }\n",
              "</style>\n",
              "<table border=\"1\" class=\"dataframe\">\n",
              "  <thead>\n",
              "    <tr style=\"text-align: right;\">\n",
              "      <th>Status</th>\n",
              "      <th>delayed</th>\n",
              "      <th>on time</th>\n",
              "      <th>Total</th>\n",
              "    </tr>\n",
              "    <tr>\n",
              "      <th>Carrier</th>\n",
              "      <th></th>\n",
              "      <th></th>\n",
              "      <th></th>\n",
              "    </tr>\n",
              "  </thead>\n",
              "  <tbody>\n",
              "    <tr>\n",
              "      <th>ALASKA</th>\n",
              "      <td>501</td>\n",
              "      <td>3274</td>\n",
              "      <td>3775</td>\n",
              "    </tr>\n",
              "    <tr>\n",
              "      <th>AM West</th>\n",
              "      <td>787</td>\n",
              "      <td>6438</td>\n",
              "      <td>7225</td>\n",
              "    </tr>\n",
              "  </tbody>\n",
              "</table>\n",
              "</div>"
            ],
            "text/plain": [
              "Status   delayed  on time  Total\n",
              "Carrier                         \n",
              "ALASKA       501     3274   3775\n",
              "AM West      787     6438   7225"
            ]
          },
          "metadata": {},
          "execution_count": 7
        }
      ]
    },
    {
      "cell_type": "markdown",
      "metadata": {
        "id": "2dbb00f8"
      },
      "source": [
        "<br>\n",
        "\n",
        "### Now you try!"
      ],
      "id": "2dbb00f8"
    },
    {
      "cell_type": "markdown",
      "metadata": {
        "id": "1655010b"
      },
      "source": [
        "**Question 1** Using the `flights_status` dataframe, aggregate the data to get the total flights grouped by 'Airport'"
      ],
      "id": "1655010b"
    },
    {
      "cell_type": "code",
      "metadata": {
        "id": "d75dba75",
        "colab": {
          "base_uri": "https://localhost:8080/",
          "height": 236
        },
        "outputId": "d442e376-6ff9-43cb-c468-56dda7e13963"
      },
      "source": [
        "grouped_flights_status = flights_status.groupby( 'Airport' ).sum( ).drop( columns=['delayed', 'on time', 'p_delayed', 'p_ontime'])\n",
        "grouped_flights_status"
      ],
      "id": "d75dba75",
      "execution_count": 8,
      "outputs": [
        {
          "output_type": "execute_result",
          "data": {
            "text/html": [
              "<div>\n",
              "<style scoped>\n",
              "    .dataframe tbody tr th:only-of-type {\n",
              "        vertical-align: middle;\n",
              "    }\n",
              "\n",
              "    .dataframe tbody tr th {\n",
              "        vertical-align: top;\n",
              "    }\n",
              "\n",
              "    .dataframe thead th {\n",
              "        text-align: right;\n",
              "    }\n",
              "</style>\n",
              "<table border=\"1\" class=\"dataframe\">\n",
              "  <thead>\n",
              "    <tr style=\"text-align: right;\">\n",
              "      <th>Status</th>\n",
              "      <th>Total</th>\n",
              "    </tr>\n",
              "    <tr>\n",
              "      <th>Airport</th>\n",
              "      <th></th>\n",
              "    </tr>\n",
              "  </thead>\n",
              "  <tbody>\n",
              "    <tr>\n",
              "      <th>LAX</th>\n",
              "      <td>1370</td>\n",
              "    </tr>\n",
              "    <tr>\n",
              "      <th>PHX</th>\n",
              "      <td>5488</td>\n",
              "    </tr>\n",
              "    <tr>\n",
              "      <th>SAN</th>\n",
              "      <td>680</td>\n",
              "    </tr>\n",
              "    <tr>\n",
              "      <th>SEA</th>\n",
              "      <td>2408</td>\n",
              "    </tr>\n",
              "    <tr>\n",
              "      <th>SFO</th>\n",
              "      <td>1054</td>\n",
              "    </tr>\n",
              "  </tbody>\n",
              "</table>\n",
              "</div>"
            ],
            "text/plain": [
              "Status   Total\n",
              "Airport       \n",
              "LAX       1370\n",
              "PHX       5488\n",
              "SAN        680\n",
              "SEA       2408\n",
              "SFO       1054"
            ]
          },
          "metadata": {},
          "execution_count": 8
        }
      ]
    },
    {
      "cell_type": "markdown",
      "metadata": {
        "id": "259e2e01"
      },
      "source": [
        "**Question 2** The original format of the dataframe was very friendly to human eyes, but the values are difficult to draw insights from. Can you reshape the `flights_status` dataframe back to the original (4, 7) using the new percentage values you computed above?"
      ],
      "id": "259e2e01"
    },
    {
      "cell_type": "code",
      "metadata": {
        "id": "5c07738e",
        "colab": {
          "base_uri": "https://localhost:8080/",
          "height": 175
        },
        "outputId": "bd9e89cf-b0de-411c-8c56-ae3dd0222e7c"
      },
      "source": [
        "flights = pd.read_csv( url, encoding= 'unicode_escape' )\n",
        "flights.columns = col_names\n",
        "flights = flights.ffill() #will fill in missing values (default along column axis)\n",
        "reshaped2_flights_status = flights\n",
        "reshaped2_flights_status['LAX'] = reshaped2_flights_status['LAX'] / grouped_flights_status['Total']['LAX'] * 100\n",
        "reshaped2_flights_status['PHX'] = reshaped2_flights_status['PHX'] / grouped_flights_status['Total']['PHX'] * 100\n",
        "reshaped2_flights_status['SAN'] = reshaped2_flights_status['SAN'] / grouped_flights_status['Total']['SAN'] * 100\n",
        "reshaped2_flights_status['SFO'] = reshaped2_flights_status['SFO'] / grouped_flights_status['Total']['SFO'] * 100\n",
        "reshaped2_flights_status['SEA'] = reshaped2_flights_status['SEA'] / grouped_flights_status['Total']['SEA'] * 100\n",
        "reshaped2_flights_status = reshaped2_flights_status.round(2)\n",
        "reshaped2_flights_status['Status'] = ['P_on time', 'P_delayed', 'P_on time', 'P_delayed']\n",
        "reshaped2_flights_status"
      ],
      "id": "5c07738e",
      "execution_count": 9,
      "outputs": [
        {
          "output_type": "execute_result",
          "data": {
            "text/html": [
              "<div>\n",
              "<style scoped>\n",
              "    .dataframe tbody tr th:only-of-type {\n",
              "        vertical-align: middle;\n",
              "    }\n",
              "\n",
              "    .dataframe tbody tr th {\n",
              "        vertical-align: top;\n",
              "    }\n",
              "\n",
              "    .dataframe thead th {\n",
              "        text-align: right;\n",
              "    }\n",
              "</style>\n",
              "<table border=\"1\" class=\"dataframe\">\n",
              "  <thead>\n",
              "    <tr style=\"text-align: right;\">\n",
              "      <th></th>\n",
              "      <th>Carrier</th>\n",
              "      <th>Status</th>\n",
              "      <th>LAX</th>\n",
              "      <th>PHX</th>\n",
              "      <th>SAN</th>\n",
              "      <th>SFO</th>\n",
              "      <th>SEA</th>\n",
              "    </tr>\n",
              "  </thead>\n",
              "  <tbody>\n",
              "    <tr>\n",
              "      <th>0</th>\n",
              "      <td>ALASKA</td>\n",
              "      <td>P_on time</td>\n",
              "      <td>36.28</td>\n",
              "      <td>4.03</td>\n",
              "      <td>31.18</td>\n",
              "      <td>47.72</td>\n",
              "      <td>76.45</td>\n",
              "    </tr>\n",
              "    <tr>\n",
              "      <th>1</th>\n",
              "      <td>ALASKA</td>\n",
              "      <td>P_delayed</td>\n",
              "      <td>4.53</td>\n",
              "      <td>0.22</td>\n",
              "      <td>2.94</td>\n",
              "      <td>9.68</td>\n",
              "      <td>12.67</td>\n",
              "    </tr>\n",
              "    <tr>\n",
              "      <th>2</th>\n",
              "      <td>AM West</td>\n",
              "      <td>P_on time</td>\n",
              "      <td>50.66</td>\n",
              "      <td>88.19</td>\n",
              "      <td>56.32</td>\n",
              "      <td>30.36</td>\n",
              "      <td>8.35</td>\n",
              "    </tr>\n",
              "    <tr>\n",
              "      <th>3</th>\n",
              "      <td>AM West</td>\n",
              "      <td>P_delayed</td>\n",
              "      <td>8.54</td>\n",
              "      <td>7.56</td>\n",
              "      <td>9.56</td>\n",
              "      <td>12.24</td>\n",
              "      <td>2.53</td>\n",
              "    </tr>\n",
              "  </tbody>\n",
              "</table>\n",
              "</div>"
            ],
            "text/plain": [
              "   Carrier     Status    LAX    PHX    SAN    SFO    SEA\n",
              "0   ALASKA  P_on time  36.28   4.03  31.18  47.72  76.45\n",
              "1   ALASKA  P_delayed   4.53   0.22   2.94   9.68  12.67\n",
              "2  AM West  P_on time  50.66  88.19  56.32  30.36   8.35\n",
              "3  AM West  P_delayed   8.54   7.56   9.56  12.24   2.53"
            ]
          },
          "metadata": {},
          "execution_count": 9
        }
      ]
    },
    {
      "cell_type": "markdown",
      "metadata": {
        "id": "522faf7e"
      },
      "source": [
        "**Question 3** This figure above plots the percentage of delayed flights per destination for each carrier. We can think of these plotted values as the conditional probability, $\\mbox{P}_{\\mbox{Airport}}(\\mbox{delayed}|\\mbox{ALASKA})$. What if we are really interested in a different question: For a given 'Airport', what is the propability of flights for a given 'Carrier'"
      ],
      "id": "522faf7e"
    },
    {
      "cell_type": "code",
      "metadata": {
        "id": "2f8e60e7",
        "colab": {
          "base_uri": "https://localhost:8080/"
        },
        "outputId": "09fd5d97-5075-4cae-a474-e855e5144a39"
      },
      "source": [
        "flights = pd.read_csv( url, encoding= 'unicode_escape' )\n",
        "flights.columns = col_names\n",
        "flights = flights.ffill() #will fill in missing values (default along column axis)\n",
        "reshaped_flights_status = flights\n",
        "reshaped_flights_status['LAX'][0:2] = flights['LAX'][0:2] / (flights['LAX'][0]+flights['LAX'][1]) * 100\n",
        "reshaped_flights_status['PHX'][0:2] = flights['PHX'][0:2] / (flights['PHX'][0]+flights['PHX'][1]) * 100\n",
        "reshaped_flights_status['SAN'][0:2] = flights['SAN'][0:2] / (flights['SAN'][0]+flights['SAN'][1]) * 100\n",
        "reshaped_flights_status['SFO'][0:2] = flights['SFO'][0:2] / (flights['SFO'][0]+flights['SFO'][1]) * 100\n",
        "reshaped_flights_status['SEA'][0:2] = flights['SEA'][0:2] / (flights['SEA'][0]+flights['SEA'][1]) * 100\n",
        "\n",
        "reshaped_flights_status['LAX'][2:4] = flights['LAX'][2:4] / (flights['LAX'][3]+flights['LAX'][2]) * 100\n",
        "reshaped_flights_status['PHX'][2:4] = flights['PHX'][2:4] / (flights['PHX'][3]+flights['PHX'][2]) * 100\n",
        "reshaped_flights_status['SAN'][2:4] = flights['SAN'][2:4] / (flights['SAN'][3]+flights['SAN'][2]) * 100\n",
        "reshaped_flights_status['SFO'][2:4] = flights['SFO'][2:4] / (flights['SFO'][3]+flights['SFO'][2]) * 100\n",
        "reshaped_flights_status['SEA'][2:4] = flights['SEA'][2:4] / (flights['SEA'][3]+flights['SEA'][2]) * 100\n",
        "reshaped_flights_status = reshaped_flights_status.round(2)\n",
        "reshaped_flights_status['Status'] = ['P_on time', 'P_delayed', 'P_on time', 'P_delayed']\n",
        "\n",
        "print('P_LAX(delayed|ALASKA) =', reshaped_flights_status['LAX'][1])\n",
        "print('P_LAX(on time|ALASKA) =', reshaped_flights_status['LAX'][0])\n",
        "print('P_PHX(delayed|ALASKA) =', reshaped_flights_status['PHX'][1])\n",
        "print('P_PHX(on time|ALASKA) =', reshaped_flights_status['PHX'][0])\n",
        "print('P_SAN(delayed|ALASKA) =', reshaped_flights_status['SAN'][1])\n",
        "print('P_SAN(on time|ALASKA) =', reshaped_flights_status['SAN'][0])\n",
        "print('P_SFO(delayed|ALASKA) =', reshaped_flights_status['SFO'][1])\n",
        "print('P_SFO(on time|ALASKA) =', reshaped_flights_status['SFO'][0])\n",
        "print('P_SEA(delayed|ALASKA) =', reshaped_flights_status['SEA'][1])\n",
        "print('P_SEA(on time|ALASKA) =', reshaped_flights_status['SEA'][0])\n",
        "\n",
        "print('P_LAX(delayed|AM WEST) =', reshaped_flights_status['LAX'][3])\n",
        "print('P_LAX(on time|AM WEST) =', reshaped_flights_status['LAX'][2])\n",
        "print('P_PHX(delayed|AM WEST) =', reshaped_flights_status['PHX'][3])\n",
        "print('P_PHX(on time|AM WEST) =', reshaped_flights_status['PHX'][2])\n",
        "print('P_SAN(delayed|AM WEST) =', reshaped_flights_status['SAN'][3])\n",
        "print('P_SAN(on time|AM WEST) =', reshaped_flights_status['SAN'][2])\n",
        "print('P_SFO(delayed|AM WEST) =', reshaped_flights_status['SFO'][3])\n",
        "print('P_SFO(on time|AM WEST) =', reshaped_flights_status['SFO'][2])\n",
        "print('P_SEA(delayed|AM WEST) =', reshaped_flights_status['SEA'][3])\n",
        "print('P_SEA(on time|AM WEST) =', reshaped_flights_status['SEA'][2])"
      ],
      "id": "2f8e60e7",
      "execution_count": 10,
      "outputs": [
        {
          "output_type": "stream",
          "name": "stdout",
          "text": [
            "P_LAX(delayed|ALASKA) = 11.09\n",
            "P_LAX(on time|ALASKA) = 88.91\n",
            "P_PHX(delayed|ALASKA) = 5.15\n",
            "P_PHX(on time|ALASKA) = 94.85\n",
            "P_SAN(delayed|ALASKA) = 8.62\n",
            "P_SAN(on time|ALASKA) = 91.38\n",
            "P_SFO(delayed|ALASKA) = 16.86\n",
            "P_SFO(on time|ALASKA) = 83.14\n",
            "P_SEA(delayed|ALASKA) = 14.21\n",
            "P_SEA(on time|ALASKA) = 85.79\n",
            "P_LAX(delayed|AM WEST) = 14.43\n",
            "P_LAX(on time|AM WEST) = 85.57\n",
            "P_PHX(delayed|AM WEST) = 7.9\n",
            "P_PHX(on time|AM WEST) = 92.1\n",
            "P_SAN(delayed|AM WEST) = 14.51\n",
            "P_SAN(on time|AM WEST) = 85.49\n",
            "P_SFO(delayed|AM WEST) = 28.73\n",
            "P_SFO(on time|AM WEST) = 71.27\n",
            "P_SEA(delayed|AM WEST) = 23.28\n",
            "P_SEA(on time|AM WEST) = 76.72\n"
          ]
        },
        {
          "output_type": "stream",
          "name": "stderr",
          "text": [
            "/usr/local/lib/python3.7/dist-packages/ipykernel_launcher.py:5: SettingWithCopyWarning: \n",
            "A value is trying to be set on a copy of a slice from a DataFrame\n",
            "\n",
            "See the caveats in the documentation: https://pandas.pydata.org/pandas-docs/stable/user_guide/indexing.html#returning-a-view-versus-a-copy\n",
            "  \"\"\"\n",
            "/usr/local/lib/python3.7/dist-packages/ipykernel_launcher.py:6: SettingWithCopyWarning: \n",
            "A value is trying to be set on a copy of a slice from a DataFrame\n",
            "\n",
            "See the caveats in the documentation: https://pandas.pydata.org/pandas-docs/stable/user_guide/indexing.html#returning-a-view-versus-a-copy\n",
            "  \n",
            "/usr/local/lib/python3.7/dist-packages/ipykernel_launcher.py:7: SettingWithCopyWarning: \n",
            "A value is trying to be set on a copy of a slice from a DataFrame\n",
            "\n",
            "See the caveats in the documentation: https://pandas.pydata.org/pandas-docs/stable/user_guide/indexing.html#returning-a-view-versus-a-copy\n",
            "  import sys\n",
            "/usr/local/lib/python3.7/dist-packages/ipykernel_launcher.py:8: SettingWithCopyWarning: \n",
            "A value is trying to be set on a copy of a slice from a DataFrame\n",
            "\n",
            "See the caveats in the documentation: https://pandas.pydata.org/pandas-docs/stable/user_guide/indexing.html#returning-a-view-versus-a-copy\n",
            "  \n",
            "/usr/local/lib/python3.7/dist-packages/ipykernel_launcher.py:9: SettingWithCopyWarning: \n",
            "A value is trying to be set on a copy of a slice from a DataFrame\n",
            "\n",
            "See the caveats in the documentation: https://pandas.pydata.org/pandas-docs/stable/user_guide/indexing.html#returning-a-view-versus-a-copy\n",
            "  if __name__ == '__main__':\n",
            "/usr/local/lib/python3.7/dist-packages/ipykernel_launcher.py:11: SettingWithCopyWarning: \n",
            "A value is trying to be set on a copy of a slice from a DataFrame\n",
            "\n",
            "See the caveats in the documentation: https://pandas.pydata.org/pandas-docs/stable/user_guide/indexing.html#returning-a-view-versus-a-copy\n",
            "  # This is added back by InteractiveShellApp.init_path()\n",
            "/usr/local/lib/python3.7/dist-packages/ipykernel_launcher.py:12: SettingWithCopyWarning: \n",
            "A value is trying to be set on a copy of a slice from a DataFrame\n",
            "\n",
            "See the caveats in the documentation: https://pandas.pydata.org/pandas-docs/stable/user_guide/indexing.html#returning-a-view-versus-a-copy\n",
            "  if sys.path[0] == '':\n",
            "/usr/local/lib/python3.7/dist-packages/ipykernel_launcher.py:13: SettingWithCopyWarning: \n",
            "A value is trying to be set on a copy of a slice from a DataFrame\n",
            "\n",
            "See the caveats in the documentation: https://pandas.pydata.org/pandas-docs/stable/user_guide/indexing.html#returning-a-view-versus-a-copy\n",
            "  del sys.path[0]\n",
            "/usr/local/lib/python3.7/dist-packages/ipykernel_launcher.py:14: SettingWithCopyWarning: \n",
            "A value is trying to be set on a copy of a slice from a DataFrame\n",
            "\n",
            "See the caveats in the documentation: https://pandas.pydata.org/pandas-docs/stable/user_guide/indexing.html#returning-a-view-versus-a-copy\n",
            "  \n",
            "/usr/local/lib/python3.7/dist-packages/ipykernel_launcher.py:15: SettingWithCopyWarning: \n",
            "A value is trying to be set on a copy of a slice from a DataFrame\n",
            "\n",
            "See the caveats in the documentation: https://pandas.pydata.org/pandas-docs/stable/user_guide/indexing.html#returning-a-view-versus-a-copy\n",
            "  from ipykernel import kernelapp as app\n"
          ]
        }
      ]
    },
    {
      "cell_type": "markdown",
      "metadata": {
        "id": "8288240c"
      },
      "source": [
        "**Optional** We had already calculated the conditional probability (what is the probability that a flight is delayed given it is ALASKA|AM WEST). Question 3 finds the prior (what is the probabilty a flight to an Airport is ALASKA|AM WEST. Can you invert the conditional probability, $\\mbox{P}_{\\mbox{Airport}}(\\mbox{ALASKA}|\\mbox{delayed})$?"
      ],
      "id": "8288240c"
    },
    {
      "cell_type": "code",
      "metadata": {
        "id": "a8c55163",
        "colab": {
          "base_uri": "https://localhost:8080/"
        },
        "outputId": "f8181b6b-9731-44ae-91dd-06c1864b1efe"
      },
      "source": [
        "# P_airport(ALASKA|delayed) = (P_airport(delayed|ALASKA) * P_airport(ALASKA)) / ((P_airport(delayed|ALASKA) * P_airport(ALASKA)) + (P_airport(delayed|AM West) * P_airport(AM West)))\n",
        "P_LAX_ALASKA_delayed = (reshaped2_flights_status['LAX'][1] * (reshaped2_flights_status['LAX'][0] + reshaped2_flights_status['LAX'][1])) / ((reshaped2_flights_status['LAX'][1] * (reshaped2_flights_status['LAX'][0] + reshaped2_flights_status['LAX'][1])) + (reshaped2_flights_status['LAX'][3] * (reshaped2_flights_status['LAX'][2] + reshaped2_flights_status['LAX'][3]))) * 100\n",
        "P_LAX_ALASKA_delayed = P_LAX_ALASKA_delayed.round(2)\n",
        "print('P_LAX(ALASKA|delayed) =', P_LAX_ALASKA_delayed)\n",
        "P_LAX_AMWest_delayed = (reshaped2_flights_status['LAX'][3] * (reshaped2_flights_status['LAX'][2] + reshaped2_flights_status['LAX'][3])) / ((reshaped2_flights_status['LAX'][1] * (reshaped2_flights_status['LAX'][0] + reshaped2_flights_status['LAX'][1])) + (reshaped2_flights_status['LAX'][3] * (reshaped2_flights_status['LAX'][2] + reshaped2_flights_status['LAX'][3]))) * 100\n",
        "P_LAX_AMWest_delayed = P_LAX_AMWest_delayed.round(2)\n",
        "print('P_LAX(AM West|delayed) =', P_LAX_AMWest_delayed)\n",
        "P_PHX_ALASKA_delayed = (reshaped2_flights_status['PHX'][1] * (reshaped2_flights_status['PHX'][0] + reshaped2_flights_status['PHX'][1])) / ((reshaped2_flights_status['PHX'][1] * (reshaped2_flights_status['PHX'][0] + reshaped2_flights_status['PHX'][1])) + (reshaped2_flights_status['PHX'][3] * (reshaped2_flights_status['PHX'][2] + reshaped2_flights_status['PHX'][3]))) * 100\n",
        "P_PHX_ALASKA_delayed = P_PHX_ALASKA_delayed.round(2)\n",
        "print('P_PHX(ALASKA|delayed) =', P_PHX_ALASKA_delayed)\n",
        "P_PHX_AMWest_delayed = (reshaped2_flights_status['PHX'][3] * (reshaped2_flights_status['PHX'][2] + reshaped2_flights_status['PHX'][3])) / ((reshaped2_flights_status['PHX'][1] * (reshaped2_flights_status['PHX'][0] + reshaped2_flights_status['PHX'][1])) + (reshaped2_flights_status['PHX'][3] * (reshaped2_flights_status['PHX'][2] + reshaped2_flights_status['PHX'][3]))) * 100\n",
        "P_PHX_AMWest_delayed = P_PHX_AMWest_delayed.round(2)\n",
        "print('P_PHX(AM West|delayed) =', P_PHX_AMWest_delayed)\n",
        "P_SAN_ALASKA_delayed = (reshaped2_flights_status['SAN'][1] * (reshaped2_flights_status['SAN'][0] + reshaped2_flights_status['SAN'][1])) / ((reshaped2_flights_status['SAN'][1] * (reshaped2_flights_status['SAN'][0] + reshaped2_flights_status['SAN'][1])) + (reshaped2_flights_status['SAN'][3] * (reshaped2_flights_status['SAN'][2] + reshaped2_flights_status['SAN'][3]))) * 100\n",
        "P_SAN_ALASKA_delayed = P_SAN_ALASKA_delayed.round(2)\n",
        "print('P_SAN(ALASKA|delayed) =', P_SAN_ALASKA_delayed)\n",
        "P_SAN_AMWest_delayed = (reshaped2_flights_status['SAN'][3] * (reshaped2_flights_status['SAN'][2] + reshaped2_flights_status['SAN'][3])) / ((reshaped2_flights_status['SAN'][1] * (reshaped2_flights_status['SAN'][0] + reshaped2_flights_status['SAN'][1])) + (reshaped2_flights_status['SAN'][3] * (reshaped2_flights_status['SAN'][2] + reshaped2_flights_status['SAN'][3]))) * 100\n",
        "P_SAN_AMWest_delayed = P_SAN_AMWest_delayed.round(2)\n",
        "print('P_SAN(AM West|delayed) =', P_SAN_AMWest_delayed)\n",
        "P_SFO_ALASKA_delayed = (reshaped2_flights_status['SFO'][1] * (reshaped2_flights_status['SFO'][0] + reshaped2_flights_status['SFO'][1])) / ((reshaped2_flights_status['SFO'][1] * (reshaped2_flights_status['SFO'][0] + reshaped2_flights_status['SFO'][1])) + (reshaped2_flights_status['SFO'][3] * (reshaped2_flights_status['SFO'][2] + reshaped2_flights_status['SFO'][3]))) * 100\n",
        "P_SFO_ALASKA_delayed = P_SFO_ALASKA_delayed.round(2)\n",
        "print('P_SFO(ALASKA|delayed) =', P_SFO_ALASKA_delayed)\n",
        "P_SFO_AMWest_delayed = (reshaped2_flights_status['SFO'][3] * (reshaped2_flights_status['SFO'][2] + reshaped2_flights_status['SFO'][3])) / ((reshaped2_flights_status['SFO'][1] * (reshaped2_flights_status['SFO'][0] + reshaped2_flights_status['SFO'][1])) + (reshaped2_flights_status['SFO'][3] * (reshaped2_flights_status['SFO'][2] + reshaped2_flights_status['SFO'][3]))) * 100\n",
        "P_SFO_AMWest_delayed = P_SFO_AMWest_delayed.round(2)\n",
        "print('P_SFO(AM West|delayed) =', P_SFO_AMWest_delayed)\n",
        "P_SEA_ALASKA_delayed = (reshaped2_flights_status['SEA'][1] * (reshaped2_flights_status['SEA'][0] + reshaped2_flights_status['SEA'][1])) / ((reshaped2_flights_status['SEA'][1] * (reshaped2_flights_status['SEA'][0] + reshaped2_flights_status['SEA'][1])) + (reshaped2_flights_status['SEA'][3] * (reshaped2_flights_status['SEA'][2] + reshaped2_flights_status['SEA'][3]))) * 100\n",
        "P_SEA_ALASKA_delayed = P_SEA_ALASKA_delayed.round(2)\n",
        "print('P_SEA(ALASKA|delayed) =', P_SEA_ALASKA_delayed)\n",
        "P_SEA_AMWest_delayed = (reshaped2_flights_status['SEA'][3] * (reshaped2_flights_status['SEA'][2] + reshaped2_flights_status['SEA'][3])) / ((reshaped2_flights_status['SEA'][1] * (reshaped2_flights_status['SEA'][0] + reshaped2_flights_status['SEA'][1])) + (reshaped2_flights_status['SEA'][3] * (reshaped2_flights_status['SEA'][2] + reshaped2_flights_status['SEA'][3]))) * 100\n",
        "P_SEA_AMWest_delayed = P_SEA_AMWest_delayed.round(2)\n",
        "print('P_SEA(AM West|delayed) =', P_SEA_AMWest_delayed)"
      ],
      "id": "a8c55163",
      "execution_count": 11,
      "outputs": [
        {
          "output_type": "stream",
          "name": "stdout",
          "text": [
            "P_LAX(ALASKA|delayed) = 26.78\n",
            "P_LAX(AM West|delayed) = 73.22\n",
            "P_PHX(ALASKA|delayed) = 0.13\n",
            "P_PHX(AM West|delayed) = 99.87\n",
            "P_SAN(ALASKA|delayed) = 13.74\n",
            "P_SAN(AM West|delayed) = 86.26\n",
            "P_SFO(ALASKA|delayed) = 51.59\n",
            "P_SFO(AM West|delayed) = 48.41\n",
            "P_SEA(ALASKA|delayed) = 97.62\n",
            "P_SEA(AM West|delayed) = 2.38\n"
          ]
        }
      ]
    },
    {
      "cell_type": "markdown",
      "metadata": {
        "id": "0726af4f"
      },
      "source": [
        "## Part 2: Working with your own data\n",
        "\n",
        "Think back to Homework #2. Use the code we developed there as a framework to wrangle some data of your own into a pandas dataframe. **Bonus**: can you find an application for one of the dataframe manipulations reviewed in this homework assignment (aggregating, melting, pivoting)  \n",
        "\n",
        "<br><br>"
      ],
      "id": "0726af4f"
    },
    {
      "cell_type": "code",
      "metadata": {
        "id": "nP9dYOZXAGR4"
      },
      "source": [
        "# importing handy libraries \n",
        "import scipy.io \n",
        "import seaborn as sns"
      ],
      "id": "nP9dYOZXAGR4",
      "execution_count": 12,
      "outputs": []
    },
    {
      "cell_type": "code",
      "metadata": {
        "colab": {
          "resources": {
            "http://localhost:8080/nbextensions/google.colab/files.js": {
              "data": "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",
              "ok": true,
              "headers": [
                [
                  "content-type",
                  "application/javascript"
                ]
              ],
              "status": 200,
              "status_text": ""
            }
          },
          "base_uri": "https://localhost:8080/",
          "height": 108
        },
        "id": "q3ZeKr7QRG2h",
        "outputId": "b87cc2d5-dc15-4f84-9ab6-33c521176e76"
      },
      "source": [
        "# uploading my data\n",
        "from google.colab import files\n",
        "uploaded = files.upload()"
      ],
      "id": "q3ZeKr7QRG2h",
      "execution_count": 13,
      "outputs": [
        {
          "output_type": "display_data",
          "data": {
            "text/html": [
              "\n",
              "     <input type=\"file\" id=\"files-654665c6-8cba-4b33-af29-bc8858aec739\" name=\"files[]\" multiple disabled\n",
              "        style=\"border:none\" />\n",
              "     <output id=\"result-654665c6-8cba-4b33-af29-bc8858aec739\">\n",
              "      Upload widget is only available when the cell has been executed in the\n",
              "      current browser session. Please rerun this cell to enable.\n",
              "      </output>\n",
              "      <script src=\"/nbextensions/google.colab/files.js\"></script> "
            ],
            "text/plain": [
              "<IPython.core.display.HTML object>"
            ]
          },
          "metadata": {}
        },
        {
          "output_type": "stream",
          "name": "stdout",
          "text": [
            "Saving 110223_g21_contra.mat to 110223_g21_contra.mat\n",
            "Saving 110223_g21_ipsi.mat to 110223_g21_ipsi.mat\n"
          ]
        }
      ]
    },
    {
      "cell_type": "code",
      "metadata": {
        "colab": {
          "base_uri": "https://localhost:8080/"
        },
        "id": "TOwp37VzAHTR",
        "outputId": "ed4f9264-eadb-4cd3-d6db-75fcc5f5c236"
      },
      "source": [
        "# Contralateral Eye\n",
        "Contra = scipy.io.loadmat('110223_g21_contra.mat')\n",
        "print(type(Contra))\n",
        "print(Contra.keys())"
      ],
      "id": "TOwp37VzAHTR",
      "execution_count": 14,
      "outputs": [
        {
          "output_type": "stream",
          "name": "stdout",
          "text": [
            "<class 'dict'>\n",
            "dict_keys(['__header__', '__version__', '__globals__', 'Contra_Chs'])\n"
          ]
        }
      ]
    },
    {
      "cell_type": "code",
      "metadata": {
        "colab": {
          "base_uri": "https://localhost:8080/"
        },
        "id": "pJQ0z5JYAJhA",
        "outputId": "853d6f8b-6150-4a00-c740-3c595f329ec7"
      },
      "source": [
        "# Ipsilateral Eye\n",
        "Ipsi = scipy.io.loadmat('110223_g21_ipsi.mat')\n",
        "print(type(Ipsi))\n",
        "print(Ipsi.keys())"
      ],
      "id": "pJQ0z5JYAJhA",
      "execution_count": 15,
      "outputs": [
        {
          "output_type": "stream",
          "name": "stdout",
          "text": [
            "<class 'dict'>\n",
            "dict_keys(['__header__', '__version__', '__globals__', 'Ipsi_Chs'])\n"
          ]
        }
      ]
    },
    {
      "cell_type": "code",
      "metadata": {
        "id": "zHTDRgNcAL4A"
      },
      "source": [
        "# Organizing data in new variables\n",
        "Contra_Ch_data = Contra['Contra_Chs'][0][0][0]\n",
        "Contra_penetration = Contra['Contra_Chs'][0][0][1]\n",
        "Contra_idx = Contra['Contra_Chs'][0][0][2]\n",
        "C_OriPref_idx = Contra['Contra_Chs'][0][0][2]['OriPref'][0][0][0][0]\n",
        "\n",
        "Ipsi_Ch_data = Ipsi['Ipsi_Chs'][0][0][0]\n",
        "Ipsi_penetration = Ipsi['Ipsi_Chs'][0][0][1]\n",
        "Ipsi_idx = Ipsi['Ipsi_Chs'][0][0][2]\n",
        "I_OriPref_idx = Ipsi['Ipsi_Chs'][0][0][2]['OriPref'][0][0][0][0]"
      ],
      "id": "zHTDRgNcAL4A",
      "execution_count": 16,
      "outputs": []
    },
    {
      "cell_type": "code",
      "metadata": {
        "colab": {
          "base_uri": "https://localhost:8080/"
        },
        "id": "qj0kw6JrRRBA",
        "outputId": "f0054bd1-607d-43f5-d511-9c777f920ce8"
      },
      "source": [
        "# investigating if there is a matched orientation preference between two eyes\n",
        "C_OriPref = Contra_Ch_data[0:33, C_OriPref_idx-1]\n",
        "I_OriPref = Ipsi_Ch_data[0:33, I_OriPref_idx-1]\n",
        "CI_Corr = np.corrcoef(C_OriPref, I_OriPref)[0][1].round(2)\n",
        "print('Correlation in orientation preference between two eyes at this penetration is:', CI_Corr)"
      ],
      "id": "qj0kw6JrRRBA",
      "execution_count": 17,
      "outputs": [
        {
          "output_type": "stream",
          "name": "stdout",
          "text": [
            "Correlation in orientation preference between two eyes at this penetration is: 0.99\n"
          ]
        }
      ]
    },
    {
      "cell_type": "code",
      "metadata": {
        "id": "Oq733aePRRwp"
      },
      "source": [
        "# I will present more data along with a good visualization in my final project"
      ],
      "id": "Oq733aePRRwp",
      "execution_count": 18,
      "outputs": []
    }
  ]
}