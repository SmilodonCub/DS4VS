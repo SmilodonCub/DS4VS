{
 "cells": [
  {
   "cell_type": "markdown",
   "id": "ab0c347e",
   "metadata": {
    "slideshow": {
     "slide_type": "slide"
    }
   },
   "source": [
    "# Week 12: Unsupervised Learning \n",
    "\n",
    "## Dimensionality Reduction"
   ]
  },
  {
   "cell_type": "markdown",
   "id": "20ca7c3e",
   "metadata": {
    "slideshow": {
     "slide_type": "slide"
    }
   },
   "source": [
    "## a Brief Recap:\n",
    "\n",
    "* Hello, how are you?\n",
    "* Today: Dimensionality Reductions, Unsupervised Learning Methods for Numeric Targets\n",
    "* Next week: Culstering, Unsupervised Learning for Categorical Targets"
   ]
  },
  {
   "cell_type": "markdown",
   "id": "50d0ae20",
   "metadata": {
    "slideshow": {
     "slide_type": "slide"
    }
   },
   "source": [
    "## Unsupervised Learning\n",
    "\n",
    "What if we have some data in the form of a feature space, but no information on the target variable?  \n",
    "\n",
    "Unsupervised Learning Methods do not get feedback on a target, rather, unsupervised learning seeks to discover patterns in the features provided.  "
   ]
  },
  {
   "cell_type": "markdown",
   "id": "74d5a9ef",
   "metadata": {
    "slideshow": {
     "slide_type": "subslide"
    }
   },
   "source": [
    "#### Families of Unsupervised Methods:  \n",
    "\n",
    "* Dimensionality Reduction \n",
    "    - PCA - principle component analysis\n",
    "    - LDA - linear discirminant analysis\n",
    "    - SVD - singular value decomposition\n",
    "* Clustering\n",
    "    - k-Means\n",
    "    - Hierarchical lustering\n",
    "    - Gaussian Mixture Densities\n",
    "* Association Rule Learning\n",
    "    - Apriori (breadth first)\n",
    "    - Eclat (Depth first)\n",
    "* Non-parametric\n",
    "    - kernel estimators"
   ]
  },
  {
   "cell_type": "markdown",
   "id": "647410ba",
   "metadata": {
    "slideshow": {
     "slide_type": "slide"
    }
   },
   "source": [
    "## Dimensionality Reduction\n",
    "\n",
    "Reducing the dimensionality (degrees of freedom) of a dataset."
   ]
  },
  {
   "cell_type": "markdown",
   "id": "c5a0ad2a",
   "metadata": {
    "slideshow": {
     "slide_type": "slide"
    }
   },
   "source": [
    "### The Curse of Dimensionality: The same amount of feature space holds fewer observations\n",
    "\n",
    "<img src=\"https://eranraviv.com/wp-content/uploads/2016/01/COD.png\" width=\"55%\" style=\"margin-left:auto; margin-right:auto\">"
   ]
  },
  {
   "cell_type": "markdown",
   "id": "9e3e9f93",
   "metadata": {
    "slideshow": {
     "slide_type": "subslide"
    }
   },
   "source": [
    "### The Curse of Dimensionality: Sampling more feature space is required to describe the same amount of observations\n",
    "\n",
    "<img src=\"https://www.visiondummy.com/wp-content/uploads/2014/04/curseofdimensionality.png\" width=\"70%\" style=\"margin-left:auto; margin-right:auto\">\n",
    "\n",
    "[computer vision for dummies link](https://www.visiondummy.com/2014/04/curse-dimensionality-affect-classification/)"
   ]
  },
  {
   "cell_type": "markdown",
   "id": "d50f734c",
   "metadata": {
    "slideshow": {
     "slide_type": "slide"
    }
   },
   "source": [
    "### Why reduce the dimension space; isn't more information better?  \n",
    "\n",
    "* high dimensional datasets are very sparse!\n",
    "* remove uninformative features to increase the power of inferences made during testing\n",
    "* simple models are more robust, because the performance varies less\n",
    "* simple models are easier to interpret"
   ]
  },
  {
   "cell_type": "markdown",
   "id": "c028efc4",
   "metadata": {
    "slideshow": {
     "slide_type": "fragment"
    }
   },
   "source": [
    "### How to reduce the dimension space\n",
    "\n",
    "* **feature selection** - if all features are independent, use a criteria to subset features relevant to the model\n",
    "    - ex: forward or backward features selection\n",
    "* **feature extraction** - finding a new set of dimensions that are derived from the dataset features\n",
    "    - **Projection** - find a subspace of the features that explains as much of the variance as possible\n",
    "    - **Manifold Learning** - a [**manifold**](https://scikit-learn.org/stable/auto_examples/manifold/plot_swissroll.html) is a higher dimensional distribution that locally resembles a lower dimensional hyperplane. manifold learning assumes that high dimensional data can be described by a lower dimensional manifold"
   ]
  },
  {
   "cell_type": "markdown",
   "id": "40533a7d",
   "metadata": {
    "slideshow": {
     "slide_type": "slide"
    }
   },
   "source": [
    "## PCA\n",
    "\n",
    "**PCA** - Principle Component Analysis. We are interested in finding a mapping from the original dataset feature space with $d$ degress of freedom to a new space with $k$ degrees of freedom where $k\\lt d$; we would like to minimize the loss of information in the process\n",
    "\n",
    "* map to a smaller feature space\n",
    "* try to preserve information\n",
    "* obtain the uncorrelated components of the features"
   ]
  },
  {
   "cell_type": "markdown",
   "id": "87a199ac",
   "metadata": {
    "slideshow": {
     "slide_type": "fragment"
    }
   },
   "source": [
    "#### New Axes\n",
    "\n",
    "PCA identifies new axes.  \n",
    "The first axis (PC1) fits the data to explain most of the variance  \n",
    "The second axis (PC2) is orthogonal to PC1 such that it explains the largest amount of remaining variance  \n",
    "PCA will continue finding as many new axes as there are degrees of freedom in the dataset"
   ]
  },
  {
   "cell_type": "markdown",
   "id": "0b1fef9b",
   "metadata": {
    "slideshow": {
     "slide_type": "subslide"
    }
   },
   "source": [
    "### Preserving Variance\n",
    "\n",
    "PCA works by finding a hyperplane that lies closest to the data.\n",
    "\n",
    "<img src=\"https://www.analyticsvidhya.com/wp-content/uploads/2016/03/2-1-e1458494877196.png\" width=\"70%\" style=\"margin-left:auto; margin-right:auto\">\n"
   ]
  },
  {
   "cell_type": "markdown",
   "id": "30a63cbe",
   "metadata": {
    "slideshow": {
     "slide_type": "subslide"
    }
   },
   "source": [
    "### Choosing the Right Hyperplane\n",
    "\n",
    "We would like to:  \n",
    "\n",
    "* idenitify the axis that accounts for most variance\n",
    "* this will also minimize the minimize the mean squared distance of the original data onto the new axis"
   ]
  },
  {
   "cell_type": "markdown",
   "id": "86452c33",
   "metadata": {
    "slideshow": {
     "slide_type": "fragment"
    }
   },
   "source": [
    "Before we dive too deep into PCA, let's meet the dataset we will be working with...."
   ]
  },
  {
   "cell_type": "markdown",
   "id": "f89966c6",
   "metadata": {
    "slideshow": {
     "slide_type": "slide"
    }
   },
   "source": [
    "## Spike Waveforms\n",
    "\n",
    "Import and visualize spike waveform data"
   ]
  },
  {
   "cell_type": "code",
   "execution_count": 1,
   "id": "a0b83dcd",
   "metadata": {},
   "outputs": [],
   "source": [
    "import pandas as pd\n",
    "import numpy as np\n",
    "import matplotlib.pyplot as plt\n",
    "import seaborn as sn"
   ]
  },
  {
   "cell_type": "code",
   "execution_count": 2,
   "id": "b811c9e7",
   "metadata": {
    "slideshow": {
     "slide_type": "subslide"
    }
   },
   "outputs": [
    {
     "name": "stdout",
     "output_type": "stream",
     "text": [
      "<class 'pandas.core.frame.DataFrame'>\n",
      "Index: 651 entries, VT007_066B to AP026R_054G\n",
      "Columns: 151 entries, 0 to organoid\n",
      "dtypes: float64(150), object(1)\n",
      "memory usage: 773.1+ KB\n"
     ]
    }
   ],
   "source": [
    "url = 'https://raw.githubusercontent.com/SmilodonCub/DS4VS/master/datasets/waveforms.csv'\n",
    "waveforms = pd.read_csv( url, index_col = 'uid' )\n",
    "waveforms.info()"
   ]
  },
  {
   "cell_type": "code",
   "execution_count": 3,
   "id": "88fa8bda",
   "metadata": {
    "slideshow": {
     "slide_type": "subslide"
    }
   },
   "outputs": [
    {
     "data": {
      "text/plain": [
       "AP_drug           163\n",
       "TSCp5_32s         120\n",
       "TSCp5_30s         103\n",
       "AP_ctrl           102\n",
       "DLX_Cheriff        65\n",
       "TSCp5_32s_CHIR     46\n",
       "DLX_bluered        32\n",
       "TSCp5_30s_CHIR     13\n",
       "DLX_H9              7\n",
       "Name: organoid, dtype: int64"
      ]
     },
     "execution_count": 3,
     "metadata": {},
     "output_type": "execute_result"
    }
   ],
   "source": [
    "waveforms.organoid.value_counts()"
   ]
  },
  {
   "cell_type": "code",
   "execution_count": 26,
   "id": "0143433f",
   "metadata": {
    "slideshow": {
     "slide_type": "subslide"
    }
   },
   "outputs": [
    {
     "name": "stdout",
     "output_type": "stream",
     "text": [
      "['DLX_Cheriff' 'DLX_bluered' 'DLX_H9' 'TSCp5_32s_CHIR' 'TSCp5_32s'\n",
      " 'TSCp5_30s' 'TSCp5_30s_CHIR' 'AP_drug' 'AP_ctrl']\n"
     ]
    }
   ],
   "source": [
    "wf_features = waveforms.drop(['organoid'], axis = 1, inplace = False )\n",
    "organoids = waveforms.organoid.unique()\n",
    "print( organoids )"
   ]
  },
  {
   "cell_type": "markdown",
   "id": "0f861e7e",
   "metadata": {
    "slideshow": {
     "slide_type": "slide"
    }
   },
   "source": [
    "### Visualize some spike waveforms..."
   ]
  },
  {
   "cell_type": "code",
   "execution_count": 5,
   "id": "6fc53524",
   "metadata": {},
   "outputs": [],
   "source": [
    "def plot_waveforms( df, index_list, mat_dim ):\n",
    "\n",
    "    fig, ax = plt.subplots(mat_dim, mat_dim, figsize=(8,8))\n",
    "\n",
    "    for idx, im_idx in enumerate( index_list ):\n",
    "        some_waveform = np.array( df.iloc[im_idx] )\n",
    "        plt.subplot( mat_dim,mat_dim,idx + 1 )\n",
    "        plt.plot(some_waveform, color = 'black')\n",
    "        plt.axis( 'off' )\n",
    "    #plt.show()"
   ]
  },
  {
   "cell_type": "code",
   "execution_count": 6,
   "id": "f2403351",
   "metadata": {
    "slideshow": {
     "slide_type": "subslide"
    }
   },
   "outputs": [
    {
     "data": {
      "image/png": "[encoded data removed]",
      "text/plain": [
       "<Figure size 576x576 with 100 Axes>"
      ]
     },
     "metadata": {
      "needs_background": "light"
     },
     "output_type": "display_data"
    }
   ],
   "source": [
    "num_plots = 10\n",
    "rand_waveforms = np.random.choice(range(wf_features.shape[0]), size = num_plots**2, replace = False)\n",
    "plot_waveforms( wf_features, rand_waveforms, num_plots)"
   ]
  },
  {
   "cell_type": "code",
   "execution_count": 7,
   "id": "dca261d2",
   "metadata": {
    "slideshow": {
     "slide_type": "subslide"
    }
   },
   "outputs": [
    {
     "data": {
      "image/png": "[encoded data removed]",
      "text/plain": [
       "<Figure size 576x576 with 25 Axes>"
      ]
     },
     "metadata": {
      "needs_background": "light"
     },
     "output_type": "display_data"
    }
   ],
   "source": [
    "# plot similar waveforms\n",
    "idx = 8\n",
    "choice_organoid = organoids[idx]\n",
    "organoid_df = waveforms[ waveforms['organoid']==choice_organoid ]\n",
    "organoid_plot = waveforms.drop(['organoid'], axis = 1, inplace = False )\n",
    "\n",
    "num_plots = 5\n",
    "rand_waveforms = np.random.choice(range(organoid_plot.shape[0]), size = num_plots**2, replace = False)\n",
    "plot_waveforms( organoid_plot, rand_waveforms, num_plots)\n",
    "plt.suptitle(organoids[idx], fontsize = 20)\n",
    "plt.show()"
   ]
  },
  {
   "cell_type": "markdown",
   "id": "00ad4270",
   "metadata": {
    "slideshow": {
     "slide_type": "slide"
    }
   },
   "source": [
    "## Dimensionality Reduction of Spike Waveforms\n",
    "\n",
    "We have a collection of waveforms each with 150 features (samples). We want to use PCA to reduce this to the smallest number of features that can still account for the most variance in the data so that we can distinguish between cell types. "
   ]
  },
  {
   "cell_type": "markdown",
   "id": "2b39f6b8",
   "metadata": {
    "slideshow": {
     "slide_type": "fragment"
    }
   },
   "source": [
    "Let's talk about PCA in more depth to learn how best to go about this with our spike data..."
   ]
  },
  {
   "cell_type": "markdown",
   "id": "27c73f5f",
   "metadata": {
    "slideshow": {
     "slide_type": "slide"
    }
   },
   "source": [
    "### PCA Algorithm\n",
    "\n",
    "PCA is a matrix decomposition that we apply to the features of a dataset\n",
    "\n",
    "1. Center & Normalize the Data\n",
    "2. Calculate the Covariance Matrix\n",
    "3. Perform an Eigendecomposition\n",
    "4. Obtain the projections of the data (Components)"
   ]
  },
  {
   "cell_type": "markdown",
   "id": "3d10af5b",
   "metadata": {
    "slideshow": {
     "slide_type": "slide"
    }
   },
   "source": [
    "## 1) Center & Normalize the Data\n",
    "\n",
    "1. Center -> demean the data so that the mean of each feature == zero\n",
    "2. Normalize -> scale the data to have unit variance"
   ]
  },
  {
   "cell_type": "code",
   "execution_count": 57,
   "id": "6ecd8845",
   "metadata": {},
   "outputs": [],
   "source": [
    "from sklearn.preprocessing import StandardScaler\n",
    "wf_scaled = StandardScaler().fit_transform( wf_features )"
   ]
  },
  {
   "cell_type": "markdown",
   "id": "b39fcf29",
   "metadata": {
    "slideshow": {
     "slide_type": "slide"
    }
   },
   "source": [
    "## 2) Calculate the Covariance Matrix\n",
    "\n"
   ]
  },
  {
   "cell_type": "code",
   "execution_count": 58,
   "id": "9af1c709",
   "metadata": {},
   "outputs": [],
   "source": [
    "wf_scaledT = wf_scaled.T\n",
    "cov_matrix = np.cov(wf_scaledT)"
   ]
  },
  {
   "cell_type": "markdown",
   "id": "312a484b",
   "metadata": {
    "slideshow": {
     "slide_type": "subslide"
    }
   },
   "source": [
    "The result is a square symmetric matrix  \n",
    "The variance of each feature is given along the diagonal  \n",
    "The covariances between all features are given off the diagonal  "
   ]
  },
  {
   "cell_type": "code",
   "execution_count": 59,
   "id": "b4e21d16",
   "metadata": {},
   "outputs": [
    {
     "data": {
      "image/png": "[encoded data removed]",
      "text/plain": [
       "<Figure size 432x288 with 2 Axes>"
      ]
     },
     "metadata": {
      "needs_background": "light"
     },
     "output_type": "display_data"
    }
   ],
   "source": [
    "sn.heatmap(cov_matrix, annot=False, fmt='g')\n",
    "plt.show()"
   ]
  },
  {
   "cell_type": "markdown",
   "id": "563b3898",
   "metadata": {
    "slideshow": {
     "slide_type": "subslide"
    }
   },
   "source": [
    "## 3) Perform an Eigendecomposition\n",
    "\n",
    "decompose the covariance matrix into simple unit vectors (eigenvector) and associated coefficients/magnitudes (eigenvalues)"
   ]
  },
  {
   "cell_type": "code",
   "execution_count": 11,
   "id": "e57d44f2",
   "metadata": {},
   "outputs": [],
   "source": [
    "# perform the eigendecomposition\n",
    "values, vectors = np.linalg.eig(cov_matrix)"
   ]
  },
  {
   "cell_type": "markdown",
   "id": "f3476f70",
   "metadata": {},
   "source": [
    "#### the Explained Variance\n",
    "\n",
    "a ratio that indicates the proportion of the dataset's variance that is explained by each axis"
   ]
  },
  {
   "cell_type": "code",
   "execution_count": 12,
   "id": "f467a9b3",
   "metadata": {},
   "outputs": [],
   "source": [
    "# calculate the percentage of variance explained by each component\n",
    "explained_variance = [ values[i] / np.sum(values) for i in range( len( values ) ) ]"
   ]
  },
  {
   "cell_type": "code",
   "execution_count": 13,
   "id": "3683a899",
   "metadata": {
    "slideshow": {
     "slide_type": "subslide"
    }
   },
   "outputs": [],
   "source": [
    "# plot the amount of\n",
    "csum_values = values.cumsum()/values.shape[0]\n",
    "\n",
    "N_components = 20\n",
    "x = np.arange(1, N_components+1, step=1)\n",
    "y = csum_values[0:N_components]\n",
    "\n",
    "def plot_cvar( x, y, num_C ):\n",
    "    fig, ax = plt.subplots(figsize=(10, 6))\n",
    "    plt.plot(x, y, '-', color='gray', alpha = 0.4)\n",
    "    plt.plot(x, y, 'o', color='k')\n",
    "    plt.ylim(0.0,1.2)\n",
    "    plt.xlabel('Principal components')\n",
    "    plt.xticks(np.arange(0, N_components + 1, step=1))\n",
    "    plt.ylabel('Cumulative variance')\n",
    "    plt.axhline(y = 0.95, color = 'brown', linestyle = '--')\n",
    "    plt.hlines(y = y[1], xmin = 0, xmax = 2, color = 'C0', linestyle = '--')\n",
    "    plt.text(0.5, 1, '95% $\\sigma$', color = 'brown', fontsize=12)\n",
    "    plt.text(0.5, y[1]+0.05, s=f'{y[1]*100:1.2f}%', color = 'C0', fontsize= 12)"
   ]
  },
  {
   "cell_type": "code",
   "execution_count": 14,
   "id": "bbf999d9",
   "metadata": {
    "slideshow": {
     "slide_type": "subslide"
    }
   },
   "outputs": [
    {
     "data": {
      "image/png": "[encoded data removed]",
      "text/plain": [
       "<Figure size 720x432 with 1 Axes>"
      ]
     },
     "metadata": {
      "needs_background": "light"
     },
     "output_type": "display_data"
    }
   ],
   "source": [
    "#scree graph\n",
    "plot_cvar( x,y,N_components)"
   ]
  },
  {
   "cell_type": "markdown",
   "id": "d9da3d23",
   "metadata": {
    "slideshow": {
     "slide_type": "subslide"
    }
   },
   "source": [
    "### Obtain the Components"
   ]
  },
  {
   "cell_type": "code",
   "execution_count": 15,
   "id": "217d069a",
   "metadata": {},
   "outputs": [
    {
     "data": {
      "text/html": [
       "<div>\n",
       "<style scoped>\n",
       "    .dataframe tbody tr th:only-of-type {\n",
       "        vertical-align: middle;\n",
       "    }\n",
       "\n",
       "    .dataframe tbody tr th {\n",
       "        vertical-align: top;\n",
       "    }\n",
       "\n",
       "    .dataframe thead th {\n",
       "        text-align: right;\n",
       "    }\n",
       "</style>\n",
       "<table border=\"1\" class=\"dataframe\">\n",
       "  <thead>\n",
       "    <tr style=\"text-align: right;\">\n",
       "      <th></th>\n",
       "      <th>PC1</th>\n",
       "      <th>PC2</th>\n",
       "      <th>PC3</th>\n",
       "    </tr>\n",
       "  </thead>\n",
       "  <tbody>\n",
       "    <tr>\n",
       "      <th>0</th>\n",
       "      <td>-2.088232</td>\n",
       "      <td>4.919215</td>\n",
       "      <td>1.493662</td>\n",
       "    </tr>\n",
       "    <tr>\n",
       "      <th>1</th>\n",
       "      <td>-4.842392</td>\n",
       "      <td>-0.797512</td>\n",
       "      <td>-2.059672</td>\n",
       "    </tr>\n",
       "    <tr>\n",
       "      <th>2</th>\n",
       "      <td>-2.666606</td>\n",
       "      <td>1.622787</td>\n",
       "      <td>-0.236874</td>\n",
       "    </tr>\n",
       "    <tr>\n",
       "      <th>3</th>\n",
       "      <td>1.728001</td>\n",
       "      <td>1.910773</td>\n",
       "      <td>5.812638</td>\n",
       "    </tr>\n",
       "    <tr>\n",
       "      <th>4</th>\n",
       "      <td>-8.084174</td>\n",
       "      <td>-1.225774</td>\n",
       "      <td>-8.690275</td>\n",
       "    </tr>\n",
       "  </tbody>\n",
       "</table>\n",
       "</div>"
      ],
      "text/plain": [
       "        PC1       PC2       PC3\n",
       "0 -2.088232  4.919215  1.493662\n",
       "1 -4.842392 -0.797512 -2.059672\n",
       "2 -2.666606  1.622787 -0.236874\n",
       "3  1.728001  1.910773  5.812638\n",
       "4 -8.084174 -1.225774 -8.690275"
      ]
     },
     "execution_count": 15,
     "metadata": {},
     "output_type": "execute_result"
    }
   ],
   "source": [
    "projection_1 = wf_scaled.dot(vectors.T[0])\n",
    "projection_2 = wf_scaled.dot(vectors.T[1])\n",
    "projection_3 = wf_scaled.dot(vectors.T[2])\n",
    "res = pd.DataFrame(projection_1, columns=['PC1'])\n",
    "res['PC2'] = projection_2\n",
    "res['PC3'] = projection_3\n",
    "res.head()"
   ]
  },
  {
   "cell_type": "markdown",
   "id": "06327e9b",
   "metadata": {
    "slideshow": {
     "slide_type": "subslide"
    }
   },
   "source": [
    "### Visualize PC1 & PC2"
   ]
  },
  {
   "cell_type": "code",
   "execution_count": 40,
   "id": "6b32b006",
   "metadata": {},
   "outputs": [
    {
     "data": {
      "image/png": "[encoded data removed]",
      "text/plain": [
       "<Figure size 720x432 with 1 Axes>"
      ]
     },
     "metadata": {
      "needs_background": "light"
     },
     "output_type": "display_data"
    }
   ],
   "source": [
    "fig, ax = plt.subplots(figsize=(10, 6))\n",
    "plt.scatter( res['PC1'], res['PC2'] )\n",
    "plt.xlabel(\"PC1\")\n",
    "plt.ylabel(\"PC2\") \n",
    "plt.title('2 PCs')\n",
    "plt.show()"
   ]
  },
  {
   "cell_type": "markdown",
   "id": "703d3ed6",
   "metadata": {
    "slideshow": {
     "slide_type": "slide"
    }
   },
   "source": [
    "## PCA by way of `sklearn`"
   ]
  },
  {
   "cell_type": "code",
   "execution_count": 17,
   "id": "71c4f6ec",
   "metadata": {},
   "outputs": [
    {
     "data": {
      "image/png": "[encoded data removed]",
      "text/plain": [
       "<Figure size 720x432 with 1 Axes>"
      ]
     },
     "metadata": {
      "needs_background": "light"
     },
     "output_type": "display_data"
    }
   ],
   "source": [
    "from sklearn.decomposition import PCA\n",
    "sklpca = PCA( n_components=N_components )\n",
    "wf_sklpca = sklpca.fit( wf_features ) #scikit-learn centers the data for us\n",
    "y = np.cumsum( sklpca.explained_variance_ratio_ )\n",
    "plot_cvar( x,y,N_components)"
   ]
  },
  {
   "cell_type": "markdown",
   "id": "c0ef0176",
   "metadata": {
    "slideshow": {
     "slide_type": "subslide"
    }
   },
   "source": [
    "## improving....\n",
    "\n",
    "If we look at the waveforms that we plotted previously, we can see that there is some baseline leading the waveforms."
   ]
  },
  {
   "cell_type": "code",
   "execution_count": 39,
   "id": "067ff44a",
   "metadata": {},
   "outputs": [
    {
     "data": {
      "image/png": "[encoded data removed]",
      "text/plain": [
       "<Figure size 720x432 with 1 Axes>"
      ]
     },
     "metadata": {
      "needs_background": "light"
     },
     "output_type": "display_data"
    }
   ],
   "source": [
    "fig, ax = plt.subplots(figsize=(10, 6))\n",
    "for idx in range( 0, wf_features.shape[1]):\n",
    "    plt.plot( list( range( 0, wf_features.shape[1] ) ), wf_features.iloc[idx,:], \"gray\", linewidth=1, alpha=0.3 )    \n",
    "plt.show()"
   ]
  },
  {
   "cell_type": "markdown",
   "id": "7c4cb992",
   "metadata": {
    "slideshow": {
     "slide_type": "subslide"
    }
   },
   "source": [
    "Let's drop ~25 ms (first 25 features) and see how this affects the PCA..."
   ]
  },
  {
   "cell_type": "code",
   "execution_count": 18,
   "id": "e30fef14",
   "metadata": {},
   "outputs": [
    {
     "data": {
      "image/png": "[encoded data removed]",
      "text/plain": [
       "<Figure size 720x432 with 1 Axes>"
      ]
     },
     "metadata": {
      "needs_background": "light"
     },
     "output_type": "display_data"
    }
   ],
   "source": [
    "wf_dropbaseline = wf_features[25:]\n",
    "sklpca = PCA( n_components=N_components )\n",
    "wf_sklpca = sklpca.fit( wf_dropbaseline )\n",
    "y = np.cumsum( sklpca.explained_variance_ratio_ )\n",
    "plot_cvar( x,y,N_components)"
   ]
  },
  {
   "cell_type": "markdown",
   "id": "97d68c3b",
   "metadata": {
    "slideshow": {
     "slide_type": "slide"
    }
   },
   "source": [
    "## Visualizing the first 3 Principle Components"
   ]
  },
  {
   "cell_type": "code",
   "execution_count": 41,
   "id": "affe7468",
   "metadata": {},
   "outputs": [
    {
     "data": {
      "text/html": [
       "<div>\n",
       "<style scoped>\n",
       "    .dataframe tbody tr th:only-of-type {\n",
       "        vertical-align: middle;\n",
       "    }\n",
       "\n",
       "    .dataframe tbody tr th {\n",
       "        vertical-align: top;\n",
       "    }\n",
       "\n",
       "    .dataframe thead th {\n",
       "        text-align: right;\n",
       "    }\n",
       "</style>\n",
       "<table border=\"1\" class=\"dataframe\">\n",
       "  <thead>\n",
       "    <tr style=\"text-align: right;\">\n",
       "      <th></th>\n",
       "      <th>PC1</th>\n",
       "      <th>PC2</th>\n",
       "      <th>PC3</th>\n",
       "      <th>organoid</th>\n",
       "    </tr>\n",
       "  </thead>\n",
       "  <tbody>\n",
       "    <tr>\n",
       "      <th>0</th>\n",
       "      <td>0.018421</td>\n",
       "      <td>-0.016039</td>\n",
       "      <td>-0.013108</td>\n",
       "      <td>DLX_Cheriff</td>\n",
       "    </tr>\n",
       "    <tr>\n",
       "      <th>1</th>\n",
       "      <td>-0.024765</td>\n",
       "      <td>-0.024360</td>\n",
       "      <td>-0.006856</td>\n",
       "      <td>DLX_Cheriff</td>\n",
       "    </tr>\n",
       "    <tr>\n",
       "      <th>2</th>\n",
       "      <td>-0.002902</td>\n",
       "      <td>-0.018602</td>\n",
       "      <td>0.003742</td>\n",
       "      <td>DLX_Cheriff</td>\n",
       "    </tr>\n",
       "    <tr>\n",
       "      <th>3</th>\n",
       "      <td>0.016581</td>\n",
       "      <td>0.016169</td>\n",
       "      <td>0.024949</td>\n",
       "      <td>DLX_Cheriff</td>\n",
       "    </tr>\n",
       "    <tr>\n",
       "      <th>4</th>\n",
       "      <td>-0.039355</td>\n",
       "      <td>-0.048805</td>\n",
       "      <td>-0.070717</td>\n",
       "      <td>DLX_Cheriff</td>\n",
       "    </tr>\n",
       "  </tbody>\n",
       "</table>\n",
       "</div>"
      ],
      "text/plain": [
       "        PC1       PC2       PC3     organoid\n",
       "0  0.018421 -0.016039 -0.013108  DLX_Cheriff\n",
       "1 -0.024765 -0.024360 -0.006856  DLX_Cheriff\n",
       "2 -0.002902 -0.018602  0.003742  DLX_Cheriff\n",
       "3  0.016581  0.016169  0.024949  DLX_Cheriff\n",
       "4 -0.039355 -0.048805 -0.070717  DLX_Cheriff"
      ]
     },
     "execution_count": 41,
     "metadata": {},
     "output_type": "execute_result"
    }
   ],
   "source": [
    "#wf_pcs = sklpca.fit_transform(wf_dropbaseline)\n",
    "wf_PCAs = pd.DataFrame()\n",
    "wf_PCAs['PC1'] = wf_sklpca.components_[0]\n",
    "wf_PCAs['PC2'] = wf_sklpca.components_[1]\n",
    "wf_PCAs['PC3'] = wf_sklpca.components_[2]\n",
    "wf_PCAs['organoid'] = waveforms['organoid'].values\n",
    "wf_PCAs.head()"
   ]
  },
  {
   "cell_type": "code",
   "execution_count": 52,
   "id": "d6b22d48",
   "metadata": {
    "slideshow": {
     "slide_type": "subslide"
    }
   },
   "outputs": [
    {
     "data": {
      "application/vnd.plotly.v1+json": {
       "config": {
        "plotlyServerURL": "https://plot.ly"
       },
       "data": [
        {
         "hovertemplate": "PC1=%{x}<br>PC2=%{y}<br>PC3=%{z}<extra></extra>",
         "legendgroup": "",
         "marker": {
          "color": "#636efa",
          "opacity": 0.6,
          "size": 4,
          "symbol": "circle"
         },
         "mode": "markers",
         "name": "",
         "scene": "scene",
         "showlegend": false,
         "type": "scatter3d",
         "x": [
          0.018421239754433518,
          -0.024765368683891384,
          -0.00290158271757344,
          0.01658056717750365,
          -0.03935465617450762,
          0.04380527210922161,
          0.0008978485170888052,
          0.04397058236940021,
          0.005161019858546126,
          -0.02615525328388846,
          0.020600777410837406,
          0.01501959212807413,
          -0.032339602830634626,
          -0.008950068947994173,
          0.012770947044525721,
          -0.005113110996788291,
          0.046194702542420266,
          -0.00022624183142771814,
          -0.06870628140902575,
          0.013891400254358414,
          0.020984286205615384,
          0.02959525043597662,
          0.03751206922625171,
          0.029403231601439032,
          0.05300527686952152,
          0.02293304497544064,
          0.039263914741026175,
          -0.00811314511044788,
          0.009335599543332485,
          0.01499457485075636,
          -0.012737312610685963,
          -0.025449179735741196,
          -0.03432440788462619,
          -0.01718149324337567,
          -0.024323934971455075,
          -0.037200793999207636,
          0.10769685862907216,
          0.0614613087081661,
          0.0785668710158143,
          0.01775103323597709,
          0.017634743180364915,
          -0.0270976040685205,
          -0.08388684551692421,
          0.042142228657944786,
          -0.051584311369307266,
          0.0072777843268349565,
          -0.009645463781775823,
          -0.05246868960186285,
          0.024138944800198056,
          0.0646240118164775,
          0.025713805255227696,
          0.0010026143741271945,
          0.02998765136243621,
          0.02139351007743171,
          -0.011261855866879732,
          -0.06651842725975862,
          0.043384749465671384,
          0.049319584977779614,
          -0.02708031162889266,
          -0.01524981114823002,
          -0.022255425189013467,
          0.04620390712469789,
          -0.00966086159011595,
          -0.0039533098849400886,
          0.009585092088108666,
          -0.025908174249342025,
          0.02134120068162913,
          -0.00028089536560648777,
          0.009763406023565738,
          -0.021714552488538173,
          -0.05820139866911737,
          0.005348871291362401,
          0.018481440123877497,
          -0.034153919590602606,
          -0.034276184289455586,
          -0.024112866834518725,
          -0.03314412572753382,
          -0.026991485143354612,
          -0.03642697960755756,
          -0.04228055295627033,
          -0.036819417856316455,
          0.04146531156762887,
          -0.026490207898415174,
          -0.03215643964510081,
          -0.03163463596130064,
          0.03475392718229273,
          -0.02593370768287869,
          -0.04648689548952822,
          -0.06564570056696345,
          -0.05514827468850316,
          -0.020152320450296995,
          -0.014392418412234861,
          -0.015505089068976475,
          -0.03165943358324639,
          -0.03544126476549889,
          -0.02512059395843419,
          -0.020765850676450454,
          -0.038547587557877704,
          -0.04398419867253499,
          -0.04304312249367599,
          -0.03992309410529791,
          -0.03920519794822085,
          -0.040146572387371356,
          -0.04702196638365416,
          -0.02583630770484145,
          -0.0077685614482327445,
          -0.03551311271253497,
          -0.010498499561911786,
          0.008434733779326508,
          0.02092293599296473,
          -0.023068470308530455,
          -0.036505078653247876,
          -0.04607097707166376,
          0.03991323752217149,
          -0.0026451827897960504,
          0.03656668098404826,
          0.014366555987062385,
          -0.0283518385829762,
          0.0045507994339343905,
          0.04538670675201591,
          0.006904794305501696,
          -0.005960421662268383,
          -0.0006066128577859422,
          -0.014471939419225366,
          -0.034712365776074214,
          -0.03328748002141179,
          0.003158694677054819,
          0.010750255542219854,
          0.014199650791720947,
          -0.02931713501482819,
          0.019489724217827187,
          -0.005270952863519166,
          0.00011651370039716026,
          0.03223398475631145,
          0.061615734260925495,
          -0.00948501834992485,
          0.039285487047235855,
          0.039106123584533456,
          0.019068190268236643,
          -0.035682510396747934,
          -0.011627692434394366,
          -0.02112571226725406,
          0.011718319672705244,
          0.0042433994597491816,
          0.018547094135468296,
          0.05301244016668282,
          0.07541060351735039,
          0.00909920591917673,
          0.011543536041477473,
          0.016236649511274338,
          0.024077676190754495,
          -0.01186806878440766,
          0.04579652550966753,
          0.02482187814907319,
          0.0369878094708442,
          0.012955902223190851,
          0.047962024989150136,
          0.004593943877875954,
          0.007894212772326646,
          0.026462478415312542,
          0.03134241331112036,
          0.09707801154090838,
          -0.005954337344494314,
          -0.024076103029028798,
          -0.004519812378837825,
          -0.14911749726576778,
          0.0103788540598717,
          -0.021005689761566207,
          0.008127456660585241,
          0.0456579003366002,
          -0.03320004965038335,
          -0.031898812544053017,
          0.04414154298776054,
          -0.050927532861526265,
          -0.03362559775669841,
          -0.09117967767334847,
          -0.044194524274599946,
          0.04168021163744063,
          -0.006105876283844854,
          0.012016152506360322,
          -0.007621501969519549,
          -0.009012832581320017,
          0.001451214974611367,
          0.034271619375025104,
          0.0033147743984230696,
          -0.0033884261267550205,
          -0.013493274540494893,
          0.0058289535759124276,
          -0.036491644678595864,
          -0.006850337664857989,
          -0.002053404888782669,
          -0.0035661244083453865,
          -0.009476339528420662,
          -0.05420348559614318,
          -0.025520234886811474,
          0.0674613879190326,
          0.024545964852162854,
          -0.022830574926175462,
          -0.009282755220527445,
          -0.00026473933925304444,
          -0.02842328439718197,
          -0.0034551086850735384,
          0.014187174507189391,
          0.02733210892000126,
          0.011241336138505498,
          0.010995524954750221,
          0.015463865302738756,
          -0.0037223404080947357,
          -0.030062125880905077,
          -0.03410110515531207,
          -0.030852323234305347,
          0.03872586254656968,
          -0.04105523441909767,
          -0.010124296182664434,
          -0.0219973085299097,
          -0.02177583016821626,
          0.0033311042056293257,
          -0.037626421159294196,
          -0.0584582270545083,
          -0.047648857920912335,
          -0.06927261007782747,
          -0.03861526459971912,
          -0.00507587920053186,
          0.01347463612392862,
          0.010991012885502223,
          0.015707409844697994,
          0.0013994551285966999,
          -0.02575972064424634,
          -0.010133893739899367,
          -0.03770500416367242,
          -0.0025102684446740146,
          0.011547228868383675,
          0.010839840472537105,
          -0.026727518062422614,
          0.007441601604662522,
          -0.011164555992675563,
          0.07245836940424884,
          0.04037440953569174,
          0.002484899237031976,
          0.02465942483457625,
          0.016184346964940522,
          0.049846206673377226,
          -0.008277286277926444,
          0.024646675637727627,
          0.012389593375325044,
          -0.03351826796771422,
          -0.03654197805693336,
          -0.029490799144167943,
          -0.05082363241284951,
          0.001662509300372339,
          0.003418744923159381,
          -0.004822165551429137,
          -0.007102402054214372,
          -0.07644720795883513,
          -0.009033557867062943,
          -0.03278492855649159,
          -0.0026599363337054503,
          0.04077013076078024,
          0.02393392987742308,
          0.03730133540590755,
          0.014482423960254056,
          0.031838396060928864,
          0.018105390001330046,
          0.025984317583753032,
          0.01470386281960079,
          -0.018144168220993757,
          0.00950900199618445,
          -0.03401664949185653,
          0.00567208341754089,
          -0.03765970373300308,
          -0.03932647406965901,
          -0.0180490562912742,
          -0.005541782503201327,
          0.005406125526394652,
          0.0005693500009795064,
          0.024660323142705453,
          -0.014764863972279855,
          -0.010620383594655778,
          -0.004006931087902828,
          0.052342869062329545,
          -0.032579327049563574,
          -0.01578371884453965,
          0.01428239185252769,
          -0.035371368899602317,
          -0.020991674527495705,
          0.0018828955989895718,
          -0.0053993920576194615,
          0.0508538405800803,
          0.0627786818207836,
          -0.08107464510484762,
          0.019643187851640535,
          -0.023783968215088273,
          -0.04359722203504036,
          -0.0376989621173115,
          -0.04124972751697598,
          -0.03673535006885098,
          -0.03301720370322474,
          -0.007364284719276797,
          0.01303856509190946,
          -0.0015830992211990841,
          0.011494203612924102,
          -0.026084019952492047,
          -0.040599610622421685,
          -0.04071696058225845,
          -0.018043359166380727,
          0.00014019728403331567,
          -0.0627969797570811,
          0.012747118137882636,
          0.010543706919946681,
          0.003691917623390923,
          0.008253274079412756,
          0.03848497832503253,
          0.04516615543909333,
          0.02897259181193065,
          0.01798985013917993,
          0.027601474393122424,
          0.0014858431542491058,
          0.05009051082155899,
          0.03926988426821525,
          -0.03590885548062237,
          -0.03273704570673005,
          -0.03398332138274651,
          -0.012873559731203228,
          -0.013636516451129017,
          -0.03610144723796414,
          -0.019411929814739985,
          -0.05666376956446122,
          -0.03423876682175188,
          -0.039553155423808495,
          -0.030197738537427382,
          -0.07389843133139361,
          -0.0695735162971662,
          -0.0660256700596986,
          -0.0304772943709085,
          -0.0853695943795492,
          -0.03515373529712337,
          0.00403878266346333,
          -0.014669760448513662,
          -0.03511263030848603,
          -0.05149498112405315,
          0.013689089027408275,
          0.06071557627351988,
          -0.0014238152136622929,
          -0.03722828703010947,
          0.03979998538694659,
          -0.16150185489205574,
          0.025883637023554302,
          -0.0140967403426807,
          -0.03310940048034978,
          -0.03465213284960899,
          0.03216569107098803,
          -0.02800531110426088,
          -0.03739225256753466,
          -0.03794321711056869,
          -0.023567691359317248,
          0.037581686111004306,
          -0.019718171941702754,
          -0.04394320644198023,
          -0.019308913254245812,
          -0.009305269002775986,
          -0.03793288385401846,
          -0.005192392771737381,
          -0.014375151379232669,
          -0.0344668566735308,
          -0.03279321133342018,
          -0.05887972695832419,
          -0.027955758395896414,
          -0.05038751690500003,
          -0.009064131234169546,
          -0.04753688326069237,
          -0.02896666851945522,
          -0.015949842119377236,
          -0.07045076138414824,
          -0.05481165855284929,
          -0.0696233315919958,
          -0.05839990009694842,
          -0.02464119501809102,
          -0.05562678702890075,
          -0.030386154797188262,
          -0.06186295421003988,
          -0.008429287362923157,
          -0.05382946529451268,
          -0.06581391505629813,
          -0.031764305833561914,
          0.002368956018758616,
          0.03441814957083043,
          -0.04120134032210238,
          -0.037025831270695614,
          -0.0410610007881643,
          -0.03654589995865291,
          -0.0027137548512906795,
          0.006546326766235196,
          0.07508443291743452,
          0.008493485282022085,
          0.05805323956463444,
          -0.0035792183634943864,
          -0.025843851489099092,
          0.0337639074254025,
          0.003107461871739622,
          -0.02228587313690029,
          -0.031150840161949904,
          -0.028845423327197223,
          -0.10667832402020169,
          0.040453921723010634,
          -0.020786694799012777,
          0.019895755207040303,
          -0.0034153423019046636,
          0.004355163064383761,
          0.03473251832063798,
          0.0136746908506722,
          0.01704828661444156,
          -0.0017331441105754293,
          -0.004097232792314949,
          -0.01499335407754095,
          0.013564066744900408,
          0.06170452180783725,
          0.008173884733159918,
          -0.051197665216385524,
          -0.054643260137562474,
          -0.07587368842446596,
          -0.05861906583271566,
          0.02657684331684235,
          0.01133012122921599,
          0.01784948476434547,
          0.03628487897163546,
          0.048371210735160146,
          0.012252162252395025,
          0.04125563879924121,
          0.002387913927002447,
          0.005692279679183481,
          0.005296565490505973,
          -0.0025198843819696903,
          0.014064461792818053,
          0.011218860401014294,
          0.022083001539574352,
          0.03560886416738313,
          0.00844433683031187,
          -0.03918273400587592,
          -0.03872759336830444,
          0.015360818178677715,
          0.03001700536785003,
          0.044295481887484806,
          0.0004778855415710137,
          0.07795796248473834,
          0.08631030921125513,
          0.062364972893987486,
          -0.035828960219952154,
          -0.02751101843910439,
          0.06970491182237996,
          0.047299977170420664,
          0.02802496574286564,
          0.04795587086707584,
          -0.00631742285584155,
          0.0033181403111446177,
          0.016315259771189323,
          -0.01619849975526216,
          0.03940566513329916,
          -0.03342901970272772,
          -0.029664205662156683,
          0.028331482966146126,
          0.02158568779293099,
          0.050799888625901346,
          0.04730577134876913,
          0.06837078768332766,
          0.03777870650603071,
          0.02619553797276809,
          -0.006967365176656028,
          0.05110649706936918,
          0.055001726086361856,
          -0.016591782245030308,
          -0.015268314380582217,
          0.011647100038201297,
          0.02560423425738041,
          0.0037814584666863325,
          0.013359469495465126,
          -0.033874201161395195,
          0.01674071432157728,
          0.00568432572061212,
          0.02309256024294291,
          0.016408484913132074,
          0.012603466045744046,
          0.01750388668241707,
          0.028835587891890144,
          0.028314474856692078,
          0.024498883046552004,
          0.0581016260211784,
          0.003794447079865194,
          0.02680615009756109,
          0.020632054968751305,
          0.021198232828353286,
          0.033514564656376866,
          0.004083001291001877,
          0.018373572212187026,
          0.027108834304613295,
          -0.006126461649629791,
          0.022669512544076734,
          0.030910907171981052,
          0.06463181071070825,
          0.018125822249425695,
          0.013496512057566058,
          0.033046734414451016,
          0.05052466024032206,
          0.03302548550381299,
          0.01608555179198103,
          0.008258364146006827,
          0.020306214124553062,
          0.15973124337714764,
          0.1867964533906478,
          0.018668822053846245,
          0.04266505107736794,
          0.041831591589148565,
          -0.034613443720643504,
          -0.007673718871968612,
          -0.008417540225104617,
          -0.003201404359728672,
          0.037617402460694956,
          0.03663906690629551,
          0.019652127560085407,
          0.04326643315016334,
          0.05434968880172216,
          0.09437553554927448,
          0.046764068820985646,
          0.0231676812574925,
          0.024633318505129287,
          0.015307403049329947,
          0.0081464589057629,
          0.007804504192859688,
          0.04807851427956096,
          -0.041328061396995935,
          -0.030001268985678838,
          -0.01376405244377926,
          0.0051424153490881985,
          0.014756607510012183,
          -0.008280945096447879,
          0.01242457761531258,
          0.07252732308613825,
          -0.0032903846027511315,
          -0.03617965474265246,
          -0.03426925245461626,
          0.01940178066841696,
          -0.006455958656247504,
          0.008613712299414324,
          -0.03671667157472077,
          0.03649712780370122,
          0.03951581328421732,
          0.07157272636114231,
          0.025835899601624645,
          0.0009406906747300697,
          -0.031847264524916596,
          -0.028320869290734425,
          -0.017663349237067826,
          0.024469920254484006,
          0.15429592311011825,
          0.02129392672293539,
          0.09196404010829036,
          0.12713096662704615,
          0.1112394617155078,
          0.1258953333669185,
          -0.007305835449200902,
          -0.03513129659586272,
          0.030408757683582012,
          0.016710490224104774,
          -0.017706676135752216,
          0.011337421533046465,
          0.01253677832581751,
          0.023551655501390007,
          -0.012729580500630605,
          0.045519374787644784,
          0.015744128448044042,
          0.0943557020915708,
          0.029745073826835396,
          -0.006909057375665526,
          0.023344536737126612,
          0.11549723800528852,
          0.10477173714527165,
          -0.038712715701172955,
          -0.015111299424072092,
          0.11982568759956023,
          -0.008928120884544527,
          0.036487351002974455,
          0.017671151385952343,
          0.042625405582066324,
          0.052589396387349115,
          0.029694280423892706,
          -0.012550029328985104,
          -0.021224109247659682,
          0.05055702925478529,
          0.013333797089977744,
          0.038798596121417735,
          0.03115985853592294,
          0.10739802478277938,
          0.03029555066806917,
          -0.0006846683576474963,
          0.001628177787747042,
          0.03936456082189782,
          0.010275129543827907,
          -0.002279128438695347,
          0.003748542485326901,
          0.008176064889088057,
          -0.004212455961163207,
          0.016268995622922888,
          -0.009267334116654948,
          -0.016851888924168067,
          -0.014952670871886646,
          -0.010941970755413432,
          -0.030910471540181644,
          -0.07167813429964759,
          -0.05619492375434565,
          -0.02140901312768196,
          -0.040285807098071454,
          -0.035767407342000346,
          -0.03753709314968831,
          -0.02021121875495751,
          -0.07705600004789676,
          -0.031233245520270812,
          -0.008863583468944907,
          -0.010161845506084411,
          -0.04114431358384713,
          -0.032314990319432246,
          -0.03709502820157397,
          -0.09245980703785621,
          -0.03518732630488726,
          -0.04205592733969102,
          -0.04870848292329895,
          0.01053128355131941,
          -0.10250042756141961,
          -0.02792561562397306,
          -0.030891972454114375,
          -0.05380663280844927,
          -0.026149970315204787,
          -0.03654552795358856,
          -0.04248697224760546,
          0.03235552088915307,
          -0.0036746897531983844,
          0.055229221782957055,
          0.008043420839890144,
          0.02814424763549663,
          -0.03705127659821065,
          -0.07336140226880046,
          -0.02617067674569022,
          -0.03552185063934463,
          -0.03784953244542943,
          0.09677987087167814,
          0.0002130983563320939,
          -0.0002065808913911099,
          0.07313750522783474,
          -0.002864721900415589,
          0.012690516373239251,
          -0.004103659358010586,
          0.015698335502933695,
          -0.005994520014735267
         ],
         "y": [
          -0.01603934162197715,
          -0.02436033685552437,
          -0.018602417390470957,
          0.01616885637697418,
          -0.048804929022059504,
          0.017189852997217207,
          -0.004875127177600291,
          0.003774771385167863,
          -0.008547862321665347,
          -0.06724136396581734,
          0.006416512711845784,
          0.009007471170224962,
          0.006190207210712233,
          -0.012476157312138815,
          -0.012417787816445078,
          0.003079375783808077,
          -0.02181178401179394,
          -0.006458606551417728,
          -0.00803022180316062,
          -0.0230355471819099,
          -0.006856680273690355,
          0.01537479674126357,
          0.03363141871864764,
          0.0029093886308888873,
          0.028256131341710046,
          -0.00493876786093815,
          0.01820197729145254,
          -0.016384013454613683,
          -0.0013206082466800054,
          0.02449573526812369,
          -0.03897124926985384,
          -0.04620519090395776,
          -0.07319502251877544,
          -0.0315614003093289,
          -0.02239288469222598,
          -0.035182750089655726,
          0.043020058980397985,
          0.03092985716784907,
          -0.0066952819622501025,
          -0.007943862356670793,
          0.002578940298017963,
          -0.02963122729310444,
          -0.0853071484500118,
          -0.021422574771894628,
          -0.0365061719914295,
          0.013874578292903209,
          -0.023197085422006578,
          -0.02052299649869851,
          0.0011426343004167672,
          -0.017545375745430435,
          0.02335244451987614,
          -0.029404374760170195,
          0.008656909982160236,
          0.010793773051147423,
          -0.0463414549708708,
          -0.05899041359605755,
          -0.02942402871816432,
          0.0028219080883233236,
          -0.02081170845577519,
          -0.01728115635381566,
          -0.025398307769904042,
          0.011434516912222033,
          -0.008040015158076069,
          -0.01665688879788314,
          -0.029841638934824128,
          0.0468468266503357,
          0.0262571829946712,
          0.06900701005340866,
          0.04568413361686027,
          0.13267038155528502,
          0.0502106432704681,
          0.05475709976489077,
          0.04846906129692401,
          0.02430589548889994,
          0.02290191484814067,
          0.0009766756158933697,
          0.019409849471242205,
          0.0679037464373222,
          0.0542794341706648,
          0.04027913980267403,
          0.020688079702825882,
          0.11853643015337752,
          0.11694577103567569,
          0.018092658860700654,
          0.042246879444654585,
          -0.02170934829472538,
          0.060628821093366224,
          0.05316472555146812,
          0.12191029849386807,
          0.0033497815935404716,
          0.06786465381922235,
          0.0855797876481836,
          0.02781967341562269,
          0.031088572535850425,
          0.02971562587468183,
          -0.0005426449636906488,
          0.03228497289080513,
          -0.040814191826227426,
          -0.04044359528160962,
          -0.04715935322911512,
          -0.03317617715337821,
          -0.04298966625598905,
          -0.037781868290888365,
          -0.04439425826951477,
          0.07124619837283767,
          0.06075019428730872,
          0.06509521936086983,
          0.06130517983223992,
          0.09669789917268412,
          0.09371891316159607,
          0.059627092191068674,
          0.0595382286512053,
          0.07946169438531318,
          -0.003251699242555418,
          0.0029737331602215813,
          0.003718499312288912,
          0.021018142768036447,
          -0.02810703863766165,
          -0.027437634901943786,
          0.011091676093011617,
          -0.04127647661236571,
          -0.015730626552081694,
          -0.018890693526674524,
          -0.007564770247661672,
          -0.019513338781205133,
          -0.024481410675518768,
          -0.0261855383726656,
          -0.024375367910674316,
          -0.017727910013242986,
          -0.02205488487993095,
          -0.037231489103025456,
          -0.012351579204062737,
          -0.02659232859343387,
          -0.009730491022924859,
          0.02089219114848158,
          -0.006840798604421447,
          0.012692543032428501,
          0.014305429982373745,
          -0.0034796453526600205,
          -0.043851840446646397,
          -0.0243285428245436,
          -0.024768682094632954,
          -0.06586044048082536,
          -0.025096003827067392,
          -0.029609678771610238,
          -0.02328708541778671,
          0.004330777279094788,
          -0.00573365123620248,
          -0.017245458470305633,
          0.0018254264081145823,
          -0.01680869643496509,
          -0.012875958704912573,
          -0.012475514181464519,
          -0.032797719699621766,
          -0.048811700587989934,
          -0.006494042955963349,
          0.02183205879170202,
          0.002352507521600006,
          -0.028166589806491785,
          -0.0013806495914664898,
          -0.03428034484577799,
          0.002438862385503148,
          -0.017259816177143568,
          -0.010576634106318133,
          -0.017572230108659145,
          -0.05593924203069453,
          -0.04595980845141288,
          -0.03906467647878604,
          0.0014639768946599135,
          0.02605169125434618,
          -0.013049281874142662,
          -0.025448857706951947,
          0.005797294965395754,
          -0.019586718607079667,
          -0.026150978173155582,
          -0.01891709513592581,
          -0.025616119207200836,
          -0.02950907254452952,
          -0.006111067693184936,
          0.004641225802864461,
          -0.019706435065460232,
          -0.01544240293424835,
          -0.012946237410870389,
          -0.02311094735056032,
          -0.003658742184079757,
          -0.008708738505601167,
          -0.016596662192102346,
          -0.012379267947634361,
          -0.03397240961871151,
          -0.006805683093731262,
          -0.004449040236299504,
          -0.0018614923851167592,
          -0.019636233115381565,
          -0.052185873611976574,
          -0.02705426225321571,
          -0.017711394542559208,
          0.0016711226411044748,
          -0.03572763649463524,
          0.0019388729553574198,
          0.025890273995822135,
          -0.0351812265246971,
          -0.02998440891404753,
          -0.01173646868297449,
          -0.011364514392710986,
          -0.01143245202918364,
          -0.011563721313768755,
          -0.005426640199141791,
          0.0038047185284257675,
          -0.025780681064676517,
          -0.02792159683436291,
          -0.02238012184340063,
          -0.01200360489652566,
          -0.012129600629286268,
          0.09786225680163367,
          0.09081863511422104,
          0.05293055824733099,
          0.06626729556841958,
          0.02429444990973568,
          0.06215324563266313,
          0.06749789437905955,
          0.05306109123328057,
          0.06407091933399854,
          0.05297634505818159,
          -0.029529625148284472,
          -0.033731217520835494,
          -0.037924920520816884,
          -0.02263772947256056,
          -0.031043836173838605,
          -0.013061473492605509,
          -0.031206171208789872,
          -0.043095774230336496,
          -0.0007630029608520932,
          -0.04539221364829486,
          -0.007792758809063493,
          0.02168034364269358,
          -0.042929649337054974,
          -0.021233573897899618,
          -0.038256897230006005,
          -0.027783058488512924,
          -0.007603678672171952,
          -0.01936531640212058,
          -0.04666797963505445,
          -0.01700853954803976,
          -0.02508298668267772,
          -0.02307993465786734,
          -0.015028268519491185,
          -0.03325586182518667,
          -0.019322750469855366,
          0.07471914222355872,
          0.04084262011624444,
          0.09416478879060335,
          0.09655980828365295,
          0.0696837359164222,
          0.03498814768544288,
          0.12790881609406635,
          0.026022852823441488,
          -0.03000176524403282,
          -0.002735384990147051,
          -0.004261786438171736,
          0.013912541040681905,
          -0.009331523385647822,
          -0.01902271158714134,
          -0.05622923805913375,
          -0.041708626748536544,
          -0.055664265350362,
          -0.007832705350752277,
          0.01117753202467013,
          -0.032138544479217906,
          -0.024745389738054544,
          -0.02893821130863862,
          -0.03171053509620792,
          0.0546953551281917,
          0.059662444979202214,
          0.0681526764872754,
          0.14167653640695746,
          0.097741046233932,
          0.11928033060007076,
          0.09079277407835286,
          0.10581524172321208,
          0.10443538044405222,
          -0.020265624734718685,
          -0.02676366895328692,
          -0.023608420710482508,
          -0.02746623129115373,
          -0.04400934076309231,
          -0.0015519834019727,
          -0.022115709337055575,
          0.017909686556595854,
          0.02282626008958146,
          -0.014932267641732055,
          -0.024060813899469093,
          -0.02284887080995927,
          -0.01713409647307267,
          -0.02356146463629447,
          -0.03014642490580278,
          -0.023902563761878333,
          -0.013785971315849452,
          -0.031198887733464766,
          -0.014681126384508345,
          -0.015850372851931235,
          -0.02362677904755942,
          0.0742627835154984,
          0.056336485455498374,
          0.022597606110563447,
          0.002143881177664075,
          -0.08468265937356076,
          -0.03694209636593582,
          -0.009332937250258643,
          -0.029403100372221207,
          -0.03000305903297906,
          -0.011459639217227485,
          -0.010292114650367935,
          -0.006633338069999186,
          -0.010209157662325373,
          0.01515594047235175,
          0.016428373296911797,
          -0.0058756355892274174,
          0.08371855190869892,
          0.01673181293706403,
          -0.03418210621942779,
          0.00021901219354228792,
          0.024003389215152805,
          0.06750572489736922,
          0.035916894287478685,
          0.037084997971512886,
          0.0927731760782566,
          0.04522014175249283,
          0.09742467546891798,
          0.030871694781071275,
          0.07540898103075443,
          -0.0375737985854746,
          -0.03310238955016276,
          -0.03574880950245431,
          -0.02724482793802548,
          0.17869035770459163,
          0.029737812328482976,
          0.0770343629717466,
          0.020259930633599033,
          -0.026956487817373802,
          -0.018975873489159044,
          -0.026288644284373493,
          -0.013436697327988476,
          -0.03258303413494563,
          -0.025094148442974407,
          -0.029109821674425874,
          -0.02985804287436092,
          -0.022824783753562557,
          -0.05393048636579912,
          -0.017826695849630803,
          -0.025658199472762485,
          -0.032963306500330386,
          -0.030243324278556236,
          -0.030459733906908704,
          -0.046743746671369636,
          -0.019234236833018645,
          0.05879433620523837,
          0.07190684572716786,
          0.05854840155942822,
          0.03875026762330353,
          0.03819044184424241,
          0.03464990413305748,
          0.05839519569512267,
          0.059276372100234134,
          -0.005999586594169329,
          -0.00024134446163464557,
          0.05535425447426323,
          -0.0002292364321414196,
          0.03772736750523693,
          0.06133329084318646,
          -0.01964181460234684,
          -0.01955854501569058,
          -0.023340558818558406,
          -0.02432691767111826,
          -0.05495347320547949,
          0.010190444615870844,
          -0.03842570528929582,
          -0.030771369287631148,
          -0.033218482138788315,
          -0.006292406907074926,
          -0.023152193284616793,
          -0.024282602182138315,
          -0.015314699380402039,
          -0.023407907327764224,
          0.1067259516366724,
          0.042412864845519746,
          -0.012319934668905868,
          -0.034249506545273825,
          -0.03507929683830054,
          -0.03211838354468833,
          -0.027385020371467374,
          -0.00802005686571575,
          0.003174476887438664,
          0.014612877367606462,
          -0.002927788808183338,
          0.01696427964998422,
          -0.0004826081844632124,
          -0.03166632484045233,
          -0.005905562154539018,
          0.03940856493098159,
          -0.034675737979270524,
          -0.016741843855164723,
          -0.02885104327347856,
          -0.10918140525536227,
          -0.002732826990532852,
          -0.03626494153696099,
          -0.0066408067315844475,
          -0.007893114050261682,
          -0.039457979318697725,
          -0.01144306206623134,
          -0.020217922235541197,
          -0.03693561209104288,
          -0.018966309609004736,
          -0.02212271564868148,
          -0.014284424742628771,
          -0.04015505682230518,
          0.019335319815550023,
          -0.02795607622307944,
          -0.019085880766792303,
          -0.020046846953889086,
          0.004928327185630324,
          -0.012488810112231196,
          -0.02138768851227866,
          -0.024597382816120623,
          -0.003585090338735787,
          -0.013189265812985481,
          0.0030283222218590363,
          -0.007899940880818062,
          -0.006224661749031126,
          -0.03617180030218217,
          -0.022534610072930374,
          -0.03136209010874415,
          -0.03701652810627126,
          -0.01804778474806864,
          -0.02160016315192331,
          -0.026228840645631673,
          -0.023487921098455947,
          -0.024990706172021336,
          -0.03210465169991874,
          -0.031393804353845464,
          -0.009356337679884518,
          -0.02553142519373086,
          0.014764781042425809,
          -0.020310451539837442,
          0.0046424196638308775,
          0.021113027691418183,
          0.01632485711601508,
          -0.020947141209522253,
          -0.0192965901924528,
          -0.013965704350005199,
          -0.015699634627885782,
          -0.03179877742611346,
          0.03348323864580522,
          -0.03886867483222302,
          0.007121938800685994,
          0.005650770840360364,
          -0.018053806027145156,
          0.012304134235035789,
          -0.04817202168962177,
          -0.04937909220367251,
          0.020354484858994392,
          -0.015520190898751432,
          0.008717479794516739,
          -0.034742711912139866,
          -0.045312500595940844,
          -0.019868206223797265,
          0.007200051892680083,
          -0.026450067676370426,
          -0.008835417819884906,
          0.013375719065105596,
          -0.00948766332950742,
          -0.01917584964768834,
          -0.018708707126916833,
          0.027149693957758854,
          -0.01990060571469843,
          -0.005425768583889415,
          -0.01814760594776497,
          0.004204251046381416,
          0.014635328625803906,
          0.027883429560263073,
          0.005147495845327362,
          -0.011518800061232324,
          0.006252770574733863,
          -0.0008834755867361757,
          0.008043714184263797,
          -0.005677002778234429,
          0.032961493972544796,
          -0.020839818754292697,
          -0.00750875809674236,
          -0.00194062956898839,
          0.02273544140072504,
          -0.0061149511005123445,
          -0.020714446079739494,
          -0.06115716056622812,
          -0.01706128664768742,
          -0.027953118519565404,
          -0.02190150568694549,
          -0.022251191202594726,
          -0.007900083322750634,
          -0.016993385845589126,
          -0.05108057508171955,
          -0.034947787334787754,
          -0.016690642233448908,
          -0.021332700683604322,
          -0.04111313390313806,
          -0.05213477461559567,
          -0.03092728004354709,
          -0.04665457807985733,
          0.04376569375954214,
          -0.019311914404191298,
          -0.017883096134664576,
          -0.040449374507402235,
          -0.04094976947884232,
          -0.04264277599477981,
          -0.03683811746198573,
          -0.03978297325699632,
          -0.08502717255216902,
          -0.03518936142957625,
          -0.012104035300695731,
          -0.03689701604679568,
          -0.02186375364498756,
          0.022781890167689774,
          -0.01424948179096716,
          -0.020504814179133447,
          -0.02605552442023727,
          0.0025814084000454433,
          0.007784174906166267,
          -0.02309406925298056,
          0.01844020627519818,
          -0.01886763502297055,
          -0.029153220419034478,
          -0.03172959152340685,
          -0.012631821550107168,
          0.006430982596329463,
          -0.016043265987203587,
          -0.003032495059663664,
          0.008651941600567965,
          -0.039333733634207044,
          -0.02467190787099017,
          -0.03163654579817644,
          0.010205805206392842,
          0.0023148606161868036,
          -0.00803193822108803,
          -0.05287054318983013,
          -0.0009807812330711986,
          0.01024006164628544,
          0.03286984119433802,
          0.015138771874208664,
          0.009383085807120087,
          -0.031638280498784616,
          -0.034287264064663314,
          -0.02905699311926356,
          -0.0009567501809556368,
          0.08026396868741467,
          -0.02897686624589105,
          -0.014100977042038741,
          -0.023750193776140557,
          0.008471393039039534,
          -0.006729644346589578,
          -0.005910974869174533,
          0.031383612657985206,
          0.014098862726876401,
          0.008536464034115262,
          -0.02760375195345443,
          0.0017837484566800134,
          -0.01647161722014295,
          -0.0031774371672603115,
          -0.011661271478091057,
          -0.020317911032855285,
          -0.006227812219944346,
          0.07008173995803124,
          -0.004217305944623268,
          -0.02958116966556868,
          0.0019132874723993636,
          0.04382627500754648,
          0.021932775520416618,
          -0.0270113951287071,
          -0.03567387648988179,
          0.0718525893921983,
          -0.052195394478877125,
          -0.010906815487408489,
          0.011996653050557046,
          0.001275013959130395,
          -0.0036023637667715828,
          -0.00012506011377391694,
          -0.02451186468620004,
          -0.017109808678109434,
          0.0035350248101311964,
          -0.013289719332652139,
          -0.024088298285414804,
          0.00147817400836279,
          0.017028771238637958,
          0.016580043315753495,
          -0.015836039399865366,
          0.0011744087150038034,
          0.013946223663104301,
          0.00015146637617812834,
          -0.015886621027193498,
          -0.005254198943871222,
          0.002924696034647753,
          -0.0179152753235468,
          0.0028789464240452562,
          -0.013421338916276523,
          -0.014764184235709568,
          -0.0260168988502717,
          -0.02219348684076008,
          -0.03786560089813563,
          0.09663198511543741,
          0.08525661118705691,
          0.06100431628375907,
          0.09017028749369987,
          0.11300355645467655,
          0.07824412601962169,
          0.08102227020606075,
          0.0922064972527565,
          0.01382207677901304,
          0.05826390537186286,
          0.07463975602121893,
          0.06716074427687208,
          0.0788557159526424,
          0.04490249410394743,
          0.10699013584721785,
          0.0530872740585524,
          0.053290476352386484,
          0.05930982029309617,
          0.11094759104618154,
          0.043862704887599885,
          0.09673297894836441,
          0.05703740383675206,
          0.0809796379803874,
          0.09105825022104526,
          0.05929479663049653,
          0.05339645132999449,
          -0.009294425115789208,
          -0.012948135456764931,
          -0.02063474402824118,
          -0.007363999947652343,
          -0.006102162265412937,
          -0.048967567458117284,
          -0.07360909784087061,
          -0.01975580681416303,
          -0.022359287293160737,
          -0.02355707265194202,
          0.014482187436727577,
          -0.008517447815276556,
          9.087787818205434e-05,
          0.00902562329696671,
          0.017869342512895018,
          0.014728218460358116,
          -0.002590263044787531,
          -0.021074347796120257,
          -0.004337432824314898
         ],
         "z": [
          -0.013108254450452725,
          -0.0068561991304340476,
          0.003741919826281267,
          0.024948988354251682,
          -0.0707172566734486,
          0.039314579568626315,
          0.0370367195766888,
          0.02971176196732639,
          0.01799752810978534,
          -0.00013856933475721086,
          0.012314232054267226,
          -0.044578708929530135,
          -0.027800655477930376,
          -0.017137744151233765,
          0.002622551692666726,
          0.015320033828379907,
          -0.03821768717216398,
          0.016664278589064697,
          -0.010924337778843121,
          -0.028766284538813174,
          0.009474763542808734,
          -0.03323580851369895,
          -0.00820171003650599,
          0.00322371654044098,
          -0.030981139328243663,
          -0.0024209708386539286,
          0.05581275054486956,
          -0.01145618959262601,
          0.022718776666240847,
          0.0001687591699604579,
          -0.032513334998430274,
          -0.12159179089579232,
          -0.11230574742501799,
          -0.04163206688377445,
          0.0180217531084512,
          -0.10360022488191058,
          0.025808057950254114,
          -7.194393879976874e-05,
          -0.00393892615328703,
          -0.01632467465457005,
          0.026165858905291505,
          0.012138859176588303,
          -0.08764262433124546,
          0.02365177034336709,
          -0.08264357923247101,
          0.009318058577847146,
          -0.00625770345306686,
          0.058949757796016695,
          0.01812147642957247,
          -0.014355925544160942,
          0.029604259738285798,
          -0.01588062783908093,
          0.03543698061061217,
          0.00803847838769131,
          0.013414795411737922,
          -0.03704947337727644,
          -0.0232152454885524,
          0.033684132574635706,
          0.022391396574909614,
          0.03961627501521885,
          0.008667416024102922,
          -0.00592319060860911,
          -0.005311265044329639,
          -0.015241428550575076,
          -0.006267769887062496,
          -0.020605072637252118,
          -0.03597922276189311,
          -0.018015120293461095,
          -0.06956956808768396,
          -0.040300887050432554,
          -0.08452834622404282,
          -0.024050089417484263,
          -0.07838739111753491,
          0.04254901114286523,
          0.04328125121319238,
          0.057730703712042974,
          0.03853341822321913,
          0.007173159568149028,
          0.03406300682690648,
          0.048018794360074446,
          0.042197035734385456,
          0.0018095549855183485,
          0.04517263087044804,
          0.0495392214398679,
          0.04821467610653244,
          0.068755890145709,
          0.026879093096452866,
          -0.005032117295717503,
          0.019067517738263363,
          -0.02585496099426754,
          -0.054906445555271036,
          0.03611664009537194,
          0.05134812741308374,
          0.04522451460321884,
          0.05177861754158159,
          0.053962031446929806,
          0.05923118683175678,
          0.11307541930863203,
          0.1197518500759016,
          0.10185047525402202,
          0.09419403412440969,
          0.11673500712118762,
          0.09677615957138348,
          0.1153037455208798,
          -0.022187197303315722,
          0.003593543210391705,
          -0.04808834560993618,
          -0.06836948602352486,
          -0.016743911856396874,
          0.027895771715555268,
          -0.024599051764548786,
          -0.025236264112808906,
          0.021637710542113404,
          0.04628364974361666,
          -0.02746087605582834,
          -0.002635165342904216,
          0.015258341238383233,
          -0.06607473071663243,
          -0.009669671548757327,
          0.011621034400777898,
          -0.010801064739899684,
          0.049131204797911304,
          -0.006145109393541365,
          0.11300996066093881,
          0.059663935781913764,
          0.0517402065571077,
          -0.01488629588455084,
          -0.0034478529035569866,
          -0.0002477463734205031,
          0.053680492025086644,
          0.022219666572091002,
          -0.015233197074980673,
          -0.037976417654937374,
          0.015755614803751507,
          -0.0012721927804483228,
          0.026611274926370023,
          0.0009099353154417546,
          0.011533365817603445,
          -0.02627594799491424,
          0.018258804602666254,
          0.029746790130947078,
          0.036562389150297095,
          -0.008037178482424728,
          -0.07423239181517799,
          -0.012535445724161298,
          -0.014228169190623769,
          -0.09977408080663021,
          -0.005435982672911908,
          0.0004620351536735563,
          0.002654536558469858,
          -0.009525149064320247,
          -0.024043132308548522,
          -0.0014039668716702436,
          -0.016162588260055816,
          -0.044924803734728895,
          0.004131371687738694,
          0.018332528862421673,
          0.00433179084261435,
          -0.044612385467213675,
          -0.012936798327534705,
          -0.04618048545009521,
          -0.006824499927647675,
          0.0036834810816731363,
          -0.03418639427790762,
          0.03291911821927332,
          0.0065625127600960455,
          -0.03804697024747667,
          -0.016984737371498217,
          0.008942748326208333,
          0.014548983361582842,
          0.03940888286879762,
          0.05035288565489305,
          0.0029989126955683276,
          0.033822103018123495,
          0.05276516583541786,
          0.011508079031385463,
          0.05302339280091383,
          -0.010979812144967106,
          0.03178385897315096,
          0.03295178731028161,
          0.04487531655553999,
          0.03550315762107052,
          0.03867146013259815,
          0.020815206567077207,
          0.020638646704920896,
          0.038374992429686026,
          0.0347267822901984,
          0.009227513974746002,
          0.0015996480471414031,
          -0.029667662954633068,
          0.030360923720993936,
          -0.009372414394131959,
          -0.006336759799329528,
          -0.10137268111957014,
          -0.018929011900729913,
          0.004336303711861742,
          0.02440566096101119,
          0.0431784438479557,
          -0.01414182699173469,
          0.01652779118842252,
          0.016924198067603258,
          -0.042225203411675405,
          0.009026590926840748,
          -0.0064747379107513,
          -0.007044500154973977,
          -0.03978082374895329,
          -0.011314041750700344,
          -0.004196664663927763,
          0.014554590589553613,
          0.052628867498493846,
          0.05380226117288945,
          -0.026763802993141874,
          -0.01399692755186181,
          -0.051154829775988155,
          -0.029299101153889492,
          0.0067396322331371205,
          -0.04153381219871096,
          0.001910956678878702,
          -0.04182675379916899,
          -0.037289396157104734,
          0.009836212565950499,
          -0.003239158976240551,
          -0.013058204658022533,
          -0.000938151738598175,
          -0.04506581277128921,
          -0.021770966238492836,
          -0.018135113973636922,
          -0.06347378814522049,
          0.012685569185798454,
          0.020681933586199477,
          -0.019209090829870032,
          0.020074221824745254,
          -0.03883413814834267,
          -0.029916617930026243,
          -0.020142020470335937,
          -0.011221800387480654,
          0.0011830157128120858,
          -0.0020839295615639,
          0.00022712711139586184,
          -0.0015514237674122446,
          0.01013575767294844,
          -0.0489490907542847,
          -0.0036562715748102823,
          0.013831738558018777,
          0.006991409811155481,
          0.09354647432925818,
          0.074081628762307,
          0.07055442278069456,
          0.011240932645218613,
          -0.017549904381809478,
          -0.057209188174441004,
          -0.027005314430944744,
          -0.05415880652659399,
          0.01825995869365805,
          -0.048468573741227726,
          -0.003958142835992256,
          -0.014886936713524167,
          0.012079093670592579,
          -0.015204775763214341,
          -0.0046425700697021125,
          -0.0005689202252580119,
          -0.02710032150152044,
          -0.03026067994355772,
          -0.011262722774184263,
          -0.009455445851024669,
          -0.005499206044751109,
          -0.03779197472686246,
          0.044063861872533285,
          -0.018770836871936973,
          0.07154919181551359,
          0.06798986802450661,
          -0.010513413207361863,
          -0.033481107010195826,
          -0.06060060693630785,
          -0.09161465249975942,
          -0.03869263897725168,
          -0.003286391890793439,
          -0.05880218966231906,
          -0.022834268220706593,
          -0.04314620157691516,
          0.04273482472700579,
          -0.021292262200849017,
          -0.027944163822298928,
          0.05424397373170586,
          0.008791843366980025,
          0.010993173006128882,
          0.0018753592584987014,
          -0.017713298783845945,
          0.05664223405524936,
          0.04844532629786996,
          0.001002973346182619,
          0.03763220123370526,
          0.015731699136778486,
          0.09032809326510738,
          0.05103090506103171,
          0.0773618449674052,
          0.031119934097181338,
          -0.0379014455640907,
          0.003270862300294585,
          -0.0008150655507580737,
          -0.019474831553652656,
          0.0008726998621016563,
          -0.056278600603673505,
          0.0019704960695074874,
          0.018673842891990325,
          -0.10841377008577362,
          -0.04053177299102548,
          -0.0017713712042757774,
          -0.015554912165092787,
          -0.00901491232497677,
          -0.006466877710026939,
          0.00618877240289027,
          0.02148754194754025,
          0.012452312109664588,
          0.02252760618542011,
          -0.009386726176754706,
          -0.016427605976438393,
          -0.010439036684884277,
          0.03173110041426395,
          0.059811423532518886,
          0.03897955508897241,
          0.002768976505918848,
          0.0140513225427682,
          -0.0013666953306252763,
          -0.010141152379395894,
          0.011931865198641443,
          0.004378936739454343,
          -0.06538196147180166,
          0.027478296184410358,
          -0.02020331251959996,
          -0.049841621330507735,
          -0.02344546710706846,
          -0.009467999399024268,
          0.024390356666224054,
          -0.06815746021658622,
          -0.050363751751428425,
          -0.03428998704210148,
          -0.021469717414999534,
          0.06118903238014475,
          0.06652981838836693,
          0.01009733119514047,
          0.007846303152873829,
          0.02030468168853797,
          0.032754043805500184,
          -0.04058811618510211,
          0.049994010454652967,
          -0.013836218308988806,
          -0.02596607895317123,
          0.05953857208665365,
          0.05521974516055933,
          -0.01249180777333002,
          0.060730645572497466,
          -0.01911569397175977,
          -0.03989953690211479,
          -0.04487406751318611,
          0.004491645867560472,
          -0.024570078958260664,
          -0.03315760147838811,
          -0.035224498363257625,
          -0.033812068375116876,
          0.005138294132926456,
          -0.020721972934490514,
          -0.0120457762375934,
          0.05374396572322744,
          0.01976304170033557,
          -0.021105034195727138,
          -0.004252826194583885,
          0.0030078185148640253,
          -0.011172021301813828,
          0.02538491516903934,
          -0.029101735853927342,
          -0.03793222779911713,
          -0.06537320418407788,
          0.016061445878226326,
          0.005918954180454403,
          0.0033878956316160166,
          0.019980992742968946,
          -0.014287019124120207,
          -0.007572590677708428,
          -0.10580331448398878,
          -0.07454582199104219,
          -0.03851732496379246,
          -0.11341596606762225,
          -0.05058368303522295,
          -0.009323891758310039,
          -0.038589607188170616,
          0.10054070885904093,
          0.0935911253060299,
          0.0886675068742153,
          0.07267681659502506,
          0.0006858794678043789,
          0.030274537692376084,
          0.015089610924379541,
          0.020957019586158337,
          -0.0043360091331146626,
          -0.01566952766844903,
          -0.0838703928644796,
          -0.025831620674626684,
          0.031014717395676437,
          0.025573545610754728,
          0.037173695123761764,
          0.009088938921113711,
          -0.2642981678258751,
          0.024949700687754293,
          -0.05307543740213491,
          0.009221016841723691,
          -0.030017419346274644,
          -0.011651585069778259,
          0.010406251055988431,
          -0.012779164645350612,
          -0.03701130128240027,
          0.0023196901972516904,
          0.020652479920289794,
          0.016862264525056653,
          -0.01513412882989587,
          0.0013864830835979701,
          0.021489017875615808,
          0.08440506242634785,
          0.09313498390660849,
          0.06633816309142525,
          0.0814645724169673,
          0.0271150838615462,
          -0.03914353322565188,
          0.014021358696196556,
          0.028829753367722054,
          0.02510628970837396,
          0.01329393471762391,
          0.040142189761950234,
          -0.04183704852460252,
          -0.03724884267577495,
          -0.04393836175159826,
          -0.023538463550207014,
          -0.011705119044288545,
          -0.020348186300538314,
          -0.008295965107377066,
          -8.7010126622798e-06,
          -0.013851379183410634,
          -0.0060590134444272895,
          0.004401974339582498,
          0.019117164973427678,
          0.0007463843442340953,
          0.04487889871661067,
          -0.06215234370330736,
          -0.010460139557040981,
          -0.06281569923622068,
          -0.017145708750455846,
          -0.006301690568325516,
          0.03939710089953936,
          -0.04286637987352571,
          0.020099130191105465,
          -0.03588703230551709,
          0.027853458113730745,
          -0.06449517717280995,
          -0.0058879193315415435,
          -0.0035209168223792726,
          -0.015321322675772369,
          0.015973483594872898,
          -0.08055642513227233,
          -0.0084402291590741,
          0.03703348981832557,
          -0.012542930165246775,
          -0.004331362875069743,
          0.006271745080313786,
          -0.030779945273181755,
          -0.006511641331786715,
          0.022208623142880572,
          -0.001997585244389501,
          -0.007655056205155249,
          -0.004990987689232769,
          0.024012720509166804,
          0.04672470321234562,
          -0.004630447067419843,
          -0.005113565977655738,
          -0.00789408927759348,
          0.009262618792241781,
          0.03041829152340443,
          0.010633191726083808,
          2.3017134103386538e-05,
          0.018095822407742514,
          0.0015885586810898999,
          -0.01377663371717205,
          -0.009404470292311297,
          -0.0038301920870916434,
          0.014915826077315026,
          0.022943691595975656,
          0.012319903424811573,
          0.013292228586210581,
          -0.03195423512178143,
          -0.005002820668334448,
          -0.005351022412942234,
          0.011945097215656158,
          0.007466678680692661,
          -0.006510323905765389,
          -0.002568635942869712,
          0.009765641231976957,
          0.002388530770363088,
          -0.009920530237849058,
          0.06608389053280736,
          -0.03864878030462159,
          -0.021636456888950564,
          -0.035751202020803674,
          -0.02705036907269196,
          -0.007943309471652329,
          -0.049248712889502284,
          -0.031775675022206205,
          -0.019972985174520518,
          0.02299604657109182,
          0.13773385725312703,
          -0.0006204831027577902,
          0.005694746665253279,
          0.004478557653507852,
          -0.018099592563416537,
          -0.0014823743458548515,
          0.017506314710216294,
          -0.03282857154495737,
          -0.12587149716065102,
          -0.03479305048169142,
          0.01803581035809295,
          -0.03250598098621052,
          0.014219744617912422,
          0.05885431233842357,
          0.03712502917332939,
          -0.020342930280227028,
          -0.005662629490793677,
          -0.004937618721862848,
          -0.004370313207882212,
          -0.03213484392782117,
          0.004362642479535736,
          0.03904778632772489,
          -0.02285966027726285,
          -0.030147494911811967,
          0.002448194275223049,
          0.00015677202779949126,
          -0.03168991705266056,
          -0.02928450905063539,
          0.021059894885007164,
          0.0019608260632442745,
          0.01264663858346513,
          0.01659913293016146,
          0.012092066863343489,
          0.015296407719831696,
          0.02542522745806392,
          0.026345204394232987,
          0.00727668714395884,
          0.0073860767869666855,
          -0.0032139890473606033,
          0.010825176189781197,
          -0.016231397001747177,
          -0.009083357132777201,
          0.007184809011234981,
          0.014497691856080614,
          -0.004184098538113845,
          0.01482744370952365,
          -0.000572526899802758,
          -0.028836413684690167,
          -0.00924042065050063,
          0.01869031164225336,
          -0.006407923432032771,
          -0.029383818754874134,
          -0.011755600905303153,
          -0.07082638002428758,
          -0.0462260987249027,
          0.011801082308370486,
          0.01785327840143161,
          0.007681911149558189,
          0.005879339665893196,
          -0.01269808654465052,
          -0.05694924280470926,
          -0.024047936957220007,
          0.12075048522471228,
          -0.02712291066549481,
          -0.09341667508335104,
          0.014905981935659868,
          0.06570017408796928,
          -0.03141378511272596,
          0.03640144284153613,
          -0.02521559037588295,
          0.053579002011764715,
          -0.016611110461364497,
          1.0644522101014513e-06,
          0.013333505192182774,
          -0.041760795662011976,
          -0.008483969021527942,
          0.012154516121147988,
          -0.029858978270431085,
          -0.04221963830791698,
          0.053862689198002606,
          -0.03633228992959091,
          0.00046564900184024253,
          0.06560281098907261,
          0.011815204494313721,
          0.047980333468020296,
          0.02294229364675659,
          -0.025924558259832635,
          -0.01035418900734668,
          0.044470017359244586,
          0.006355542129330374,
          0.024137073907334515,
          -0.016163096664267896,
          0.01789697208456207,
          0.03749219961154165,
          0.008934368164898635,
          0.0165570395837629,
          -0.02380551762448426,
          0.0069281090777724786,
          -0.04116213581388347,
          0.01184810683409776,
          -0.006415888899699747,
          0.00969325093667087,
          0.003057366412067797,
          0.039613542072381484,
          0.017284589026415678,
          -0.042385317827711586,
          0.0018290684027370465,
          -0.00849725840391312,
          -0.036797750821072686,
          -0.0026931732934765027,
          0.002578486048586606,
          0.021534045728085205,
          0.000885921223125617,
          -0.0009750939150573506,
          0.001815375311168164,
          0.008773649271790187,
          0.011084135324137252,
          0.005284803232501099,
          0.03251458069276855,
          -0.07561091677893858,
          0.008724041862952525,
          -0.006283300564322297,
          -0.0102250703528861,
          0.014455974259323323,
          0.021196843803428973,
          0.0049693011034375265,
          0.02015186315434014,
          0.020604527943229724,
          -0.024520960746612037,
          0.023210268793933456,
          -0.017215466896289146,
          -0.13995077831319536,
          0.03420017756346322,
          0.0426664007376988,
          0.046146791024191745,
          0.004482524603126211,
          -0.012506560376591489,
          -0.0023140064956923227,
          -0.03475196557239513,
          -0.005624282041250707,
          0.01589698528339276,
          0.008841783062354539,
          -0.023567848394405375,
          -0.058614737997391676
         ]
        }
       ],
       "layout": {
        "legend": {
         "tracegroupgap": 0
        },
        "margin": {
         "t": 60
        },
        "scene": {
         "domain": {
          "x": [
           0,
           1
          ],
          "y": [
           0,
           1
          ]
         },
         "xaxis": {
          "title": {
           "text": "PC1"
          }
         },
         "yaxis": {
          "title": {
           "text": "PC2"
          }
         },
         "zaxis": {
          "title": {
           "text": "PC3"
          }
         }
        },
        "template": {
         "data": {
          "bar": [
           {
            "error_x": {
             "color": "#2a3f5f"
            },
            "error_y": {
             "color": "#2a3f5f"
            },
            "marker": {
             "line": {
              "color": "#E5ECF6",
              "width": 0.5
             },
             "pattern": {
              "fillmode": "overlay",
              "size": 10,
              "solidity": 0.2
             }
            },
            "type": "bar"
           }
          ],
          "barpolar": [
           {
            "marker": {
             "line": {
              "color": "#E5ECF6",
              "width": 0.5
             },
             "pattern": {
              "fillmode": "overlay",
              "size": 10,
              "solidity": 0.2
             }
            },
            "type": "barpolar"
           }
          ],
          "carpet": [
           {
            "aaxis": {
             "endlinecolor": "#2a3f5f",
             "gridcolor": "white",
             "linecolor": "white",
             "minorgridcolor": "white",
             "startlinecolor": "#2a3f5f"
            },
            "baxis": {
             "endlinecolor": "#2a3f5f",
             "gridcolor": "white",
             "linecolor": "white",
             "minorgridcolor": "white",
             "startlinecolor": "#2a3f5f"
            },
            "type": "carpet"
           }
          ],
          "choropleth": [
           {
            "colorbar": {
             "outlinewidth": 0,
             "ticks": ""
            },
            "type": "choropleth"
           }
          ],
          "contour": [
           {
            "colorbar": {
             "outlinewidth": 0,
             "ticks": ""
            },
            "colorscale": [
             [
              0,
              "#0d0887"
             ],
             [
              0.1111111111111111,
              "#46039f"
             ],
             [
              0.2222222222222222,
              "#7201a8"
             ],
             [
              0.3333333333333333,
              "#9c179e"
             ],
             [
              0.4444444444444444,
              "#bd3786"
             ],
             [
              0.5555555555555556,
              "#d8576b"
             ],
             [
              0.6666666666666666,
              "#ed7953"
             ],
             [
              0.7777777777777778,
              "#fb9f3a"
             ],
             [
              0.8888888888888888,
              "#fdca26"
             ],
             [
              1,
              "#f0f921"
             ]
            ],
            "type": "contour"
           }
          ],
          "contourcarpet": [
           {
            "colorbar": {
             "outlinewidth": 0,
             "ticks": ""
            },
            "type": "contourcarpet"
           }
          ],
          "heatmap": [
           {
            "colorbar": {
             "outlinewidth": 0,
             "ticks": ""
            },
            "colorscale": [
             [
              0,
              "#0d0887"
             ],
             [
              0.1111111111111111,
              "#46039f"
             ],
             [
              0.2222222222222222,
              "#7201a8"
             ],
             [
              0.3333333333333333,
              "#9c179e"
             ],
             [
              0.4444444444444444,
              "#bd3786"
             ],
             [
              0.5555555555555556,
              "#d8576b"
             ],
             [
              0.6666666666666666,
              "#ed7953"
             ],
             [
              0.7777777777777778,
              "#fb9f3a"
             ],
             [
              0.8888888888888888,
              "#fdca26"
             ],
             [
              1,
              "#f0f921"
             ]
            ],
            "type": "heatmap"
           }
          ],
          "heatmapgl": [
           {
            "colorbar": {
             "outlinewidth": 0,
             "ticks": ""
            },
            "colorscale": [
             [
              0,
              "#0d0887"
             ],
             [
              0.1111111111111111,
              "#46039f"
             ],
             [
              0.2222222222222222,
              "#7201a8"
             ],
             [
              0.3333333333333333,
              "#9c179e"
             ],
             [
              0.4444444444444444,
              "#bd3786"
             ],
             [
              0.5555555555555556,
              "#d8576b"
             ],
             [
              0.6666666666666666,
              "#ed7953"
             ],
             [
              0.7777777777777778,
              "#fb9f3a"
             ],
             [
              0.8888888888888888,
              "#fdca26"
             ],
             [
              1,
              "#f0f921"
             ]
            ],
            "type": "heatmapgl"
           }
          ],
          "histogram": [
           {
            "marker": {
             "pattern": {
              "fillmode": "overlay",
              "size": 10,
              "solidity": 0.2
             }
            },
            "type": "histogram"
           }
          ],
          "histogram2d": [
           {
            "colorbar": {
             "outlinewidth": 0,
             "ticks": ""
            },
            "colorscale": [
             [
              0,
              "#0d0887"
             ],
             [
              0.1111111111111111,
              "#46039f"
             ],
             [
              0.2222222222222222,
              "#7201a8"
             ],
             [
              0.3333333333333333,
              "#9c179e"
             ],
             [
              0.4444444444444444,
              "#bd3786"
             ],
             [
              0.5555555555555556,
              "#d8576b"
             ],
             [
              0.6666666666666666,
              "#ed7953"
             ],
             [
              0.7777777777777778,
              "#fb9f3a"
             ],
             [
              0.8888888888888888,
              "#fdca26"
             ],
             [
              1,
              "#f0f921"
             ]
            ],
            "type": "histogram2d"
           }
          ],
          "histogram2dcontour": [
           {
            "colorbar": {
             "outlinewidth": 0,
             "ticks": ""
            },
            "colorscale": [
             [
              0,
              "#0d0887"
             ],
             [
              0.1111111111111111,
              "#46039f"
             ],
             [
              0.2222222222222222,
              "#7201a8"
             ],
             [
              0.3333333333333333,
              "#9c179e"
             ],
             [
              0.4444444444444444,
              "#bd3786"
             ],
             [
              0.5555555555555556,
              "#d8576b"
             ],
             [
              0.6666666666666666,
              "#ed7953"
             ],
             [
              0.7777777777777778,
              "#fb9f3a"
             ],
             [
              0.8888888888888888,
              "#fdca26"
             ],
             [
              1,
              "#f0f921"
             ]
            ],
            "type": "histogram2dcontour"
           }
          ],
          "mesh3d": [
           {
            "colorbar": {
             "outlinewidth": 0,
             "ticks": ""
            },
            "type": "mesh3d"
           }
          ],
          "parcoords": [
           {
            "line": {
             "colorbar": {
              "outlinewidth": 0,
              "ticks": ""
             }
            },
            "type": "parcoords"
           }
          ],
          "pie": [
           {
            "automargin": true,
            "type": "pie"
           }
          ],
          "scatter": [
           {
            "marker": {
             "colorbar": {
              "outlinewidth": 0,
              "ticks": ""
             }
            },
            "type": "scatter"
           }
          ],
          "scatter3d": [
           {
            "line": {
             "colorbar": {
              "outlinewidth": 0,
              "ticks": ""
             }
            },
            "marker": {
             "colorbar": {
              "outlinewidth": 0,
              "ticks": ""
             }
            },
            "type": "scatter3d"
           }
          ],
          "scattercarpet": [
           {
            "marker": {
             "colorbar": {
              "outlinewidth": 0,
              "ticks": ""
             }
            },
            "type": "scattercarpet"
           }
          ],
          "scattergeo": [
           {
            "marker": {
             "colorbar": {
              "outlinewidth": 0,
              "ticks": ""
             }
            },
            "type": "scattergeo"
           }
          ],
          "scattergl": [
           {
            "marker": {
             "colorbar": {
              "outlinewidth": 0,
              "ticks": ""
             }
            },
            "type": "scattergl"
           }
          ],
          "scattermapbox": [
           {
            "marker": {
             "colorbar": {
              "outlinewidth": 0,
              "ticks": ""
             }
            },
            "type": "scattermapbox"
           }
          ],
          "scatterpolar": [
           {
            "marker": {
             "colorbar": {
              "outlinewidth": 0,
              "ticks": ""
             }
            },
            "type": "scatterpolar"
           }
          ],
          "scatterpolargl": [
           {
            "marker": {
             "colorbar": {
              "outlinewidth": 0,
              "ticks": ""
             }
            },
            "type": "scatterpolargl"
           }
          ],
          "scatterternary": [
           {
            "marker": {
             "colorbar": {
              "outlinewidth": 0,
              "ticks": ""
             }
            },
            "type": "scatterternary"
           }
          ],
          "surface": [
           {
            "colorbar": {
             "outlinewidth": 0,
             "ticks": ""
            },
            "colorscale": [
             [
              0,
              "#0d0887"
             ],
             [
              0.1111111111111111,
              "#46039f"
             ],
             [
              0.2222222222222222,
              "#7201a8"
             ],
             [
              0.3333333333333333,
              "#9c179e"
             ],
             [
              0.4444444444444444,
              "#bd3786"
             ],
             [
              0.5555555555555556,
              "#d8576b"
             ],
             [
              0.6666666666666666,
              "#ed7953"
             ],
             [
              0.7777777777777778,
              "#fb9f3a"
             ],
             [
              0.8888888888888888,
              "#fdca26"
             ],
             [
              1,
              "#f0f921"
             ]
            ],
            "type": "surface"
           }
          ],
          "table": [
           {
            "cells": {
             "fill": {
              "color": "#EBF0F8"
             },
             "line": {
              "color": "white"
             }
            },
            "header": {
             "fill": {
              "color": "#C8D4E3"
             },
             "line": {
              "color": "white"
             }
            },
            "type": "table"
           }
          ]
         },
         "layout": {
          "annotationdefaults": {
           "arrowcolor": "#2a3f5f",
           "arrowhead": 0,
           "arrowwidth": 1
          },
          "autotypenumbers": "strict",
          "coloraxis": {
           "colorbar": {
            "outlinewidth": 0,
            "ticks": ""
           }
          },
          "colorscale": {
           "diverging": [
            [
             0,
             "#8e0152"
            ],
            [
             0.1,
             "#c51b7d"
            ],
            [
             0.2,
             "#de77ae"
            ],
            [
             0.3,
             "#f1b6da"
            ],
            [
             0.4,
             "#fde0ef"
            ],
            [
             0.5,
             "#f7f7f7"
            ],
            [
             0.6,
             "#e6f5d0"
            ],
            [
             0.7,
             "#b8e186"
            ],
            [
             0.8,
             "#7fbc41"
            ],
            [
             0.9,
             "#4d9221"
            ],
            [
             1,
             "#276419"
            ]
           ],
           "sequential": [
            [
             0,
             "#0d0887"
            ],
            [
             0.1111111111111111,
             "#46039f"
            ],
            [
             0.2222222222222222,
             "#7201a8"
            ],
            [
             0.3333333333333333,
             "#9c179e"
            ],
            [
             0.4444444444444444,
             "#bd3786"
            ],
            [
             0.5555555555555556,
             "#d8576b"
            ],
            [
             0.6666666666666666,
             "#ed7953"
            ],
            [
             0.7777777777777778,
             "#fb9f3a"
            ],
            [
             0.8888888888888888,
             "#fdca26"
            ],
            [
             1,
             "#f0f921"
            ]
           ],
           "sequentialminus": [
            [
             0,
             "#0d0887"
            ],
            [
             0.1111111111111111,
             "#46039f"
            ],
            [
             0.2222222222222222,
             "#7201a8"
            ],
            [
             0.3333333333333333,
             "#9c179e"
            ],
            [
             0.4444444444444444,
             "#bd3786"
            ],
            [
             0.5555555555555556,
             "#d8576b"
            ],
            [
             0.6666666666666666,
             "#ed7953"
            ],
            [
             0.7777777777777778,
             "#fb9f3a"
            ],
            [
             0.8888888888888888,
             "#fdca26"
            ],
            [
             1,
             "#f0f921"
            ]
           ]
          },
          "colorway": [
           "#636efa",
           "#EF553B",
           "#00cc96",
           "#ab63fa",
           "#FFA15A",
           "#19d3f3",
           "#FF6692",
           "#B6E880",
           "#FF97FF",
           "#FECB52"
          ],
          "font": {
           "color": "#2a3f5f"
          },
          "geo": {
           "bgcolor": "white",
           "lakecolor": "white",
           "landcolor": "#E5ECF6",
           "showlakes": true,
           "showland": true,
           "subunitcolor": "white"
          },
          "hoverlabel": {
           "align": "left"
          },
          "hovermode": "closest",
          "mapbox": {
           "style": "light"
          },
          "paper_bgcolor": "white",
          "plot_bgcolor": "#E5ECF6",
          "polar": {
           "angularaxis": {
            "gridcolor": "white",
            "linecolor": "white",
            "ticks": ""
           },
           "bgcolor": "#E5ECF6",
           "radialaxis": {
            "gridcolor": "white",
            "linecolor": "white",
            "ticks": ""
           }
          },
          "scene": {
           "xaxis": {
            "backgroundcolor": "#E5ECF6",
            "gridcolor": "white",
            "gridwidth": 2,
            "linecolor": "white",
            "showbackground": true,
            "ticks": "",
            "zerolinecolor": "white"
           },
           "yaxis": {
            "backgroundcolor": "#E5ECF6",
            "gridcolor": "white",
            "gridwidth": 2,
            "linecolor": "white",
            "showbackground": true,
            "ticks": "",
            "zerolinecolor": "white"
           },
           "zaxis": {
            "backgroundcolor": "#E5ECF6",
            "gridcolor": "white",
            "gridwidth": 2,
            "linecolor": "white",
            "showbackground": true,
            "ticks": "",
            "zerolinecolor": "white"
           }
          },
          "shapedefaults": {
           "line": {
            "color": "#2a3f5f"
           }
          },
          "ternary": {
           "aaxis": {
            "gridcolor": "white",
            "linecolor": "white",
            "ticks": ""
           },
           "baxis": {
            "gridcolor": "white",
            "linecolor": "white",
            "ticks": ""
           },
           "bgcolor": "#E5ECF6",
           "caxis": {
            "gridcolor": "white",
            "linecolor": "white",
            "ticks": ""
           }
          },
          "title": {
           "x": 0.05
          },
          "xaxis": {
           "automargin": true,
           "gridcolor": "white",
           "linecolor": "white",
           "ticks": "",
           "title": {
            "standoff": 15
           },
           "zerolinecolor": "white",
           "zerolinewidth": 2
          },
          "yaxis": {
           "automargin": true,
           "gridcolor": "white",
           "linecolor": "white",
           "ticks": "",
           "title": {
            "standoff": 15
           },
           "zerolinecolor": "white",
           "zerolinewidth": 2
          }
         }
        }
       }
      },
      "text/html": [
       "<div>                            <div id=\"9b3cd044-f0f1-4f8c-be4a-8f96135515af\" class=\"plotly-graph-div\" style=\"height:525px; width:100%;\"></div>            <script type=\"text/javascript\">                require([\"plotly\"], function(Plotly) {                    window.PLOTLYENV=window.PLOTLYENV || {};                                    if (document.getElementById(\"9b3cd044-f0f1-4f8c-be4a-8f96135515af\")) {                    Plotly.newPlot(                        \"9b3cd044-f0f1-4f8c-be4a-8f96135515af\",                        [{\"hovertemplate\":\"PC1=%{x}<br>PC2=%{y}<br>PC3=%{z}<extra></extra>\",\"legendgroup\":\"\",\"marker\":{\"color\":\"#636efa\",\"opacity\":0.6,\"size\":4,\"symbol\":\"circle\"},\"mode\":\"markers\",\"name\":\"\",\"scene\":\"scene\",\"showlegend\":false,\"type\":\"scatter3d\",\"x\":[0.018421239754433518,-0.024765368683891384,-0.00290158271757344,0.01658056717750365,-0.03935465617450762,0.04380527210922161,0.0008978485170888052,0.04397058236940021,0.005161019858546126,-0.02615525328388846,0.020600777410837406,0.01501959212807413,-0.032339602830634626,-0.008950068947994173,0.012770947044525721,-0.005113110996788291,0.046194702542420266,-0.00022624183142771814,-0.06870628140902575,0.013891400254358414,0.020984286205615384,0.02959525043597662,0.03751206922625171,0.029403231601439032,0.05300527686952152,0.02293304497544064,0.039263914741026175,-0.00811314511044788,0.009335599543332485,0.01499457485075636,-0.012737312610685963,-0.025449179735741196,-0.03432440788462619,-0.01718149324337567,-0.024323934971455075,-0.037200793999207636,0.10769685862907216,0.0614613087081661,0.0785668710158143,0.01775103323597709,0.017634743180364915,-0.0270976040685205,-0.08388684551692421,0.042142228657944786,-0.051584311369307266,0.0072777843268349565,-0.009645463781775823,-0.05246868960186285,0.024138944800198056,0.0646240118164775,0.025713805255227696,0.0010026143741271945,0.02998765136243621,0.02139351007743171,-0.011261855866879732,-0.06651842725975862,0.043384749465671384,0.049319584977779614,-0.02708031162889266,-0.01524981114823002,-0.022255425189013467,0.04620390712469789,-0.00966086159011595,-0.0039533098849400886,0.009585092088108666,-0.025908174249342025,0.02134120068162913,-0.00028089536560648777,0.009763406023565738,-0.021714552488538173,-0.05820139866911737,0.005348871291362401,0.018481440123877497,-0.034153919590602606,-0.034276184289455586,-0.024112866834518725,-0.03314412572753382,-0.026991485143354612,-0.03642697960755756,-0.04228055295627033,-0.036819417856316455,0.04146531156762887,-0.026490207898415174,-0.03215643964510081,-0.03163463596130064,0.03475392718229273,-0.02593370768287869,-0.04648689548952822,-0.06564570056696345,-0.05514827468850316,-0.020152320450296995,-0.014392418412234861,-0.015505089068976475,-0.03165943358324639,-0.03544126476549889,-0.02512059395843419,-0.020765850676450454,-0.038547587557877704,-0.04398419867253499,-0.04304312249367599,-0.03992309410529791,-0.03920519794822085,-0.040146572387371356,-0.04702196638365416,-0.02583630770484145,-0.0077685614482327445,-0.03551311271253497,-0.010498499561911786,0.008434733779326508,0.02092293599296473,-0.023068470308530455,-0.036505078653247876,-0.04607097707166376,0.03991323752217149,-0.0026451827897960504,0.03656668098404826,0.014366555987062385,-0.0283518385829762,0.0045507994339343905,0.04538670675201591,0.006904794305501696,-0.005960421662268383,-0.0006066128577859422,-0.014471939419225366,-0.034712365776074214,-0.03328748002141179,0.003158694677054819,0.010750255542219854,0.014199650791720947,-0.02931713501482819,0.019489724217827187,-0.005270952863519166,0.00011651370039716026,0.03223398475631145,0.061615734260925495,-0.00948501834992485,0.039285487047235855,0.039106123584533456,0.019068190268236643,-0.035682510396747934,-0.011627692434394366,-0.02112571226725406,0.011718319672705244,0.0042433994597491816,0.018547094135468296,0.05301244016668282,0.07541060351735039,0.00909920591917673,0.011543536041477473,0.016236649511274338,0.024077676190754495,-0.01186806878440766,0.04579652550966753,0.02482187814907319,0.0369878094708442,0.012955902223190851,0.047962024989150136,0.004593943877875954,0.007894212772326646,0.026462478415312542,0.03134241331112036,0.09707801154090838,-0.005954337344494314,-0.024076103029028798,-0.004519812378837825,-0.14911749726576778,0.0103788540598717,-0.021005689761566207,0.008127456660585241,0.0456579003366002,-0.03320004965038335,-0.031898812544053017,0.04414154298776054,-0.050927532861526265,-0.03362559775669841,-0.09117967767334847,-0.044194524274599946,0.04168021163744063,-0.006105876283844854,0.012016152506360322,-0.007621501969519549,-0.009012832581320017,0.001451214974611367,0.034271619375025104,0.0033147743984230696,-0.0033884261267550205,-0.013493274540494893,0.0058289535759124276,-0.036491644678595864,-0.006850337664857989,-0.002053404888782669,-0.0035661244083453865,-0.009476339528420662,-0.05420348559614318,-0.025520234886811474,0.0674613879190326,0.024545964852162854,-0.022830574926175462,-0.009282755220527445,-0.00026473933925304444,-0.02842328439718197,-0.0034551086850735384,0.014187174507189391,0.02733210892000126,0.011241336138505498,0.010995524954750221,0.015463865302738756,-0.0037223404080947357,-0.030062125880905077,-0.03410110515531207,-0.030852323234305347,0.03872586254656968,-0.04105523441909767,-0.010124296182664434,-0.0219973085299097,-0.02177583016821626,0.0033311042056293257,-0.037626421159294196,-0.0584582270545083,-0.047648857920912335,-0.06927261007782747,-0.03861526459971912,-0.00507587920053186,0.01347463612392862,0.010991012885502223,0.015707409844697994,0.0013994551285966999,-0.02575972064424634,-0.010133893739899367,-0.03770500416367242,-0.0025102684446740146,0.011547228868383675,0.010839840472537105,-0.026727518062422614,0.007441601604662522,-0.011164555992675563,0.07245836940424884,0.04037440953569174,0.002484899237031976,0.02465942483457625,0.016184346964940522,0.049846206673377226,-0.008277286277926444,0.024646675637727627,0.012389593375325044,-0.03351826796771422,-0.03654197805693336,-0.029490799144167943,-0.05082363241284951,0.001662509300372339,0.003418744923159381,-0.004822165551429137,-0.007102402054214372,-0.07644720795883513,-0.009033557867062943,-0.03278492855649159,-0.0026599363337054503,0.04077013076078024,0.02393392987742308,0.03730133540590755,0.014482423960254056,0.031838396060928864,0.018105390001330046,0.025984317583753032,0.01470386281960079,-0.018144168220993757,0.00950900199618445,-0.03401664949185653,0.00567208341754089,-0.03765970373300308,-0.03932647406965901,-0.0180490562912742,-0.005541782503201327,0.005406125526394652,0.0005693500009795064,0.024660323142705453,-0.014764863972279855,-0.010620383594655778,-0.004006931087902828,0.052342869062329545,-0.032579327049563574,-0.01578371884453965,0.01428239185252769,-0.035371368899602317,-0.020991674527495705,0.0018828955989895718,-0.0053993920576194615,0.0508538405800803,0.0627786818207836,-0.08107464510484762,0.019643187851640535,-0.023783968215088273,-0.04359722203504036,-0.0376989621173115,-0.04124972751697598,-0.03673535006885098,-0.03301720370322474,-0.007364284719276797,0.01303856509190946,-0.0015830992211990841,0.011494203612924102,-0.026084019952492047,-0.040599610622421685,-0.04071696058225845,-0.018043359166380727,0.00014019728403331567,-0.0627969797570811,0.012747118137882636,0.010543706919946681,0.003691917623390923,0.008253274079412756,0.03848497832503253,0.04516615543909333,0.02897259181193065,0.01798985013917993,0.027601474393122424,0.0014858431542491058,0.05009051082155899,0.03926988426821525,-0.03590885548062237,-0.03273704570673005,-0.03398332138274651,-0.012873559731203228,-0.013636516451129017,-0.03610144723796414,-0.019411929814739985,-0.05666376956446122,-0.03423876682175188,-0.039553155423808495,-0.030197738537427382,-0.07389843133139361,-0.0695735162971662,-0.0660256700596986,-0.0304772943709085,-0.0853695943795492,-0.03515373529712337,0.00403878266346333,-0.014669760448513662,-0.03511263030848603,-0.05149498112405315,0.013689089027408275,0.06071557627351988,-0.0014238152136622929,-0.03722828703010947,0.03979998538694659,-0.16150185489205574,0.025883637023554302,-0.0140967403426807,-0.03310940048034978,-0.03465213284960899,0.03216569107098803,-0.02800531110426088,-0.03739225256753466,-0.03794321711056869,-0.023567691359317248,0.037581686111004306,-0.019718171941702754,-0.04394320644198023,-0.019308913254245812,-0.009305269002775986,-0.03793288385401846,-0.005192392771737381,-0.014375151379232669,-0.0344668566735308,-0.03279321133342018,-0.05887972695832419,-0.027955758395896414,-0.05038751690500003,-0.009064131234169546,-0.04753688326069237,-0.02896666851945522,-0.015949842119377236,-0.07045076138414824,-0.05481165855284929,-0.0696233315919958,-0.05839990009694842,-0.02464119501809102,-0.05562678702890075,-0.030386154797188262,-0.06186295421003988,-0.008429287362923157,-0.05382946529451268,-0.06581391505629813,-0.031764305833561914,0.002368956018758616,0.03441814957083043,-0.04120134032210238,-0.037025831270695614,-0.0410610007881643,-0.03654589995865291,-0.0027137548512906795,0.006546326766235196,0.07508443291743452,0.008493485282022085,0.05805323956463444,-0.0035792183634943864,-0.025843851489099092,0.0337639074254025,0.003107461871739622,-0.02228587313690029,-0.031150840161949904,-0.028845423327197223,-0.10667832402020169,0.040453921723010634,-0.020786694799012777,0.019895755207040303,-0.0034153423019046636,0.004355163064383761,0.03473251832063798,0.0136746908506722,0.01704828661444156,-0.0017331441105754293,-0.004097232792314949,-0.01499335407754095,0.013564066744900408,0.06170452180783725,0.008173884733159918,-0.051197665216385524,-0.054643260137562474,-0.07587368842446596,-0.05861906583271566,0.02657684331684235,0.01133012122921599,0.01784948476434547,0.03628487897163546,0.048371210735160146,0.012252162252395025,0.04125563879924121,0.002387913927002447,0.005692279679183481,0.005296565490505973,-0.0025198843819696903,0.014064461792818053,0.011218860401014294,0.022083001539574352,0.03560886416738313,0.00844433683031187,-0.03918273400587592,-0.03872759336830444,0.015360818178677715,0.03001700536785003,0.044295481887484806,0.0004778855415710137,0.07795796248473834,0.08631030921125513,0.062364972893987486,-0.035828960219952154,-0.02751101843910439,0.06970491182237996,0.047299977170420664,0.02802496574286564,0.04795587086707584,-0.00631742285584155,0.0033181403111446177,0.016315259771189323,-0.01619849975526216,0.03940566513329916,-0.03342901970272772,-0.029664205662156683,0.028331482966146126,0.02158568779293099,0.050799888625901346,0.04730577134876913,0.06837078768332766,0.03777870650603071,0.02619553797276809,-0.006967365176656028,0.05110649706936918,0.055001726086361856,-0.016591782245030308,-0.015268314380582217,0.011647100038201297,0.02560423425738041,0.0037814584666863325,0.013359469495465126,-0.033874201161395195,0.01674071432157728,0.00568432572061212,0.02309256024294291,0.016408484913132074,0.012603466045744046,0.01750388668241707,0.028835587891890144,0.028314474856692078,0.024498883046552004,0.0581016260211784,0.003794447079865194,0.02680615009756109,0.020632054968751305,0.021198232828353286,0.033514564656376866,0.004083001291001877,0.018373572212187026,0.027108834304613295,-0.006126461649629791,0.022669512544076734,0.030910907171981052,0.06463181071070825,0.018125822249425695,0.013496512057566058,0.033046734414451016,0.05052466024032206,0.03302548550381299,0.01608555179198103,0.008258364146006827,0.020306214124553062,0.15973124337714764,0.1867964533906478,0.018668822053846245,0.04266505107736794,0.041831591589148565,-0.034613443720643504,-0.007673718871968612,-0.008417540225104617,-0.003201404359728672,0.037617402460694956,0.03663906690629551,0.019652127560085407,0.04326643315016334,0.05434968880172216,0.09437553554927448,0.046764068820985646,0.0231676812574925,0.024633318505129287,0.015307403049329947,0.0081464589057629,0.007804504192859688,0.04807851427956096,-0.041328061396995935,-0.030001268985678838,-0.01376405244377926,0.0051424153490881985,0.014756607510012183,-0.008280945096447879,0.01242457761531258,0.07252732308613825,-0.0032903846027511315,-0.03617965474265246,-0.03426925245461626,0.01940178066841696,-0.006455958656247504,0.008613712299414324,-0.03671667157472077,0.03649712780370122,0.03951581328421732,0.07157272636114231,0.025835899601624645,0.0009406906747300697,-0.031847264524916596,-0.028320869290734425,-0.017663349237067826,0.024469920254484006,0.15429592311011825,0.02129392672293539,0.09196404010829036,0.12713096662704615,0.1112394617155078,0.1258953333669185,-0.007305835449200902,-0.03513129659586272,0.030408757683582012,0.016710490224104774,-0.017706676135752216,0.011337421533046465,0.01253677832581751,0.023551655501390007,-0.012729580500630605,0.045519374787644784,0.015744128448044042,0.0943557020915708,0.029745073826835396,-0.006909057375665526,0.023344536737126612,0.11549723800528852,0.10477173714527165,-0.038712715701172955,-0.015111299424072092,0.11982568759956023,-0.008928120884544527,0.036487351002974455,0.017671151385952343,0.042625405582066324,0.052589396387349115,0.029694280423892706,-0.012550029328985104,-0.021224109247659682,0.05055702925478529,0.013333797089977744,0.038798596121417735,0.03115985853592294,0.10739802478277938,0.03029555066806917,-0.0006846683576474963,0.001628177787747042,0.03936456082189782,0.010275129543827907,-0.002279128438695347,0.003748542485326901,0.008176064889088057,-0.004212455961163207,0.016268995622922888,-0.009267334116654948,-0.016851888924168067,-0.014952670871886646,-0.010941970755413432,-0.030910471540181644,-0.07167813429964759,-0.05619492375434565,-0.02140901312768196,-0.040285807098071454,-0.035767407342000346,-0.03753709314968831,-0.02021121875495751,-0.07705600004789676,-0.031233245520270812,-0.008863583468944907,-0.010161845506084411,-0.04114431358384713,-0.032314990319432246,-0.03709502820157397,-0.09245980703785621,-0.03518732630488726,-0.04205592733969102,-0.04870848292329895,0.01053128355131941,-0.10250042756141961,-0.02792561562397306,-0.030891972454114375,-0.05380663280844927,-0.026149970315204787,-0.03654552795358856,-0.04248697224760546,0.03235552088915307,-0.0036746897531983844,0.055229221782957055,0.008043420839890144,0.02814424763549663,-0.03705127659821065,-0.07336140226880046,-0.02617067674569022,-0.03552185063934463,-0.03784953244542943,0.09677987087167814,0.0002130983563320939,-0.0002065808913911099,0.07313750522783474,-0.002864721900415589,0.012690516373239251,-0.004103659358010586,0.015698335502933695,-0.005994520014735267],\"y\":[-0.01603934162197715,-0.02436033685552437,-0.018602417390470957,0.01616885637697418,-0.048804929022059504,0.017189852997217207,-0.004875127177600291,0.003774771385167863,-0.008547862321665347,-0.06724136396581734,0.006416512711845784,0.009007471170224962,0.006190207210712233,-0.012476157312138815,-0.012417787816445078,0.003079375783808077,-0.02181178401179394,-0.006458606551417728,-0.00803022180316062,-0.0230355471819099,-0.006856680273690355,0.01537479674126357,0.03363141871864764,0.0029093886308888873,0.028256131341710046,-0.00493876786093815,0.01820197729145254,-0.016384013454613683,-0.0013206082466800054,0.02449573526812369,-0.03897124926985384,-0.04620519090395776,-0.07319502251877544,-0.0315614003093289,-0.02239288469222598,-0.035182750089655726,0.043020058980397985,0.03092985716784907,-0.0066952819622501025,-0.007943862356670793,0.002578940298017963,-0.02963122729310444,-0.0853071484500118,-0.021422574771894628,-0.0365061719914295,0.013874578292903209,-0.023197085422006578,-0.02052299649869851,0.0011426343004167672,-0.017545375745430435,0.02335244451987614,-0.029404374760170195,0.008656909982160236,0.010793773051147423,-0.0463414549708708,-0.05899041359605755,-0.02942402871816432,0.0028219080883233236,-0.02081170845577519,-0.01728115635381566,-0.025398307769904042,0.011434516912222033,-0.008040015158076069,-0.01665688879788314,-0.029841638934824128,0.0468468266503357,0.0262571829946712,0.06900701005340866,0.04568413361686027,0.13267038155528502,0.0502106432704681,0.05475709976489077,0.04846906129692401,0.02430589548889994,0.02290191484814067,0.0009766756158933697,0.019409849471242205,0.0679037464373222,0.0542794341706648,0.04027913980267403,0.020688079702825882,0.11853643015337752,0.11694577103567569,0.018092658860700654,0.042246879444654585,-0.02170934829472538,0.060628821093366224,0.05316472555146812,0.12191029849386807,0.0033497815935404716,0.06786465381922235,0.0855797876481836,0.02781967341562269,0.031088572535850425,0.02971562587468183,-0.0005426449636906488,0.03228497289080513,-0.040814191826227426,-0.04044359528160962,-0.04715935322911512,-0.03317617715337821,-0.04298966625598905,-0.037781868290888365,-0.04439425826951477,0.07124619837283767,0.06075019428730872,0.06509521936086983,0.06130517983223992,0.09669789917268412,0.09371891316159607,0.059627092191068674,0.0595382286512053,0.07946169438531318,-0.003251699242555418,0.0029737331602215813,0.003718499312288912,0.021018142768036447,-0.02810703863766165,-0.027437634901943786,0.011091676093011617,-0.04127647661236571,-0.015730626552081694,-0.018890693526674524,-0.007564770247661672,-0.019513338781205133,-0.024481410675518768,-0.0261855383726656,-0.024375367910674316,-0.017727910013242986,-0.02205488487993095,-0.037231489103025456,-0.012351579204062737,-0.02659232859343387,-0.009730491022924859,0.02089219114848158,-0.006840798604421447,0.012692543032428501,0.014305429982373745,-0.0034796453526600205,-0.043851840446646397,-0.0243285428245436,-0.024768682094632954,-0.06586044048082536,-0.025096003827067392,-0.029609678771610238,-0.02328708541778671,0.004330777279094788,-0.00573365123620248,-0.017245458470305633,0.0018254264081145823,-0.01680869643496509,-0.012875958704912573,-0.012475514181464519,-0.032797719699621766,-0.048811700587989934,-0.006494042955963349,0.02183205879170202,0.002352507521600006,-0.028166589806491785,-0.0013806495914664898,-0.03428034484577799,0.002438862385503148,-0.017259816177143568,-0.010576634106318133,-0.017572230108659145,-0.05593924203069453,-0.04595980845141288,-0.03906467647878604,0.0014639768946599135,0.02605169125434618,-0.013049281874142662,-0.025448857706951947,0.005797294965395754,-0.019586718607079667,-0.026150978173155582,-0.01891709513592581,-0.025616119207200836,-0.02950907254452952,-0.006111067693184936,0.004641225802864461,-0.019706435065460232,-0.01544240293424835,-0.012946237410870389,-0.02311094735056032,-0.003658742184079757,-0.008708738505601167,-0.016596662192102346,-0.012379267947634361,-0.03397240961871151,-0.006805683093731262,-0.004449040236299504,-0.0018614923851167592,-0.019636233115381565,-0.052185873611976574,-0.02705426225321571,-0.017711394542559208,0.0016711226411044748,-0.03572763649463524,0.0019388729553574198,0.025890273995822135,-0.0351812265246971,-0.02998440891404753,-0.01173646868297449,-0.011364514392710986,-0.01143245202918364,-0.011563721313768755,-0.005426640199141791,0.0038047185284257675,-0.025780681064676517,-0.02792159683436291,-0.02238012184340063,-0.01200360489652566,-0.012129600629286268,0.09786225680163367,0.09081863511422104,0.05293055824733099,0.06626729556841958,0.02429444990973568,0.06215324563266313,0.06749789437905955,0.05306109123328057,0.06407091933399854,0.05297634505818159,-0.029529625148284472,-0.033731217520835494,-0.037924920520816884,-0.02263772947256056,-0.031043836173838605,-0.013061473492605509,-0.031206171208789872,-0.043095774230336496,-0.0007630029608520932,-0.04539221364829486,-0.007792758809063493,0.02168034364269358,-0.042929649337054974,-0.021233573897899618,-0.038256897230006005,-0.027783058488512924,-0.007603678672171952,-0.01936531640212058,-0.04666797963505445,-0.01700853954803976,-0.02508298668267772,-0.02307993465786734,-0.015028268519491185,-0.03325586182518667,-0.019322750469855366,0.07471914222355872,0.04084262011624444,0.09416478879060335,0.09655980828365295,0.0696837359164222,0.03498814768544288,0.12790881609406635,0.026022852823441488,-0.03000176524403282,-0.002735384990147051,-0.004261786438171736,0.013912541040681905,-0.009331523385647822,-0.01902271158714134,-0.05622923805913375,-0.041708626748536544,-0.055664265350362,-0.007832705350752277,0.01117753202467013,-0.032138544479217906,-0.024745389738054544,-0.02893821130863862,-0.03171053509620792,0.0546953551281917,0.059662444979202214,0.0681526764872754,0.14167653640695746,0.097741046233932,0.11928033060007076,0.09079277407835286,0.10581524172321208,0.10443538044405222,-0.020265624734718685,-0.02676366895328692,-0.023608420710482508,-0.02746623129115373,-0.04400934076309231,-0.0015519834019727,-0.022115709337055575,0.017909686556595854,0.02282626008958146,-0.014932267641732055,-0.024060813899469093,-0.02284887080995927,-0.01713409647307267,-0.02356146463629447,-0.03014642490580278,-0.023902563761878333,-0.013785971315849452,-0.031198887733464766,-0.014681126384508345,-0.015850372851931235,-0.02362677904755942,0.0742627835154984,0.056336485455498374,0.022597606110563447,0.002143881177664075,-0.08468265937356076,-0.03694209636593582,-0.009332937250258643,-0.029403100372221207,-0.03000305903297906,-0.011459639217227485,-0.010292114650367935,-0.006633338069999186,-0.010209157662325373,0.01515594047235175,0.016428373296911797,-0.0058756355892274174,0.08371855190869892,0.01673181293706403,-0.03418210621942779,0.00021901219354228792,0.024003389215152805,0.06750572489736922,0.035916894287478685,0.037084997971512886,0.0927731760782566,0.04522014175249283,0.09742467546891798,0.030871694781071275,0.07540898103075443,-0.0375737985854746,-0.03310238955016276,-0.03574880950245431,-0.02724482793802548,0.17869035770459163,0.029737812328482976,0.0770343629717466,0.020259930633599033,-0.026956487817373802,-0.018975873489159044,-0.026288644284373493,-0.013436697327988476,-0.03258303413494563,-0.025094148442974407,-0.029109821674425874,-0.02985804287436092,-0.022824783753562557,-0.05393048636579912,-0.017826695849630803,-0.025658199472762485,-0.032963306500330386,-0.030243324278556236,-0.030459733906908704,-0.046743746671369636,-0.019234236833018645,0.05879433620523837,0.07190684572716786,0.05854840155942822,0.03875026762330353,0.03819044184424241,0.03464990413305748,0.05839519569512267,0.059276372100234134,-0.005999586594169329,-0.00024134446163464557,0.05535425447426323,-0.0002292364321414196,0.03772736750523693,0.06133329084318646,-0.01964181460234684,-0.01955854501569058,-0.023340558818558406,-0.02432691767111826,-0.05495347320547949,0.010190444615870844,-0.03842570528929582,-0.030771369287631148,-0.033218482138788315,-0.006292406907074926,-0.023152193284616793,-0.024282602182138315,-0.015314699380402039,-0.023407907327764224,0.1067259516366724,0.042412864845519746,-0.012319934668905868,-0.034249506545273825,-0.03507929683830054,-0.03211838354468833,-0.027385020371467374,-0.00802005686571575,0.003174476887438664,0.014612877367606462,-0.002927788808183338,0.01696427964998422,-0.0004826081844632124,-0.03166632484045233,-0.005905562154539018,0.03940856493098159,-0.034675737979270524,-0.016741843855164723,-0.02885104327347856,-0.10918140525536227,-0.002732826990532852,-0.03626494153696099,-0.0066408067315844475,-0.007893114050261682,-0.039457979318697725,-0.01144306206623134,-0.020217922235541197,-0.03693561209104288,-0.018966309609004736,-0.02212271564868148,-0.014284424742628771,-0.04015505682230518,0.019335319815550023,-0.02795607622307944,-0.019085880766792303,-0.020046846953889086,0.004928327185630324,-0.012488810112231196,-0.02138768851227866,-0.024597382816120623,-0.003585090338735787,-0.013189265812985481,0.0030283222218590363,-0.007899940880818062,-0.006224661749031126,-0.03617180030218217,-0.022534610072930374,-0.03136209010874415,-0.03701652810627126,-0.01804778474806864,-0.02160016315192331,-0.026228840645631673,-0.023487921098455947,-0.024990706172021336,-0.03210465169991874,-0.031393804353845464,-0.009356337679884518,-0.02553142519373086,0.014764781042425809,-0.020310451539837442,0.0046424196638308775,0.021113027691418183,0.01632485711601508,-0.020947141209522253,-0.0192965901924528,-0.013965704350005199,-0.015699634627885782,-0.03179877742611346,0.03348323864580522,-0.03886867483222302,0.007121938800685994,0.005650770840360364,-0.018053806027145156,0.012304134235035789,-0.04817202168962177,-0.04937909220367251,0.020354484858994392,-0.015520190898751432,0.008717479794516739,-0.034742711912139866,-0.045312500595940844,-0.019868206223797265,0.007200051892680083,-0.026450067676370426,-0.008835417819884906,0.013375719065105596,-0.00948766332950742,-0.01917584964768834,-0.018708707126916833,0.027149693957758854,-0.01990060571469843,-0.005425768583889415,-0.01814760594776497,0.004204251046381416,0.014635328625803906,0.027883429560263073,0.005147495845327362,-0.011518800061232324,0.006252770574733863,-0.0008834755867361757,0.008043714184263797,-0.005677002778234429,0.032961493972544796,-0.020839818754292697,-0.00750875809674236,-0.00194062956898839,0.02273544140072504,-0.0061149511005123445,-0.020714446079739494,-0.06115716056622812,-0.01706128664768742,-0.027953118519565404,-0.02190150568694549,-0.022251191202594726,-0.007900083322750634,-0.016993385845589126,-0.05108057508171955,-0.034947787334787754,-0.016690642233448908,-0.021332700683604322,-0.04111313390313806,-0.05213477461559567,-0.03092728004354709,-0.04665457807985733,0.04376569375954214,-0.019311914404191298,-0.017883096134664576,-0.040449374507402235,-0.04094976947884232,-0.04264277599477981,-0.03683811746198573,-0.03978297325699632,-0.08502717255216902,-0.03518936142957625,-0.012104035300695731,-0.03689701604679568,-0.02186375364498756,0.022781890167689774,-0.01424948179096716,-0.020504814179133447,-0.02605552442023727,0.0025814084000454433,0.007784174906166267,-0.02309406925298056,0.01844020627519818,-0.01886763502297055,-0.029153220419034478,-0.03172959152340685,-0.012631821550107168,0.006430982596329463,-0.016043265987203587,-0.003032495059663664,0.008651941600567965,-0.039333733634207044,-0.02467190787099017,-0.03163654579817644,0.010205805206392842,0.0023148606161868036,-0.00803193822108803,-0.05287054318983013,-0.0009807812330711986,0.01024006164628544,0.03286984119433802,0.015138771874208664,0.009383085807120087,-0.031638280498784616,-0.034287264064663314,-0.02905699311926356,-0.0009567501809556368,0.08026396868741467,-0.02897686624589105,-0.014100977042038741,-0.023750193776140557,0.008471393039039534,-0.006729644346589578,-0.005910974869174533,0.031383612657985206,0.014098862726876401,0.008536464034115262,-0.02760375195345443,0.0017837484566800134,-0.01647161722014295,-0.0031774371672603115,-0.011661271478091057,-0.020317911032855285,-0.006227812219944346,0.07008173995803124,-0.004217305944623268,-0.02958116966556868,0.0019132874723993636,0.04382627500754648,0.021932775520416618,-0.0270113951287071,-0.03567387648988179,0.0718525893921983,-0.052195394478877125,-0.010906815487408489,0.011996653050557046,0.001275013959130395,-0.0036023637667715828,-0.00012506011377391694,-0.02451186468620004,-0.017109808678109434,0.0035350248101311964,-0.013289719332652139,-0.024088298285414804,0.00147817400836279,0.017028771238637958,0.016580043315753495,-0.015836039399865366,0.0011744087150038034,0.013946223663104301,0.00015146637617812834,-0.015886621027193498,-0.005254198943871222,0.002924696034647753,-0.0179152753235468,0.0028789464240452562,-0.013421338916276523,-0.014764184235709568,-0.0260168988502717,-0.02219348684076008,-0.03786560089813563,0.09663198511543741,0.08525661118705691,0.06100431628375907,0.09017028749369987,0.11300355645467655,0.07824412601962169,0.08102227020606075,0.0922064972527565,0.01382207677901304,0.05826390537186286,0.07463975602121893,0.06716074427687208,0.0788557159526424,0.04490249410394743,0.10699013584721785,0.0530872740585524,0.053290476352386484,0.05930982029309617,0.11094759104618154,0.043862704887599885,0.09673297894836441,0.05703740383675206,0.0809796379803874,0.09105825022104526,0.05929479663049653,0.05339645132999449,-0.009294425115789208,-0.012948135456764931,-0.02063474402824118,-0.007363999947652343,-0.006102162265412937,-0.048967567458117284,-0.07360909784087061,-0.01975580681416303,-0.022359287293160737,-0.02355707265194202,0.014482187436727577,-0.008517447815276556,9.087787818205434e-05,0.00902562329696671,0.017869342512895018,0.014728218460358116,-0.002590263044787531,-0.021074347796120257,-0.004337432824314898],\"z\":[-0.013108254450452725,-0.0068561991304340476,0.003741919826281267,0.024948988354251682,-0.0707172566734486,0.039314579568626315,0.0370367195766888,0.02971176196732639,0.01799752810978534,-0.00013856933475721086,0.012314232054267226,-0.044578708929530135,-0.027800655477930376,-0.017137744151233765,0.002622551692666726,0.015320033828379907,-0.03821768717216398,0.016664278589064697,-0.010924337778843121,-0.028766284538813174,0.009474763542808734,-0.03323580851369895,-0.00820171003650599,0.00322371654044098,-0.030981139328243663,-0.0024209708386539286,0.05581275054486956,-0.01145618959262601,0.022718776666240847,0.0001687591699604579,-0.032513334998430274,-0.12159179089579232,-0.11230574742501799,-0.04163206688377445,0.0180217531084512,-0.10360022488191058,0.025808057950254114,-7.194393879976874e-05,-0.00393892615328703,-0.01632467465457005,0.026165858905291505,0.012138859176588303,-0.08764262433124546,0.02365177034336709,-0.08264357923247101,0.009318058577847146,-0.00625770345306686,0.058949757796016695,0.01812147642957247,-0.014355925544160942,0.029604259738285798,-0.01588062783908093,0.03543698061061217,0.00803847838769131,0.013414795411737922,-0.03704947337727644,-0.0232152454885524,0.033684132574635706,0.022391396574909614,0.03961627501521885,0.008667416024102922,-0.00592319060860911,-0.005311265044329639,-0.015241428550575076,-0.006267769887062496,-0.020605072637252118,-0.03597922276189311,-0.018015120293461095,-0.06956956808768396,-0.040300887050432554,-0.08452834622404282,-0.024050089417484263,-0.07838739111753491,0.04254901114286523,0.04328125121319238,0.057730703712042974,0.03853341822321913,0.007173159568149028,0.03406300682690648,0.048018794360074446,0.042197035734385456,0.0018095549855183485,0.04517263087044804,0.0495392214398679,0.04821467610653244,0.068755890145709,0.026879093096452866,-0.005032117295717503,0.019067517738263363,-0.02585496099426754,-0.054906445555271036,0.03611664009537194,0.05134812741308374,0.04522451460321884,0.05177861754158159,0.053962031446929806,0.05923118683175678,0.11307541930863203,0.1197518500759016,0.10185047525402202,0.09419403412440969,0.11673500712118762,0.09677615957138348,0.1153037455208798,-0.022187197303315722,0.003593543210391705,-0.04808834560993618,-0.06836948602352486,-0.016743911856396874,0.027895771715555268,-0.024599051764548786,-0.025236264112808906,0.021637710542113404,0.04628364974361666,-0.02746087605582834,-0.002635165342904216,0.015258341238383233,-0.06607473071663243,-0.009669671548757327,0.011621034400777898,-0.010801064739899684,0.049131204797911304,-0.006145109393541365,0.11300996066093881,0.059663935781913764,0.0517402065571077,-0.01488629588455084,-0.0034478529035569866,-0.0002477463734205031,0.053680492025086644,0.022219666572091002,-0.015233197074980673,-0.037976417654937374,0.015755614803751507,-0.0012721927804483228,0.026611274926370023,0.0009099353154417546,0.011533365817603445,-0.02627594799491424,0.018258804602666254,0.029746790130947078,0.036562389150297095,-0.008037178482424728,-0.07423239181517799,-0.012535445724161298,-0.014228169190623769,-0.09977408080663021,-0.005435982672911908,0.0004620351536735563,0.002654536558469858,-0.009525149064320247,-0.024043132308548522,-0.0014039668716702436,-0.016162588260055816,-0.044924803734728895,0.004131371687738694,0.018332528862421673,0.00433179084261435,-0.044612385467213675,-0.012936798327534705,-0.04618048545009521,-0.006824499927647675,0.0036834810816731363,-0.03418639427790762,0.03291911821927332,0.0065625127600960455,-0.03804697024747667,-0.016984737371498217,0.008942748326208333,0.014548983361582842,0.03940888286879762,0.05035288565489305,0.0029989126955683276,0.033822103018123495,0.05276516583541786,0.011508079031385463,0.05302339280091383,-0.010979812144967106,0.03178385897315096,0.03295178731028161,0.04487531655553999,0.03550315762107052,0.03867146013259815,0.020815206567077207,0.020638646704920896,0.038374992429686026,0.0347267822901984,0.009227513974746002,0.0015996480471414031,-0.029667662954633068,0.030360923720993936,-0.009372414394131959,-0.006336759799329528,-0.10137268111957014,-0.018929011900729913,0.004336303711861742,0.02440566096101119,0.0431784438479557,-0.01414182699173469,0.01652779118842252,0.016924198067603258,-0.042225203411675405,0.009026590926840748,-0.0064747379107513,-0.007044500154973977,-0.03978082374895329,-0.011314041750700344,-0.004196664663927763,0.014554590589553613,0.052628867498493846,0.05380226117288945,-0.026763802993141874,-0.01399692755186181,-0.051154829775988155,-0.029299101153889492,0.0067396322331371205,-0.04153381219871096,0.001910956678878702,-0.04182675379916899,-0.037289396157104734,0.009836212565950499,-0.003239158976240551,-0.013058204658022533,-0.000938151738598175,-0.04506581277128921,-0.021770966238492836,-0.018135113973636922,-0.06347378814522049,0.012685569185798454,0.020681933586199477,-0.019209090829870032,0.020074221824745254,-0.03883413814834267,-0.029916617930026243,-0.020142020470335937,-0.011221800387480654,0.0011830157128120858,-0.0020839295615639,0.00022712711139586184,-0.0015514237674122446,0.01013575767294844,-0.0489490907542847,-0.0036562715748102823,0.013831738558018777,0.006991409811155481,0.09354647432925818,0.074081628762307,0.07055442278069456,0.011240932645218613,-0.017549904381809478,-0.057209188174441004,-0.027005314430944744,-0.05415880652659399,0.01825995869365805,-0.048468573741227726,-0.003958142835992256,-0.014886936713524167,0.012079093670592579,-0.015204775763214341,-0.0046425700697021125,-0.0005689202252580119,-0.02710032150152044,-0.03026067994355772,-0.011262722774184263,-0.009455445851024669,-0.005499206044751109,-0.03779197472686246,0.044063861872533285,-0.018770836871936973,0.07154919181551359,0.06798986802450661,-0.010513413207361863,-0.033481107010195826,-0.06060060693630785,-0.09161465249975942,-0.03869263897725168,-0.003286391890793439,-0.05880218966231906,-0.022834268220706593,-0.04314620157691516,0.04273482472700579,-0.021292262200849017,-0.027944163822298928,0.05424397373170586,0.008791843366980025,0.010993173006128882,0.0018753592584987014,-0.017713298783845945,0.05664223405524936,0.04844532629786996,0.001002973346182619,0.03763220123370526,0.015731699136778486,0.09032809326510738,0.05103090506103171,0.0773618449674052,0.031119934097181338,-0.0379014455640907,0.003270862300294585,-0.0008150655507580737,-0.019474831553652656,0.0008726998621016563,-0.056278600603673505,0.0019704960695074874,0.018673842891990325,-0.10841377008577362,-0.04053177299102548,-0.0017713712042757774,-0.015554912165092787,-0.00901491232497677,-0.006466877710026939,0.00618877240289027,0.02148754194754025,0.012452312109664588,0.02252760618542011,-0.009386726176754706,-0.016427605976438393,-0.010439036684884277,0.03173110041426395,0.059811423532518886,0.03897955508897241,0.002768976505918848,0.0140513225427682,-0.0013666953306252763,-0.010141152379395894,0.011931865198641443,0.004378936739454343,-0.06538196147180166,0.027478296184410358,-0.02020331251959996,-0.049841621330507735,-0.02344546710706846,-0.009467999399024268,0.024390356666224054,-0.06815746021658622,-0.050363751751428425,-0.03428998704210148,-0.021469717414999534,0.06118903238014475,0.06652981838836693,0.01009733119514047,0.007846303152873829,0.02030468168853797,0.032754043805500184,-0.04058811618510211,0.049994010454652967,-0.013836218308988806,-0.02596607895317123,0.05953857208665365,0.05521974516055933,-0.01249180777333002,0.060730645572497466,-0.01911569397175977,-0.03989953690211479,-0.04487406751318611,0.004491645867560472,-0.024570078958260664,-0.03315760147838811,-0.035224498363257625,-0.033812068375116876,0.005138294132926456,-0.020721972934490514,-0.0120457762375934,0.05374396572322744,0.01976304170033557,-0.021105034195727138,-0.004252826194583885,0.0030078185148640253,-0.011172021301813828,0.02538491516903934,-0.029101735853927342,-0.03793222779911713,-0.06537320418407788,0.016061445878226326,0.005918954180454403,0.0033878956316160166,0.019980992742968946,-0.014287019124120207,-0.007572590677708428,-0.10580331448398878,-0.07454582199104219,-0.03851732496379246,-0.11341596606762225,-0.05058368303522295,-0.009323891758310039,-0.038589607188170616,0.10054070885904093,0.0935911253060299,0.0886675068742153,0.07267681659502506,0.0006858794678043789,0.030274537692376084,0.015089610924379541,0.020957019586158337,-0.0043360091331146626,-0.01566952766844903,-0.0838703928644796,-0.025831620674626684,0.031014717395676437,0.025573545610754728,0.037173695123761764,0.009088938921113711,-0.2642981678258751,0.024949700687754293,-0.05307543740213491,0.009221016841723691,-0.030017419346274644,-0.011651585069778259,0.010406251055988431,-0.012779164645350612,-0.03701130128240027,0.0023196901972516904,0.020652479920289794,0.016862264525056653,-0.01513412882989587,0.0013864830835979701,0.021489017875615808,0.08440506242634785,0.09313498390660849,0.06633816309142525,0.0814645724169673,0.0271150838615462,-0.03914353322565188,0.014021358696196556,0.028829753367722054,0.02510628970837396,0.01329393471762391,0.040142189761950234,-0.04183704852460252,-0.03724884267577495,-0.04393836175159826,-0.023538463550207014,-0.011705119044288545,-0.020348186300538314,-0.008295965107377066,-8.7010126622798e-06,-0.013851379183410634,-0.0060590134444272895,0.004401974339582498,0.019117164973427678,0.0007463843442340953,0.04487889871661067,-0.06215234370330736,-0.010460139557040981,-0.06281569923622068,-0.017145708750455846,-0.006301690568325516,0.03939710089953936,-0.04286637987352571,0.020099130191105465,-0.03588703230551709,0.027853458113730745,-0.06449517717280995,-0.0058879193315415435,-0.0035209168223792726,-0.015321322675772369,0.015973483594872898,-0.08055642513227233,-0.0084402291590741,0.03703348981832557,-0.012542930165246775,-0.004331362875069743,0.006271745080313786,-0.030779945273181755,-0.006511641331786715,0.022208623142880572,-0.001997585244389501,-0.007655056205155249,-0.004990987689232769,0.024012720509166804,0.04672470321234562,-0.004630447067419843,-0.005113565977655738,-0.00789408927759348,0.009262618792241781,0.03041829152340443,0.010633191726083808,2.3017134103386538e-05,0.018095822407742514,0.0015885586810898999,-0.01377663371717205,-0.009404470292311297,-0.0038301920870916434,0.014915826077315026,0.022943691595975656,0.012319903424811573,0.013292228586210581,-0.03195423512178143,-0.005002820668334448,-0.005351022412942234,0.011945097215656158,0.007466678680692661,-0.006510323905765389,-0.002568635942869712,0.009765641231976957,0.002388530770363088,-0.009920530237849058,0.06608389053280736,-0.03864878030462159,-0.021636456888950564,-0.035751202020803674,-0.02705036907269196,-0.007943309471652329,-0.049248712889502284,-0.031775675022206205,-0.019972985174520518,0.02299604657109182,0.13773385725312703,-0.0006204831027577902,0.005694746665253279,0.004478557653507852,-0.018099592563416537,-0.0014823743458548515,0.017506314710216294,-0.03282857154495737,-0.12587149716065102,-0.03479305048169142,0.01803581035809295,-0.03250598098621052,0.014219744617912422,0.05885431233842357,0.03712502917332939,-0.020342930280227028,-0.005662629490793677,-0.004937618721862848,-0.004370313207882212,-0.03213484392782117,0.004362642479535736,0.03904778632772489,-0.02285966027726285,-0.030147494911811967,0.002448194275223049,0.00015677202779949126,-0.03168991705266056,-0.02928450905063539,0.021059894885007164,0.0019608260632442745,0.01264663858346513,0.01659913293016146,0.012092066863343489,0.015296407719831696,0.02542522745806392,0.026345204394232987,0.00727668714395884,0.0073860767869666855,-0.0032139890473606033,0.010825176189781197,-0.016231397001747177,-0.009083357132777201,0.007184809011234981,0.014497691856080614,-0.004184098538113845,0.01482744370952365,-0.000572526899802758,-0.028836413684690167,-0.00924042065050063,0.01869031164225336,-0.006407923432032771,-0.029383818754874134,-0.011755600905303153,-0.07082638002428758,-0.0462260987249027,0.011801082308370486,0.01785327840143161,0.007681911149558189,0.005879339665893196,-0.01269808654465052,-0.05694924280470926,-0.024047936957220007,0.12075048522471228,-0.02712291066549481,-0.09341667508335104,0.014905981935659868,0.06570017408796928,-0.03141378511272596,0.03640144284153613,-0.02521559037588295,0.053579002011764715,-0.016611110461364497,1.0644522101014513e-06,0.013333505192182774,-0.041760795662011976,-0.008483969021527942,0.012154516121147988,-0.029858978270431085,-0.04221963830791698,0.053862689198002606,-0.03633228992959091,0.00046564900184024253,0.06560281098907261,0.011815204494313721,0.047980333468020296,0.02294229364675659,-0.025924558259832635,-0.01035418900734668,0.044470017359244586,0.006355542129330374,0.024137073907334515,-0.016163096664267896,0.01789697208456207,0.03749219961154165,0.008934368164898635,0.0165570395837629,-0.02380551762448426,0.0069281090777724786,-0.04116213581388347,0.01184810683409776,-0.006415888899699747,0.00969325093667087,0.003057366412067797,0.039613542072381484,0.017284589026415678,-0.042385317827711586,0.0018290684027370465,-0.00849725840391312,-0.036797750821072686,-0.0026931732934765027,0.002578486048586606,0.021534045728085205,0.000885921223125617,-0.0009750939150573506,0.001815375311168164,0.008773649271790187,0.011084135324137252,0.005284803232501099,0.03251458069276855,-0.07561091677893858,0.008724041862952525,-0.006283300564322297,-0.0102250703528861,0.014455974259323323,0.021196843803428973,0.0049693011034375265,0.02015186315434014,0.020604527943229724,-0.024520960746612037,0.023210268793933456,-0.017215466896289146,-0.13995077831319536,0.03420017756346322,0.0426664007376988,0.046146791024191745,0.004482524603126211,-0.012506560376591489,-0.0023140064956923227,-0.03475196557239513,-0.005624282041250707,0.01589698528339276,0.008841783062354539,-0.023567848394405375,-0.058614737997391676]}],                        {\"legend\":{\"tracegroupgap\":0},\"margin\":{\"t\":60},\"scene\":{\"domain\":{\"x\":[0.0,1.0],\"y\":[0.0,1.0]},\"xaxis\":{\"title\":{\"text\":\"PC1\"}},\"yaxis\":{\"title\":{\"text\":\"PC2\"}},\"zaxis\":{\"title\":{\"text\":\"PC3\"}}},\"template\":{\"data\":{\"bar\":[{\"error_x\":{\"color\":\"#2a3f5f\"},\"error_y\":{\"color\":\"#2a3f5f\"},\"marker\":{\"line\":{\"color\":\"#E5ECF6\",\"width\":0.5},\"pattern\":{\"fillmode\":\"overlay\",\"size\":10,\"solidity\":0.2}},\"type\":\"bar\"}],\"barpolar\":[{\"marker\":{\"line\":{\"color\":\"#E5ECF6\",\"width\":0.5},\"pattern\":{\"fillmode\":\"overlay\",\"size\":10,\"solidity\":0.2}},\"type\":\"barpolar\"}],\"carpet\":[{\"aaxis\":{\"endlinecolor\":\"#2a3f5f\",\"gridcolor\":\"white\",\"linecolor\":\"white\",\"minorgridcolor\":\"white\",\"startlinecolor\":\"#2a3f5f\"},\"baxis\":{\"endlinecolor\":\"#2a3f5f\",\"gridcolor\":\"white\",\"linecolor\":\"white\",\"minorgridcolor\":\"white\",\"startlinecolor\":\"#2a3f5f\"},\"type\":\"carpet\"}],\"choropleth\":[{\"colorbar\":{\"outlinewidth\":0,\"ticks\":\"\"},\"type\":\"choropleth\"}],\"contour\":[{\"colorbar\":{\"outlinewidth\":0,\"ticks\":\"\"},\"colorscale\":[[0.0,\"#0d0887\"],[0.1111111111111111,\"#46039f\"],[0.2222222222222222,\"#7201a8\"],[0.3333333333333333,\"#9c179e\"],[0.4444444444444444,\"#bd3786\"],[0.5555555555555556,\"#d8576b\"],[0.6666666666666666,\"#ed7953\"],[0.7777777777777778,\"#fb9f3a\"],[0.8888888888888888,\"#fdca26\"],[1.0,\"#f0f921\"]],\"type\":\"contour\"}],\"contourcarpet\":[{\"colorbar\":{\"outlinewidth\":0,\"ticks\":\"\"},\"type\":\"contourcarpet\"}],\"heatmap\":[{\"colorbar\":{\"outlinewidth\":0,\"ticks\":\"\"},\"colorscale\":[[0.0,\"#0d0887\"],[0.1111111111111111,\"#46039f\"],[0.2222222222222222,\"#7201a8\"],[0.3333333333333333,\"#9c179e\"],[0.4444444444444444,\"#bd3786\"],[0.5555555555555556,\"#d8576b\"],[0.6666666666666666,\"#ed7953\"],[0.7777777777777778,\"#fb9f3a\"],[0.8888888888888888,\"#fdca26\"],[1.0,\"#f0f921\"]],\"type\":\"heatmap\"}],\"heatmapgl\":[{\"colorbar\":{\"outlinewidth\":0,\"ticks\":\"\"},\"colorscale\":[[0.0,\"#0d0887\"],[0.1111111111111111,\"#46039f\"],[0.2222222222222222,\"#7201a8\"],[0.3333333333333333,\"#9c179e\"],[0.4444444444444444,\"#bd3786\"],[0.5555555555555556,\"#d8576b\"],[0.6666666666666666,\"#ed7953\"],[0.7777777777777778,\"#fb9f3a\"],[0.8888888888888888,\"#fdca26\"],[1.0,\"#f0f921\"]],\"type\":\"heatmapgl\"}],\"histogram\":[{\"marker\":{\"pattern\":{\"fillmode\":\"overlay\",\"size\":10,\"solidity\":0.2}},\"type\":\"histogram\"}],\"histogram2d\":[{\"colorbar\":{\"outlinewidth\":0,\"ticks\":\"\"},\"colorscale\":[[0.0,\"#0d0887\"],[0.1111111111111111,\"#46039f\"],[0.2222222222222222,\"#7201a8\"],[0.3333333333333333,\"#9c179e\"],[0.4444444444444444,\"#bd3786\"],[0.5555555555555556,\"#d8576b\"],[0.6666666666666666,\"#ed7953\"],[0.7777777777777778,\"#fb9f3a\"],[0.8888888888888888,\"#fdca26\"],[1.0,\"#f0f921\"]],\"type\":\"histogram2d\"}],\"histogram2dcontour\":[{\"colorbar\":{\"outlinewidth\":0,\"ticks\":\"\"},\"colorscale\":[[0.0,\"#0d0887\"],[0.1111111111111111,\"#46039f\"],[0.2222222222222222,\"#7201a8\"],[0.3333333333333333,\"#9c179e\"],[0.4444444444444444,\"#bd3786\"],[0.5555555555555556,\"#d8576b\"],[0.6666666666666666,\"#ed7953\"],[0.7777777777777778,\"#fb9f3a\"],[0.8888888888888888,\"#fdca26\"],[1.0,\"#f0f921\"]],\"type\":\"histogram2dcontour\"}],\"mesh3d\":[{\"colorbar\":{\"outlinewidth\":0,\"ticks\":\"\"},\"type\":\"mesh3d\"}],\"parcoords\":[{\"line\":{\"colorbar\":{\"outlinewidth\":0,\"ticks\":\"\"}},\"type\":\"parcoords\"}],\"pie\":[{\"automargin\":true,\"type\":\"pie\"}],\"scatter\":[{\"marker\":{\"colorbar\":{\"outlinewidth\":0,\"ticks\":\"\"}},\"type\":\"scatter\"}],\"scatter3d\":[{\"line\":{\"colorbar\":{\"outlinewidth\":0,\"ticks\":\"\"}},\"marker\":{\"colorbar\":{\"outlinewidth\":0,\"ticks\":\"\"}},\"type\":\"scatter3d\"}],\"scattercarpet\":[{\"marker\":{\"colorbar\":{\"outlinewidth\":0,\"ticks\":\"\"}},\"type\":\"scattercarpet\"}],\"scattergeo\":[{\"marker\":{\"colorbar\":{\"outlinewidth\":0,\"ticks\":\"\"}},\"type\":\"scattergeo\"}],\"scattergl\":[{\"marker\":{\"colorbar\":{\"outlinewidth\":0,\"ticks\":\"\"}},\"type\":\"scattergl\"}],\"scattermapbox\":[{\"marker\":{\"colorbar\":{\"outlinewidth\":0,\"ticks\":\"\"}},\"type\":\"scattermapbox\"}],\"scatterpolar\":[{\"marker\":{\"colorbar\":{\"outlinewidth\":0,\"ticks\":\"\"}},\"type\":\"scatterpolar\"}],\"scatterpolargl\":[{\"marker\":{\"colorbar\":{\"outlinewidth\":0,\"ticks\":\"\"}},\"type\":\"scatterpolargl\"}],\"scatterternary\":[{\"marker\":{\"colorbar\":{\"outlinewidth\":0,\"ticks\":\"\"}},\"type\":\"scatterternary\"}],\"surface\":[{\"colorbar\":{\"outlinewidth\":0,\"ticks\":\"\"},\"colorscale\":[[0.0,\"#0d0887\"],[0.1111111111111111,\"#46039f\"],[0.2222222222222222,\"#7201a8\"],[0.3333333333333333,\"#9c179e\"],[0.4444444444444444,\"#bd3786\"],[0.5555555555555556,\"#d8576b\"],[0.6666666666666666,\"#ed7953\"],[0.7777777777777778,\"#fb9f3a\"],[0.8888888888888888,\"#fdca26\"],[1.0,\"#f0f921\"]],\"type\":\"surface\"}],\"table\":[{\"cells\":{\"fill\":{\"color\":\"#EBF0F8\"},\"line\":{\"color\":\"white\"}},\"header\":{\"fill\":{\"color\":\"#C8D4E3\"},\"line\":{\"color\":\"white\"}},\"type\":\"table\"}]},\"layout\":{\"annotationdefaults\":{\"arrowcolor\":\"#2a3f5f\",\"arrowhead\":0,\"arrowwidth\":1},\"autotypenumbers\":\"strict\",\"coloraxis\":{\"colorbar\":{\"outlinewidth\":0,\"ticks\":\"\"}},\"colorscale\":{\"diverging\":[[0,\"#8e0152\"],[0.1,\"#c51b7d\"],[0.2,\"#de77ae\"],[0.3,\"#f1b6da\"],[0.4,\"#fde0ef\"],[0.5,\"#f7f7f7\"],[0.6,\"#e6f5d0\"],[0.7,\"#b8e186\"],[0.8,\"#7fbc41\"],[0.9,\"#4d9221\"],[1,\"#276419\"]],\"sequential\":[[0.0,\"#0d0887\"],[0.1111111111111111,\"#46039f\"],[0.2222222222222222,\"#7201a8\"],[0.3333333333333333,\"#9c179e\"],[0.4444444444444444,\"#bd3786\"],[0.5555555555555556,\"#d8576b\"],[0.6666666666666666,\"#ed7953\"],[0.7777777777777778,\"#fb9f3a\"],[0.8888888888888888,\"#fdca26\"],[1.0,\"#f0f921\"]],\"sequentialminus\":[[0.0,\"#0d0887\"],[0.1111111111111111,\"#46039f\"],[0.2222222222222222,\"#7201a8\"],[0.3333333333333333,\"#9c179e\"],[0.4444444444444444,\"#bd3786\"],[0.5555555555555556,\"#d8576b\"],[0.6666666666666666,\"#ed7953\"],[0.7777777777777778,\"#fb9f3a\"],[0.8888888888888888,\"#fdca26\"],[1.0,\"#f0f921\"]]},\"colorway\":[\"#636efa\",\"#EF553B\",\"#00cc96\",\"#ab63fa\",\"#FFA15A\",\"#19d3f3\",\"#FF6692\",\"#B6E880\",\"#FF97FF\",\"#FECB52\"],\"font\":{\"color\":\"#2a3f5f\"},\"geo\":{\"bgcolor\":\"white\",\"lakecolor\":\"white\",\"landcolor\":\"#E5ECF6\",\"showlakes\":true,\"showland\":true,\"subunitcolor\":\"white\"},\"hoverlabel\":{\"align\":\"left\"},\"hovermode\":\"closest\",\"mapbox\":{\"style\":\"light\"},\"paper_bgcolor\":\"white\",\"plot_bgcolor\":\"#E5ECF6\",\"polar\":{\"angularaxis\":{\"gridcolor\":\"white\",\"linecolor\":\"white\",\"ticks\":\"\"},\"bgcolor\":\"#E5ECF6\",\"radialaxis\":{\"gridcolor\":\"white\",\"linecolor\":\"white\",\"ticks\":\"\"}},\"scene\":{\"xaxis\":{\"backgroundcolor\":\"#E5ECF6\",\"gridcolor\":\"white\",\"gridwidth\":2,\"linecolor\":\"white\",\"showbackground\":true,\"ticks\":\"\",\"zerolinecolor\":\"white\"},\"yaxis\":{\"backgroundcolor\":\"#E5ECF6\",\"gridcolor\":\"white\",\"gridwidth\":2,\"linecolor\":\"white\",\"showbackground\":true,\"ticks\":\"\",\"zerolinecolor\":\"white\"},\"zaxis\":{\"backgroundcolor\":\"#E5ECF6\",\"gridcolor\":\"white\",\"gridwidth\":2,\"linecolor\":\"white\",\"showbackground\":true,\"ticks\":\"\",\"zerolinecolor\":\"white\"}},\"shapedefaults\":{\"line\":{\"color\":\"#2a3f5f\"}},\"ternary\":{\"aaxis\":{\"gridcolor\":\"white\",\"linecolor\":\"white\",\"ticks\":\"\"},\"baxis\":{\"gridcolor\":\"white\",\"linecolor\":\"white\",\"ticks\":\"\"},\"bgcolor\":\"#E5ECF6\",\"caxis\":{\"gridcolor\":\"white\",\"linecolor\":\"white\",\"ticks\":\"\"}},\"title\":{\"x\":0.05},\"xaxis\":{\"automargin\":true,\"gridcolor\":\"white\",\"linecolor\":\"white\",\"ticks\":\"\",\"title\":{\"standoff\":15},\"zerolinecolor\":\"white\",\"zerolinewidth\":2},\"yaxis\":{\"automargin\":true,\"gridcolor\":\"white\",\"linecolor\":\"white\",\"ticks\":\"\",\"title\":{\"standoff\":15},\"zerolinecolor\":\"white\",\"zerolinewidth\":2}}}},                        {\"responsive\": true}                    ).then(function(){\n",
       "                            \n",
       "var gd = document.getElementById('9b3cd044-f0f1-4f8c-be4a-8f96135515af');\n",
       "var x = new MutationObserver(function (mutations, observer) {{\n",
       "        var display = window.getComputedStyle(gd).display;\n",
       "        if (!display || display === 'none') {{\n",
       "            console.log([gd, 'removed!']);\n",
       "            Plotly.purge(gd);\n",
       "            observer.disconnect();\n",
       "        }}\n",
       "}});\n",
       "\n",
       "// Listen for the removal of the full notebook cells\n",
       "var notebookContainer = gd.closest('#notebook-container');\n",
       "if (notebookContainer) {{\n",
       "    x.observe(notebookContainer, {childList: true});\n",
       "}}\n",
       "\n",
       "// Listen for the clearing of the current output cell\n",
       "var outputEl = gd.closest('.output');\n",
       "if (outputEl) {{\n",
       "    x.observe(outputEl, {childList: true});\n",
       "}}\n",
       "\n",
       "                        })                };                });            </script>        </div>"
      ]
     },
     "metadata": {},
     "output_type": "display_data"
    }
   ],
   "source": [
    "import plotly.express as px\n",
    "\n",
    "fig = px.scatter_3d(wf_PCAs, x='PC1', y='PC2', z='PC3', opacity=0.6)\n",
    "fig.update_traces(marker={'size': 4})\n",
    "fig.show()"
   ]
  },
  {
   "cell_type": "markdown",
   "id": "7a016b9c",
   "metadata": {
    "slideshow": {
     "slide_type": "slide"
    }
   },
   "source": [
    "### Visualize Neurons of Different Tissue Origins\n",
    "\n",
    "Let's see if we can find PCA patterns based on the tissue origin of spike waveforms...."
   ]
  },
  {
   "cell_type": "code",
   "execution_count": 53,
   "id": "721d7200",
   "metadata": {},
   "outputs": [
    {
     "name": "stdout",
     "output_type": "stream",
     "text": [
      "AP_drug\n"
     ]
    },
    {
     "data": {
      "text/html": [
       "<div>\n",
       "<style scoped>\n",
       "    .dataframe tbody tr th:only-of-type {\n",
       "        vertical-align: middle;\n",
       "    }\n",
       "\n",
       "    .dataframe tbody tr th {\n",
       "        vertical-align: top;\n",
       "    }\n",
       "\n",
       "    .dataframe thead th {\n",
       "        text-align: right;\n",
       "    }\n",
       "</style>\n",
       "<table border=\"1\" class=\"dataframe\">\n",
       "  <thead>\n",
       "    <tr style=\"text-align: right;\">\n",
       "      <th></th>\n",
       "      <th>PC1</th>\n",
       "      <th>PC2</th>\n",
       "      <th>PC3</th>\n",
       "      <th>organoid</th>\n",
       "      <th>has_organoid</th>\n",
       "    </tr>\n",
       "  </thead>\n",
       "  <tbody>\n",
       "    <tr>\n",
       "      <th>0</th>\n",
       "      <td>0.018421</td>\n",
       "      <td>-0.016039</td>\n",
       "      <td>-0.013108</td>\n",
       "      <td>DLX_Cheriff</td>\n",
       "      <td>blue</td>\n",
       "    </tr>\n",
       "    <tr>\n",
       "      <th>1</th>\n",
       "      <td>-0.024765</td>\n",
       "      <td>-0.024360</td>\n",
       "      <td>-0.006856</td>\n",
       "      <td>DLX_Cheriff</td>\n",
       "      <td>blue</td>\n",
       "    </tr>\n",
       "    <tr>\n",
       "      <th>2</th>\n",
       "      <td>-0.002902</td>\n",
       "      <td>-0.018602</td>\n",
       "      <td>0.003742</td>\n",
       "      <td>DLX_Cheriff</td>\n",
       "      <td>blue</td>\n",
       "    </tr>\n",
       "    <tr>\n",
       "      <th>3</th>\n",
       "      <td>0.016581</td>\n",
       "      <td>0.016169</td>\n",
       "      <td>0.024949</td>\n",
       "      <td>DLX_Cheriff</td>\n",
       "      <td>blue</td>\n",
       "    </tr>\n",
       "    <tr>\n",
       "      <th>4</th>\n",
       "      <td>-0.039355</td>\n",
       "      <td>-0.048805</td>\n",
       "      <td>-0.070717</td>\n",
       "      <td>DLX_Cheriff</td>\n",
       "      <td>blue</td>\n",
       "    </tr>\n",
       "  </tbody>\n",
       "</table>\n",
       "</div>"
      ],
      "text/plain": [
       "        PC1       PC2       PC3     organoid has_organoid\n",
       "0  0.018421 -0.016039 -0.013108  DLX_Cheriff         blue\n",
       "1 -0.024765 -0.024360 -0.006856  DLX_Cheriff         blue\n",
       "2 -0.002902 -0.018602  0.003742  DLX_Cheriff         blue\n",
       "3  0.016581  0.016169  0.024949  DLX_Cheriff         blue\n",
       "4 -0.039355 -0.048805 -0.070717  DLX_Cheriff         blue"
      ]
     },
     "execution_count": 53,
     "metadata": {},
     "output_type": "execute_result"
    }
   ],
   "source": [
    "organoid_idx = 7\n",
    "print( organoids[organoid_idx] )\n",
    "wf_PCAs['has_organoid'] = np.where( wf_PCAs['organoid'] == organoids[organoid_idx], 'red', 'blue')\n",
    "wf_PCAs.head()"
   ]
  },
  {
   "cell_type": "code",
   "execution_count": 55,
   "id": "9e076239",
   "metadata": {},
   "outputs": [
    {
     "data": {
      "application/vnd.plotly.v1+json": {
       "config": {
        "plotlyServerURL": "https://plot.ly"
       },
       "data": [
        {
         "hovertemplate": "has_organoid=blue<br>PC1=%{x}<br>PC2=%{y}<br>PC3=%{z}<extra></extra>",
         "legendgroup": "blue",
         "marker": {
          "color": "#636efa",
          "opacity": 0.4,
          "size": 4,
          "symbol": "circle"
         },
         "mode": "markers",
         "name": "blue",
         "scene": "scene",
         "showlegend": true,
         "type": "scatter3d",
         "x": [
          0.018421239754433518,
          -0.024765368683891384,
          -0.00290158271757344,
          0.01658056717750365,
          -0.03935465617450762,
          0.04380527210922161,
          0.0008978485170888052,
          0.04397058236940021,
          0.005161019858546126,
          -0.02615525328388846,
          0.020600777410837406,
          0.01501959212807413,
          -0.032339602830634626,
          -0.008950068947994173,
          0.012770947044525721,
          -0.005113110996788291,
          0.046194702542420266,
          -0.00022624183142771814,
          -0.06870628140902575,
          0.013891400254358414,
          0.020984286205615384,
          0.02959525043597662,
          0.03751206922625171,
          0.029403231601439032,
          0.05300527686952152,
          0.02293304497544064,
          0.039263914741026175,
          -0.00811314511044788,
          0.009335599543332485,
          0.01499457485075636,
          -0.012737312610685963,
          -0.025449179735741196,
          -0.03432440788462619,
          -0.01718149324337567,
          -0.024323934971455075,
          -0.037200793999207636,
          0.10769685862907216,
          0.0614613087081661,
          0.0785668710158143,
          0.01775103323597709,
          0.017634743180364915,
          -0.0270976040685205,
          -0.08388684551692421,
          0.042142228657944786,
          -0.051584311369307266,
          0.0072777843268349565,
          -0.009645463781775823,
          -0.05246868960186285,
          0.024138944800198056,
          0.0646240118164775,
          0.025713805255227696,
          0.0010026143741271945,
          0.02998765136243621,
          0.02139351007743171,
          -0.011261855866879732,
          -0.06651842725975862,
          0.043384749465671384,
          0.049319584977779614,
          -0.02708031162889266,
          -0.01524981114823002,
          -0.022255425189013467,
          0.04620390712469789,
          -0.00966086159011595,
          -0.0039533098849400886,
          0.009585092088108666,
          -0.025908174249342025,
          0.02134120068162913,
          -0.00028089536560648777,
          0.009763406023565738,
          -0.021714552488538173,
          -0.05820139866911737,
          0.005348871291362401,
          0.018481440123877497,
          -0.034153919590602606,
          -0.034276184289455586,
          -0.024112866834518725,
          -0.03314412572753382,
          -0.026991485143354612,
          -0.03642697960755756,
          -0.04228055295627033,
          -0.036819417856316455,
          0.04146531156762887,
          -0.026490207898415174,
          -0.03215643964510081,
          -0.03163463596130064,
          0.03475392718229273,
          -0.02593370768287869,
          -0.04648689548952822,
          -0.06564570056696345,
          -0.05514827468850316,
          -0.020152320450296995,
          -0.014392418412234861,
          -0.015505089068976475,
          -0.03165943358324639,
          -0.03544126476549889,
          -0.02512059395843419,
          -0.020765850676450454,
          -0.038547587557877704,
          -0.04398419867253499,
          -0.04304312249367599,
          -0.03992309410529791,
          -0.03920519794822085,
          -0.040146572387371356,
          -0.04702196638365416,
          -0.02583630770484145,
          -0.0077685614482327445,
          -0.03551311271253497,
          -0.010498499561911786,
          0.008434733779326508,
          0.02092293599296473,
          -0.023068470308530455,
          -0.036505078653247876,
          -0.04607097707166376,
          0.03991323752217149,
          -0.0026451827897960504,
          0.03656668098404826,
          0.014366555987062385,
          -0.0283518385829762,
          0.0045507994339343905,
          0.04538670675201591,
          0.006904794305501696,
          -0.005960421662268383,
          -0.0006066128577859422,
          -0.014471939419225366,
          -0.034712365776074214,
          -0.03328748002141179,
          0.003158694677054819,
          0.010750255542219854,
          0.014199650791720947,
          -0.02931713501482819,
          0.019489724217827187,
          -0.005270952863519166,
          0.00011651370039716026,
          0.03223398475631145,
          0.061615734260925495,
          -0.00948501834992485,
          0.039285487047235855,
          0.039106123584533456,
          0.019068190268236643,
          -0.035682510396747934,
          -0.011627692434394366,
          -0.02112571226725406,
          0.011718319672705244,
          0.0042433994597491816,
          0.018547094135468296,
          0.05301244016668282,
          0.07541060351735039,
          0.00909920591917673,
          0.011543536041477473,
          0.016236649511274338,
          0.024077676190754495,
          -0.01186806878440766,
          0.04579652550966753,
          0.02482187814907319,
          0.0369878094708442,
          0.012955902223190851,
          0.047962024989150136,
          0.004593943877875954,
          0.007894212772326646,
          0.026462478415312542,
          0.03134241331112036,
          0.09707801154090838,
          -0.005954337344494314,
          -0.024076103029028798,
          -0.004519812378837825,
          -0.14911749726576778,
          0.0103788540598717,
          -0.021005689761566207,
          0.008127456660585241,
          0.0456579003366002,
          -0.03320004965038335,
          -0.031898812544053017,
          0.04414154298776054,
          -0.050927532861526265,
          -0.03362559775669841,
          -0.09117967767334847,
          -0.044194524274599946,
          0.04168021163744063,
          -0.006105876283844854,
          0.012016152506360322,
          -0.007621501969519549,
          -0.009012832581320017,
          0.001451214974611367,
          0.034271619375025104,
          0.0033147743984230696,
          -0.0033884261267550205,
          -0.013493274540494893,
          0.0058289535759124276,
          -0.036491644678595864,
          -0.006850337664857989,
          -0.002053404888782669,
          -0.0035661244083453865,
          -0.009476339528420662,
          -0.05420348559614318,
          -0.025520234886811474,
          0.0674613879190326,
          0.024545964852162854,
          -0.022830574926175462,
          -0.009282755220527445,
          -0.00026473933925304444,
          -0.02842328439718197,
          -0.0034551086850735384,
          0.014187174507189391,
          0.02733210892000126,
          0.011241336138505498,
          0.010995524954750221,
          0.015463865302738756,
          -0.0037223404080947357,
          -0.030062125880905077,
          -0.03410110515531207,
          -0.030852323234305347,
          0.03872586254656968,
          -0.04105523441909767,
          -0.010124296182664434,
          -0.0219973085299097,
          -0.02177583016821626,
          0.0033311042056293257,
          -0.037626421159294196,
          -0.0584582270545083,
          -0.047648857920912335,
          -0.06927261007782747,
          -0.03861526459971912,
          -0.00507587920053186,
          0.01347463612392862,
          0.010991012885502223,
          0.015707409844697994,
          0.0013994551285966999,
          -0.02575972064424634,
          -0.010133893739899367,
          -0.03770500416367242,
          -0.0025102684446740146,
          0.011547228868383675,
          0.010839840472537105,
          -0.026727518062422614,
          0.007441601604662522,
          -0.011164555992675563,
          0.07245836940424884,
          0.04037440953569174,
          0.002484899237031976,
          0.02465942483457625,
          0.016184346964940522,
          0.049846206673377226,
          -0.008277286277926444,
          0.024646675637727627,
          0.012389593375325044,
          -0.03351826796771422,
          -0.03654197805693336,
          -0.029490799144167943,
          -0.05082363241284951,
          0.001662509300372339,
          0.003418744923159381,
          -0.004822165551429137,
          -0.007102402054214372,
          -0.07644720795883513,
          -0.009033557867062943,
          -0.03278492855649159,
          -0.0026599363337054503,
          0.04077013076078024,
          0.02393392987742308,
          0.03730133540590755,
          0.014482423960254056,
          0.031838396060928864,
          0.018105390001330046,
          0.025984317583753032,
          0.01470386281960079,
          -0.018144168220993757,
          0.00950900199618445,
          -0.03401664949185653,
          0.00567208341754089,
          -0.03765970373300308,
          -0.03932647406965901,
          -0.0180490562912742,
          -0.005541782503201327,
          0.005406125526394652,
          0.0005693500009795064,
          0.024660323142705453,
          -0.014764863972279855,
          -0.010620383594655778,
          -0.004006931087902828,
          0.052342869062329545,
          -0.032579327049563574,
          -0.01578371884453965,
          0.01428239185252769,
          -0.035371368899602317,
          -0.020991674527495705,
          0.0018828955989895718,
          -0.0053993920576194615,
          0.0508538405800803,
          0.0627786818207836,
          -0.08107464510484762,
          0.019643187851640535,
          -0.023783968215088273,
          -0.04359722203504036,
          -0.0376989621173115,
          -0.04124972751697598,
          -0.03673535006885098,
          -0.03301720370322474,
          -0.007364284719276797,
          0.01303856509190946,
          -0.0015830992211990841,
          0.011494203612924102,
          -0.026084019952492047,
          -0.040599610622421685,
          -0.04071696058225845,
          -0.018043359166380727,
          0.00014019728403331567,
          -0.0627969797570811,
          0.012747118137882636,
          0.010543706919946681,
          0.003691917623390923,
          0.008253274079412756,
          0.03848497832503253,
          0.04516615543909333,
          0.02897259181193065,
          0.01798985013917993,
          0.027601474393122424,
          0.0014858431542491058,
          0.05009051082155899,
          0.03926988426821525,
          -0.03590885548062237,
          -0.03273704570673005,
          -0.03398332138274651,
          -0.012873559731203228,
          -0.013636516451129017,
          -0.03610144723796414,
          -0.019411929814739985,
          -0.05666376956446122,
          -0.03423876682175188,
          -0.039553155423808495,
          -0.030197738537427382,
          -0.07389843133139361,
          -0.0695735162971662,
          -0.0660256700596986,
          -0.0304772943709085,
          -0.0853695943795492,
          -0.03515373529712337,
          0.00403878266346333,
          -0.014669760448513662,
          -0.03511263030848603,
          -0.05149498112405315,
          0.013689089027408275,
          0.06071557627351988,
          -0.0014238152136622929,
          -0.03722828703010947,
          0.03979998538694659,
          -0.16150185489205574,
          0.025883637023554302,
          -0.0140967403426807,
          -0.03310940048034978,
          -0.03465213284960899,
          0.03216569107098803,
          -0.02800531110426088,
          -0.03739225256753466,
          -0.03794321711056869,
          -0.023567691359317248,
          0.037581686111004306,
          -0.019718171941702754,
          -0.04394320644198023,
          -0.019308913254245812,
          -0.009305269002775986,
          -0.03793288385401846,
          -0.005192392771737381,
          -0.014375151379232669,
          -0.0344668566735308,
          -0.03279321133342018,
          -0.05887972695832419,
          -0.027955758395896414,
          -0.05038751690500003,
          -0.009064131234169546,
          -0.04753688326069237,
          -0.02896666851945522,
          -0.015949842119377236,
          -0.07045076138414824,
          -0.05481165855284929,
          -0.0696233315919958,
          -0.05839990009694842,
          -0.02464119501809102,
          -0.05562678702890075,
          -0.030386154797188262,
          -0.06186295421003988,
          -0.008429287362923157,
          -0.05382946529451268,
          -0.06581391505629813,
          -0.031764305833561914,
          0.002368956018758616,
          0.03441814957083043,
          0.02657684331684235,
          0.01133012122921599,
          0.01784948476434547,
          0.07795796248473834,
          0.08631030921125513,
          0.062364972893987486,
          -0.035828960219952154,
          -0.02751101843910439,
          0.06970491182237996,
          0.047299977170420664,
          0.02802496574286564,
          0.04795587086707584,
          -0.00631742285584155,
          0.0033181403111446177,
          0.016315259771189323,
          -0.01619849975526216,
          0.03940566513329916,
          -0.03342901970272772,
          -0.029664205662156683,
          0.028331482966146126,
          0.02158568779293099,
          0.050799888625901346,
          0.04730577134876913,
          0.06837078768332766,
          0.03777870650603071,
          0.01674071432157728,
          0.00568432572061212,
          0.02309256024294291,
          0.016408484913132074,
          0.012603466045744046,
          0.01750388668241707,
          0.028835587891890144,
          0.028314474856692078,
          0.024498883046552004,
          0.0581016260211784,
          0.003794447079865194,
          0.02680615009756109,
          0.020632054968751305,
          0.021198232828353286,
          0.033514564656376866,
          -0.008417540225104617,
          -0.003201404359728672,
          0.037617402460694956,
          0.03663906690629551,
          0.019652127560085407,
          0.04326643315016334,
          0.05434968880172216,
          0.09437553554927448,
          0.046764068820985646,
          0.0231676812574925,
          0.024633318505129287,
          0.015307403049329947,
          0.0081464589057629,
          0.007804504192859688,
          0.016710490224104774,
          -0.017706676135752216,
          0.011337421533046465,
          0.01253677832581751,
          0.023551655501390007,
          -0.012729580500630605,
          0.045519374787644784,
          0.042625405582066324,
          0.052589396387349115,
          0.029694280423892706,
          -0.012550029328985104,
          -0.021224109247659682,
          0.05055702925478529,
          0.013333797089977744,
          0.038798596121417735,
          0.03115985853592294,
          0.10739802478277938,
          0.03029555066806917,
          -0.0006846683576474963,
          0.001628177787747042,
          0.03936456082189782,
          0.010275129543827907,
          -0.002279128438695347,
          0.003748542485326901,
          0.008176064889088057,
          -0.004212455961163207,
          0.016268995622922888,
          -0.009267334116654948,
          -0.016851888924168067,
          -0.014952670871886646,
          -0.010941970755413432,
          -0.030910471540181644,
          0.03235552088915307,
          -0.0036746897531983844,
          0.055229221782957055,
          0.008043420839890144,
          0.02814424763549663,
          -0.03705127659821065,
          -0.07336140226880046,
          -0.02617067674569022,
          -0.03552185063934463,
          -0.03784953244542943,
          0.09677987087167814,
          -0.002864721900415589,
          0.012690516373239251,
          -0.004103659358010586,
          0.015698335502933695,
          -0.005994520014735267
         ],
         "y": [
          -0.01603934162197715,
          -0.02436033685552437,
          -0.018602417390470957,
          0.01616885637697418,
          -0.048804929022059504,
          0.017189852997217207,
          -0.004875127177600291,
          0.003774771385167863,
          -0.008547862321665347,
          -0.06724136396581734,
          0.006416512711845784,
          0.009007471170224962,
          0.006190207210712233,
          -0.012476157312138815,
          -0.012417787816445078,
          0.003079375783808077,
          -0.02181178401179394,
          -0.006458606551417728,
          -0.00803022180316062,
          -0.0230355471819099,
          -0.006856680273690355,
          0.01537479674126357,
          0.03363141871864764,
          0.0029093886308888873,
          0.028256131341710046,
          -0.00493876786093815,
          0.01820197729145254,
          -0.016384013454613683,
          -0.0013206082466800054,
          0.02449573526812369,
          -0.03897124926985384,
          -0.04620519090395776,
          -0.07319502251877544,
          -0.0315614003093289,
          -0.02239288469222598,
          -0.035182750089655726,
          0.043020058980397985,
          0.03092985716784907,
          -0.0066952819622501025,
          -0.007943862356670793,
          0.002578940298017963,
          -0.02963122729310444,
          -0.0853071484500118,
          -0.021422574771894628,
          -0.0365061719914295,
          0.013874578292903209,
          -0.023197085422006578,
          -0.02052299649869851,
          0.0011426343004167672,
          -0.017545375745430435,
          0.02335244451987614,
          -0.029404374760170195,
          0.008656909982160236,
          0.010793773051147423,
          -0.0463414549708708,
          -0.05899041359605755,
          -0.02942402871816432,
          0.0028219080883233236,
          -0.02081170845577519,
          -0.01728115635381566,
          -0.025398307769904042,
          0.011434516912222033,
          -0.008040015158076069,
          -0.01665688879788314,
          -0.029841638934824128,
          0.0468468266503357,
          0.0262571829946712,
          0.06900701005340866,
          0.04568413361686027,
          0.13267038155528502,
          0.0502106432704681,
          0.05475709976489077,
          0.04846906129692401,
          0.02430589548889994,
          0.02290191484814067,
          0.0009766756158933697,
          0.019409849471242205,
          0.0679037464373222,
          0.0542794341706648,
          0.04027913980267403,
          0.020688079702825882,
          0.11853643015337752,
          0.11694577103567569,
          0.018092658860700654,
          0.042246879444654585,
          -0.02170934829472538,
          0.060628821093366224,
          0.05316472555146812,
          0.12191029849386807,
          0.0033497815935404716,
          0.06786465381922235,
          0.0855797876481836,
          0.02781967341562269,
          0.031088572535850425,
          0.02971562587468183,
          -0.0005426449636906488,
          0.03228497289080513,
          -0.040814191826227426,
          -0.04044359528160962,
          -0.04715935322911512,
          -0.03317617715337821,
          -0.04298966625598905,
          -0.037781868290888365,
          -0.04439425826951477,
          0.07124619837283767,
          0.06075019428730872,
          0.06509521936086983,
          0.06130517983223992,
          0.09669789917268412,
          0.09371891316159607,
          0.059627092191068674,
          0.0595382286512053,
          0.07946169438531318,
          -0.003251699242555418,
          0.0029737331602215813,
          0.003718499312288912,
          0.021018142768036447,
          -0.02810703863766165,
          -0.027437634901943786,
          0.011091676093011617,
          -0.04127647661236571,
          -0.015730626552081694,
          -0.018890693526674524,
          -0.007564770247661672,
          -0.019513338781205133,
          -0.024481410675518768,
          -0.0261855383726656,
          -0.024375367910674316,
          -0.017727910013242986,
          -0.02205488487993095,
          -0.037231489103025456,
          -0.012351579204062737,
          -0.02659232859343387,
          -0.009730491022924859,
          0.02089219114848158,
          -0.006840798604421447,
          0.012692543032428501,
          0.014305429982373745,
          -0.0034796453526600205,
          -0.043851840446646397,
          -0.0243285428245436,
          -0.024768682094632954,
          -0.06586044048082536,
          -0.025096003827067392,
          -0.029609678771610238,
          -0.02328708541778671,
          0.004330777279094788,
          -0.00573365123620248,
          -0.017245458470305633,
          0.0018254264081145823,
          -0.01680869643496509,
          -0.012875958704912573,
          -0.012475514181464519,
          -0.032797719699621766,
          -0.048811700587989934,
          -0.006494042955963349,
          0.02183205879170202,
          0.002352507521600006,
          -0.028166589806491785,
          -0.0013806495914664898,
          -0.03428034484577799,
          0.002438862385503148,
          -0.017259816177143568,
          -0.010576634106318133,
          -0.017572230108659145,
          -0.05593924203069453,
          -0.04595980845141288,
          -0.03906467647878604,
          0.0014639768946599135,
          0.02605169125434618,
          -0.013049281874142662,
          -0.025448857706951947,
          0.005797294965395754,
          -0.019586718607079667,
          -0.026150978173155582,
          -0.01891709513592581,
          -0.025616119207200836,
          -0.02950907254452952,
          -0.006111067693184936,
          0.004641225802864461,
          -0.019706435065460232,
          -0.01544240293424835,
          -0.012946237410870389,
          -0.02311094735056032,
          -0.003658742184079757,
          -0.008708738505601167,
          -0.016596662192102346,
          -0.012379267947634361,
          -0.03397240961871151,
          -0.006805683093731262,
          -0.004449040236299504,
          -0.0018614923851167592,
          -0.019636233115381565,
          -0.052185873611976574,
          -0.02705426225321571,
          -0.017711394542559208,
          0.0016711226411044748,
          -0.03572763649463524,
          0.0019388729553574198,
          0.025890273995822135,
          -0.0351812265246971,
          -0.02998440891404753,
          -0.01173646868297449,
          -0.011364514392710986,
          -0.01143245202918364,
          -0.011563721313768755,
          -0.005426640199141791,
          0.0038047185284257675,
          -0.025780681064676517,
          -0.02792159683436291,
          -0.02238012184340063,
          -0.01200360489652566,
          -0.012129600629286268,
          0.09786225680163367,
          0.09081863511422104,
          0.05293055824733099,
          0.06626729556841958,
          0.02429444990973568,
          0.06215324563266313,
          0.06749789437905955,
          0.05306109123328057,
          0.06407091933399854,
          0.05297634505818159,
          -0.029529625148284472,
          -0.033731217520835494,
          -0.037924920520816884,
          -0.02263772947256056,
          -0.031043836173838605,
          -0.013061473492605509,
          -0.031206171208789872,
          -0.043095774230336496,
          -0.0007630029608520932,
          -0.04539221364829486,
          -0.007792758809063493,
          0.02168034364269358,
          -0.042929649337054974,
          -0.021233573897899618,
          -0.038256897230006005,
          -0.027783058488512924,
          -0.007603678672171952,
          -0.01936531640212058,
          -0.04666797963505445,
          -0.01700853954803976,
          -0.02508298668267772,
          -0.02307993465786734,
          -0.015028268519491185,
          -0.03325586182518667,
          -0.019322750469855366,
          0.07471914222355872,
          0.04084262011624444,
          0.09416478879060335,
          0.09655980828365295,
          0.0696837359164222,
          0.03498814768544288,
          0.12790881609406635,
          0.026022852823441488,
          -0.03000176524403282,
          -0.002735384990147051,
          -0.004261786438171736,
          0.013912541040681905,
          -0.009331523385647822,
          -0.01902271158714134,
          -0.05622923805913375,
          -0.041708626748536544,
          -0.055664265350362,
          -0.007832705350752277,
          0.01117753202467013,
          -0.032138544479217906,
          -0.024745389738054544,
          -0.02893821130863862,
          -0.03171053509620792,
          0.0546953551281917,
          0.059662444979202214,
          0.0681526764872754,
          0.14167653640695746,
          0.097741046233932,
          0.11928033060007076,
          0.09079277407835286,
          0.10581524172321208,
          0.10443538044405222,
          -0.020265624734718685,
          -0.02676366895328692,
          -0.023608420710482508,
          -0.02746623129115373,
          -0.04400934076309231,
          -0.0015519834019727,
          -0.022115709337055575,
          0.017909686556595854,
          0.02282626008958146,
          -0.014932267641732055,
          -0.024060813899469093,
          -0.02284887080995927,
          -0.01713409647307267,
          -0.02356146463629447,
          -0.03014642490580278,
          -0.023902563761878333,
          -0.013785971315849452,
          -0.031198887733464766,
          -0.014681126384508345,
          -0.015850372851931235,
          -0.02362677904755942,
          0.0742627835154984,
          0.056336485455498374,
          0.022597606110563447,
          0.002143881177664075,
          -0.08468265937356076,
          -0.03694209636593582,
          -0.009332937250258643,
          -0.029403100372221207,
          -0.03000305903297906,
          -0.011459639217227485,
          -0.010292114650367935,
          -0.006633338069999186,
          -0.010209157662325373,
          0.01515594047235175,
          0.016428373296911797,
          -0.0058756355892274174,
          0.08371855190869892,
          0.01673181293706403,
          -0.03418210621942779,
          0.00021901219354228792,
          0.024003389215152805,
          0.06750572489736922,
          0.035916894287478685,
          0.037084997971512886,
          0.0927731760782566,
          0.04522014175249283,
          0.09742467546891798,
          0.030871694781071275,
          0.07540898103075443,
          -0.0375737985854746,
          -0.03310238955016276,
          -0.03574880950245431,
          -0.02724482793802548,
          0.17869035770459163,
          0.029737812328482976,
          0.0770343629717466,
          0.020259930633599033,
          -0.026956487817373802,
          -0.018975873489159044,
          -0.026288644284373493,
          -0.013436697327988476,
          -0.03258303413494563,
          -0.025094148442974407,
          -0.029109821674425874,
          -0.02985804287436092,
          -0.022824783753562557,
          -0.05393048636579912,
          -0.017826695849630803,
          -0.025658199472762485,
          -0.032963306500330386,
          -0.030243324278556236,
          -0.030459733906908704,
          -0.046743746671369636,
          -0.019234236833018645,
          0.05879433620523837,
          0.07190684572716786,
          0.05854840155942822,
          0.03875026762330353,
          0.03819044184424241,
          0.03464990413305748,
          0.05839519569512267,
          0.059276372100234134,
          -0.005999586594169329,
          -0.00024134446163464557,
          0.05535425447426323,
          -0.0002292364321414196,
          0.03772736750523693,
          0.06133329084318646,
          -0.01964181460234684,
          -0.01955854501569058,
          -0.023340558818558406,
          -0.02432691767111826,
          -0.05495347320547949,
          0.010190444615870844,
          -0.03842570528929582,
          -0.030771369287631148,
          -0.033218482138788315,
          -0.006292406907074926,
          -0.023152193284616793,
          -0.024282602182138315,
          -0.015314699380402039,
          -0.023407907327764224,
          0.1067259516366724,
          0.042412864845519746,
          -0.012319934668905868,
          -0.02138768851227866,
          -0.024597382816120623,
          -0.003585090338735787,
          0.0046424196638308775,
          0.021113027691418183,
          0.01632485711601508,
          -0.020947141209522253,
          -0.0192965901924528,
          -0.013965704350005199,
          -0.015699634627885782,
          -0.03179877742611346,
          0.03348323864580522,
          -0.03886867483222302,
          0.007121938800685994,
          0.005650770840360364,
          -0.018053806027145156,
          0.012304134235035789,
          -0.04817202168962177,
          -0.04937909220367251,
          0.020354484858994392,
          -0.015520190898751432,
          0.008717479794516739,
          -0.034742711912139866,
          -0.045312500595940844,
          -0.019868206223797265,
          0.004204251046381416,
          0.014635328625803906,
          0.027883429560263073,
          0.005147495845327362,
          -0.011518800061232324,
          0.006252770574733863,
          -0.0008834755867361757,
          0.008043714184263797,
          -0.005677002778234429,
          0.032961493972544796,
          -0.020839818754292697,
          -0.00750875809674236,
          -0.00194062956898839,
          0.02273544140072504,
          -0.0061149511005123445,
          -0.03683811746198573,
          -0.03978297325699632,
          -0.08502717255216902,
          -0.03518936142957625,
          -0.012104035300695731,
          -0.03689701604679568,
          -0.02186375364498756,
          0.022781890167689774,
          -0.01424948179096716,
          -0.020504814179133447,
          -0.02605552442023727,
          0.0025814084000454433,
          0.007784174906166267,
          -0.02309406925298056,
          0.008536464034115262,
          -0.02760375195345443,
          0.0017837484566800134,
          -0.01647161722014295,
          -0.0031774371672603115,
          -0.011661271478091057,
          -0.020317911032855285,
          0.001275013959130395,
          -0.0036023637667715828,
          -0.00012506011377391694,
          -0.02451186468620004,
          -0.017109808678109434,
          0.0035350248101311964,
          -0.013289719332652139,
          -0.024088298285414804,
          0.00147817400836279,
          0.017028771238637958,
          0.016580043315753495,
          -0.015836039399865366,
          0.0011744087150038034,
          0.013946223663104301,
          0.00015146637617812834,
          -0.015886621027193498,
          -0.005254198943871222,
          0.002924696034647753,
          -0.0179152753235468,
          0.0028789464240452562,
          -0.013421338916276523,
          -0.014764184235709568,
          -0.0260168988502717,
          -0.02219348684076008,
          -0.03786560089813563,
          -0.009294425115789208,
          -0.012948135456764931,
          -0.02063474402824118,
          -0.007363999947652343,
          -0.006102162265412937,
          -0.048967567458117284,
          -0.07360909784087061,
          -0.01975580681416303,
          -0.022359287293160737,
          -0.02355707265194202,
          0.014482187436727577,
          0.017869342512895018,
          0.014728218460358116,
          -0.002590263044787531,
          -0.021074347796120257,
          -0.004337432824314898
         ],
         "z": [
          -0.013108254450452725,
          -0.0068561991304340476,
          0.003741919826281267,
          0.024948988354251682,
          -0.0707172566734486,
          0.039314579568626315,
          0.0370367195766888,
          0.02971176196732639,
          0.01799752810978534,
          -0.00013856933475721086,
          0.012314232054267226,
          -0.044578708929530135,
          -0.027800655477930376,
          -0.017137744151233765,
          0.002622551692666726,
          0.015320033828379907,
          -0.03821768717216398,
          0.016664278589064697,
          -0.010924337778843121,
          -0.028766284538813174,
          0.009474763542808734,
          -0.03323580851369895,
          -0.00820171003650599,
          0.00322371654044098,
          -0.030981139328243663,
          -0.0024209708386539286,
          0.05581275054486956,
          -0.01145618959262601,
          0.022718776666240847,
          0.0001687591699604579,
          -0.032513334998430274,
          -0.12159179089579232,
          -0.11230574742501799,
          -0.04163206688377445,
          0.0180217531084512,
          -0.10360022488191058,
          0.025808057950254114,
          -7.194393879976874e-05,
          -0.00393892615328703,
          -0.01632467465457005,
          0.026165858905291505,
          0.012138859176588303,
          -0.08764262433124546,
          0.02365177034336709,
          -0.08264357923247101,
          0.009318058577847146,
          -0.00625770345306686,
          0.058949757796016695,
          0.01812147642957247,
          -0.014355925544160942,
          0.029604259738285798,
          -0.01588062783908093,
          0.03543698061061217,
          0.00803847838769131,
          0.013414795411737922,
          -0.03704947337727644,
          -0.0232152454885524,
          0.033684132574635706,
          0.022391396574909614,
          0.03961627501521885,
          0.008667416024102922,
          -0.00592319060860911,
          -0.005311265044329639,
          -0.015241428550575076,
          -0.006267769887062496,
          -0.020605072637252118,
          -0.03597922276189311,
          -0.018015120293461095,
          -0.06956956808768396,
          -0.040300887050432554,
          -0.08452834622404282,
          -0.024050089417484263,
          -0.07838739111753491,
          0.04254901114286523,
          0.04328125121319238,
          0.057730703712042974,
          0.03853341822321913,
          0.007173159568149028,
          0.03406300682690648,
          0.048018794360074446,
          0.042197035734385456,
          0.0018095549855183485,
          0.04517263087044804,
          0.0495392214398679,
          0.04821467610653244,
          0.068755890145709,
          0.026879093096452866,
          -0.005032117295717503,
          0.019067517738263363,
          -0.02585496099426754,
          -0.054906445555271036,
          0.03611664009537194,
          0.05134812741308374,
          0.04522451460321884,
          0.05177861754158159,
          0.053962031446929806,
          0.05923118683175678,
          0.11307541930863203,
          0.1197518500759016,
          0.10185047525402202,
          0.09419403412440969,
          0.11673500712118762,
          0.09677615957138348,
          0.1153037455208798,
          -0.022187197303315722,
          0.003593543210391705,
          -0.04808834560993618,
          -0.06836948602352486,
          -0.016743911856396874,
          0.027895771715555268,
          -0.024599051764548786,
          -0.025236264112808906,
          0.021637710542113404,
          0.04628364974361666,
          -0.02746087605582834,
          -0.002635165342904216,
          0.015258341238383233,
          -0.06607473071663243,
          -0.009669671548757327,
          0.011621034400777898,
          -0.010801064739899684,
          0.049131204797911304,
          -0.006145109393541365,
          0.11300996066093881,
          0.059663935781913764,
          0.0517402065571077,
          -0.01488629588455084,
          -0.0034478529035569866,
          -0.0002477463734205031,
          0.053680492025086644,
          0.022219666572091002,
          -0.015233197074980673,
          -0.037976417654937374,
          0.015755614803751507,
          -0.0012721927804483228,
          0.026611274926370023,
          0.0009099353154417546,
          0.011533365817603445,
          -0.02627594799491424,
          0.018258804602666254,
          0.029746790130947078,
          0.036562389150297095,
          -0.008037178482424728,
          -0.07423239181517799,
          -0.012535445724161298,
          -0.014228169190623769,
          -0.09977408080663021,
          -0.005435982672911908,
          0.0004620351536735563,
          0.002654536558469858,
          -0.009525149064320247,
          -0.024043132308548522,
          -0.0014039668716702436,
          -0.016162588260055816,
          -0.044924803734728895,
          0.004131371687738694,
          0.018332528862421673,
          0.00433179084261435,
          -0.044612385467213675,
          -0.012936798327534705,
          -0.04618048545009521,
          -0.006824499927647675,
          0.0036834810816731363,
          -0.03418639427790762,
          0.03291911821927332,
          0.0065625127600960455,
          -0.03804697024747667,
          -0.016984737371498217,
          0.008942748326208333,
          0.014548983361582842,
          0.03940888286879762,
          0.05035288565489305,
          0.0029989126955683276,
          0.033822103018123495,
          0.05276516583541786,
          0.011508079031385463,
          0.05302339280091383,
          -0.010979812144967106,
          0.03178385897315096,
          0.03295178731028161,
          0.04487531655553999,
          0.03550315762107052,
          0.03867146013259815,
          0.020815206567077207,
          0.020638646704920896,
          0.038374992429686026,
          0.0347267822901984,
          0.009227513974746002,
          0.0015996480471414031,
          -0.029667662954633068,
          0.030360923720993936,
          -0.009372414394131959,
          -0.006336759799329528,
          -0.10137268111957014,
          -0.018929011900729913,
          0.004336303711861742,
          0.02440566096101119,
          0.0431784438479557,
          -0.01414182699173469,
          0.01652779118842252,
          0.016924198067603258,
          -0.042225203411675405,
          0.009026590926840748,
          -0.0064747379107513,
          -0.007044500154973977,
          -0.03978082374895329,
          -0.011314041750700344,
          -0.004196664663927763,
          0.014554590589553613,
          0.052628867498493846,
          0.05380226117288945,
          -0.026763802993141874,
          -0.01399692755186181,
          -0.051154829775988155,
          -0.029299101153889492,
          0.0067396322331371205,
          -0.04153381219871096,
          0.001910956678878702,
          -0.04182675379916899,
          -0.037289396157104734,
          0.009836212565950499,
          -0.003239158976240551,
          -0.013058204658022533,
          -0.000938151738598175,
          -0.04506581277128921,
          -0.021770966238492836,
          -0.018135113973636922,
          -0.06347378814522049,
          0.012685569185798454,
          0.020681933586199477,
          -0.019209090829870032,
          0.020074221824745254,
          -0.03883413814834267,
          -0.029916617930026243,
          -0.020142020470335937,
          -0.011221800387480654,
          0.0011830157128120858,
          -0.0020839295615639,
          0.00022712711139586184,
          -0.0015514237674122446,
          0.01013575767294844,
          -0.0489490907542847,
          -0.0036562715748102823,
          0.013831738558018777,
          0.006991409811155481,
          0.09354647432925818,
          0.074081628762307,
          0.07055442278069456,
          0.011240932645218613,
          -0.017549904381809478,
          -0.057209188174441004,
          -0.027005314430944744,
          -0.05415880652659399,
          0.01825995869365805,
          -0.048468573741227726,
          -0.003958142835992256,
          -0.014886936713524167,
          0.012079093670592579,
          -0.015204775763214341,
          -0.0046425700697021125,
          -0.0005689202252580119,
          -0.02710032150152044,
          -0.03026067994355772,
          -0.011262722774184263,
          -0.009455445851024669,
          -0.005499206044751109,
          -0.03779197472686246,
          0.044063861872533285,
          -0.018770836871936973,
          0.07154919181551359,
          0.06798986802450661,
          -0.010513413207361863,
          -0.033481107010195826,
          -0.06060060693630785,
          -0.09161465249975942,
          -0.03869263897725168,
          -0.003286391890793439,
          -0.05880218966231906,
          -0.022834268220706593,
          -0.04314620157691516,
          0.04273482472700579,
          -0.021292262200849017,
          -0.027944163822298928,
          0.05424397373170586,
          0.008791843366980025,
          0.010993173006128882,
          0.0018753592584987014,
          -0.017713298783845945,
          0.05664223405524936,
          0.04844532629786996,
          0.001002973346182619,
          0.03763220123370526,
          0.015731699136778486,
          0.09032809326510738,
          0.05103090506103171,
          0.0773618449674052,
          0.031119934097181338,
          -0.0379014455640907,
          0.003270862300294585,
          -0.0008150655507580737,
          -0.019474831553652656,
          0.0008726998621016563,
          -0.056278600603673505,
          0.0019704960695074874,
          0.018673842891990325,
          -0.10841377008577362,
          -0.04053177299102548,
          -0.0017713712042757774,
          -0.015554912165092787,
          -0.00901491232497677,
          -0.006466877710026939,
          0.00618877240289027,
          0.02148754194754025,
          0.012452312109664588,
          0.02252760618542011,
          -0.009386726176754706,
          -0.016427605976438393,
          -0.010439036684884277,
          0.03173110041426395,
          0.059811423532518886,
          0.03897955508897241,
          0.002768976505918848,
          0.0140513225427682,
          -0.0013666953306252763,
          -0.010141152379395894,
          0.011931865198641443,
          0.004378936739454343,
          -0.06538196147180166,
          0.027478296184410358,
          -0.02020331251959996,
          -0.049841621330507735,
          -0.02344546710706846,
          -0.009467999399024268,
          0.024390356666224054,
          -0.06815746021658622,
          -0.050363751751428425,
          -0.03428998704210148,
          -0.021469717414999534,
          0.06118903238014475,
          0.06652981838836693,
          0.01009733119514047,
          0.007846303152873829,
          0.02030468168853797,
          0.032754043805500184,
          -0.04058811618510211,
          0.049994010454652967,
          -0.013836218308988806,
          -0.02596607895317123,
          0.05953857208665365,
          0.05521974516055933,
          -0.01249180777333002,
          0.060730645572497466,
          -0.01911569397175977,
          -0.03989953690211479,
          -0.04487406751318611,
          0.004491645867560472,
          -0.024570078958260664,
          -0.03315760147838811,
          -0.035224498363257625,
          -0.033812068375116876,
          0.005138294132926456,
          -0.020721972934490514,
          -0.0120457762375934,
          0.05374396572322744,
          0.01976304170033557,
          -0.021105034195727138,
          -0.004252826194583885,
          0.0030078185148640253,
          -0.011172021301813828,
          0.02538491516903934,
          -0.029101735853927342,
          -0.03793222779911713,
          -0.06537320418407788,
          0.016061445878226326,
          0.005918954180454403,
          0.0033878956316160166,
          0.019980992742968946,
          -0.014287019124120207,
          -0.007572590677708428,
          -0.10580331448398878,
          -0.07454582199104219,
          -0.03851732496379246,
          -0.11341596606762225,
          -0.05058368303522295,
          -0.009323891758310039,
          -0.038589607188170616,
          0.0271150838615462,
          -0.03914353322565188,
          0.014021358696196556,
          -0.010460139557040981,
          -0.06281569923622068,
          -0.017145708750455846,
          -0.006301690568325516,
          0.03939710089953936,
          -0.04286637987352571,
          0.020099130191105465,
          -0.03588703230551709,
          0.027853458113730745,
          -0.06449517717280995,
          -0.0058879193315415435,
          -0.0035209168223792726,
          -0.015321322675772369,
          0.015973483594872898,
          -0.08055642513227233,
          -0.0084402291590741,
          0.03703348981832557,
          -0.012542930165246775,
          -0.004331362875069743,
          0.006271745080313786,
          -0.030779945273181755,
          -0.006511641331786715,
          0.010633191726083808,
          2.3017134103386538e-05,
          0.018095822407742514,
          0.0015885586810898999,
          -0.01377663371717205,
          -0.009404470292311297,
          -0.0038301920870916434,
          0.014915826077315026,
          0.022943691595975656,
          0.012319903424811573,
          0.013292228586210581,
          -0.03195423512178143,
          -0.005002820668334448,
          -0.005351022412942234,
          0.011945097215656158,
          0.017506314710216294,
          -0.03282857154495737,
          -0.12587149716065102,
          -0.03479305048169142,
          0.01803581035809295,
          -0.03250598098621052,
          0.014219744617912422,
          0.05885431233842357,
          0.03712502917332939,
          -0.020342930280227028,
          -0.005662629490793677,
          -0.004937618721862848,
          -0.004370313207882212,
          -0.03213484392782117,
          -0.0462260987249027,
          0.011801082308370486,
          0.01785327840143161,
          0.007681911149558189,
          0.005879339665893196,
          -0.01269808654465052,
          -0.05694924280470926,
          -0.041760795662011976,
          -0.008483969021527942,
          0.012154516121147988,
          -0.029858978270431085,
          -0.04221963830791698,
          0.053862689198002606,
          -0.03633228992959091,
          0.00046564900184024253,
          0.06560281098907261,
          0.011815204494313721,
          0.047980333468020296,
          0.02294229364675659,
          -0.025924558259832635,
          -0.01035418900734668,
          0.044470017359244586,
          0.006355542129330374,
          0.024137073907334515,
          -0.016163096664267896,
          0.01789697208456207,
          0.03749219961154165,
          0.008934368164898635,
          0.0165570395837629,
          -0.02380551762448426,
          0.0069281090777724786,
          -0.04116213581388347,
          0.0049693011034375265,
          0.02015186315434014,
          0.020604527943229724,
          -0.024520960746612037,
          0.023210268793933456,
          -0.017215466896289146,
          -0.13995077831319536,
          0.03420017756346322,
          0.0426664007376988,
          0.046146791024191745,
          0.004482524603126211,
          -0.005624282041250707,
          0.01589698528339276,
          0.008841783062354539,
          -0.023567848394405375,
          -0.058614737997391676
         ]
        },
        {
         "hovertemplate": "has_organoid=red<br>PC1=%{x}<br>PC2=%{y}<br>PC3=%{z}<extra></extra>",
         "legendgroup": "red",
         "marker": {
          "color": "#EF553B",
          "opacity": 0.4,
          "size": 4,
          "symbol": "circle"
         },
         "mode": "markers",
         "name": "red",
         "scene": "scene",
         "showlegend": true,
         "type": "scatter3d",
         "x": [
          -0.04120134032210238,
          -0.037025831270695614,
          -0.0410610007881643,
          -0.03654589995865291,
          -0.0027137548512906795,
          0.006546326766235196,
          0.07508443291743452,
          0.008493485282022085,
          0.05805323956463444,
          -0.0035792183634943864,
          -0.025843851489099092,
          0.0337639074254025,
          0.003107461871739622,
          -0.02228587313690029,
          -0.031150840161949904,
          -0.028845423327197223,
          -0.10667832402020169,
          0.040453921723010634,
          -0.020786694799012777,
          0.019895755207040303,
          -0.0034153423019046636,
          0.004355163064383761,
          0.03473251832063798,
          0.0136746908506722,
          0.01704828661444156,
          -0.0017331441105754293,
          -0.004097232792314949,
          -0.01499335407754095,
          0.013564066744900408,
          0.06170452180783725,
          0.008173884733159918,
          -0.051197665216385524,
          -0.054643260137562474,
          -0.07587368842446596,
          -0.05861906583271566,
          0.03628487897163546,
          0.048371210735160146,
          0.012252162252395025,
          0.04125563879924121,
          0.002387913927002447,
          0.005692279679183481,
          0.005296565490505973,
          -0.0025198843819696903,
          0.014064461792818053,
          0.011218860401014294,
          0.022083001539574352,
          0.03560886416738313,
          0.00844433683031187,
          -0.03918273400587592,
          -0.03872759336830444,
          0.015360818178677715,
          0.03001700536785003,
          0.044295481887484806,
          0.0004778855415710137,
          0.02619553797276809,
          -0.006967365176656028,
          0.05110649706936918,
          0.055001726086361856,
          -0.016591782245030308,
          -0.015268314380582217,
          0.011647100038201297,
          0.02560423425738041,
          0.0037814584666863325,
          0.013359469495465126,
          -0.033874201161395195,
          0.004083001291001877,
          0.018373572212187026,
          0.027108834304613295,
          -0.006126461649629791,
          0.022669512544076734,
          0.030910907171981052,
          0.06463181071070825,
          0.018125822249425695,
          0.013496512057566058,
          0.033046734414451016,
          0.05052466024032206,
          0.03302548550381299,
          0.01608555179198103,
          0.008258364146006827,
          0.020306214124553062,
          0.15973124337714764,
          0.1867964533906478,
          0.018668822053846245,
          0.04266505107736794,
          0.041831591589148565,
          -0.034613443720643504,
          -0.007673718871968612,
          0.04807851427956096,
          -0.041328061396995935,
          -0.030001268985678838,
          -0.01376405244377926,
          0.0051424153490881985,
          0.014756607510012183,
          -0.008280945096447879,
          0.01242457761531258,
          0.07252732308613825,
          -0.0032903846027511315,
          -0.03617965474265246,
          -0.03426925245461626,
          0.01940178066841696,
          -0.006455958656247504,
          0.008613712299414324,
          -0.03671667157472077,
          0.03649712780370122,
          0.03951581328421732,
          0.07157272636114231,
          0.025835899601624645,
          0.0009406906747300697,
          -0.031847264524916596,
          -0.028320869290734425,
          -0.017663349237067826,
          0.024469920254484006,
          0.15429592311011825,
          0.02129392672293539,
          0.09196404010829036,
          0.12713096662704615,
          0.1112394617155078,
          0.1258953333669185,
          -0.007305835449200902,
          -0.03513129659586272,
          0.030408757683582012,
          0.015744128448044042,
          0.0943557020915708,
          0.029745073826835396,
          -0.006909057375665526,
          0.023344536737126612,
          0.11549723800528852,
          0.10477173714527165,
          -0.038712715701172955,
          -0.015111299424072092,
          0.11982568759956023,
          -0.008928120884544527,
          0.036487351002974455,
          0.017671151385952343,
          -0.07167813429964759,
          -0.05619492375434565,
          -0.02140901312768196,
          -0.040285807098071454,
          -0.035767407342000346,
          -0.03753709314968831,
          -0.02021121875495751,
          -0.07705600004789676,
          -0.031233245520270812,
          -0.008863583468944907,
          -0.010161845506084411,
          -0.04114431358384713,
          -0.032314990319432246,
          -0.03709502820157397,
          -0.09245980703785621,
          -0.03518732630488726,
          -0.04205592733969102,
          -0.04870848292329895,
          0.01053128355131941,
          -0.10250042756141961,
          -0.02792561562397306,
          -0.030891972454114375,
          -0.05380663280844927,
          -0.026149970315204787,
          -0.03654552795358856,
          -0.04248697224760546,
          0.0002130983563320939,
          -0.0002065808913911099,
          0.07313750522783474
         ],
         "y": [
          -0.034249506545273825,
          -0.03507929683830054,
          -0.03211838354468833,
          -0.027385020371467374,
          -0.00802005686571575,
          0.003174476887438664,
          0.014612877367606462,
          -0.002927788808183338,
          0.01696427964998422,
          -0.0004826081844632124,
          -0.03166632484045233,
          -0.005905562154539018,
          0.03940856493098159,
          -0.034675737979270524,
          -0.016741843855164723,
          -0.02885104327347856,
          -0.10918140525536227,
          -0.002732826990532852,
          -0.03626494153696099,
          -0.0066408067315844475,
          -0.007893114050261682,
          -0.039457979318697725,
          -0.01144306206623134,
          -0.020217922235541197,
          -0.03693561209104288,
          -0.018966309609004736,
          -0.02212271564868148,
          -0.014284424742628771,
          -0.04015505682230518,
          0.019335319815550023,
          -0.02795607622307944,
          -0.019085880766792303,
          -0.020046846953889086,
          0.004928327185630324,
          -0.012488810112231196,
          -0.013189265812985481,
          0.0030283222218590363,
          -0.007899940880818062,
          -0.006224661749031126,
          -0.03617180030218217,
          -0.022534610072930374,
          -0.03136209010874415,
          -0.03701652810627126,
          -0.01804778474806864,
          -0.02160016315192331,
          -0.026228840645631673,
          -0.023487921098455947,
          -0.024990706172021336,
          -0.03210465169991874,
          -0.031393804353845464,
          -0.009356337679884518,
          -0.02553142519373086,
          0.014764781042425809,
          -0.020310451539837442,
          0.007200051892680083,
          -0.026450067676370426,
          -0.008835417819884906,
          0.013375719065105596,
          -0.00948766332950742,
          -0.01917584964768834,
          -0.018708707126916833,
          0.027149693957758854,
          -0.01990060571469843,
          -0.005425768583889415,
          -0.01814760594776497,
          -0.020714446079739494,
          -0.06115716056622812,
          -0.01706128664768742,
          -0.027953118519565404,
          -0.02190150568694549,
          -0.022251191202594726,
          -0.007900083322750634,
          -0.016993385845589126,
          -0.05108057508171955,
          -0.034947787334787754,
          -0.016690642233448908,
          -0.021332700683604322,
          -0.04111313390313806,
          -0.05213477461559567,
          -0.03092728004354709,
          -0.04665457807985733,
          0.04376569375954214,
          -0.019311914404191298,
          -0.017883096134664576,
          -0.040449374507402235,
          -0.04094976947884232,
          -0.04264277599477981,
          0.01844020627519818,
          -0.01886763502297055,
          -0.029153220419034478,
          -0.03172959152340685,
          -0.012631821550107168,
          0.006430982596329463,
          -0.016043265987203587,
          -0.003032495059663664,
          0.008651941600567965,
          -0.039333733634207044,
          -0.02467190787099017,
          -0.03163654579817644,
          0.010205805206392842,
          0.0023148606161868036,
          -0.00803193822108803,
          -0.05287054318983013,
          -0.0009807812330711986,
          0.01024006164628544,
          0.03286984119433802,
          0.015138771874208664,
          0.009383085807120087,
          -0.031638280498784616,
          -0.034287264064663314,
          -0.02905699311926356,
          -0.0009567501809556368,
          0.08026396868741467,
          -0.02897686624589105,
          -0.014100977042038741,
          -0.023750193776140557,
          0.008471393039039534,
          -0.006729644346589578,
          -0.005910974869174533,
          0.031383612657985206,
          0.014098862726876401,
          -0.006227812219944346,
          0.07008173995803124,
          -0.004217305944623268,
          -0.02958116966556868,
          0.0019132874723993636,
          0.04382627500754648,
          0.021932775520416618,
          -0.0270113951287071,
          -0.03567387648988179,
          0.0718525893921983,
          -0.052195394478877125,
          -0.010906815487408489,
          0.011996653050557046,
          0.09663198511543741,
          0.08525661118705691,
          0.06100431628375907,
          0.09017028749369987,
          0.11300355645467655,
          0.07824412601962169,
          0.08102227020606075,
          0.0922064972527565,
          0.01382207677901304,
          0.05826390537186286,
          0.07463975602121893,
          0.06716074427687208,
          0.0788557159526424,
          0.04490249410394743,
          0.10699013584721785,
          0.0530872740585524,
          0.053290476352386484,
          0.05930982029309617,
          0.11094759104618154,
          0.043862704887599885,
          0.09673297894836441,
          0.05703740383675206,
          0.0809796379803874,
          0.09105825022104526,
          0.05929479663049653,
          0.05339645132999449,
          -0.008517447815276556,
          9.087787818205434e-05,
          0.00902562329696671
         ],
         "z": [
          0.10054070885904093,
          0.0935911253060299,
          0.0886675068742153,
          0.07267681659502506,
          0.0006858794678043789,
          0.030274537692376084,
          0.015089610924379541,
          0.020957019586158337,
          -0.0043360091331146626,
          -0.01566952766844903,
          -0.0838703928644796,
          -0.025831620674626684,
          0.031014717395676437,
          0.025573545610754728,
          0.037173695123761764,
          0.009088938921113711,
          -0.2642981678258751,
          0.024949700687754293,
          -0.05307543740213491,
          0.009221016841723691,
          -0.030017419346274644,
          -0.011651585069778259,
          0.010406251055988431,
          -0.012779164645350612,
          -0.03701130128240027,
          0.0023196901972516904,
          0.020652479920289794,
          0.016862264525056653,
          -0.01513412882989587,
          0.0013864830835979701,
          0.021489017875615808,
          0.08440506242634785,
          0.09313498390660849,
          0.06633816309142525,
          0.0814645724169673,
          0.028829753367722054,
          0.02510628970837396,
          0.01329393471762391,
          0.040142189761950234,
          -0.04183704852460252,
          -0.03724884267577495,
          -0.04393836175159826,
          -0.023538463550207014,
          -0.011705119044288545,
          -0.020348186300538314,
          -0.008295965107377066,
          -8.7010126622798e-06,
          -0.013851379183410634,
          -0.0060590134444272895,
          0.004401974339582498,
          0.019117164973427678,
          0.0007463843442340953,
          0.04487889871661067,
          -0.06215234370330736,
          0.022208623142880572,
          -0.001997585244389501,
          -0.007655056205155249,
          -0.004990987689232769,
          0.024012720509166804,
          0.04672470321234562,
          -0.004630447067419843,
          -0.005113565977655738,
          -0.00789408927759348,
          0.009262618792241781,
          0.03041829152340443,
          0.007466678680692661,
          -0.006510323905765389,
          -0.002568635942869712,
          0.009765641231976957,
          0.002388530770363088,
          -0.009920530237849058,
          0.06608389053280736,
          -0.03864878030462159,
          -0.021636456888950564,
          -0.035751202020803674,
          -0.02705036907269196,
          -0.007943309471652329,
          -0.049248712889502284,
          -0.031775675022206205,
          -0.019972985174520518,
          0.02299604657109182,
          0.13773385725312703,
          -0.0006204831027577902,
          0.005694746665253279,
          0.004478557653507852,
          -0.018099592563416537,
          -0.0014823743458548515,
          0.004362642479535736,
          0.03904778632772489,
          -0.02285966027726285,
          -0.030147494911811967,
          0.002448194275223049,
          0.00015677202779949126,
          -0.03168991705266056,
          -0.02928450905063539,
          0.021059894885007164,
          0.0019608260632442745,
          0.01264663858346513,
          0.01659913293016146,
          0.012092066863343489,
          0.015296407719831696,
          0.02542522745806392,
          0.026345204394232987,
          0.00727668714395884,
          0.0073860767869666855,
          -0.0032139890473606033,
          0.010825176189781197,
          -0.016231397001747177,
          -0.009083357132777201,
          0.007184809011234981,
          0.014497691856080614,
          -0.004184098538113845,
          0.01482744370952365,
          -0.000572526899802758,
          -0.028836413684690167,
          -0.00924042065050063,
          0.01869031164225336,
          -0.006407923432032771,
          -0.029383818754874134,
          -0.011755600905303153,
          -0.07082638002428758,
          -0.024047936957220007,
          0.12075048522471228,
          -0.02712291066549481,
          -0.09341667508335104,
          0.014905981935659868,
          0.06570017408796928,
          -0.03141378511272596,
          0.03640144284153613,
          -0.02521559037588295,
          0.053579002011764715,
          -0.016611110461364497,
          1.0644522101014513e-06,
          0.013333505192182774,
          0.01184810683409776,
          -0.006415888899699747,
          0.00969325093667087,
          0.003057366412067797,
          0.039613542072381484,
          0.017284589026415678,
          -0.042385317827711586,
          0.0018290684027370465,
          -0.00849725840391312,
          -0.036797750821072686,
          -0.0026931732934765027,
          0.002578486048586606,
          0.021534045728085205,
          0.000885921223125617,
          -0.0009750939150573506,
          0.001815375311168164,
          0.008773649271790187,
          0.011084135324137252,
          0.005284803232501099,
          0.03251458069276855,
          -0.07561091677893858,
          0.008724041862952525,
          -0.006283300564322297,
          -0.0102250703528861,
          0.014455974259323323,
          0.021196843803428973,
          -0.012506560376591489,
          -0.0023140064956923227,
          -0.03475196557239513
         ]
        }
       ],
       "layout": {
        "legend": {
         "title": {
          "text": "has_organoid"
         },
         "tracegroupgap": 0
        },
        "margin": {
         "t": 60
        },
        "scene": {
         "domain": {
          "x": [
           0,
           1
          ],
          "y": [
           0,
           1
          ]
         },
         "xaxis": {
          "title": {
           "text": "PC1"
          }
         },
         "yaxis": {
          "title": {
           "text": "PC2"
          }
         },
         "zaxis": {
          "title": {
           "text": "PC3"
          }
         }
        },
        "template": {
         "data": {
          "bar": [
           {
            "error_x": {
             "color": "#2a3f5f"
            },
            "error_y": {
             "color": "#2a3f5f"
            },
            "marker": {
             "line": {
              "color": "#E5ECF6",
              "width": 0.5
             },
             "pattern": {
              "fillmode": "overlay",
              "size": 10,
              "solidity": 0.2
             }
            },
            "type": "bar"
           }
          ],
          "barpolar": [
           {
            "marker": {
             "line": {
              "color": "#E5ECF6",
              "width": 0.5
             },
             "pattern": {
              "fillmode": "overlay",
              "size": 10,
              "solidity": 0.2
             }
            },
            "type": "barpolar"
           }
          ],
          "carpet": [
           {
            "aaxis": {
             "endlinecolor": "#2a3f5f",
             "gridcolor": "white",
             "linecolor": "white",
             "minorgridcolor": "white",
             "startlinecolor": "#2a3f5f"
            },
            "baxis": {
             "endlinecolor": "#2a3f5f",
             "gridcolor": "white",
             "linecolor": "white",
             "minorgridcolor": "white",
             "startlinecolor": "#2a3f5f"
            },
            "type": "carpet"
           }
          ],
          "choropleth": [
           {
            "colorbar": {
             "outlinewidth": 0,
             "ticks": ""
            },
            "type": "choropleth"
           }
          ],
          "contour": [
           {
            "colorbar": {
             "outlinewidth": 0,
             "ticks": ""
            },
            "colorscale": [
             [
              0,
              "#0d0887"
             ],
             [
              0.1111111111111111,
              "#46039f"
             ],
             [
              0.2222222222222222,
              "#7201a8"
             ],
             [
              0.3333333333333333,
              "#9c179e"
             ],
             [
              0.4444444444444444,
              "#bd3786"
             ],
             [
              0.5555555555555556,
              "#d8576b"
             ],
             [
              0.6666666666666666,
              "#ed7953"
             ],
             [
              0.7777777777777778,
              "#fb9f3a"
             ],
             [
              0.8888888888888888,
              "#fdca26"
             ],
             [
              1,
              "#f0f921"
             ]
            ],
            "type": "contour"
           }
          ],
          "contourcarpet": [
           {
            "colorbar": {
             "outlinewidth": 0,
             "ticks": ""
            },
            "type": "contourcarpet"
           }
          ],
          "heatmap": [
           {
            "colorbar": {
             "outlinewidth": 0,
             "ticks": ""
            },
            "colorscale": [
             [
              0,
              "#0d0887"
             ],
             [
              0.1111111111111111,
              "#46039f"
             ],
             [
              0.2222222222222222,
              "#7201a8"
             ],
             [
              0.3333333333333333,
              "#9c179e"
             ],
             [
              0.4444444444444444,
              "#bd3786"
             ],
             [
              0.5555555555555556,
              "#d8576b"
             ],
             [
              0.6666666666666666,
              "#ed7953"
             ],
             [
              0.7777777777777778,
              "#fb9f3a"
             ],
             [
              0.8888888888888888,
              "#fdca26"
             ],
             [
              1,
              "#f0f921"
             ]
            ],
            "type": "heatmap"
           }
          ],
          "heatmapgl": [
           {
            "colorbar": {
             "outlinewidth": 0,
             "ticks": ""
            },
            "colorscale": [
             [
              0,
              "#0d0887"
             ],
             [
              0.1111111111111111,
              "#46039f"
             ],
             [
              0.2222222222222222,
              "#7201a8"
             ],
             [
              0.3333333333333333,
              "#9c179e"
             ],
             [
              0.4444444444444444,
              "#bd3786"
             ],
             [
              0.5555555555555556,
              "#d8576b"
             ],
             [
              0.6666666666666666,
              "#ed7953"
             ],
             [
              0.7777777777777778,
              "#fb9f3a"
             ],
             [
              0.8888888888888888,
              "#fdca26"
             ],
             [
              1,
              "#f0f921"
             ]
            ],
            "type": "heatmapgl"
           }
          ],
          "histogram": [
           {
            "marker": {
             "pattern": {
              "fillmode": "overlay",
              "size": 10,
              "solidity": 0.2
             }
            },
            "type": "histogram"
           }
          ],
          "histogram2d": [
           {
            "colorbar": {
             "outlinewidth": 0,
             "ticks": ""
            },
            "colorscale": [
             [
              0,
              "#0d0887"
             ],
             [
              0.1111111111111111,
              "#46039f"
             ],
             [
              0.2222222222222222,
              "#7201a8"
             ],
             [
              0.3333333333333333,
              "#9c179e"
             ],
             [
              0.4444444444444444,
              "#bd3786"
             ],
             [
              0.5555555555555556,
              "#d8576b"
             ],
             [
              0.6666666666666666,
              "#ed7953"
             ],
             [
              0.7777777777777778,
              "#fb9f3a"
             ],
             [
              0.8888888888888888,
              "#fdca26"
             ],
             [
              1,
              "#f0f921"
             ]
            ],
            "type": "histogram2d"
           }
          ],
          "histogram2dcontour": [
           {
            "colorbar": {
             "outlinewidth": 0,
             "ticks": ""
            },
            "colorscale": [
             [
              0,
              "#0d0887"
             ],
             [
              0.1111111111111111,
              "#46039f"
             ],
             [
              0.2222222222222222,
              "#7201a8"
             ],
             [
              0.3333333333333333,
              "#9c179e"
             ],
             [
              0.4444444444444444,
              "#bd3786"
             ],
             [
              0.5555555555555556,
              "#d8576b"
             ],
             [
              0.6666666666666666,
              "#ed7953"
             ],
             [
              0.7777777777777778,
              "#fb9f3a"
             ],
             [
              0.8888888888888888,
              "#fdca26"
             ],
             [
              1,
              "#f0f921"
             ]
            ],
            "type": "histogram2dcontour"
           }
          ],
          "mesh3d": [
           {
            "colorbar": {
             "outlinewidth": 0,
             "ticks": ""
            },
            "type": "mesh3d"
           }
          ],
          "parcoords": [
           {
            "line": {
             "colorbar": {
              "outlinewidth": 0,
              "ticks": ""
             }
            },
            "type": "parcoords"
           }
          ],
          "pie": [
           {
            "automargin": true,
            "type": "pie"
           }
          ],
          "scatter": [
           {
            "marker": {
             "colorbar": {
              "outlinewidth": 0,
              "ticks": ""
             }
            },
            "type": "scatter"
           }
          ],
          "scatter3d": [
           {
            "line": {
             "colorbar": {
              "outlinewidth": 0,
              "ticks": ""
             }
            },
            "marker": {
             "colorbar": {
              "outlinewidth": 0,
              "ticks": ""
             }
            },
            "type": "scatter3d"
           }
          ],
          "scattercarpet": [
           {
            "marker": {
             "colorbar": {
              "outlinewidth": 0,
              "ticks": ""
             }
            },
            "type": "scattercarpet"
           }
          ],
          "scattergeo": [
           {
            "marker": {
             "colorbar": {
              "outlinewidth": 0,
              "ticks": ""
             }
            },
            "type": "scattergeo"
           }
          ],
          "scattergl": [
           {
            "marker": {
             "colorbar": {
              "outlinewidth": 0,
              "ticks": ""
             }
            },
            "type": "scattergl"
           }
          ],
          "scattermapbox": [
           {
            "marker": {
             "colorbar": {
              "outlinewidth": 0,
              "ticks": ""
             }
            },
            "type": "scattermapbox"
           }
          ],
          "scatterpolar": [
           {
            "marker": {
             "colorbar": {
              "outlinewidth": 0,
              "ticks": ""
             }
            },
            "type": "scatterpolar"
           }
          ],
          "scatterpolargl": [
           {
            "marker": {
             "colorbar": {
              "outlinewidth": 0,
              "ticks": ""
             }
            },
            "type": "scatterpolargl"
           }
          ],
          "scatterternary": [
           {
            "marker": {
             "colorbar": {
              "outlinewidth": 0,
              "ticks": ""
             }
            },
            "type": "scatterternary"
           }
          ],
          "surface": [
           {
            "colorbar": {
             "outlinewidth": 0,
             "ticks": ""
            },
            "colorscale": [
             [
              0,
              "#0d0887"
             ],
             [
              0.1111111111111111,
              "#46039f"
             ],
             [
              0.2222222222222222,
              "#7201a8"
             ],
             [
              0.3333333333333333,
              "#9c179e"
             ],
             [
              0.4444444444444444,
              "#bd3786"
             ],
             [
              0.5555555555555556,
              "#d8576b"
             ],
             [
              0.6666666666666666,
              "#ed7953"
             ],
             [
              0.7777777777777778,
              "#fb9f3a"
             ],
             [
              0.8888888888888888,
              "#fdca26"
             ],
             [
              1,
              "#f0f921"
             ]
            ],
            "type": "surface"
           }
          ],
          "table": [
           {
            "cells": {
             "fill": {
              "color": "#EBF0F8"
             },
             "line": {
              "color": "white"
             }
            },
            "header": {
             "fill": {
              "color": "#C8D4E3"
             },
             "line": {
              "color": "white"
             }
            },
            "type": "table"
           }
          ]
         },
         "layout": {
          "annotationdefaults": {
           "arrowcolor": "#2a3f5f",
           "arrowhead": 0,
           "arrowwidth": 1
          },
          "autotypenumbers": "strict",
          "coloraxis": {
           "colorbar": {
            "outlinewidth": 0,
            "ticks": ""
           }
          },
          "colorscale": {
           "diverging": [
            [
             0,
             "#8e0152"
            ],
            [
             0.1,
             "#c51b7d"
            ],
            [
             0.2,
             "#de77ae"
            ],
            [
             0.3,
             "#f1b6da"
            ],
            [
             0.4,
             "#fde0ef"
            ],
            [
             0.5,
             "#f7f7f7"
            ],
            [
             0.6,
             "#e6f5d0"
            ],
            [
             0.7,
             "#b8e186"
            ],
            [
             0.8,
             "#7fbc41"
            ],
            [
             0.9,
             "#4d9221"
            ],
            [
             1,
             "#276419"
            ]
           ],
           "sequential": [
            [
             0,
             "#0d0887"
            ],
            [
             0.1111111111111111,
             "#46039f"
            ],
            [
             0.2222222222222222,
             "#7201a8"
            ],
            [
             0.3333333333333333,
             "#9c179e"
            ],
            [
             0.4444444444444444,
             "#bd3786"
            ],
            [
             0.5555555555555556,
             "#d8576b"
            ],
            [
             0.6666666666666666,
             "#ed7953"
            ],
            [
             0.7777777777777778,
             "#fb9f3a"
            ],
            [
             0.8888888888888888,
             "#fdca26"
            ],
            [
             1,
             "#f0f921"
            ]
           ],
           "sequentialminus": [
            [
             0,
             "#0d0887"
            ],
            [
             0.1111111111111111,
             "#46039f"
            ],
            [
             0.2222222222222222,
             "#7201a8"
            ],
            [
             0.3333333333333333,
             "#9c179e"
            ],
            [
             0.4444444444444444,
             "#bd3786"
            ],
            [
             0.5555555555555556,
             "#d8576b"
            ],
            [
             0.6666666666666666,
             "#ed7953"
            ],
            [
             0.7777777777777778,
             "#fb9f3a"
            ],
            [
             0.8888888888888888,
             "#fdca26"
            ],
            [
             1,
             "#f0f921"
            ]
           ]
          },
          "colorway": [
           "#636efa",
           "#EF553B",
           "#00cc96",
           "#ab63fa",
           "#FFA15A",
           "#19d3f3",
           "#FF6692",
           "#B6E880",
           "#FF97FF",
           "#FECB52"
          ],
          "font": {
           "color": "#2a3f5f"
          },
          "geo": {
           "bgcolor": "white",
           "lakecolor": "white",
           "landcolor": "#E5ECF6",
           "showlakes": true,
           "showland": true,
           "subunitcolor": "white"
          },
          "hoverlabel": {
           "align": "left"
          },
          "hovermode": "closest",
          "mapbox": {
           "style": "light"
          },
          "paper_bgcolor": "white",
          "plot_bgcolor": "#E5ECF6",
          "polar": {
           "angularaxis": {
            "gridcolor": "white",
            "linecolor": "white",
            "ticks": ""
           },
           "bgcolor": "#E5ECF6",
           "radialaxis": {
            "gridcolor": "white",
            "linecolor": "white",
            "ticks": ""
           }
          },
          "scene": {
           "xaxis": {
            "backgroundcolor": "#E5ECF6",
            "gridcolor": "white",
            "gridwidth": 2,
            "linecolor": "white",
            "showbackground": true,
            "ticks": "",
            "zerolinecolor": "white"
           },
           "yaxis": {
            "backgroundcolor": "#E5ECF6",
            "gridcolor": "white",
            "gridwidth": 2,
            "linecolor": "white",
            "showbackground": true,
            "ticks": "",
            "zerolinecolor": "white"
           },
           "zaxis": {
            "backgroundcolor": "#E5ECF6",
            "gridcolor": "white",
            "gridwidth": 2,
            "linecolor": "white",
            "showbackground": true,
            "ticks": "",
            "zerolinecolor": "white"
           }
          },
          "shapedefaults": {
           "line": {
            "color": "#2a3f5f"
           }
          },
          "ternary": {
           "aaxis": {
            "gridcolor": "white",
            "linecolor": "white",
            "ticks": ""
           },
           "baxis": {
            "gridcolor": "white",
            "linecolor": "white",
            "ticks": ""
           },
           "bgcolor": "#E5ECF6",
           "caxis": {
            "gridcolor": "white",
            "linecolor": "white",
            "ticks": ""
           }
          },
          "title": {
           "x": 0.05
          },
          "xaxis": {
           "automargin": true,
           "gridcolor": "white",
           "linecolor": "white",
           "ticks": "",
           "title": {
            "standoff": 15
           },
           "zerolinecolor": "white",
           "zerolinewidth": 2
          },
          "yaxis": {
           "automargin": true,
           "gridcolor": "white",
           "linecolor": "white",
           "ticks": "",
           "title": {
            "standoff": 15
           },
           "zerolinecolor": "white",
           "zerolinewidth": 2
          }
         }
        }
       }
      },
      "text/html": [
       "<div>                            <div id=\"04f95cfa-0c1f-444d-a97a-5983da773a46\" class=\"plotly-graph-div\" style=\"height:525px; width:100%;\"></div>            <script type=\"text/javascript\">                require([\"plotly\"], function(Plotly) {                    window.PLOTLYENV=window.PLOTLYENV || {};                                    if (document.getElementById(\"04f95cfa-0c1f-444d-a97a-5983da773a46\")) {                    Plotly.newPlot(                        \"04f95cfa-0c1f-444d-a97a-5983da773a46\",                        [{\"hovertemplate\":\"has_organoid=blue<br>PC1=%{x}<br>PC2=%{y}<br>PC3=%{z}<extra></extra>\",\"legendgroup\":\"blue\",\"marker\":{\"color\":\"#636efa\",\"opacity\":0.4,\"size\":4,\"symbol\":\"circle\"},\"mode\":\"markers\",\"name\":\"blue\",\"scene\":\"scene\",\"showlegend\":true,\"type\":\"scatter3d\",\"x\":[0.018421239754433518,-0.024765368683891384,-0.00290158271757344,0.01658056717750365,-0.03935465617450762,0.04380527210922161,0.0008978485170888052,0.04397058236940021,0.005161019858546126,-0.02615525328388846,0.020600777410837406,0.01501959212807413,-0.032339602830634626,-0.008950068947994173,0.012770947044525721,-0.005113110996788291,0.046194702542420266,-0.00022624183142771814,-0.06870628140902575,0.013891400254358414,0.020984286205615384,0.02959525043597662,0.03751206922625171,0.029403231601439032,0.05300527686952152,0.02293304497544064,0.039263914741026175,-0.00811314511044788,0.009335599543332485,0.01499457485075636,-0.012737312610685963,-0.025449179735741196,-0.03432440788462619,-0.01718149324337567,-0.024323934971455075,-0.037200793999207636,0.10769685862907216,0.0614613087081661,0.0785668710158143,0.01775103323597709,0.017634743180364915,-0.0270976040685205,-0.08388684551692421,0.042142228657944786,-0.051584311369307266,0.0072777843268349565,-0.009645463781775823,-0.05246868960186285,0.024138944800198056,0.0646240118164775,0.025713805255227696,0.0010026143741271945,0.02998765136243621,0.02139351007743171,-0.011261855866879732,-0.06651842725975862,0.043384749465671384,0.049319584977779614,-0.02708031162889266,-0.01524981114823002,-0.022255425189013467,0.04620390712469789,-0.00966086159011595,-0.0039533098849400886,0.009585092088108666,-0.025908174249342025,0.02134120068162913,-0.00028089536560648777,0.009763406023565738,-0.021714552488538173,-0.05820139866911737,0.005348871291362401,0.018481440123877497,-0.034153919590602606,-0.034276184289455586,-0.024112866834518725,-0.03314412572753382,-0.026991485143354612,-0.03642697960755756,-0.04228055295627033,-0.036819417856316455,0.04146531156762887,-0.026490207898415174,-0.03215643964510081,-0.03163463596130064,0.03475392718229273,-0.02593370768287869,-0.04648689548952822,-0.06564570056696345,-0.05514827468850316,-0.020152320450296995,-0.014392418412234861,-0.015505089068976475,-0.03165943358324639,-0.03544126476549889,-0.02512059395843419,-0.020765850676450454,-0.038547587557877704,-0.04398419867253499,-0.04304312249367599,-0.03992309410529791,-0.03920519794822085,-0.040146572387371356,-0.04702196638365416,-0.02583630770484145,-0.0077685614482327445,-0.03551311271253497,-0.010498499561911786,0.008434733779326508,0.02092293599296473,-0.023068470308530455,-0.036505078653247876,-0.04607097707166376,0.03991323752217149,-0.0026451827897960504,0.03656668098404826,0.014366555987062385,-0.0283518385829762,0.0045507994339343905,0.04538670675201591,0.006904794305501696,-0.005960421662268383,-0.0006066128577859422,-0.014471939419225366,-0.034712365776074214,-0.03328748002141179,0.003158694677054819,0.010750255542219854,0.014199650791720947,-0.02931713501482819,0.019489724217827187,-0.005270952863519166,0.00011651370039716026,0.03223398475631145,0.061615734260925495,-0.00948501834992485,0.039285487047235855,0.039106123584533456,0.019068190268236643,-0.035682510396747934,-0.011627692434394366,-0.02112571226725406,0.011718319672705244,0.0042433994597491816,0.018547094135468296,0.05301244016668282,0.07541060351735039,0.00909920591917673,0.011543536041477473,0.016236649511274338,0.024077676190754495,-0.01186806878440766,0.04579652550966753,0.02482187814907319,0.0369878094708442,0.012955902223190851,0.047962024989150136,0.004593943877875954,0.007894212772326646,0.026462478415312542,0.03134241331112036,0.09707801154090838,-0.005954337344494314,-0.024076103029028798,-0.004519812378837825,-0.14911749726576778,0.0103788540598717,-0.021005689761566207,0.008127456660585241,0.0456579003366002,-0.03320004965038335,-0.031898812544053017,0.04414154298776054,-0.050927532861526265,-0.03362559775669841,-0.09117967767334847,-0.044194524274599946,0.04168021163744063,-0.006105876283844854,0.012016152506360322,-0.007621501969519549,-0.009012832581320017,0.001451214974611367,0.034271619375025104,0.0033147743984230696,-0.0033884261267550205,-0.013493274540494893,0.0058289535759124276,-0.036491644678595864,-0.006850337664857989,-0.002053404888782669,-0.0035661244083453865,-0.009476339528420662,-0.05420348559614318,-0.025520234886811474,0.0674613879190326,0.024545964852162854,-0.022830574926175462,-0.009282755220527445,-0.00026473933925304444,-0.02842328439718197,-0.0034551086850735384,0.014187174507189391,0.02733210892000126,0.011241336138505498,0.010995524954750221,0.015463865302738756,-0.0037223404080947357,-0.030062125880905077,-0.03410110515531207,-0.030852323234305347,0.03872586254656968,-0.04105523441909767,-0.010124296182664434,-0.0219973085299097,-0.02177583016821626,0.0033311042056293257,-0.037626421159294196,-0.0584582270545083,-0.047648857920912335,-0.06927261007782747,-0.03861526459971912,-0.00507587920053186,0.01347463612392862,0.010991012885502223,0.015707409844697994,0.0013994551285966999,-0.02575972064424634,-0.010133893739899367,-0.03770500416367242,-0.0025102684446740146,0.011547228868383675,0.010839840472537105,-0.026727518062422614,0.007441601604662522,-0.011164555992675563,0.07245836940424884,0.04037440953569174,0.002484899237031976,0.02465942483457625,0.016184346964940522,0.049846206673377226,-0.008277286277926444,0.024646675637727627,0.012389593375325044,-0.03351826796771422,-0.03654197805693336,-0.029490799144167943,-0.05082363241284951,0.001662509300372339,0.003418744923159381,-0.004822165551429137,-0.007102402054214372,-0.07644720795883513,-0.009033557867062943,-0.03278492855649159,-0.0026599363337054503,0.04077013076078024,0.02393392987742308,0.03730133540590755,0.014482423960254056,0.031838396060928864,0.018105390001330046,0.025984317583753032,0.01470386281960079,-0.018144168220993757,0.00950900199618445,-0.03401664949185653,0.00567208341754089,-0.03765970373300308,-0.03932647406965901,-0.0180490562912742,-0.005541782503201327,0.005406125526394652,0.0005693500009795064,0.024660323142705453,-0.014764863972279855,-0.010620383594655778,-0.004006931087902828,0.052342869062329545,-0.032579327049563574,-0.01578371884453965,0.01428239185252769,-0.035371368899602317,-0.020991674527495705,0.0018828955989895718,-0.0053993920576194615,0.0508538405800803,0.0627786818207836,-0.08107464510484762,0.019643187851640535,-0.023783968215088273,-0.04359722203504036,-0.0376989621173115,-0.04124972751697598,-0.03673535006885098,-0.03301720370322474,-0.007364284719276797,0.01303856509190946,-0.0015830992211990841,0.011494203612924102,-0.026084019952492047,-0.040599610622421685,-0.04071696058225845,-0.018043359166380727,0.00014019728403331567,-0.0627969797570811,0.012747118137882636,0.010543706919946681,0.003691917623390923,0.008253274079412756,0.03848497832503253,0.04516615543909333,0.02897259181193065,0.01798985013917993,0.027601474393122424,0.0014858431542491058,0.05009051082155899,0.03926988426821525,-0.03590885548062237,-0.03273704570673005,-0.03398332138274651,-0.012873559731203228,-0.013636516451129017,-0.03610144723796414,-0.019411929814739985,-0.05666376956446122,-0.03423876682175188,-0.039553155423808495,-0.030197738537427382,-0.07389843133139361,-0.0695735162971662,-0.0660256700596986,-0.0304772943709085,-0.0853695943795492,-0.03515373529712337,0.00403878266346333,-0.014669760448513662,-0.03511263030848603,-0.05149498112405315,0.013689089027408275,0.06071557627351988,-0.0014238152136622929,-0.03722828703010947,0.03979998538694659,-0.16150185489205574,0.025883637023554302,-0.0140967403426807,-0.03310940048034978,-0.03465213284960899,0.03216569107098803,-0.02800531110426088,-0.03739225256753466,-0.03794321711056869,-0.023567691359317248,0.037581686111004306,-0.019718171941702754,-0.04394320644198023,-0.019308913254245812,-0.009305269002775986,-0.03793288385401846,-0.005192392771737381,-0.014375151379232669,-0.0344668566735308,-0.03279321133342018,-0.05887972695832419,-0.027955758395896414,-0.05038751690500003,-0.009064131234169546,-0.04753688326069237,-0.02896666851945522,-0.015949842119377236,-0.07045076138414824,-0.05481165855284929,-0.0696233315919958,-0.05839990009694842,-0.02464119501809102,-0.05562678702890075,-0.030386154797188262,-0.06186295421003988,-0.008429287362923157,-0.05382946529451268,-0.06581391505629813,-0.031764305833561914,0.002368956018758616,0.03441814957083043,0.02657684331684235,0.01133012122921599,0.01784948476434547,0.07795796248473834,0.08631030921125513,0.062364972893987486,-0.035828960219952154,-0.02751101843910439,0.06970491182237996,0.047299977170420664,0.02802496574286564,0.04795587086707584,-0.00631742285584155,0.0033181403111446177,0.016315259771189323,-0.01619849975526216,0.03940566513329916,-0.03342901970272772,-0.029664205662156683,0.028331482966146126,0.02158568779293099,0.050799888625901346,0.04730577134876913,0.06837078768332766,0.03777870650603071,0.01674071432157728,0.00568432572061212,0.02309256024294291,0.016408484913132074,0.012603466045744046,0.01750388668241707,0.028835587891890144,0.028314474856692078,0.024498883046552004,0.0581016260211784,0.003794447079865194,0.02680615009756109,0.020632054968751305,0.021198232828353286,0.033514564656376866,-0.008417540225104617,-0.003201404359728672,0.037617402460694956,0.03663906690629551,0.019652127560085407,0.04326643315016334,0.05434968880172216,0.09437553554927448,0.046764068820985646,0.0231676812574925,0.024633318505129287,0.015307403049329947,0.0081464589057629,0.007804504192859688,0.016710490224104774,-0.017706676135752216,0.011337421533046465,0.01253677832581751,0.023551655501390007,-0.012729580500630605,0.045519374787644784,0.042625405582066324,0.052589396387349115,0.029694280423892706,-0.012550029328985104,-0.021224109247659682,0.05055702925478529,0.013333797089977744,0.038798596121417735,0.03115985853592294,0.10739802478277938,0.03029555066806917,-0.0006846683576474963,0.001628177787747042,0.03936456082189782,0.010275129543827907,-0.002279128438695347,0.003748542485326901,0.008176064889088057,-0.004212455961163207,0.016268995622922888,-0.009267334116654948,-0.016851888924168067,-0.014952670871886646,-0.010941970755413432,-0.030910471540181644,0.03235552088915307,-0.0036746897531983844,0.055229221782957055,0.008043420839890144,0.02814424763549663,-0.03705127659821065,-0.07336140226880046,-0.02617067674569022,-0.03552185063934463,-0.03784953244542943,0.09677987087167814,-0.002864721900415589,0.012690516373239251,-0.004103659358010586,0.015698335502933695,-0.005994520014735267],\"y\":[-0.01603934162197715,-0.02436033685552437,-0.018602417390470957,0.01616885637697418,-0.048804929022059504,0.017189852997217207,-0.004875127177600291,0.003774771385167863,-0.008547862321665347,-0.06724136396581734,0.006416512711845784,0.009007471170224962,0.006190207210712233,-0.012476157312138815,-0.012417787816445078,0.003079375783808077,-0.02181178401179394,-0.006458606551417728,-0.00803022180316062,-0.0230355471819099,-0.006856680273690355,0.01537479674126357,0.03363141871864764,0.0029093886308888873,0.028256131341710046,-0.00493876786093815,0.01820197729145254,-0.016384013454613683,-0.0013206082466800054,0.02449573526812369,-0.03897124926985384,-0.04620519090395776,-0.07319502251877544,-0.0315614003093289,-0.02239288469222598,-0.035182750089655726,0.043020058980397985,0.03092985716784907,-0.0066952819622501025,-0.007943862356670793,0.002578940298017963,-0.02963122729310444,-0.0853071484500118,-0.021422574771894628,-0.0365061719914295,0.013874578292903209,-0.023197085422006578,-0.02052299649869851,0.0011426343004167672,-0.017545375745430435,0.02335244451987614,-0.029404374760170195,0.008656909982160236,0.010793773051147423,-0.0463414549708708,-0.05899041359605755,-0.02942402871816432,0.0028219080883233236,-0.02081170845577519,-0.01728115635381566,-0.025398307769904042,0.011434516912222033,-0.008040015158076069,-0.01665688879788314,-0.029841638934824128,0.0468468266503357,0.0262571829946712,0.06900701005340866,0.04568413361686027,0.13267038155528502,0.0502106432704681,0.05475709976489077,0.04846906129692401,0.02430589548889994,0.02290191484814067,0.0009766756158933697,0.019409849471242205,0.0679037464373222,0.0542794341706648,0.04027913980267403,0.020688079702825882,0.11853643015337752,0.11694577103567569,0.018092658860700654,0.042246879444654585,-0.02170934829472538,0.060628821093366224,0.05316472555146812,0.12191029849386807,0.0033497815935404716,0.06786465381922235,0.0855797876481836,0.02781967341562269,0.031088572535850425,0.02971562587468183,-0.0005426449636906488,0.03228497289080513,-0.040814191826227426,-0.04044359528160962,-0.04715935322911512,-0.03317617715337821,-0.04298966625598905,-0.037781868290888365,-0.04439425826951477,0.07124619837283767,0.06075019428730872,0.06509521936086983,0.06130517983223992,0.09669789917268412,0.09371891316159607,0.059627092191068674,0.0595382286512053,0.07946169438531318,-0.003251699242555418,0.0029737331602215813,0.003718499312288912,0.021018142768036447,-0.02810703863766165,-0.027437634901943786,0.011091676093011617,-0.04127647661236571,-0.015730626552081694,-0.018890693526674524,-0.007564770247661672,-0.019513338781205133,-0.024481410675518768,-0.0261855383726656,-0.024375367910674316,-0.017727910013242986,-0.02205488487993095,-0.037231489103025456,-0.012351579204062737,-0.02659232859343387,-0.009730491022924859,0.02089219114848158,-0.006840798604421447,0.012692543032428501,0.014305429982373745,-0.0034796453526600205,-0.043851840446646397,-0.0243285428245436,-0.024768682094632954,-0.06586044048082536,-0.025096003827067392,-0.029609678771610238,-0.02328708541778671,0.004330777279094788,-0.00573365123620248,-0.017245458470305633,0.0018254264081145823,-0.01680869643496509,-0.012875958704912573,-0.012475514181464519,-0.032797719699621766,-0.048811700587989934,-0.006494042955963349,0.02183205879170202,0.002352507521600006,-0.028166589806491785,-0.0013806495914664898,-0.03428034484577799,0.002438862385503148,-0.017259816177143568,-0.010576634106318133,-0.017572230108659145,-0.05593924203069453,-0.04595980845141288,-0.03906467647878604,0.0014639768946599135,0.02605169125434618,-0.013049281874142662,-0.025448857706951947,0.005797294965395754,-0.019586718607079667,-0.026150978173155582,-0.01891709513592581,-0.025616119207200836,-0.02950907254452952,-0.006111067693184936,0.004641225802864461,-0.019706435065460232,-0.01544240293424835,-0.012946237410870389,-0.02311094735056032,-0.003658742184079757,-0.008708738505601167,-0.016596662192102346,-0.012379267947634361,-0.03397240961871151,-0.006805683093731262,-0.004449040236299504,-0.0018614923851167592,-0.019636233115381565,-0.052185873611976574,-0.02705426225321571,-0.017711394542559208,0.0016711226411044748,-0.03572763649463524,0.0019388729553574198,0.025890273995822135,-0.0351812265246971,-0.02998440891404753,-0.01173646868297449,-0.011364514392710986,-0.01143245202918364,-0.011563721313768755,-0.005426640199141791,0.0038047185284257675,-0.025780681064676517,-0.02792159683436291,-0.02238012184340063,-0.01200360489652566,-0.012129600629286268,0.09786225680163367,0.09081863511422104,0.05293055824733099,0.06626729556841958,0.02429444990973568,0.06215324563266313,0.06749789437905955,0.05306109123328057,0.06407091933399854,0.05297634505818159,-0.029529625148284472,-0.033731217520835494,-0.037924920520816884,-0.02263772947256056,-0.031043836173838605,-0.013061473492605509,-0.031206171208789872,-0.043095774230336496,-0.0007630029608520932,-0.04539221364829486,-0.007792758809063493,0.02168034364269358,-0.042929649337054974,-0.021233573897899618,-0.038256897230006005,-0.027783058488512924,-0.007603678672171952,-0.01936531640212058,-0.04666797963505445,-0.01700853954803976,-0.02508298668267772,-0.02307993465786734,-0.015028268519491185,-0.03325586182518667,-0.019322750469855366,0.07471914222355872,0.04084262011624444,0.09416478879060335,0.09655980828365295,0.0696837359164222,0.03498814768544288,0.12790881609406635,0.026022852823441488,-0.03000176524403282,-0.002735384990147051,-0.004261786438171736,0.013912541040681905,-0.009331523385647822,-0.01902271158714134,-0.05622923805913375,-0.041708626748536544,-0.055664265350362,-0.007832705350752277,0.01117753202467013,-0.032138544479217906,-0.024745389738054544,-0.02893821130863862,-0.03171053509620792,0.0546953551281917,0.059662444979202214,0.0681526764872754,0.14167653640695746,0.097741046233932,0.11928033060007076,0.09079277407835286,0.10581524172321208,0.10443538044405222,-0.020265624734718685,-0.02676366895328692,-0.023608420710482508,-0.02746623129115373,-0.04400934076309231,-0.0015519834019727,-0.022115709337055575,0.017909686556595854,0.02282626008958146,-0.014932267641732055,-0.024060813899469093,-0.02284887080995927,-0.01713409647307267,-0.02356146463629447,-0.03014642490580278,-0.023902563761878333,-0.013785971315849452,-0.031198887733464766,-0.014681126384508345,-0.015850372851931235,-0.02362677904755942,0.0742627835154984,0.056336485455498374,0.022597606110563447,0.002143881177664075,-0.08468265937356076,-0.03694209636593582,-0.009332937250258643,-0.029403100372221207,-0.03000305903297906,-0.011459639217227485,-0.010292114650367935,-0.006633338069999186,-0.010209157662325373,0.01515594047235175,0.016428373296911797,-0.0058756355892274174,0.08371855190869892,0.01673181293706403,-0.03418210621942779,0.00021901219354228792,0.024003389215152805,0.06750572489736922,0.035916894287478685,0.037084997971512886,0.0927731760782566,0.04522014175249283,0.09742467546891798,0.030871694781071275,0.07540898103075443,-0.0375737985854746,-0.03310238955016276,-0.03574880950245431,-0.02724482793802548,0.17869035770459163,0.029737812328482976,0.0770343629717466,0.020259930633599033,-0.026956487817373802,-0.018975873489159044,-0.026288644284373493,-0.013436697327988476,-0.03258303413494563,-0.025094148442974407,-0.029109821674425874,-0.02985804287436092,-0.022824783753562557,-0.05393048636579912,-0.017826695849630803,-0.025658199472762485,-0.032963306500330386,-0.030243324278556236,-0.030459733906908704,-0.046743746671369636,-0.019234236833018645,0.05879433620523837,0.07190684572716786,0.05854840155942822,0.03875026762330353,0.03819044184424241,0.03464990413305748,0.05839519569512267,0.059276372100234134,-0.005999586594169329,-0.00024134446163464557,0.05535425447426323,-0.0002292364321414196,0.03772736750523693,0.06133329084318646,-0.01964181460234684,-0.01955854501569058,-0.023340558818558406,-0.02432691767111826,-0.05495347320547949,0.010190444615870844,-0.03842570528929582,-0.030771369287631148,-0.033218482138788315,-0.006292406907074926,-0.023152193284616793,-0.024282602182138315,-0.015314699380402039,-0.023407907327764224,0.1067259516366724,0.042412864845519746,-0.012319934668905868,-0.02138768851227866,-0.024597382816120623,-0.003585090338735787,0.0046424196638308775,0.021113027691418183,0.01632485711601508,-0.020947141209522253,-0.0192965901924528,-0.013965704350005199,-0.015699634627885782,-0.03179877742611346,0.03348323864580522,-0.03886867483222302,0.007121938800685994,0.005650770840360364,-0.018053806027145156,0.012304134235035789,-0.04817202168962177,-0.04937909220367251,0.020354484858994392,-0.015520190898751432,0.008717479794516739,-0.034742711912139866,-0.045312500595940844,-0.019868206223797265,0.004204251046381416,0.014635328625803906,0.027883429560263073,0.005147495845327362,-0.011518800061232324,0.006252770574733863,-0.0008834755867361757,0.008043714184263797,-0.005677002778234429,0.032961493972544796,-0.020839818754292697,-0.00750875809674236,-0.00194062956898839,0.02273544140072504,-0.0061149511005123445,-0.03683811746198573,-0.03978297325699632,-0.08502717255216902,-0.03518936142957625,-0.012104035300695731,-0.03689701604679568,-0.02186375364498756,0.022781890167689774,-0.01424948179096716,-0.020504814179133447,-0.02605552442023727,0.0025814084000454433,0.007784174906166267,-0.02309406925298056,0.008536464034115262,-0.02760375195345443,0.0017837484566800134,-0.01647161722014295,-0.0031774371672603115,-0.011661271478091057,-0.020317911032855285,0.001275013959130395,-0.0036023637667715828,-0.00012506011377391694,-0.02451186468620004,-0.017109808678109434,0.0035350248101311964,-0.013289719332652139,-0.024088298285414804,0.00147817400836279,0.017028771238637958,0.016580043315753495,-0.015836039399865366,0.0011744087150038034,0.013946223663104301,0.00015146637617812834,-0.015886621027193498,-0.005254198943871222,0.002924696034647753,-0.0179152753235468,0.0028789464240452562,-0.013421338916276523,-0.014764184235709568,-0.0260168988502717,-0.02219348684076008,-0.03786560089813563,-0.009294425115789208,-0.012948135456764931,-0.02063474402824118,-0.007363999947652343,-0.006102162265412937,-0.048967567458117284,-0.07360909784087061,-0.01975580681416303,-0.022359287293160737,-0.02355707265194202,0.014482187436727577,0.017869342512895018,0.014728218460358116,-0.002590263044787531,-0.021074347796120257,-0.004337432824314898],\"z\":[-0.013108254450452725,-0.0068561991304340476,0.003741919826281267,0.024948988354251682,-0.0707172566734486,0.039314579568626315,0.0370367195766888,0.02971176196732639,0.01799752810978534,-0.00013856933475721086,0.012314232054267226,-0.044578708929530135,-0.027800655477930376,-0.017137744151233765,0.002622551692666726,0.015320033828379907,-0.03821768717216398,0.016664278589064697,-0.010924337778843121,-0.028766284538813174,0.009474763542808734,-0.03323580851369895,-0.00820171003650599,0.00322371654044098,-0.030981139328243663,-0.0024209708386539286,0.05581275054486956,-0.01145618959262601,0.022718776666240847,0.0001687591699604579,-0.032513334998430274,-0.12159179089579232,-0.11230574742501799,-0.04163206688377445,0.0180217531084512,-0.10360022488191058,0.025808057950254114,-7.194393879976874e-05,-0.00393892615328703,-0.01632467465457005,0.026165858905291505,0.012138859176588303,-0.08764262433124546,0.02365177034336709,-0.08264357923247101,0.009318058577847146,-0.00625770345306686,0.058949757796016695,0.01812147642957247,-0.014355925544160942,0.029604259738285798,-0.01588062783908093,0.03543698061061217,0.00803847838769131,0.013414795411737922,-0.03704947337727644,-0.0232152454885524,0.033684132574635706,0.022391396574909614,0.03961627501521885,0.008667416024102922,-0.00592319060860911,-0.005311265044329639,-0.015241428550575076,-0.006267769887062496,-0.020605072637252118,-0.03597922276189311,-0.018015120293461095,-0.06956956808768396,-0.040300887050432554,-0.08452834622404282,-0.024050089417484263,-0.07838739111753491,0.04254901114286523,0.04328125121319238,0.057730703712042974,0.03853341822321913,0.007173159568149028,0.03406300682690648,0.048018794360074446,0.042197035734385456,0.0018095549855183485,0.04517263087044804,0.0495392214398679,0.04821467610653244,0.068755890145709,0.026879093096452866,-0.005032117295717503,0.019067517738263363,-0.02585496099426754,-0.054906445555271036,0.03611664009537194,0.05134812741308374,0.04522451460321884,0.05177861754158159,0.053962031446929806,0.05923118683175678,0.11307541930863203,0.1197518500759016,0.10185047525402202,0.09419403412440969,0.11673500712118762,0.09677615957138348,0.1153037455208798,-0.022187197303315722,0.003593543210391705,-0.04808834560993618,-0.06836948602352486,-0.016743911856396874,0.027895771715555268,-0.024599051764548786,-0.025236264112808906,0.021637710542113404,0.04628364974361666,-0.02746087605582834,-0.002635165342904216,0.015258341238383233,-0.06607473071663243,-0.009669671548757327,0.011621034400777898,-0.010801064739899684,0.049131204797911304,-0.006145109393541365,0.11300996066093881,0.059663935781913764,0.0517402065571077,-0.01488629588455084,-0.0034478529035569866,-0.0002477463734205031,0.053680492025086644,0.022219666572091002,-0.015233197074980673,-0.037976417654937374,0.015755614803751507,-0.0012721927804483228,0.026611274926370023,0.0009099353154417546,0.011533365817603445,-0.02627594799491424,0.018258804602666254,0.029746790130947078,0.036562389150297095,-0.008037178482424728,-0.07423239181517799,-0.012535445724161298,-0.014228169190623769,-0.09977408080663021,-0.005435982672911908,0.0004620351536735563,0.002654536558469858,-0.009525149064320247,-0.024043132308548522,-0.0014039668716702436,-0.016162588260055816,-0.044924803734728895,0.004131371687738694,0.018332528862421673,0.00433179084261435,-0.044612385467213675,-0.012936798327534705,-0.04618048545009521,-0.006824499927647675,0.0036834810816731363,-0.03418639427790762,0.03291911821927332,0.0065625127600960455,-0.03804697024747667,-0.016984737371498217,0.008942748326208333,0.014548983361582842,0.03940888286879762,0.05035288565489305,0.0029989126955683276,0.033822103018123495,0.05276516583541786,0.011508079031385463,0.05302339280091383,-0.010979812144967106,0.03178385897315096,0.03295178731028161,0.04487531655553999,0.03550315762107052,0.03867146013259815,0.020815206567077207,0.020638646704920896,0.038374992429686026,0.0347267822901984,0.009227513974746002,0.0015996480471414031,-0.029667662954633068,0.030360923720993936,-0.009372414394131959,-0.006336759799329528,-0.10137268111957014,-0.018929011900729913,0.004336303711861742,0.02440566096101119,0.0431784438479557,-0.01414182699173469,0.01652779118842252,0.016924198067603258,-0.042225203411675405,0.009026590926840748,-0.0064747379107513,-0.007044500154973977,-0.03978082374895329,-0.011314041750700344,-0.004196664663927763,0.014554590589553613,0.052628867498493846,0.05380226117288945,-0.026763802993141874,-0.01399692755186181,-0.051154829775988155,-0.029299101153889492,0.0067396322331371205,-0.04153381219871096,0.001910956678878702,-0.04182675379916899,-0.037289396157104734,0.009836212565950499,-0.003239158976240551,-0.013058204658022533,-0.000938151738598175,-0.04506581277128921,-0.021770966238492836,-0.018135113973636922,-0.06347378814522049,0.012685569185798454,0.020681933586199477,-0.019209090829870032,0.020074221824745254,-0.03883413814834267,-0.029916617930026243,-0.020142020470335937,-0.011221800387480654,0.0011830157128120858,-0.0020839295615639,0.00022712711139586184,-0.0015514237674122446,0.01013575767294844,-0.0489490907542847,-0.0036562715748102823,0.013831738558018777,0.006991409811155481,0.09354647432925818,0.074081628762307,0.07055442278069456,0.011240932645218613,-0.017549904381809478,-0.057209188174441004,-0.027005314430944744,-0.05415880652659399,0.01825995869365805,-0.048468573741227726,-0.003958142835992256,-0.014886936713524167,0.012079093670592579,-0.015204775763214341,-0.0046425700697021125,-0.0005689202252580119,-0.02710032150152044,-0.03026067994355772,-0.011262722774184263,-0.009455445851024669,-0.005499206044751109,-0.03779197472686246,0.044063861872533285,-0.018770836871936973,0.07154919181551359,0.06798986802450661,-0.010513413207361863,-0.033481107010195826,-0.06060060693630785,-0.09161465249975942,-0.03869263897725168,-0.003286391890793439,-0.05880218966231906,-0.022834268220706593,-0.04314620157691516,0.04273482472700579,-0.021292262200849017,-0.027944163822298928,0.05424397373170586,0.008791843366980025,0.010993173006128882,0.0018753592584987014,-0.017713298783845945,0.05664223405524936,0.04844532629786996,0.001002973346182619,0.03763220123370526,0.015731699136778486,0.09032809326510738,0.05103090506103171,0.0773618449674052,0.031119934097181338,-0.0379014455640907,0.003270862300294585,-0.0008150655507580737,-0.019474831553652656,0.0008726998621016563,-0.056278600603673505,0.0019704960695074874,0.018673842891990325,-0.10841377008577362,-0.04053177299102548,-0.0017713712042757774,-0.015554912165092787,-0.00901491232497677,-0.006466877710026939,0.00618877240289027,0.02148754194754025,0.012452312109664588,0.02252760618542011,-0.009386726176754706,-0.016427605976438393,-0.010439036684884277,0.03173110041426395,0.059811423532518886,0.03897955508897241,0.002768976505918848,0.0140513225427682,-0.0013666953306252763,-0.010141152379395894,0.011931865198641443,0.004378936739454343,-0.06538196147180166,0.027478296184410358,-0.02020331251959996,-0.049841621330507735,-0.02344546710706846,-0.009467999399024268,0.024390356666224054,-0.06815746021658622,-0.050363751751428425,-0.03428998704210148,-0.021469717414999534,0.06118903238014475,0.06652981838836693,0.01009733119514047,0.007846303152873829,0.02030468168853797,0.032754043805500184,-0.04058811618510211,0.049994010454652967,-0.013836218308988806,-0.02596607895317123,0.05953857208665365,0.05521974516055933,-0.01249180777333002,0.060730645572497466,-0.01911569397175977,-0.03989953690211479,-0.04487406751318611,0.004491645867560472,-0.024570078958260664,-0.03315760147838811,-0.035224498363257625,-0.033812068375116876,0.005138294132926456,-0.020721972934490514,-0.0120457762375934,0.05374396572322744,0.01976304170033557,-0.021105034195727138,-0.004252826194583885,0.0030078185148640253,-0.011172021301813828,0.02538491516903934,-0.029101735853927342,-0.03793222779911713,-0.06537320418407788,0.016061445878226326,0.005918954180454403,0.0033878956316160166,0.019980992742968946,-0.014287019124120207,-0.007572590677708428,-0.10580331448398878,-0.07454582199104219,-0.03851732496379246,-0.11341596606762225,-0.05058368303522295,-0.009323891758310039,-0.038589607188170616,0.0271150838615462,-0.03914353322565188,0.014021358696196556,-0.010460139557040981,-0.06281569923622068,-0.017145708750455846,-0.006301690568325516,0.03939710089953936,-0.04286637987352571,0.020099130191105465,-0.03588703230551709,0.027853458113730745,-0.06449517717280995,-0.0058879193315415435,-0.0035209168223792726,-0.015321322675772369,0.015973483594872898,-0.08055642513227233,-0.0084402291590741,0.03703348981832557,-0.012542930165246775,-0.004331362875069743,0.006271745080313786,-0.030779945273181755,-0.006511641331786715,0.010633191726083808,2.3017134103386538e-05,0.018095822407742514,0.0015885586810898999,-0.01377663371717205,-0.009404470292311297,-0.0038301920870916434,0.014915826077315026,0.022943691595975656,0.012319903424811573,0.013292228586210581,-0.03195423512178143,-0.005002820668334448,-0.005351022412942234,0.011945097215656158,0.017506314710216294,-0.03282857154495737,-0.12587149716065102,-0.03479305048169142,0.01803581035809295,-0.03250598098621052,0.014219744617912422,0.05885431233842357,0.03712502917332939,-0.020342930280227028,-0.005662629490793677,-0.004937618721862848,-0.004370313207882212,-0.03213484392782117,-0.0462260987249027,0.011801082308370486,0.01785327840143161,0.007681911149558189,0.005879339665893196,-0.01269808654465052,-0.05694924280470926,-0.041760795662011976,-0.008483969021527942,0.012154516121147988,-0.029858978270431085,-0.04221963830791698,0.053862689198002606,-0.03633228992959091,0.00046564900184024253,0.06560281098907261,0.011815204494313721,0.047980333468020296,0.02294229364675659,-0.025924558259832635,-0.01035418900734668,0.044470017359244586,0.006355542129330374,0.024137073907334515,-0.016163096664267896,0.01789697208456207,0.03749219961154165,0.008934368164898635,0.0165570395837629,-0.02380551762448426,0.0069281090777724786,-0.04116213581388347,0.0049693011034375265,0.02015186315434014,0.020604527943229724,-0.024520960746612037,0.023210268793933456,-0.017215466896289146,-0.13995077831319536,0.03420017756346322,0.0426664007376988,0.046146791024191745,0.004482524603126211,-0.005624282041250707,0.01589698528339276,0.008841783062354539,-0.023567848394405375,-0.058614737997391676]},{\"hovertemplate\":\"has_organoid=red<br>PC1=%{x}<br>PC2=%{y}<br>PC3=%{z}<extra></extra>\",\"legendgroup\":\"red\",\"marker\":{\"color\":\"#EF553B\",\"opacity\":0.4,\"size\":4,\"symbol\":\"circle\"},\"mode\":\"markers\",\"name\":\"red\",\"scene\":\"scene\",\"showlegend\":true,\"type\":\"scatter3d\",\"x\":[-0.04120134032210238,-0.037025831270695614,-0.0410610007881643,-0.03654589995865291,-0.0027137548512906795,0.006546326766235196,0.07508443291743452,0.008493485282022085,0.05805323956463444,-0.0035792183634943864,-0.025843851489099092,0.0337639074254025,0.003107461871739622,-0.02228587313690029,-0.031150840161949904,-0.028845423327197223,-0.10667832402020169,0.040453921723010634,-0.020786694799012777,0.019895755207040303,-0.0034153423019046636,0.004355163064383761,0.03473251832063798,0.0136746908506722,0.01704828661444156,-0.0017331441105754293,-0.004097232792314949,-0.01499335407754095,0.013564066744900408,0.06170452180783725,0.008173884733159918,-0.051197665216385524,-0.054643260137562474,-0.07587368842446596,-0.05861906583271566,0.03628487897163546,0.048371210735160146,0.012252162252395025,0.04125563879924121,0.002387913927002447,0.005692279679183481,0.005296565490505973,-0.0025198843819696903,0.014064461792818053,0.011218860401014294,0.022083001539574352,0.03560886416738313,0.00844433683031187,-0.03918273400587592,-0.03872759336830444,0.015360818178677715,0.03001700536785003,0.044295481887484806,0.0004778855415710137,0.02619553797276809,-0.006967365176656028,0.05110649706936918,0.055001726086361856,-0.016591782245030308,-0.015268314380582217,0.011647100038201297,0.02560423425738041,0.0037814584666863325,0.013359469495465126,-0.033874201161395195,0.004083001291001877,0.018373572212187026,0.027108834304613295,-0.006126461649629791,0.022669512544076734,0.030910907171981052,0.06463181071070825,0.018125822249425695,0.013496512057566058,0.033046734414451016,0.05052466024032206,0.03302548550381299,0.01608555179198103,0.008258364146006827,0.020306214124553062,0.15973124337714764,0.1867964533906478,0.018668822053846245,0.04266505107736794,0.041831591589148565,-0.034613443720643504,-0.007673718871968612,0.04807851427956096,-0.041328061396995935,-0.030001268985678838,-0.01376405244377926,0.0051424153490881985,0.014756607510012183,-0.008280945096447879,0.01242457761531258,0.07252732308613825,-0.0032903846027511315,-0.03617965474265246,-0.03426925245461626,0.01940178066841696,-0.006455958656247504,0.008613712299414324,-0.03671667157472077,0.03649712780370122,0.03951581328421732,0.07157272636114231,0.025835899601624645,0.0009406906747300697,-0.031847264524916596,-0.028320869290734425,-0.017663349237067826,0.024469920254484006,0.15429592311011825,0.02129392672293539,0.09196404010829036,0.12713096662704615,0.1112394617155078,0.1258953333669185,-0.007305835449200902,-0.03513129659586272,0.030408757683582012,0.015744128448044042,0.0943557020915708,0.029745073826835396,-0.006909057375665526,0.023344536737126612,0.11549723800528852,0.10477173714527165,-0.038712715701172955,-0.015111299424072092,0.11982568759956023,-0.008928120884544527,0.036487351002974455,0.017671151385952343,-0.07167813429964759,-0.05619492375434565,-0.02140901312768196,-0.040285807098071454,-0.035767407342000346,-0.03753709314968831,-0.02021121875495751,-0.07705600004789676,-0.031233245520270812,-0.008863583468944907,-0.010161845506084411,-0.04114431358384713,-0.032314990319432246,-0.03709502820157397,-0.09245980703785621,-0.03518732630488726,-0.04205592733969102,-0.04870848292329895,0.01053128355131941,-0.10250042756141961,-0.02792561562397306,-0.030891972454114375,-0.05380663280844927,-0.026149970315204787,-0.03654552795358856,-0.04248697224760546,0.0002130983563320939,-0.0002065808913911099,0.07313750522783474],\"y\":[-0.034249506545273825,-0.03507929683830054,-0.03211838354468833,-0.027385020371467374,-0.00802005686571575,0.003174476887438664,0.014612877367606462,-0.002927788808183338,0.01696427964998422,-0.0004826081844632124,-0.03166632484045233,-0.005905562154539018,0.03940856493098159,-0.034675737979270524,-0.016741843855164723,-0.02885104327347856,-0.10918140525536227,-0.002732826990532852,-0.03626494153696099,-0.0066408067315844475,-0.007893114050261682,-0.039457979318697725,-0.01144306206623134,-0.020217922235541197,-0.03693561209104288,-0.018966309609004736,-0.02212271564868148,-0.014284424742628771,-0.04015505682230518,0.019335319815550023,-0.02795607622307944,-0.019085880766792303,-0.020046846953889086,0.004928327185630324,-0.012488810112231196,-0.013189265812985481,0.0030283222218590363,-0.007899940880818062,-0.006224661749031126,-0.03617180030218217,-0.022534610072930374,-0.03136209010874415,-0.03701652810627126,-0.01804778474806864,-0.02160016315192331,-0.026228840645631673,-0.023487921098455947,-0.024990706172021336,-0.03210465169991874,-0.031393804353845464,-0.009356337679884518,-0.02553142519373086,0.014764781042425809,-0.020310451539837442,0.007200051892680083,-0.026450067676370426,-0.008835417819884906,0.013375719065105596,-0.00948766332950742,-0.01917584964768834,-0.018708707126916833,0.027149693957758854,-0.01990060571469843,-0.005425768583889415,-0.01814760594776497,-0.020714446079739494,-0.06115716056622812,-0.01706128664768742,-0.027953118519565404,-0.02190150568694549,-0.022251191202594726,-0.007900083322750634,-0.016993385845589126,-0.05108057508171955,-0.034947787334787754,-0.016690642233448908,-0.021332700683604322,-0.04111313390313806,-0.05213477461559567,-0.03092728004354709,-0.04665457807985733,0.04376569375954214,-0.019311914404191298,-0.017883096134664576,-0.040449374507402235,-0.04094976947884232,-0.04264277599477981,0.01844020627519818,-0.01886763502297055,-0.029153220419034478,-0.03172959152340685,-0.012631821550107168,0.006430982596329463,-0.016043265987203587,-0.003032495059663664,0.008651941600567965,-0.039333733634207044,-0.02467190787099017,-0.03163654579817644,0.010205805206392842,0.0023148606161868036,-0.00803193822108803,-0.05287054318983013,-0.0009807812330711986,0.01024006164628544,0.03286984119433802,0.015138771874208664,0.009383085807120087,-0.031638280498784616,-0.034287264064663314,-0.02905699311926356,-0.0009567501809556368,0.08026396868741467,-0.02897686624589105,-0.014100977042038741,-0.023750193776140557,0.008471393039039534,-0.006729644346589578,-0.005910974869174533,0.031383612657985206,0.014098862726876401,-0.006227812219944346,0.07008173995803124,-0.004217305944623268,-0.02958116966556868,0.0019132874723993636,0.04382627500754648,0.021932775520416618,-0.0270113951287071,-0.03567387648988179,0.0718525893921983,-0.052195394478877125,-0.010906815487408489,0.011996653050557046,0.09663198511543741,0.08525661118705691,0.06100431628375907,0.09017028749369987,0.11300355645467655,0.07824412601962169,0.08102227020606075,0.0922064972527565,0.01382207677901304,0.05826390537186286,0.07463975602121893,0.06716074427687208,0.0788557159526424,0.04490249410394743,0.10699013584721785,0.0530872740585524,0.053290476352386484,0.05930982029309617,0.11094759104618154,0.043862704887599885,0.09673297894836441,0.05703740383675206,0.0809796379803874,0.09105825022104526,0.05929479663049653,0.05339645132999449,-0.008517447815276556,9.087787818205434e-05,0.00902562329696671],\"z\":[0.10054070885904093,0.0935911253060299,0.0886675068742153,0.07267681659502506,0.0006858794678043789,0.030274537692376084,0.015089610924379541,0.020957019586158337,-0.0043360091331146626,-0.01566952766844903,-0.0838703928644796,-0.025831620674626684,0.031014717395676437,0.025573545610754728,0.037173695123761764,0.009088938921113711,-0.2642981678258751,0.024949700687754293,-0.05307543740213491,0.009221016841723691,-0.030017419346274644,-0.011651585069778259,0.010406251055988431,-0.012779164645350612,-0.03701130128240027,0.0023196901972516904,0.020652479920289794,0.016862264525056653,-0.01513412882989587,0.0013864830835979701,0.021489017875615808,0.08440506242634785,0.09313498390660849,0.06633816309142525,0.0814645724169673,0.028829753367722054,0.02510628970837396,0.01329393471762391,0.040142189761950234,-0.04183704852460252,-0.03724884267577495,-0.04393836175159826,-0.023538463550207014,-0.011705119044288545,-0.020348186300538314,-0.008295965107377066,-8.7010126622798e-06,-0.013851379183410634,-0.0060590134444272895,0.004401974339582498,0.019117164973427678,0.0007463843442340953,0.04487889871661067,-0.06215234370330736,0.022208623142880572,-0.001997585244389501,-0.007655056205155249,-0.004990987689232769,0.024012720509166804,0.04672470321234562,-0.004630447067419843,-0.005113565977655738,-0.00789408927759348,0.009262618792241781,0.03041829152340443,0.007466678680692661,-0.006510323905765389,-0.002568635942869712,0.009765641231976957,0.002388530770363088,-0.009920530237849058,0.06608389053280736,-0.03864878030462159,-0.021636456888950564,-0.035751202020803674,-0.02705036907269196,-0.007943309471652329,-0.049248712889502284,-0.031775675022206205,-0.019972985174520518,0.02299604657109182,0.13773385725312703,-0.0006204831027577902,0.005694746665253279,0.004478557653507852,-0.018099592563416537,-0.0014823743458548515,0.004362642479535736,0.03904778632772489,-0.02285966027726285,-0.030147494911811967,0.002448194275223049,0.00015677202779949126,-0.03168991705266056,-0.02928450905063539,0.021059894885007164,0.0019608260632442745,0.01264663858346513,0.01659913293016146,0.012092066863343489,0.015296407719831696,0.02542522745806392,0.026345204394232987,0.00727668714395884,0.0073860767869666855,-0.0032139890473606033,0.010825176189781197,-0.016231397001747177,-0.009083357132777201,0.007184809011234981,0.014497691856080614,-0.004184098538113845,0.01482744370952365,-0.000572526899802758,-0.028836413684690167,-0.00924042065050063,0.01869031164225336,-0.006407923432032771,-0.029383818754874134,-0.011755600905303153,-0.07082638002428758,-0.024047936957220007,0.12075048522471228,-0.02712291066549481,-0.09341667508335104,0.014905981935659868,0.06570017408796928,-0.03141378511272596,0.03640144284153613,-0.02521559037588295,0.053579002011764715,-0.016611110461364497,1.0644522101014513e-06,0.013333505192182774,0.01184810683409776,-0.006415888899699747,0.00969325093667087,0.003057366412067797,0.039613542072381484,0.017284589026415678,-0.042385317827711586,0.0018290684027370465,-0.00849725840391312,-0.036797750821072686,-0.0026931732934765027,0.002578486048586606,0.021534045728085205,0.000885921223125617,-0.0009750939150573506,0.001815375311168164,0.008773649271790187,0.011084135324137252,0.005284803232501099,0.03251458069276855,-0.07561091677893858,0.008724041862952525,-0.006283300564322297,-0.0102250703528861,0.014455974259323323,0.021196843803428973,-0.012506560376591489,-0.0023140064956923227,-0.03475196557239513]}],                        {\"legend\":{\"title\":{\"text\":\"has_organoid\"},\"tracegroupgap\":0},\"margin\":{\"t\":60},\"scene\":{\"domain\":{\"x\":[0.0,1.0],\"y\":[0.0,1.0]},\"xaxis\":{\"title\":{\"text\":\"PC1\"}},\"yaxis\":{\"title\":{\"text\":\"PC2\"}},\"zaxis\":{\"title\":{\"text\":\"PC3\"}}},\"template\":{\"data\":{\"bar\":[{\"error_x\":{\"color\":\"#2a3f5f\"},\"error_y\":{\"color\":\"#2a3f5f\"},\"marker\":{\"line\":{\"color\":\"#E5ECF6\",\"width\":0.5},\"pattern\":{\"fillmode\":\"overlay\",\"size\":10,\"solidity\":0.2}},\"type\":\"bar\"}],\"barpolar\":[{\"marker\":{\"line\":{\"color\":\"#E5ECF6\",\"width\":0.5},\"pattern\":{\"fillmode\":\"overlay\",\"size\":10,\"solidity\":0.2}},\"type\":\"barpolar\"}],\"carpet\":[{\"aaxis\":{\"endlinecolor\":\"#2a3f5f\",\"gridcolor\":\"white\",\"linecolor\":\"white\",\"minorgridcolor\":\"white\",\"startlinecolor\":\"#2a3f5f\"},\"baxis\":{\"endlinecolor\":\"#2a3f5f\",\"gridcolor\":\"white\",\"linecolor\":\"white\",\"minorgridcolor\":\"white\",\"startlinecolor\":\"#2a3f5f\"},\"type\":\"carpet\"}],\"choropleth\":[{\"colorbar\":{\"outlinewidth\":0,\"ticks\":\"\"},\"type\":\"choropleth\"}],\"contour\":[{\"colorbar\":{\"outlinewidth\":0,\"ticks\":\"\"},\"colorscale\":[[0.0,\"#0d0887\"],[0.1111111111111111,\"#46039f\"],[0.2222222222222222,\"#7201a8\"],[0.3333333333333333,\"#9c179e\"],[0.4444444444444444,\"#bd3786\"],[0.5555555555555556,\"#d8576b\"],[0.6666666666666666,\"#ed7953\"],[0.7777777777777778,\"#fb9f3a\"],[0.8888888888888888,\"#fdca26\"],[1.0,\"#f0f921\"]],\"type\":\"contour\"}],\"contourcarpet\":[{\"colorbar\":{\"outlinewidth\":0,\"ticks\":\"\"},\"type\":\"contourcarpet\"}],\"heatmap\":[{\"colorbar\":{\"outlinewidth\":0,\"ticks\":\"\"},\"colorscale\":[[0.0,\"#0d0887\"],[0.1111111111111111,\"#46039f\"],[0.2222222222222222,\"#7201a8\"],[0.3333333333333333,\"#9c179e\"],[0.4444444444444444,\"#bd3786\"],[0.5555555555555556,\"#d8576b\"],[0.6666666666666666,\"#ed7953\"],[0.7777777777777778,\"#fb9f3a\"],[0.8888888888888888,\"#fdca26\"],[1.0,\"#f0f921\"]],\"type\":\"heatmap\"}],\"heatmapgl\":[{\"colorbar\":{\"outlinewidth\":0,\"ticks\":\"\"},\"colorscale\":[[0.0,\"#0d0887\"],[0.1111111111111111,\"#46039f\"],[0.2222222222222222,\"#7201a8\"],[0.3333333333333333,\"#9c179e\"],[0.4444444444444444,\"#bd3786\"],[0.5555555555555556,\"#d8576b\"],[0.6666666666666666,\"#ed7953\"],[0.7777777777777778,\"#fb9f3a\"],[0.8888888888888888,\"#fdca26\"],[1.0,\"#f0f921\"]],\"type\":\"heatmapgl\"}],\"histogram\":[{\"marker\":{\"pattern\":{\"fillmode\":\"overlay\",\"size\":10,\"solidity\":0.2}},\"type\":\"histogram\"}],\"histogram2d\":[{\"colorbar\":{\"outlinewidth\":0,\"ticks\":\"\"},\"colorscale\":[[0.0,\"#0d0887\"],[0.1111111111111111,\"#46039f\"],[0.2222222222222222,\"#7201a8\"],[0.3333333333333333,\"#9c179e\"],[0.4444444444444444,\"#bd3786\"],[0.5555555555555556,\"#d8576b\"],[0.6666666666666666,\"#ed7953\"],[0.7777777777777778,\"#fb9f3a\"],[0.8888888888888888,\"#fdca26\"],[1.0,\"#f0f921\"]],\"type\":\"histogram2d\"}],\"histogram2dcontour\":[{\"colorbar\":{\"outlinewidth\":0,\"ticks\":\"\"},\"colorscale\":[[0.0,\"#0d0887\"],[0.1111111111111111,\"#46039f\"],[0.2222222222222222,\"#7201a8\"],[0.3333333333333333,\"#9c179e\"],[0.4444444444444444,\"#bd3786\"],[0.5555555555555556,\"#d8576b\"],[0.6666666666666666,\"#ed7953\"],[0.7777777777777778,\"#fb9f3a\"],[0.8888888888888888,\"#fdca26\"],[1.0,\"#f0f921\"]],\"type\":\"histogram2dcontour\"}],\"mesh3d\":[{\"colorbar\":{\"outlinewidth\":0,\"ticks\":\"\"},\"type\":\"mesh3d\"}],\"parcoords\":[{\"line\":{\"colorbar\":{\"outlinewidth\":0,\"ticks\":\"\"}},\"type\":\"parcoords\"}],\"pie\":[{\"automargin\":true,\"type\":\"pie\"}],\"scatter\":[{\"marker\":{\"colorbar\":{\"outlinewidth\":0,\"ticks\":\"\"}},\"type\":\"scatter\"}],\"scatter3d\":[{\"line\":{\"colorbar\":{\"outlinewidth\":0,\"ticks\":\"\"}},\"marker\":{\"colorbar\":{\"outlinewidth\":0,\"ticks\":\"\"}},\"type\":\"scatter3d\"}],\"scattercarpet\":[{\"marker\":{\"colorbar\":{\"outlinewidth\":0,\"ticks\":\"\"}},\"type\":\"scattercarpet\"}],\"scattergeo\":[{\"marker\":{\"colorbar\":{\"outlinewidth\":0,\"ticks\":\"\"}},\"type\":\"scattergeo\"}],\"scattergl\":[{\"marker\":{\"colorbar\":{\"outlinewidth\":0,\"ticks\":\"\"}},\"type\":\"scattergl\"}],\"scattermapbox\":[{\"marker\":{\"colorbar\":{\"outlinewidth\":0,\"ticks\":\"\"}},\"type\":\"scattermapbox\"}],\"scatterpolar\":[{\"marker\":{\"colorbar\":{\"outlinewidth\":0,\"ticks\":\"\"}},\"type\":\"scatterpolar\"}],\"scatterpolargl\":[{\"marker\":{\"colorbar\":{\"outlinewidth\":0,\"ticks\":\"\"}},\"type\":\"scatterpolargl\"}],\"scatterternary\":[{\"marker\":{\"colorbar\":{\"outlinewidth\":0,\"ticks\":\"\"}},\"type\":\"scatterternary\"}],\"surface\":[{\"colorbar\":{\"outlinewidth\":0,\"ticks\":\"\"},\"colorscale\":[[0.0,\"#0d0887\"],[0.1111111111111111,\"#46039f\"],[0.2222222222222222,\"#7201a8\"],[0.3333333333333333,\"#9c179e\"],[0.4444444444444444,\"#bd3786\"],[0.5555555555555556,\"#d8576b\"],[0.6666666666666666,\"#ed7953\"],[0.7777777777777778,\"#fb9f3a\"],[0.8888888888888888,\"#fdca26\"],[1.0,\"#f0f921\"]],\"type\":\"surface\"}],\"table\":[{\"cells\":{\"fill\":{\"color\":\"#EBF0F8\"},\"line\":{\"color\":\"white\"}},\"header\":{\"fill\":{\"color\":\"#C8D4E3\"},\"line\":{\"color\":\"white\"}},\"type\":\"table\"}]},\"layout\":{\"annotationdefaults\":{\"arrowcolor\":\"#2a3f5f\",\"arrowhead\":0,\"arrowwidth\":1},\"autotypenumbers\":\"strict\",\"coloraxis\":{\"colorbar\":{\"outlinewidth\":0,\"ticks\":\"\"}},\"colorscale\":{\"diverging\":[[0,\"#8e0152\"],[0.1,\"#c51b7d\"],[0.2,\"#de77ae\"],[0.3,\"#f1b6da\"],[0.4,\"#fde0ef\"],[0.5,\"#f7f7f7\"],[0.6,\"#e6f5d0\"],[0.7,\"#b8e186\"],[0.8,\"#7fbc41\"],[0.9,\"#4d9221\"],[1,\"#276419\"]],\"sequential\":[[0.0,\"#0d0887\"],[0.1111111111111111,\"#46039f\"],[0.2222222222222222,\"#7201a8\"],[0.3333333333333333,\"#9c179e\"],[0.4444444444444444,\"#bd3786\"],[0.5555555555555556,\"#d8576b\"],[0.6666666666666666,\"#ed7953\"],[0.7777777777777778,\"#fb9f3a\"],[0.8888888888888888,\"#fdca26\"],[1.0,\"#f0f921\"]],\"sequentialminus\":[[0.0,\"#0d0887\"],[0.1111111111111111,\"#46039f\"],[0.2222222222222222,\"#7201a8\"],[0.3333333333333333,\"#9c179e\"],[0.4444444444444444,\"#bd3786\"],[0.5555555555555556,\"#d8576b\"],[0.6666666666666666,\"#ed7953\"],[0.7777777777777778,\"#fb9f3a\"],[0.8888888888888888,\"#fdca26\"],[1.0,\"#f0f921\"]]},\"colorway\":[\"#636efa\",\"#EF553B\",\"#00cc96\",\"#ab63fa\",\"#FFA15A\",\"#19d3f3\",\"#FF6692\",\"#B6E880\",\"#FF97FF\",\"#FECB52\"],\"font\":{\"color\":\"#2a3f5f\"},\"geo\":{\"bgcolor\":\"white\",\"lakecolor\":\"white\",\"landcolor\":\"#E5ECF6\",\"showlakes\":true,\"showland\":true,\"subunitcolor\":\"white\"},\"hoverlabel\":{\"align\":\"left\"},\"hovermode\":\"closest\",\"mapbox\":{\"style\":\"light\"},\"paper_bgcolor\":\"white\",\"plot_bgcolor\":\"#E5ECF6\",\"polar\":{\"angularaxis\":{\"gridcolor\":\"white\",\"linecolor\":\"white\",\"ticks\":\"\"},\"bgcolor\":\"#E5ECF6\",\"radialaxis\":{\"gridcolor\":\"white\",\"linecolor\":\"white\",\"ticks\":\"\"}},\"scene\":{\"xaxis\":{\"backgroundcolor\":\"#E5ECF6\",\"gridcolor\":\"white\",\"gridwidth\":2,\"linecolor\":\"white\",\"showbackground\":true,\"ticks\":\"\",\"zerolinecolor\":\"white\"},\"yaxis\":{\"backgroundcolor\":\"#E5ECF6\",\"gridcolor\":\"white\",\"gridwidth\":2,\"linecolor\":\"white\",\"showbackground\":true,\"ticks\":\"\",\"zerolinecolor\":\"white\"},\"zaxis\":{\"backgroundcolor\":\"#E5ECF6\",\"gridcolor\":\"white\",\"gridwidth\":2,\"linecolor\":\"white\",\"showbackground\":true,\"ticks\":\"\",\"zerolinecolor\":\"white\"}},\"shapedefaults\":{\"line\":{\"color\":\"#2a3f5f\"}},\"ternary\":{\"aaxis\":{\"gridcolor\":\"white\",\"linecolor\":\"white\",\"ticks\":\"\"},\"baxis\":{\"gridcolor\":\"white\",\"linecolor\":\"white\",\"ticks\":\"\"},\"bgcolor\":\"#E5ECF6\",\"caxis\":{\"gridcolor\":\"white\",\"linecolor\":\"white\",\"ticks\":\"\"}},\"title\":{\"x\":0.05},\"xaxis\":{\"automargin\":true,\"gridcolor\":\"white\",\"linecolor\":\"white\",\"ticks\":\"\",\"title\":{\"standoff\":15},\"zerolinecolor\":\"white\",\"zerolinewidth\":2},\"yaxis\":{\"automargin\":true,\"gridcolor\":\"white\",\"linecolor\":\"white\",\"ticks\":\"\",\"title\":{\"standoff\":15},\"zerolinecolor\":\"white\",\"zerolinewidth\":2}}}},                        {\"responsive\": true}                    ).then(function(){\n",
       "                            \n",
       "var gd = document.getElementById('04f95cfa-0c1f-444d-a97a-5983da773a46');\n",
       "var x = new MutationObserver(function (mutations, observer) {{\n",
       "        var display = window.getComputedStyle(gd).display;\n",
       "        if (!display || display === 'none') {{\n",
       "            console.log([gd, 'removed!']);\n",
       "            Plotly.purge(gd);\n",
       "            observer.disconnect();\n",
       "        }}\n",
       "}});\n",
       "\n",
       "// Listen for the removal of the full notebook cells\n",
       "var notebookContainer = gd.closest('#notebook-container');\n",
       "if (notebookContainer) {{\n",
       "    x.observe(notebookContainer, {childList: true});\n",
       "}}\n",
       "\n",
       "// Listen for the clearing of the current output cell\n",
       "var outputEl = gd.closest('.output');\n",
       "if (outputEl) {{\n",
       "    x.observe(outputEl, {childList: true});\n",
       "}}\n",
       "\n",
       "                        })                };                });            </script>        </div>"
      ]
     },
     "metadata": {},
     "output_type": "display_data"
    }
   ],
   "source": [
    "fig = px.scatter_3d(wf_PCAs, x='PC1', y='PC2', z='PC3', color = 'has_organoid', opacity=0.4)\n",
    "fig.update_traces(marker={'size': 4})\n",
    "fig.show()"
   ]
  },
  {
   "cell_type": "markdown",
   "id": "76281df8",
   "metadata": {
    "slideshow": {
     "slide_type": "slide"
    }
   },
   "source": [
    "### Project the data down to $d$-dimensions"
   ]
  },
  {
   "cell_type": "code",
   "execution_count": 78,
   "id": "7484632e",
   "metadata": {},
   "outputs": [
    {
     "data": {
      "image/png": "[encoded data removed]",
      "text/plain": [
       "<Figure size 432x288 with 1 Axes>"
      ]
     },
     "metadata": {
      "needs_background": "light"
     },
     "output_type": "display_data"
    }
   ],
   "source": [
    "wf_reduced = sklpca.fit_transform( wf_dropbaseline )\n",
    "wf_recovered = sklpca.inverse_transform( wf_reduced )\n",
    "\n",
    "wf_num = 0\n",
    "plt.plot(wf_recovered[:,wf_num], color = 'red') # revocered\n",
    "plt.plot(wf_scaled[wf_num,25:], color = 'black') # original\n",
    "plt.axis( 'off' )\n",
    "plt.show()\n"
   ]
  },
  {
   "cell_type": "markdown",
   "id": "4dd5c313",
   "metadata": {
    "slideshow": {
     "slide_type": "fragment"
    }
   },
   "source": [
    "Interesting! It is still recognizable as a spike waveform."
   ]
  },
  {
   "cell_type": "markdown",
   "id": "3d97ef5e",
   "metadata": {
    "slideshow": {
     "slide_type": "slide"
    }
   },
   "source": [
    "### the Right Number of Dimensions\n",
    "\n",
    "For visualization: 2-3 prinicipal components are appropriate  \n",
    "\n",
    "However, what if you are reducing the dimensions to make the dataset more tractable for further analysis?  \n",
    "\n",
    "reducing to an arbitrary number of dimensions is a biased approach. The following code will revisit the MNIST dataset and find the number of components that account for 95% of the variance.  "
   ]
  },
  {
   "cell_type": "markdown",
   "id": "1ee8e8b3",
   "metadata": {
    "slideshow": {
     "slide_type": "slide"
    }
   },
   "source": [
    "### PCA of MNIST"
   ]
  },
  {
   "cell_type": "code",
   "execution_count": 79,
   "id": "f8a66617",
   "metadata": {},
   "outputs": [],
   "source": [
    "from sklearn.datasets import fetch_openml\n",
    "mnist = fetch_openml('mnist_784', version=1)\n",
    "X, y = mnist[\"data\"], mnist[\"target\"]"
   ]
  },
  {
   "cell_type": "code",
   "execution_count": null,
   "id": "42b07deb",
   "metadata": {
    "slideshow": {
     "slide_type": "subslide"
    }
   },
   "outputs": [],
   "source": [
    "pca = PCA()\n",
    "pca.fit( X )\n",
    "csum = np.cumsum( pca.explained_variance_ratio_ )\n",
    "dims95 = np.argmax( csum >= 0.95 ) + 1\n",
    "dims95"
   ]
  },
  {
   "cell_type": "code",
   "execution_count": null,
   "id": "52d43250",
   "metadata": {
    "slideshow": {
     "slide_type": "subslide"
    }
   },
   "outputs": [],
   "source": [
    "# visualize the cumulative sums of accounted variance\n",
    "N_components = dims95\n",
    "x = np.arange(1, N_components+1, step=1)\n",
    "y = csum[0:N_components]\n",
    "plot_cvar( x,y,N_components)"
   ]
  },
  {
   "cell_type": "markdown",
   "id": "e318cb45",
   "metadata": {
    "slideshow": {
     "slide_type": "subslide"
    }
   },
   "source": [
    "PCA reduced the dimensionality of MNIST from 784 to 154 components while explaining 95% of the variance of the original dataset.  \n",
    "\n",
    "Let's see how the reduced resulting digits appear:"
   ]
  },
  {
   "cell_type": "code",
   "execution_count": null,
   "id": "9a71ed1d",
   "metadata": {},
   "outputs": [],
   "source": [
    "pca = PCA( n_components = dims95 )\n",
    "X_reduced = pca.fit_transform( X )\n",
    "X_recovered = pca.inverse_transform( X_reduced )"
   ]
  },
  {
   "cell_type": "code",
   "execution_count": null,
   "id": "ad17134c",
   "metadata": {
    "slideshow": {
     "slide_type": "subslide"
    }
   },
   "outputs": [],
   "source": [
    "# functionalize this plot for future use\n",
    "def plot_digits( images, index_list, images_mat_dim=10):\n",
    "    a = images_mat_dim  # number of rows\n",
    "    b = images_mat_dim  # number of columns\n",
    "\n",
    "    for idx, im_idx in enumerate( index_list ):\n",
    "        some_digit = np.array( images[im_idx] )\n",
    "        plt.subplot( a,b,idx + 1 )\n",
    "        some_digit_image = some_digit.reshape( 28, 28 )\n",
    "        plt.imshow( some_digit_image, cmap = \"binary\" )\n",
    "        plt.axis( 'off' )\n",
    "    plt.show()"
   ]
  },
  {
   "cell_type": "code",
   "execution_count": null,
   "id": "22c172c9",
   "metadata": {},
   "outputs": [],
   "source": [
    "mat_size = 5\n",
    "plot_digits( X_recovered, list( range( 0, mat_size*mat_size ) ), mat_size)"
   ]
  },
  {
   "cell_type": "markdown",
   "id": "41120b30",
   "metadata": {
    "slideshow": {
     "slide_type": "slide"
    }
   },
   "source": [
    "## A Classic Example: Dimensionality Reduction on the Iris DataSet\n",
    "\n",
    "perform PCA on the `iris` dataset.  "
   ]
  },
  {
   "cell_type": "code",
   "execution_count": null,
   "id": "ebad5b90",
   "metadata": {},
   "outputs": [],
   "source": [
    "from sklearn.datasets import load_iris\n",
    "iris = load_iris()\n",
    "iris_df = pd.DataFrame(iris.data, columns = iris.feature_names)\n",
    "iris_df"
   ]
  },
  {
   "cell_type": "code",
   "execution_count": null,
   "id": "a9ec1fac",
   "metadata": {},
   "outputs": [],
   "source": [
    "# how many components are needed to explain at least 95% of the variance"
   ]
  },
  {
   "cell_type": "code",
   "execution_count": null,
   "id": "e0fa964f",
   "metadata": {},
   "outputs": [],
   "source": [
    "# can you visualize the first 2 PCs? 3?"
   ]
  },
  {
   "cell_type": "markdown",
   "id": "a70f84ae",
   "metadata": {},
   "source": [
    "## Next week we'll look at Clustering: Unsupervised Learning for Categorical Targets\n",
    "<img src=\"https://content.techgig.com/photo/80071467/pros-and-cons-of-python-programming-language-that-every-learner-must-know.jpg?132269\" width=\"100%\" style=\"margin-left:auto; margin-right:auto\">"
   ]
  }
 ],
 "metadata": {
  "celltoolbar": "Slideshow",
  "kernelspec": {
   "display_name": "Python 3",
   "language": "python",
   "name": "python3"
  },
  "language_info": {
   "codemirror_mode": {
    "name": "ipython",
    "version": 3
   },
   "file_extension": ".py",
   "mimetype": "text/x-python",
   "name": "python",
   "nbconvert_exporter": "python",
   "pygments_lexer": "ipython3",
   "version": "3.7.6"
  }
 },
 "nbformat": 4,
 "nbformat_minor": 5
}
