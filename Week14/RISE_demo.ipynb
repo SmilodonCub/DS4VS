{
 "cells": [
  {
   "cell_type": "markdown",
   "id": "d868b488",
   "metadata": {
    "slideshow": {
     "slide_type": "slide"
    }
   },
   "source": [
    "# Some Title"
   ]
  },
  {
   "cell_type": "markdown",
   "id": "544355a8",
   "metadata": {
    "slideshow": {
     "slide_type": "slide"
    }
   },
   "source": [
    "## Subtitle\n",
    "\n",
    "### Smaller Sub\n",
    "\n",
    "#### smallersmaller sub"
   ]
  },
  {
   "cell_type": "markdown",
   "id": "cddcd0f7",
   "metadata": {
    "slideshow": {
     "slide_type": "fragment"
    }
   },
   "source": [
    "[symbols for you to use](https://www.caam.rice.edu/~heinken/latex/symbols.pdf)"
   ]
  },
  {
   "cell_type": "markdown",
   "id": "affcd474",
   "metadata": {
    "slideshow": {
     "slide_type": "slide"
    }
   },
   "source": [
    "## Slide with Code"
   ]
  },
  {
   "cell_type": "code",
   "execution_count": 2,
   "id": "809101c8",
   "metadata": {},
   "outputs": [
    {
     "data": {
      "text/plain": [
       "5"
      ]
     },
     "execution_count": 2,
     "metadata": {},
     "output_type": "execute_result"
    }
   ],
   "source": [
    "2 + 3 "
   ]
  },
  {
   "cell_type": "markdown",
   "id": "443997f0",
   "metadata": {
    "slideshow": {
     "slide_type": "subslide"
    }
   },
   "source": [
    "### related content"
   ]
  },
  {
   "cell_type": "code",
   "execution_count": null,
   "id": "b6eb21df",
   "metadata": {},
   "outputs": [],
   "source": [
    "3 + 4"
   ]
  },
  {
   "cell_type": "markdown",
   "id": "b8176cc2",
   "metadata": {
    "slideshow": {
     "slide_type": "skip"
    }
   },
   "source": [
    "## You shouldn't see this"
   ]
  },
  {
   "cell_type": "markdown",
   "id": "bff5eb36",
   "metadata": {
    "slideshow": {
     "slide_type": "slide"
    }
   },
   "source": [
    "## You should see this\n",
    "\n",
    "![python](https://miro.medium.com/max/2000/1*FZWJzoMSaaMsE2qEb-jT9A.jpeg)"
   ]
  },
  {
   "cell_type": "markdown",
   "id": "945da57c",
   "metadata": {
    "slideshow": {
     "slide_type": "slide"
    }
   },
   "source": [
    "## alt syntax for imgs\n",
    "\n",
    "<img src=\"https://miro.medium.com/max/2000/1*FZWJzoMSaaMsE2qEb-jT9A.jpeg\" width=\"50%\" style=\"margin-left:auto; margin-right:auto\">"
   ]
  },
  {
   "cell_type": "markdown",
   "id": "07dd283f",
   "metadata": {
    "slideshow": {
     "slide_type": "notes"
    }
   },
   "source": [
    "\"Lorem ipsum dolor sit amet, consectetur adipiscing elit, sed do eiusmod tempor incididunt ut labore et dolore magna aliqua. Ut enim ad minim veniam, quis nostrud exercitation ullamco laboris nisi ut aliquip ex ea commodo consequat. Duis aute irure dolor in reprehenderit in voluptate velit esse cillum dolore eu fugiat nulla pariatur. Excepteur sint occaecat cupidatat non proident, sunt in culpa qui officia deserunt mollit anim id est laborum.\""
   ]
  },
  {
   "cell_type": "markdown",
   "id": "dc431feb",
   "metadata": {
    "slideshow": {
     "slide_type": "slide"
    }
   },
   "source": [
    "## Some how 2s\n",
    "\n",
    "1. In new jupyter\n",
    "2. View\n",
    "    - Cell Toolbar\n",
    "        - Slideshow\n",
    "3. Select SlideType for individual cells\n",
    "4. To view slides: hit icon Enter/Exit RISE slidshow (looks like a little graph on the right end of icon toolbar)"
   ]
  },
  {
   "cell_type": "markdown",
   "id": "2b835a8c",
   "metadata": {
    "slideshow": {
     "slide_type": "slide"
    }
   },
   "source": [
    "# The end"
   ]
  }
 ],
 "metadata": {
  "celltoolbar": "Slideshow",
  "kernelspec": {
   "display_name": "Python 3",
   "language": "python",
   "name": "python3"
  },
  "language_info": {
   "codemirror_mode": {
    "name": "ipython",
    "version": 3
   },
   "file_extension": ".py",
   "mimetype": "text/x-python",
   "name": "python",
   "nbconvert_exporter": "python",
   "pygments_lexer": "ipython3",
   "version": "3.7.6"
  }
 },
 "nbformat": 4,
 "nbformat_minor": 5
}
